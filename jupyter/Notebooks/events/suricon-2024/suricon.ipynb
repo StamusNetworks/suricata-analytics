{
 "cells": [
  {
   "cell_type": "markdown",
   "id": "816bd2b9-967f-4795-bc00-fd92a83252ce",
   "metadata": {
    "tags": []
   },
   "source": [
    "# Ridiculously Rich SMB Data Provided by Suricata\n",
    "\n",
    "* Markus Kont\n",
    "* Stamus Networks\n",
    "* markus@stamus-networks.com\n",
    "* github.com/markuskont"
   ]
  },
  {
   "cell_type": "markdown",
   "id": "ebba3ab5-6ede-4b60-8585-d5a093e4fde9",
   "metadata": {
    "tags": []
   },
   "source": [
    "## Agenda"
   ]
  },
  {
   "cell_type": "markdown",
   "id": "44bb2ab7-b0e9-4e29-b1ad-47e8453c33a8",
   "metadata": {},
   "source": [
    "* Intro to SMB from Suricata\n",
    "* Hunting samples\n",
    "* Few words on analytics"
   ]
  },
  {
   "cell_type": "markdown",
   "id": "e04c0d0c-5640-4efa-8063-144d3b28e9f3",
   "metadata": {
    "tags": []
   },
   "source": [
    "## /whoami"
   ]
  },
  {
   "cell_type": "markdown",
   "id": "3d4ca189-19e3-49ea-9c37-3b84e1cf1d71",
   "metadata": {},
   "source": [
    "* Started as Server Administrator\n",
    "* Pivot to cyber security in Masters\n",
    "* Then tech researcher in NATO CCDCOE\n",
    "* Contributed to PhD dropout statistics\n",
    "* Currently the resident hacker / hunter / coder in Stamus Networks\n",
    "* **NOT** a Windows guy"
   ]
  },
  {
   "cell_type": "markdown",
   "id": "57ce91c0-2e23-4150-9c96-674c3e7af30a",
   "metadata": {},
   "source": [
    "<img src=\"me.jpg\" width=\"600\">"
   ]
  },
  {
   "cell_type": "markdown",
   "id": "f0f38886-506e-4a1d-bbd8-00802a9a1eef",
   "metadata": {
    "tags": []
   },
   "source": [
    "## What to expect"
   ]
  },
  {
   "cell_type": "markdown",
   "id": "2178ad5e-b2fc-4866-a493-53a74dbf0d61",
   "metadata": {},
   "source": [
    "* No slides! (kind of)\n",
    "* No rule based detection either!\n",
    "* Data highlight - analysts interpretation\n",
    "    * Anonymized samples from exercises\n",
    "    * Packaged SMB logs from [Malware Traffic Analysis](https://www.malware-traffic-analysis.net/)\n",
    "    * Some suspension of disbelief needed\n",
    "* Interactive presentation will be available in [Suricata Analytics](https://github.com/StamusNetworks/suricata-analytics)\n",
    "* Sorry for scrolling..."
   ]
  },
  {
   "cell_type": "markdown",
   "id": "866a7788-a3cc-485c-aab7-936f9dd76865",
   "metadata": {
    "tags": []
   },
   "source": [
    "## What is SMB"
   ]
  },
  {
   "cell_type": "markdown",
   "id": "328a0388-3ca4-4011-9846-3f7ac1f5e363",
   "metadata": {},
   "source": [
    "* *Server Message Block*\n",
    "* Not *Samba*\n",
    "* Interact with remote systems over network\n",
    "* File sharing, mapping network drives, printing, etc\n",
    "* Remote administration via RPC calls"
   ]
  },
  {
   "cell_type": "markdown",
   "id": "91aa1dbf-796e-4e64-98fb-c8014cdc2353",
   "metadata": {
    "tags": []
   },
   "source": [
    "### SMB versions"
   ]
  },
  {
   "cell_type": "markdown",
   "id": "e703bb67-8464-41c3-92e9-609e034ff81b",
   "metadata": {},
   "source": [
    "* SMB1 - deprecated as of 2013\n",
    "    * Dangerous to use (think EternalBlue)\n",
    "    * Not installed by default as of server 2016 / W10 1709\n",
    "* SMB2.0 - Windows Vista\n",
    "* SMB2.1 - Windows 7\n",
    "* SMB3.0 - Windows 8\n",
    "* SMB3.1.1 - Windows 10"
   ]
  },
  {
   "cell_type": "markdown",
   "id": "2b3c3eac-12de-462f-8b49-52dc7bb14943",
   "metadata": {
    "tags": []
   },
   "source": [
    "### What is Lateral Movement?"
   ]
  },
  {
   "cell_type": "markdown",
   "id": "ac8399f7-5b4e-4ded-804f-aa00b98dfb32",
   "metadata": {},
   "source": [
    "* Initial compromise\n",
    "* Explore the network\n",
    "* Enumerate resources\n",
    "* Spread, solidify foothold\n",
    "* Compromise higher priority systems"
   ]
  },
  {
   "cell_type": "markdown",
   "id": "11ffe2b5-febe-448b-991c-8251dd3b6e68",
   "metadata": {
    "tags": []
   },
   "source": [
    "## Why SMB"
   ]
  },
  {
   "cell_type": "markdown",
   "id": "4797fecb-b3c2-473a-b7e2-a06930f47a09",
   "metadata": {
    "tags": []
   },
   "source": [
    "### Consider a normal protocol like HTTP"
   ]
  },
  {
   "cell_type": "markdown",
   "id": "bd224e8a-7c8b-4e53-bc65-f7a4f25c9de5",
   "metadata": {},
   "source": [
    "* Rule engine triggers alerts ASAP\n",
    "* Protocol event is sent when header is parsed\n",
    "* Finally a flow event when flow is terminated or times out\n",
    "* Can be correlated with `flow_id` or `community_id`\n",
    "* The norm is one protocol event per flow"
   ]
  },
  {
   "cell_type": "code",
   "execution_count": null,
   "id": "907263f7-0ad2-4786-b1bf-4ac8dca7bede",
   "metadata": {
    "tags": []
   },
   "outputs": [],
   "source": [
    "import json\n",
    "with open(\"./http-alert-sample.json\", \"r\") as handle:\n",
    "    DATA_ALERT_HTTP = [json.loads(l) for l in handle]\n",
    "from IPython.display import JSON\n",
    "JSON(DATA_ALERT_HTTP)"
   ]
  },
  {
   "cell_type": "code",
   "execution_count": null,
   "id": "3b269d60-86b5-46b4-8f48-405fa7342a61",
   "metadata": {
    "tags": []
   },
   "outputs": [],
   "source": [
    "import pandas as pd\n",
    "pd.set_option('display.max_rows', 50)\n",
    "pd.set_option('display.min_rows', 50)\n",
    "pd.set_option('display.max_columns', None)\n",
    "DF = pd.json_normalize(DATA_ALERT_HTTP)\n",
    "DF"
   ]
  },
  {
   "cell_type": "code",
   "execution_count": null,
   "id": "6e7929af-25ad-4eb4-80ca-903e9fa58b0b",
   "metadata": {
    "tags": []
   },
   "outputs": [],
   "source": [
    "(\n",
    "    DF\n",
    "    .groupby(\"flow_id\")\n",
    "    .agg({\n",
    "        \"timestamp\": [\"min\", \"max\", \"count\"],\n",
    "        \"alert.signature\": [\"unique\"],\n",
    "        \"event_type\": [\"unique\"],\n",
    "        \"http.hostname\": [\"unique\"],\n",
    "    })\n",
    ")"
   ]
  },
  {
   "cell_type": "markdown",
   "id": "befe850a-5f7a-413d-936c-94dcaae6d428",
   "metadata": {
    "tags": []
   },
   "source": [
    "### Now consider SMB sessions"
   ]
  },
  {
   "cell_type": "markdown",
   "id": "4e836a01-8a1f-4cd7-9fdc-e8b686d2c91c",
   "metadata": {},
   "source": [
    "* SMB is a transaction stream\n",
    "* Client issues commands, server responds\n",
    "* Many SMB events for each flow"
   ]
  },
  {
   "cell_type": "code",
   "execution_count": null,
   "id": "28f504ba-9e64-45b5-aa58-90bc61cd2521",
   "metadata": {
    "tags": []
   },
   "outputs": [],
   "source": [
    "import gzip\n",
    "with gzip.open(\"./smb-mta.json.gz\", \"r\") as handle:\n",
    "    DF_SMB = pd.json_normalize([json.loads(l) for l in handle])\n",
    "len(DF_SMB)"
   ]
  },
  {
   "cell_type": "code",
   "execution_count": null,
   "id": "afe488a0-f1c8-498b-80a4-53dea10f2548",
   "metadata": {
    "tags": []
   },
   "outputs": [],
   "source": [
    "pd.set_option('display.max_rows', 15)\n",
    "pd.set_option('display.min_rows', 15)"
   ]
  },
  {
   "cell_type": "code",
   "execution_count": null,
   "id": "4c5d7062-be1b-4628-bf2b-b9210d8bd27c",
   "metadata": {
    "tags": []
   },
   "outputs": [],
   "source": [
    "DF_SMB_AGG = (\n",
    "    DF_SMB\n",
    "    .groupby(\"flow_id\")\n",
    "    .agg({\n",
    "        \"timestamp\": [\"min\", \"max\", \"count\"],\n",
    "        \"path\": [\"unique\"],\n",
    "    })\n",
    "    .sort_values(by=[('timestamp', 'count')], ascending=False)\n",
    "    .explode(('path', 'unique'))\n",
    ")\n",
    "DF_SMB_AGG"
   ]
  },
  {
   "cell_type": "code",
   "execution_count": null,
   "id": "40e97599-e539-41a6-8be3-44de5871e60e",
   "metadata": {
    "tags": []
   },
   "outputs": [],
   "source": [
    "DF_SMB_AGG.describe()"
   ]
  },
  {
   "cell_type": "markdown",
   "id": "cb3d96d6-2294-4cde-b984-12fae8e93eb3",
   "metadata": {
    "tags": []
   },
   "source": [
    "### What is happening?"
   ]
  },
  {
   "cell_type": "markdown",
   "id": "7437d74c-17c9-4e42-9e2f-644fe3e72f22",
   "metadata": {},
   "source": [
    "* **It's a transaction stream**\n",
    "* Participants agree on dialect;\n",
    "* Establish security context;\n",
    "    * Kerberos hash is the standard;\n",
    "    * NTLM password authentication is alternative;\n",
    "    * Can happen multiple times!\n",
    "* Connect to a *tree* - shared resource;\n",
    "* Perform operations *within* that *tree*\n",
    "    * Create or modify remote files;\n",
    "    * Remote administration via RPC calls;\n",
    "* Disconnect from tree, *perhaps rinse and repeat*\n",
    "* Finally log off\n",
    "    * ...or simply time out..."
   ]
  },
  {
   "cell_type": "code",
   "execution_count": null,
   "id": "837a3d7f-11e6-4cab-9890-0a20237433ab",
   "metadata": {
    "tags": []
   },
   "outputs": [],
   "source": [
    "import ipywidgets as widgets\n",
    "SELECTIONS = []\n",
    "for row, values in DF_SMB_AGG.iterrows():\n",
    "    events = values[(\"timestamp\", \"count\")]\n",
    "    SELECTIONS.append((f\"{row}: events: {events}\", row))\n",
    "    \n",
    "def show(limit: int, fid: int):\n",
    "    pd.set_option('display.max_rows', limit)\n",
    "    pd.set_option('display.min_rows', limit)\n",
    "    pd.set_option('display.max_columns', None)\n",
    "    \n",
    "    df = DF_SMB\n",
    "            \n",
    "    return (\n",
    "        df\n",
    "        .loc[df.flow_id == fid]\n",
    "        .sort_values(by=[\"tx_id\"])\n",
    "        .dropna(how=\"all\", axis=1)\n",
    "    )\n",
    "\n",
    "widgets.interact(show, \n",
    "                 limit=widgets.IntSlider(min=5, max=300),\n",
    "                 fid=widgets.Dropdown(options=SELECTIONS))"
   ]
  },
  {
   "cell_type": "markdown",
   "id": "6295e965-bba5-4d78-8109-894e53506d70",
   "metadata": {
    "tags": []
   },
   "source": [
    "## Hunting"
   ]
  },
  {
   "cell_type": "markdown",
   "id": "8a55b6dd-7d4c-42d7-bdb5-2c0c71d81bdc",
   "metadata": {},
   "source": [
    "* What do we even have to work with?\n",
    "* Not a full representation\n",
    "* Fields are fragmented between events\n",
    "* Full stream tells the whole story\n",
    "* Unique values are useful pivot points"
   ]
  },
  {
   "cell_type": "code",
   "execution_count": null,
   "id": "62a1b165-cd2a-4119-b9ba-4005f66f80af",
   "metadata": {
    "tags": []
   },
   "outputs": [],
   "source": [
    "FIELDS_SMB = [c for c in list(DF_SMB.columns.values) if c.startswith(\"smb.\")]\n",
    "FIELDS_SMB"
   ]
  },
  {
   "cell_type": "markdown",
   "id": "5d55204a-4c1d-4f3d-a0b6-08e4b693a572",
   "metadata": {
    "tags": []
   },
   "source": [
    "### Command"
   ]
  },
  {
   "cell_type": "markdown",
   "id": "c8fbafbe-85a0-4584-921d-e8ef9d837760",
   "metadata": {
    "tags": []
   },
   "source": [
    "* Present in every event\n",
    "* Commands can be useful for profiling\n",
    "    * Newly seen commands can be interesting\n",
    "    * Seeing SMB1 is not okay\n",
    "* Status hunting is a low hanging fruit"
   ]
  },
  {
   "cell_type": "code",
   "execution_count": null,
   "id": "1f09c6f0-75c2-47e5-b795-d0ee27ca9e78",
   "metadata": {
    "tags": []
   },
   "outputs": [],
   "source": [
    "pd.set_option('display.max_rows', 30)\n",
    "pd.set_option('display.min_rows', 30)\n",
    "pd.DataFrame(sorted(list(DF_SMB[\"smb.command\"].unique())))"
   ]
  },
  {
   "cell_type": "markdown",
   "id": "9d3983ef-41e6-483d-a2ab-03ad1627429c",
   "metadata": {
    "tags": []
   },
   "source": [
    "### Status"
   ]
  },
  {
   "cell_type": "markdown",
   "id": "2487523f-b237-4cb6-9e32-ec14839175ab",
   "metadata": {},
   "source": [
    "* Lot more interesting than command\n",
    "* Errors and rejections are usually very interesting\n",
    "* Sometimes status parsing itself fails - even more interesting"
   ]
  },
  {
   "cell_type": "code",
   "execution_count": null,
   "id": "b3602dc9-1f81-4e05-a913-0804144a7259",
   "metadata": {
    "tags": []
   },
   "outputs": [],
   "source": [
    "pd.set_option('display.max_rows', 30)\n",
    "pd.set_option('display.min_rows', 30)\n",
    "pd.DataFrame(list(DF_SMB[\"smb.status\"].unique()))"
   ]
  },
  {
   "cell_type": "markdown",
   "id": "c1883199-1b8f-4a5e-b9d7-4c1e60e57d3d",
   "metadata": {
    "tags": []
   },
   "source": [
    "### But wait, there's more!"
   ]
  },
  {
   "cell_type": "markdown",
   "id": "d7821b81-c9ca-426f-bb3b-f5d72b4fb9ce",
   "metadata": {},
   "source": [
    "<img src=\"WaitTheresMore.jpg\" width=\"600\">"
   ]
  },
  {
   "cell_type": "code",
   "execution_count": null,
   "id": "2b1f0448-bfa5-443d-9b60-17e4e2db9024",
   "metadata": {},
   "outputs": [],
   "source": [
    "import json\n",
    "with open(\"./smb-status-funky.json\", \"r\") as handle:\n",
    "    FUNKY = sorted(json.loads(handle.read()))\n",
    "print(\"\\n\".join(FUNKY))"
   ]
  },
  {
   "cell_type": "markdown",
   "id": "1a878420-d911-40c7-9d17-f5661fcc075c",
   "metadata": {
    "tags": []
   },
   "source": [
    "### Status 2148074242"
   ]
  },
  {
   "cell_type": "markdown",
   "id": "442773c3-a047-415b-a56d-967f5193aead",
   "metadata": {},
   "source": [
    "* Numeric code means suricata failed parsing the status code;\n",
    "* Not really a bad thing - makes stuff pop out;\n",
    "* We do things by the book, hackers don't;\n",
    "* SMB1 - old and deprecated, already suspicious;\n",
    "* Likely a CLI hacking tool connecting to IPC;\n",
    "* Successful responses for SMB1, NT LM 0.12 from Server 2022..."
   ]
  },
  {
   "cell_type": "code",
   "execution_count": null,
   "id": "f2979f6e-8f02-4d26-a8b0-41e93f309f01",
   "metadata": {
    "tags": []
   },
   "outputs": [],
   "source": [
    "pd.read_csv(\"sample-1.csv\").head(10)"
   ]
  },
  {
   "cell_type": "markdown",
   "id": "ad20dcd3-7eca-4cc5-aded-471959b283ab",
   "metadata": {
    "tags": []
   },
   "source": [
    "### Status UNKNOWN_00_0000"
   ]
  },
  {
   "cell_type": "markdown",
   "id": "a4708495-dd9f-41ec-a10f-c5cf5b852250",
   "metadata": {},
   "source": [
    "* Like before, obscure status makes it pop;\n",
    "* Lot's actually wrong with the picture;\n",
    "* SMB1 and request OS being windows 2000...\n",
    "* Actually, this is more likely to be a malicious tool;\n",
    "* Again, hackers don't do things by the book;"
   ]
  },
  {
   "cell_type": "code",
   "execution_count": null,
   "id": "86200a7f-938e-4627-83e0-47e1bbbb4469",
   "metadata": {
    "tags": []
   },
   "outputs": [],
   "source": [
    "pd.read_csv(\"sample-2.csv\").head(10)"
   ]
  },
  {
   "cell_type": "markdown",
   "id": "8e7f9506-7e20-4cb3-9c8b-5098135d392f",
   "metadata": {
    "tags": []
   },
   "source": [
    "### STATUS_BUFFER_OVERFLOW"
   ]
  },
  {
   "cell_type": "markdown",
   "id": "54b884cc-b694-400a-a667-b98b158a9db6",
   "metadata": {},
   "source": [
    "* Local Session Manager establishes a desktop session whenever user logs in.\n",
    "* The FSCTL_PIPE_TRANSCEIVE request is used to send and receive data from an open pipe. Any bytes in the FSCTL input buffer are written as a binary large object (BLOB) to the input buffer of the pipe server. [Microsoft](https://learn.microsoft.com/en-us/openspecs/windows_protocols/ms-fscc/6598edc5-374c-4be2-a650-01a8189ca0d1)\n",
    "* {Buffer Overflow} The data was too large to fit into the specified buffer. [Microsoft](https://learn.microsoft.com/en-us/openspecs/windows_protocols/ms-erref/596a1078-e883-4972-9bbc-49e60bebca55)"
   ]
  },
  {
   "cell_type": "code",
   "execution_count": null,
   "id": "c4e0dfe8-16c1-44a7-b1d3-5dd146f8afa4",
   "metadata": {
    "tags": []
   },
   "outputs": [],
   "source": [
    "pd.read_csv(\"sample-3.csv\")"
   ]
  },
  {
   "cell_type": "markdown",
   "id": "f0cbce36-54c2-41c2-a637-1f3e405e4222",
   "metadata": {
    "tags": []
   },
   "source": [
    "### Lateral movement to Domain Controller"
   ]
  },
  {
   "cell_type": "markdown",
   "id": "13cbbaec-8f0a-4eee-8c51-f8ce0a7098a0",
   "metadata": {},
   "source": [
    "* Large example, bear with me on this one\n",
    "* Named pipe connection to Domain Controller\n",
    "* Remote Prodedure calls to enumerate remote resources\n",
    "* `smb.dcerpc.endpoint` is a custom field but can also be mapped with our SMB lateral ruleset\n",
    "* *Endpoint* = DCERPC UUID + Opcode\n",
    "* `Server Service Remote Protocol` pipe connection likely to enumerate remote services"
   ]
  },
  {
   "cell_type": "code",
   "execution_count": null,
   "id": "73c80c37-8271-456f-a27c-34f309ba1195",
   "metadata": {
    "tags": []
   },
   "outputs": [],
   "source": [
    "pd.set_option('display.max_columns', None)\n",
    "pd.set_option('display.max_rows', None)\n",
    "pd.read_csv(\"sample-5.csv\")"
   ]
  },
  {
   "cell_type": "code",
   "execution_count": null,
   "id": "6f674913-bceb-4c03-a085-d47fb9fbe23d",
   "metadata": {
    "tags": []
   },
   "outputs": [],
   "source": [
    "pd.set_option('display.max_rows', 30)\n",
    "pd.set_option('display.min_rows', 30)"
   ]
  },
  {
   "cell_type": "markdown",
   "id": "c971aab5-6790-4723-b125-d9bc90f4189a",
   "metadata": {
    "tags": []
   },
   "source": [
    "### Multiple users in single stream"
   ]
  },
  {
   "cell_type": "markdown",
   "id": "960f1cc3-fd23-4367-bdb9-fc8f86b1fa50",
   "metadata": {},
   "source": [
    "* A bit more modern SMB version;\n",
    "* More normal looking command stream;\n",
    "* Found by simply filtering for more than one users;\n",
    "* How often does a office worker need to log in to file server?\n",
    "* In fact, NTLM password authentication is already non-standard..."
   ]
  },
  {
   "cell_type": "code",
   "execution_count": null,
   "id": "54e4dc01-5de7-49fe-a92e-d38078a9bbd4",
   "metadata": {
    "tags": []
   },
   "outputs": [],
   "source": [
    "pd.read_csv(\"sample-4.csv\")"
   ]
  },
  {
   "cell_type": "markdown",
   "id": "a8ef7683-1d43-41f4-bae5-48e2fe40c7ae",
   "metadata": {
    "tags": []
   },
   "source": [
    "### Pivot hunting"
   ]
  },
  {
   "cell_type": "markdown",
   "id": "6803cfaa-e3ea-4f4c-bd91-14262a93462b",
   "metadata": {},
   "source": [
    "* List unique fields to inspect;\n",
    "* List unique values per selected field;\n",
    "* Extract flow stream(s) for selected flow_id;\n",
    "* Drill down on interesting fields;\n",
    "* And / or aggregate for more comprehensive view;"
   ]
  },
  {
   "cell_type": "code",
   "execution_count": null,
   "id": "7bbbbdae-6311-41f7-b09c-d5401fe025d5",
   "metadata": {
    "tags": []
   },
   "outputs": [],
   "source": [
    "COMBO_COL = widgets.Combobox(options=list(DF_SMB.columns.values))\n",
    "COMBO_COL"
   ]
  },
  {
   "cell_type": "code",
   "execution_count": null,
   "id": "406376b5-e062-4f33-aeb8-03049f1df5b9",
   "metadata": {
    "tags": []
   },
   "outputs": [],
   "source": [
    "VALUES = sorted(list(DF_SMB[COMBO_COL.value].fillna(\"\").unique()))\n",
    "SELECT_MULTIPLE_VALUE = widgets.SelectMultiple(options=VALUES, rows=10)\n",
    "SELECT_MULTIPLE_VALUE"
   ]
  },
  {
   "cell_type": "code",
   "execution_count": null,
   "id": "6a56be85-52b8-499f-8a79-38fed14c802c",
   "metadata": {
    "tags": []
   },
   "outputs": [],
   "source": [
    "FLOW_ID = (\n",
    "    DF_SMB\n",
    "    .loc[DF_SMB[COMBO_COL.value]\n",
    "    .isin(list(SELECT_MULTIPLE_VALUE.value))]\n",
    "    .flow_id\n",
    "    .unique()\n",
    ")\n",
    "DROPDOWN_FLOW_ID = widgets.SelectMultiple(options=FLOW_ID)\n",
    "DROPDOWN_FLOW_ID"
   ]
  },
  {
   "cell_type": "code",
   "execution_count": null,
   "id": "7d1aa267-7077-4aab-b600-596aa17f2233",
   "metadata": {
    "tags": []
   },
   "outputs": [],
   "source": [
    "DF_INSPECT = (\n",
    "    DF_SMB\n",
    "    .loc[DF_SMB.flow_id.isin(list(DROPDOWN_FLOW_ID.value))]\n",
    "    .sort_values(by=[\"flow_id\", \"tx_id\"])\n",
    "    .dropna(how=\"all\", axis=1)\n",
    ")"
   ]
  },
  {
   "cell_type": "code",
   "execution_count": null,
   "id": "5aa07217-a2b2-422a-abc9-4a81b2e5ec63",
   "metadata": {
    "tags": []
   },
   "outputs": [],
   "source": [
    "SELECT_MULTIPLE_COLS = widgets.SelectMultiple(\n",
    "    options=list(DF_INSPECT.columns.values), \n",
    "    rows=10,\n",
    "    value=[\"flow_id\", \"src_ip\", \"dest_ip\", \"smb.command\", \"smb.status\"]\n",
    ")\n",
    "SELECT_MULTIPLE_COLS"
   ]
  },
  {
   "cell_type": "code",
   "execution_count": null,
   "id": "ff758b40-315c-4d4b-b7eb-12cc95e46f2e",
   "metadata": {
    "tags": []
   },
   "outputs": [],
   "source": [
    "pd.set_option('display.max_rows', 300)\n",
    "pd.set_option('display.min_rows', 300)\n",
    "DF_INSPECT[list(SELECT_MULTIPLE_COLS.value)]"
   ]
  },
  {
   "cell_type": "code",
   "execution_count": null,
   "id": "baf3ef78-4d42-4383-b6da-56f0fae0daa5",
   "metadata": {
    "tags": []
   },
   "outputs": [],
   "source": [
    "DF_INSPECT.groupby(\"flow_id\").agg({k: [\"unique\", \"nunique\"] for k in list(SELECT_MULTIPLE_COLS.value)})"
   ]
  },
  {
   "cell_type": "markdown",
   "id": "00264efd-294c-4162-83b4-82337b39b5e5",
   "metadata": {
    "tags": []
   },
   "source": [
    "## Analytics"
   ]
  },
  {
   "cell_type": "markdown",
   "id": "39d896d5-8c64-4e76-9048-5b6a22c0270d",
   "metadata": {},
   "source": [
    "* Manual hunting does not scale well;\n",
    "* It's responsive;\n",
    "* Baselining happens in analysts head;\n",
    "* Suricata SMB EVE provides ton of context for profiling;"
   ]
  },
  {
   "cell_type": "markdown",
   "id": "d2385374-e33e-4eea-872a-7a5a35f6fc3f",
   "metadata": {
    "tags": []
   },
   "source": [
    "### K-means"
   ]
  },
  {
   "cell_type": "markdown",
   "id": "e70a7b04-e12b-4e6c-9736-04ce8474decd",
   "metadata": {},
   "source": [
    "* Entry level data mining algorithm;\n",
    "* Widely used - because it works;\n",
    "* Simple by ML standards;\n",
    "* Partition coordinates closest to each other into K groups;\n",
    "    * K - number of groups, up for user to decide;\n",
    "    * First groups are (semi)random;\n",
    "    * Assign each coorinate to closest group;\n",
    "    * Recalculate *centroids* for each group;\n",
    "    * Reassign points and recalculate until no change happens;"
   ]
  },
  {
   "cell_type": "markdown",
   "id": "af69b1cc-e919-4f61-98f0-0ced238792dc",
   "metadata": {
    "tags": []
   },
   "source": [
    "### Feature selection"
   ]
  },
  {
   "cell_type": "markdown",
   "id": "b2637bde-9979-4a7e-bab7-4ffa281f9e27",
   "metadata": {},
   "source": [
    "* So far we've worked with raw values;\n",
    "* But we can transform these values into new data;\n",
    "* We also don't need everything;\n",
    "* *Feature selection*"
   ]
  },
  {
   "cell_type": "code",
   "execution_count": null,
   "id": "ee36d1e8-6e7d-441a-9614-8f4176729401",
   "metadata": {
    "tags": []
   },
   "outputs": [],
   "source": [
    "COLUMNS = [\"smb.command\", \"smb.status\", \"smb.filename\", \"smb.named_pipe\", \"smb.ntlmssp.user\", \"smb.function\"]\n",
    "FEATURES = [\"event_count\", \"commands\", \"responses\", \"filenames\", \"named_pipes\", \"users\", \"functions\"]"
   ]
  },
  {
   "cell_type": "markdown",
   "id": "d542e1b7-4362-4387-825d-9707bee85dbc",
   "metadata": {
    "tags": []
   },
   "source": [
    "### Data preparation"
   ]
  },
  {
   "cell_type": "markdown",
   "id": "a60b8889-084a-46d1-96bd-b2932a6f8d81",
   "metadata": {},
   "source": [
    "* Data mining algorithms work on numeric counters;\n",
    "* We mostly have string values, some categorical fields, very few counters;\n",
    "* Especially in protocol logs;\n",
    "* Simple conversion - distinct value counts;"
   ]
  },
  {
   "cell_type": "code",
   "execution_count": null,
   "id": "98fc05d2-56e5-4a66-950d-7ff592b612b5",
   "metadata": {
    "tags": []
   },
   "outputs": [],
   "source": [
    "AGGS = {\"timestamp\": [\"min\", \"max\", \"count\"],}\n",
    "for col in COLUMNS:\n",
    "    if col in list(DF_SMB.columns.values):\n",
    "        AGGS[col] = [\"nunique\"]"
   ]
  },
  {
   "cell_type": "code",
   "execution_count": null,
   "id": "4d32220b-1269-4f75-9799-c679294943b5",
   "metadata": {
    "tags": []
   },
   "outputs": [],
   "source": [
    "DF_AGG = (\n",
    "    DF_SMB\n",
    "    .groupby([\"flow_id\"])\n",
    "    .agg(AGGS)\n",
    "    .sort_values(by=[(\"timestamp\", \"min\"), (\"timestamp\", \"max\")])\n",
    ")\n",
    "DF_AGG.columns = [\"first_seen\", \"last_seen\"] + FEATURES"
   ]
  },
  {
   "cell_type": "markdown",
   "id": "8c258c8e-e8ae-4a5c-aca2-afa2922c7600",
   "metadata": {
    "tags": []
   },
   "source": [
    "### Let's inspect it!"
   ]
  },
  {
   "cell_type": "markdown",
   "id": "c3845618-a3be-44cf-9336-16e789960746",
   "metadata": {},
   "source": [
    "Notice how we've transformed the discrete values."
   ]
  },
  {
   "cell_type": "code",
   "execution_count": null,
   "id": "47e59b35-34ed-4f8c-826b-cd81f3571ba5",
   "metadata": {
    "tags": []
   },
   "outputs": [],
   "source": [
    "pd.set_option('display.max_rows', 10)\n",
    "pd.set_option('display.min_rows', 10)\n",
    "DF_AGG"
   ]
  },
  {
   "cell_type": "markdown",
   "id": "96796144-4412-41fa-aad7-19159f46d2f4",
   "metadata": {
    "tags": []
   },
   "source": [
    "### Statistical overview"
   ]
  },
  {
   "cell_type": "markdown",
   "id": "30aee39a-0553-4457-b97e-5163b2e50ab7",
   "metadata": {},
   "source": [
    "* 4.4k rows;\n",
    "* Still too much to inspect;\n",
    "* And that's a **tiny** dataset;\n",
    "* How to get a *sense* of our data???\n",
    "* Simple statistics to the rescue!"
   ]
  },
  {
   "cell_type": "code",
   "execution_count": null,
   "id": "2ac002a3-7aee-4fc4-8049-89ffe7ecf939",
   "metadata": {
    "tags": []
   },
   "outputs": [],
   "source": [
    "DF_AGG.describe()"
   ]
  },
  {
   "cell_type": "markdown",
   "id": "a0a2a324-c095-47f5-a10d-9e1d6ffb4b05",
   "metadata": {
    "tags": []
   },
   "source": [
    "### Scale it"
   ]
  },
  {
   "cell_type": "markdown",
   "id": "c8e699a2-5344-4c98-8013-d74ed5233d45",
   "metadata": {},
   "source": [
    "* Feature scales are different;\n",
    "* High cardinality fields like `smb.filename` or `event_count` can overshadow others;\n",
    "* Simple trick is to scale values from 0 to 1;\n",
    "* It's the exact same data!"
   ]
  },
  {
   "cell_type": "code",
   "execution_count": null,
   "id": "b580b9a8-4bc9-40ba-b3b3-60ae6486bce1",
   "metadata": {
    "tags": []
   },
   "outputs": [],
   "source": [
    "from sklearn.preprocessing import MinMaxScaler\n",
    "SCALER = MinMaxScaler()\n",
    "DF_SCALED = pd.DataFrame(\n",
    "    SCALER.fit_transform(DF_AGG[FEATURES].values),\n",
    "    columns=FEATURES,\n",
    "    index=DF_AGG.index,\n",
    ")\n",
    "DF_SCALED.describe()"
   ]
  },
  {
   "cell_type": "markdown",
   "id": "9bfa9dde-a6fc-412d-93e7-d70db4456589",
   "metadata": {
    "tags": []
   },
   "source": [
    "### Make it understandable for humans"
   ]
  },
  {
   "cell_type": "markdown",
   "id": "16f1a40f-2e87-45fe-acb2-5f2dac483e0e",
   "metadata": {},
   "source": [
    "* numeric data is easiest to understand on graph;\n",
    "* 7 dimensions is a bit difficult for humans to comprehend;\n",
    "* *machine says it's bad* does not really fly on a incident report;\n",
    "* but methods exist to reduce this dimensionality;"
   ]
  },
  {
   "cell_type": "code",
   "execution_count": null,
   "id": "b1f1c7c9-79c8-4816-865a-24e07eeb7043",
   "metadata": {
    "tags": []
   },
   "outputs": [],
   "source": [
    "from sklearn.decomposition import PCA\n",
    "PRINCIPAL_COMPONENT_ANALYSIS = PCA(n_components=2)\n",
    "PRINCIPAL_COMPONENTS = PRINCIPAL_COMPONENT_ANALYSIS.fit_transform(DF_SCALED.values)\n",
    "PRINCIPAL_DATAFRAME = pd.DataFrame(data=PRINCIPAL_COMPONENTS, columns=['PC1', 'PC2'], index=DF_AGG.index)"
   ]
  },
  {
   "cell_type": "code",
   "execution_count": null,
   "id": "84c06f35-d6d5-4bc9-8281-d400ad08e68f",
   "metadata": {
    "tags": []
   },
   "outputs": [],
   "source": [
    "import matplotlib.pyplot as plt\n",
    "plt.scatter(PRINCIPAL_DATAFRAME['PC1'], PRINCIPAL_DATAFRAME['PC2'], s=50, alpha=0.5)\n",
    "plt.show()"
   ]
  },
  {
   "cell_type": "markdown",
   "id": "c993f0de-03bc-4915-a730-8362aabb52d2",
   "metadata": {
    "tags": []
   },
   "source": [
    "### Separate the datapoints"
   ]
  },
  {
   "cell_type": "markdown",
   "id": "468a69f1-65f0-424f-87ee-bda85a4c1185",
   "metadata": {},
   "source": [
    "* make the computer work for us\n",
    "* generate labels, then attach them to our dataset\n",
    "* same picture, but with colors!!!\n",
    "* non-deterministic result"
   ]
  },
  {
   "cell_type": "code",
   "execution_count": null,
   "id": "ddedf852-01a9-40cf-a723-d936165af55c",
   "metadata": {
    "tags": []
   },
   "outputs": [],
   "source": [
    "from sklearn.cluster import KMeans\n",
    "KMEANS = KMeans(n_clusters=6, max_iter=50, init='k-means++')\n",
    "KMEANS.fit(PRINCIPAL_DATAFRAME)\n",
    "PRINCIPAL_DATAFRAME[\"cluster\"] = KMEANS.labels_\n",
    "DF_SCALED[\"cluster\"] = KMEANS.labels_"
   ]
  },
  {
   "cell_type": "code",
   "execution_count": null,
   "id": "93c4259a-be87-48ff-891b-b87e7093ed52",
   "metadata": {
    "tags": []
   },
   "outputs": [],
   "source": [
    "plt.scatter(PRINCIPAL_DATAFRAME['PC1'], PRINCIPAL_DATAFRAME['PC2'], c=KMEANS.labels_.astype(float), s=50, alpha=0.5)\n",
    "plt.show()"
   ]
  },
  {
   "cell_type": "markdown",
   "id": "19d94987-0e97-4ca1-8600-7914b3897d2a",
   "metadata": {
    "tags": []
   },
   "source": [
    "### Hunting supported by analytics"
   ]
  },
  {
   "cell_type": "markdown",
   "id": "3a10994f-7b4c-4aea-96c0-e81c0878af8b",
   "metadata": {},
   "source": [
    "* now map the clusters to `flow_id`;\n",
    "* aggregate for quick overview;\n",
    "* inspect interesting clusters;"
   ]
  },
  {
   "cell_type": "code",
   "execution_count": null,
   "id": "ca89034d-e83e-4241-9f12-180ed42eba49",
   "metadata": {
    "tags": []
   },
   "outputs": [],
   "source": [
    "CLUSTER_MAPPING = pd.DataFrame()\n",
    "CLUSTER_MAPPING[\"flow_id\"] = pd.Series(DF_SCALED.index).astype(int)\n",
    "CLUSTER_MAPPING[\"cluster\"] = KMEANS.labels_\n",
    "CLUSTER_MAPPING = CLUSTER_MAPPING.to_dict(orient=\"records\")\n",
    "CLUSTER_MAPPING = {m[\"flow_id\"]: m[\"cluster\"] for m in CLUSTER_MAPPING}"
   ]
  },
  {
   "cell_type": "code",
   "execution_count": null,
   "id": "1edcdb08-bf71-45fa-bab0-026c29ae9ffc",
   "metadata": {
    "tags": []
   },
   "outputs": [],
   "source": [
    "DF_SMB[\"cluster\"] = DF_SMB.flow_id.map(CLUSTER_MAPPING)"
   ]
  },
  {
   "cell_type": "code",
   "execution_count": null,
   "id": "bdb46ff4-c98d-4cf8-8075-69df6d40245f",
   "metadata": {
    "tags": []
   },
   "outputs": [],
   "source": [
    "for col in COLUMNS:\n",
    "    if col in list(DF_SMB.columns.values):\n",
    "        AGGS[col] = [\"unique\", \"nunique\"]"
   ]
  },
  {
   "cell_type": "code",
   "execution_count": null,
   "id": "8c8c6081-be3e-4384-ace5-79160e1e0d62",
   "metadata": {
    "tags": []
   },
   "outputs": [],
   "source": [
    "pd.set_option('display.html.use_mathjax', False)"
   ]
  },
  {
   "cell_type": "code",
   "execution_count": null,
   "id": "d742483f-1899-4f91-87c3-73eb4a826aeb",
   "metadata": {
    "tags": []
   },
   "outputs": [],
   "source": [
    "(\n",
    "    DF_SMB\n",
    "    .groupby([\"cluster\"])\n",
    "    .agg(AGGS)\n",
    "    .sort_values(by=[(\"timestamp\", \"min\"), (\"timestamp\", \"max\")])\n",
    ")"
   ]
  },
  {
   "cell_type": "code",
   "execution_count": null,
   "id": "afd91709-e118-461d-85a1-06dd68779d8b",
   "metadata": {},
   "outputs": [],
   "source": [
    "DF_SMB.loc[DF_SMB.cluster == 5][\"smb.filename\"].unique()"
   ]
  },
  {
   "cell_type": "markdown",
   "id": "b724f02b-103e-4ebc-9d4c-2e0af3950793",
   "metadata": {
    "tags": []
   },
   "source": [
    "### Graph mining"
   ]
  },
  {
   "cell_type": "code",
   "execution_count": null,
   "id": "cab50b6f-b72d-4afd-995a-ab56d1035e9e",
   "metadata": {
    "tags": []
   },
   "outputs": [],
   "source": [
    "import networkx as nx\n",
    "import hvplot.networkx as hvnx\n",
    "import holoviews as hv\n",
    "hv.extension('bokeh')"
   ]
  },
  {
   "cell_type": "code",
   "execution_count": null,
   "id": "8b43a860-9066-4b09-887e-ec31720566e9",
   "metadata": {
    "tags": []
   },
   "outputs": [],
   "source": [
    "width = 800\n",
    "height = 800"
   ]
  },
  {
   "cell_type": "code",
   "execution_count": null,
   "id": "acbd0383-d7f7-4104-b41d-6cdc0b7b2907",
   "metadata": {
    "tags": []
   },
   "outputs": [],
   "source": [
    "k_src = \"smb.status\"\n",
    "k_dest = \"src_ip\""
   ]
  },
  {
   "cell_type": "code",
   "execution_count": null,
   "id": "47a12fce-3164-46ce-b5b1-fa0c5edbdc43",
   "metadata": {
    "tags": []
   },
   "outputs": [],
   "source": [
    "G = nx.from_pandas_edgelist(DF_SMB, k_src, k_dest)"
   ]
  },
  {
   "cell_type": "code",
   "execution_count": null,
   "id": "0529692b-659d-4920-8864-b19da4ec134b",
   "metadata": {},
   "outputs": [],
   "source": [
    "pos = nx.layout.spring_layout(G)"
   ]
  },
  {
   "cell_type": "code",
   "execution_count": null,
   "id": "848e1ebd-dba4-41f9-a3f9-bfc7fc0dd9fe",
   "metadata": {
    "tags": []
   },
   "outputs": [],
   "source": [
    "edges = (\n",
    "    hvnx\n",
    "    .draw_networkx_edges(G, pos, width=1, edge_color=\"#cccccc\")\n",
    "    .opts(width=width, height=height)\n",
    ")"
   ]
  },
  {
   "cell_type": "code",
   "execution_count": null,
   "id": "4e4035d2-d17a-43c0-bba5-b6a2e65c0201",
   "metadata": {
    "tags": []
   },
   "outputs": [],
   "source": [
    "uniq_src = list(DF_SMB[k_src].unique())\n",
    "nodes = [i for i, n in enumerate(G.nodes()) if n in uniq_src]\n",
    "nodes = hvnx.draw_networkx_nodes(G, pos, nodelist=nodes, node_color='#A0CBE2').opts(width=width, height=height)"
   ]
  },
  {
   "cell_type": "code",
   "execution_count": null,
   "id": "82ca3d03-ccc6-4a03-a070-09f052fb9fab",
   "metadata": {
    "tags": []
   },
   "outputs": [],
   "source": [
    "labels = [i for i, n in enumerate(G.nodes()) if n in uniq_src and G.degree(n) < 3]\n",
    "labels = hvnx.draw_networkx_labels(G, pos, nodelist=labels)"
   ]
  },
  {
   "cell_type": "code",
   "execution_count": null,
   "id": "5cbbe2ee-50cf-464e-8519-abd2a8f715f1",
   "metadata": {
    "tags": []
   },
   "outputs": [],
   "source": [
    "edges * nodes * labels"
   ]
  },
  {
   "cell_type": "markdown",
   "id": "b97b9a5f-45cb-4b87-85fa-c4aee6d585d8",
   "metadata": {
    "tags": []
   },
   "source": [
    "## In conclusion"
   ]
  },
  {
   "cell_type": "markdown",
   "id": "88e38cc3-f816-4a16-9f45-f21d88eb7df2",
   "metadata": {},
   "source": [
    "* Don't think only about alerts and atomic indicators;\n",
    "* Event stream tells a story;\n",
    "* Data can be transformed;\n",
    "* SMB and the way Suricata logs it is insane (in a good way);"
   ]
  },
  {
   "cell_type": "markdown",
   "id": "2335f157-3390-42ab-acdb-073c11009774",
   "metadata": {
    "tags": []
   },
   "source": [
    "## Thank you!"
   ]
  }
 ],
 "metadata": {
  "kernelspec": {
   "display_name": "Python 3 (ipykernel)",
   "language": "python",
   "name": "python3"
  },
  "language_info": {
   "codemirror_mode": {
    "name": "ipython",
    "version": 3
   },
   "file_extension": ".py",
   "mimetype": "text/x-python",
   "name": "python",
   "nbconvert_exporter": "python",
   "pygments_lexer": "ipython3",
   "version": "3.9.2"
  }
 },
 "nbformat": 4,
 "nbformat_minor": 5
}
