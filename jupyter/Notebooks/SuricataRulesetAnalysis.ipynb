{
 "cells": [
  {
   "cell_type": "markdown",
   "id": "0f856a44",
   "metadata": {
    "tags": []
   },
   "source": [
    "# Suricata ruleset analysis\n",
    "\n",
    "This notebook provides some visualizations on a Suricata ruleset\n",
    "\n",
    "## Prepare the data\n",
    "\n",
    "Prepare ruleset"
   ]
  },
  {
   "cell_type": "code",
   "execution_count": null,
   "id": "5afe1623-f559-4347-890f-ca9fae4b62b9",
   "metadata": {},
   "outputs": [],
   "source": [
    "!/home/jovyan/.local/bin/suricata-update"
   ]
  },
  {
   "cell_type": "markdown",
   "id": "046035e7-cab5-4b34-8e2c-6dbc654b8c49",
   "metadata": {},
   "source": [
    "Call suricata engine analysis."
   ]
  },
  {
   "cell_type": "code",
   "execution_count": null,
   "id": "519785d2-3e91-42b5-90bd-0d628201c46c",
   "metadata": {},
   "outputs": [],
   "source": [
    "import shutil"
   ]
  },
  {
   "cell_type": "code",
   "execution_count": null,
   "id": "78f169da-5d4a-422e-af94-558d11910d4b",
   "metadata": {},
   "outputs": [],
   "source": [
    "SURICATA_BIN = shutil.which(\"suricata\")"
   ]
  },
  {
   "cell_type": "code",
   "execution_count": null,
   "id": "c8812228-e1d7-4eae-8565-728cffb6e20d",
   "metadata": {},
   "outputs": [],
   "source": [
    "if SURICATA_BIN is None:\n",
    "    print(\"suricata not in path, please provide path\")\n",
    "    SURICATA_BIN = input()"
   ]
  },
  {
   "cell_type": "code",
   "execution_count": null,
   "id": "5c018712-765f-42be-bc11-ffe52371c903",
   "metadata": {},
   "outputs": [],
   "source": [
    "import subprocess"
   ]
  },
  {
   "cell_type": "code",
   "execution_count": null,
   "id": "1c8c0541-de40-4875-9082-8741c6ff3e23",
   "metadata": {},
   "outputs": [],
   "source": [
    "RESULT = subprocess.Popen([SURICATA_BIN, '-S', '/var/lib/suricata/rules/suricata.rules', '--engine-analysis', '-v'], stdout=subprocess.PIPE).communicate()"
   ]
  },
  {
   "cell_type": "code",
   "execution_count": null,
   "id": "59117a3f-34a1-48a4-a089-843cdf78eb85",
   "metadata": {},
   "outputs": [],
   "source": [
    "print(RESULT)"
   ]
  },
  {
   "cell_type": "markdown",
   "id": "2dfacf1a-a809-4620-8ff5-dfd23e34a231",
   "metadata": {},
   "source": [
    "\n",
    "Load `rules.json` from ruleset analysis"
   ]
  },
  {
   "cell_type": "code",
   "execution_count": null,
   "id": "70b28270",
   "metadata": {},
   "outputs": [],
   "source": [
    "import json\n",
    "\n",
    "rules_json = open('rules.json', 'r')\n",
    "ruleset = []\n",
    "for line in rules_json:\n",
    "    ruleset.append(json.loads(line))"
   ]
  },
  {
   "cell_type": "code",
   "execution_count": null,
   "id": "cdc425b3",
   "metadata": {},
   "outputs": [],
   "source": [
    "print(json.dumps(ruleset[0], indent=2))"
   ]
  },
  {
   "cell_type": "markdown",
   "id": "9d24766a",
   "metadata": {},
   "source": [
    "Generate a simple structure with signature and mpm information"
   ]
  },
  {
   "cell_type": "code",
   "execution_count": null,
   "id": "8a4d8c0b",
   "metadata": {},
   "outputs": [],
   "source": [
    "ruleset_mpm =[]\n",
    "for sig in ruleset:\n",
    "    if 'mpm' in sig:\n",
    "        ruleset_mpm.append({'raw': sig['raw'], 'id': sig['id'], 'msg': sig['msg'], 'proto': sig.get('app_proto', 'raw'), 'buffer': sig['mpm']['buffer'], 'pattern': sig['mpm']['pattern']})"
   ]
  },
  {
   "cell_type": "markdown",
   "id": "92ee009f",
   "metadata": {},
   "source": [
    "## Find overused patterns\n",
    "\n",
    "With a lot of signatures attached triggering potential long linear evaluation"
   ]
  },
  {
   "cell_type": "code",
   "execution_count": null,
   "id": "769c63c5-96f4-4800-a3ef-82ebec50e2ce",
   "metadata": {},
   "outputs": [],
   "source": [
    "import networkx as nx\n",
    "import html"
   ]
  },
  {
   "cell_type": "code",
   "execution_count": null,
   "id": "ebb7f3f1-4bd4-4782-92b8-7ef98012b77a",
   "metadata": {},
   "outputs": [],
   "source": [
    "G = nx.Graph()"
   ]
  },
  {
   "cell_type": "code",
   "execution_count": null,
   "id": "76d9ae75",
   "metadata": {},
   "outputs": [],
   "source": [
    "for sig in ruleset_mpm:\n",
    "    #G.add_node(sig['proto'], type='proto')\n",
    "    G.add_node(sig['id'], type='sig')\n",
    "    G.add_node(sig['buffer'], type='buffer')\n",
    "    pattern = html.escape(sig['pattern'])\n",
    "    G.add_node(pattern, type='pattern')\n",
    "    G.add_edge(sig['id'], pattern)\n",
    "    G.add_edge(pattern, sig['buffer'])\n",
    "    #G.add_edge(sig['buffer'], sig['proto'])\n",
    "    #G.add_edge(sig['buffer'], sig['id'])"
   ]
  },
  {
   "cell_type": "code",
   "execution_count": null,
   "id": "39b96c63-6f11-498c-80c0-95581b71a10e",
   "metadata": {},
   "outputs": [],
   "source": [
    "import pandas as pd"
   ]
  },
  {
   "cell_type": "code",
   "execution_count": null,
   "id": "6c0b795c-324a-4026-b136-6d83a8da42bc",
   "metadata": {},
   "outputs": [],
   "source": [
    "pd.set_option('display.html.use_mathjax', False)"
   ]
  },
  {
   "cell_type": "code",
   "execution_count": null,
   "id": "4668624d",
   "metadata": {},
   "outputs": [],
   "source": [
    "high_degree_patterns = []\n",
    "pd.set_option(\"max_colwidth\", 440)\n",
    "for node in G:\n",
    "    if G.nodes[node]['type'] == 'pattern':\n",
    "        if G.degree(node) > 20:\n",
    "            high_degree_patterns.append([html.unescape(node), G.degree(node) - 1])\n",
    "pd.DataFrame(high_degree_patterns, columns=['pattern', 'degree']).sort_values('degree', ascending=False)"
   ]
  },
  {
   "cell_type": "code",
   "execution_count": null,
   "id": "edeb3c74",
   "metadata": {},
   "outputs": [],
   "source": [
    "#pattern=\"|5C|pipe|5C 00|\"\n",
    "#pattern=\"&amp;cvv=\"\n",
    "pattern=\"|22|method|22 3A|\"\n",
    "ruleset_pd = pd.DataFrame(ruleset_mpm)\n",
    "pd.set_option(\"max_colwidth\", 440)\n",
    "ruleset_pd[ruleset_pd.pattern==pattern][[\"id\", \"proto\", \"buffer\", \"raw\"]]"
   ]
  },
  {
   "cell_type": "code",
   "execution_count": null,
   "id": "01cf757e",
   "metadata": {},
   "outputs": [],
   "source": [
    "import hvplot.networkx as hvnx\n",
    "colors = []\n",
    "for node in G:\n",
    "    if G.nodes[node]['type'] == 'proto':\n",
    "        colors.append('blue')\n",
    "    elif G.nodes[node]['type'] == 'sig':\n",
    "        colors.append('green')\n",
    "    elif G.nodes[node]['type'] == 'pattern':\n",
    "        colors.append('black')\n",
    "    else:\n",
    "        colors.append('red')"
   ]
  },
  {
   "cell_type": "code",
   "execution_count": null,
   "id": "55150bb4-a967-4a69-9c76-6abfffdcca82",
   "metadata": {},
   "outputs": [],
   "source": [
    "DRAW_GRAPH = False"
   ]
  },
  {
   "cell_type": "code",
   "execution_count": null,
   "id": "107d129c-87a8-4099-aa85-4c923e0117e8",
   "metadata": {},
   "outputs": [],
   "source": [
    "if DRAW_GRAPH is True:\n",
    "    pos = nx.spring_layout(G)\n",
    "    hvnx.draw(G, pos, node_color=colors, node_size=40, width=800, height=400)"
   ]
  },
  {
   "cell_type": "code",
   "execution_count": null,
   "id": "9044b016-0a13-4060-833d-71977651db89",
   "metadata": {},
   "outputs": [],
   "source": []
  }
 ],
 "metadata": {
  "kernelspec": {
   "display_name": "Python 3 (ipykernel)",
   "language": "python",
   "name": "python3"
  },
  "language_info": {
   "codemirror_mode": {
    "name": "ipython",
    "version": 3
   },
   "file_extension": ".py",
   "mimetype": "text/x-python",
   "name": "python",
   "nbconvert_exporter": "python",
   "pygments_lexer": "ipython3",
   "version": "3.10.6"
  }
 },
 "nbformat": 4,
 "nbformat_minor": 5
}
