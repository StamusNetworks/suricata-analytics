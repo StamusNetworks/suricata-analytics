{
 "cells": [
  {
   "cell_type": "markdown",
   "id": "8bb3f2d1-ce26-4e57-a2bb-fd76856c9b51",
   "metadata": {
    "jp-MarkdownHeadingCollapsed": true,
    "tags": []
   },
   "source": [
    "### Common imports"
   ]
  },
  {
   "cell_type": "code",
   "execution_count": null,
   "id": "52edb840-9a13-46bb-b07b-7357072654fd",
   "metadata": {},
   "outputs": [],
   "source": [
    "from ipywidgets import interact, interactive, fixed, interact_manual\n",
    "from ipywidgets import Output, Dropdown, SelectMultiple, HBox, VBox, Button, IntSlider, FloatRangeSlider, FloatSlider, Text, Textarea, Combobox, HBox, VBox, SelectMultiple, Tab\n",
    "from IPython.display import display\n",
    "\n",
    "from surianalytics.connectors import RESTSciriusConnector\n",
    "from surianalytics.datamining import min_max_scaling\n",
    "\n",
    "import pandas as pd\n",
    "import numpy as np"
   ]
  },
  {
   "cell_type": "code",
   "execution_count": null,
   "id": "4633df24-37e6-41a6-bee4-c27ddf2e4c42",
   "metadata": {},
   "outputs": [],
   "source": [
    "import urllib3\n",
    "urllib3.disable_warnings(urllib3.exceptions.InsecureRequestWarning)"
   ]
  },
  {
   "cell_type": "code",
   "execution_count": null,
   "id": "94a4d62c-47cd-457e-a535-3a156a7216bc",
   "metadata": {},
   "outputs": [],
   "source": [
    "pd.set_option('display.max_colwidth', None)\n",
    "pd.set_option('display.max_columns', None)\n",
    "pd.set_option('display.max_rows', 1000)\n",
    "pd.set_option('display.width', None)"
   ]
  },
  {
   "cell_type": "code",
   "execution_count": null,
   "id": "601e34e3-bcec-4b39-b493-f8a541c438e9",
   "metadata": {},
   "outputs": [],
   "source": [
    "c = RESTSciriusConnector()\n",
    "c.set_page_size(1000)"
   ]
  },
  {
   "cell_type": "markdown",
   "id": "72d20147-d7e2-43f6-a267-2e2c883e7441",
   "metadata": {
    "jp-MarkdownHeadingCollapsed": true,
    "tags": []
   },
   "source": [
    "### Timestamp handlers"
   ]
  },
  {
   "cell_type": "code",
   "execution_count": null,
   "id": "e54bf8a1-ee3d-4aa6-9e29-07659ac27326",
   "metadata": {},
   "outputs": [],
   "source": [
    "from datetime import datetime, timedelta"
   ]
  },
  {
   "cell_type": "code",
   "execution_count": null,
   "id": "8b42b447-7c3f-40b2-9f9d-72c30c318dd2",
   "metadata": {},
   "outputs": [],
   "source": [
    "TIME_END = datetime.utcnow()\n",
    "TIME_BEGINNING = TIME_END - timedelta(minutes=60)"
   ]
  },
  {
   "cell_type": "code",
   "execution_count": null,
   "id": "fc6c7206-a1f0-4373-9d97-fafb53bae006",
   "metadata": {},
   "outputs": [],
   "source": [
    "SLIDER_TIME_MINUTES = IntSlider(\n",
    "    value=60,\n",
    "    min=5,\n",
    "    max=600,\n",
    "    step=5,\n",
    "    description='Minutes',\n",
    "    orientation='horizontal',\n",
    "    readout=True,\n",
    ")"
   ]
  },
  {
   "cell_type": "code",
   "execution_count": null,
   "id": "31a5a3f9-0c44-4b96-b41d-c863f7aa8105",
   "metadata": {},
   "outputs": [],
   "source": [
    "# TimePicker is not in ipywidgests 7.7\n",
    "# Use text boxes instead for now\n",
    "TEXT_TIME_BEGINNING = Text(\n",
    "    description=\"From: \",\n",
    "    value=TIME_BEGINNING.isoformat(),\n",
    "    continuous_update=True\n",
    ")\n",
    "TEXT_TIME_END = Text(\n",
    "    description=\"To: \",\n",
    "    value=TIME_END.isoformat(),\n",
    "    continuous_update=True\n",
    ")\n",
    "_ = c.set_query_timeframe(from_date=TEXT_TIME_BEGINNING.value, to_date=TEXT_TIME_END.value)"
   ]
  },
  {
   "cell_type": "code",
   "execution_count": null,
   "id": "b03fa882-a2f9-4c8c-ad06-468acab7d05a",
   "metadata": {},
   "outputs": [],
   "source": [
    "def handler_update_timeframe(args):\n",
    "    c.set_query_timeframe(from_date=TEXT_TIME_BEGINNING.value, to_date=TEXT_TIME_END.value)"
   ]
  },
  {
   "cell_type": "code",
   "execution_count": null,
   "id": "ad034b5c-2f61-4b24-9d8d-ebba079fffc7",
   "metadata": {},
   "outputs": [],
   "source": [
    "BUTTON_UPDATE_TIME = Button(description=\"Set time\")\n",
    "BUTTON_UPDATE_TIME.on_click(handler_update_timeframe)"
   ]
  },
  {
   "cell_type": "code",
   "execution_count": null,
   "id": "719c8ef4-4cf9-40f5-b323-272fb4337147",
   "metadata": {},
   "outputs": [],
   "source": [
    "def handler_reset_timeframe(args):\n",
    "    time_to = datetime.utcnow()\n",
    "    time_from = time_to - timedelta(minutes=SLIDER_TIME_MINUTES.value)\n",
    "    TEXT_TIME_END.value = time_to.isoformat()\n",
    "    TEXT_TIME_BEGINNING.value = time_from.isoformat()\n",
    "    c.set_query_delta(minutes=SLIDER_TIME_MINUTES.value)"
   ]
  },
  {
   "cell_type": "code",
   "execution_count": null,
   "id": "b0542586-8fa2-42c1-a080-527c2211a1b4",
   "metadata": {},
   "outputs": [],
   "source": [
    "BUTTON_RESET_TIME = Button(description=\"Generate time\")\n",
    "BUTTON_RESET_TIME.on_click(handler_reset_timeframe)"
   ]
  },
  {
   "cell_type": "code",
   "execution_count": null,
   "id": "2e927c78-604c-4d5a-8f7d-f0182b8d5c4e",
   "metadata": {},
   "outputs": [],
   "source": [
    "import pickle\n",
    "PKL_TIME = \"./time.pkl\""
   ]
  },
  {
   "cell_type": "code",
   "execution_count": null,
   "id": "173eeb8b-ca54-4a3a-8658-630300b6db26",
   "metadata": {},
   "outputs": [],
   "source": [
    "def handler_pickle_time_save(args):\n",
    "    with open(PKL_TIME, \"wb\") as handle:\n",
    "        pickle.dump((TEXT_TIME_BEGINNING.value, TEXT_TIME_END.value), handle)"
   ]
  },
  {
   "cell_type": "code",
   "execution_count": null,
   "id": "9f3989ae-94f9-497a-99cb-8595318cbde5",
   "metadata": {},
   "outputs": [],
   "source": [
    "BUTTON_SAVE_TIME = Button(description=\"Dump time\")\n",
    "BUTTON_SAVE_TIME.on_click(handler_pickle_time_save)"
   ]
  },
  {
   "cell_type": "code",
   "execution_count": null,
   "id": "ec40e012-c77b-45d0-8ae4-bc4d4bf9ab1a",
   "metadata": {},
   "outputs": [],
   "source": [
    "def handler_pickle_time_load(args):\n",
    "    handle = open(PKL_TIME, \"rb\")\n",
    "    times = pickle.load(handle)\n",
    "    TEXT_TIME_BEGINNING.value = times[0]\n",
    "    TEXT_TIME_END.value = times[1]\n",
    "    handler_update_timeframe(args)"
   ]
  },
  {
   "cell_type": "code",
   "execution_count": null,
   "id": "3cfb64b0-1e8c-4cb0-8a49-a28994bf3736",
   "metadata": {},
   "outputs": [],
   "source": [
    "BUTTON_LOAD_TIME = Button(description=\"Sync time\")\n",
    "BUTTON_LOAD_TIME.on_click(handler_pickle_time_load)"
   ]
  },
  {
   "cell_type": "code",
   "execution_count": null,
   "id": "7eadafc0-e7ac-409f-8be0-3c00c6673db5",
   "metadata": {},
   "outputs": [],
   "source": [
    "BOX_TIME = VBox([\n",
    "    HBox([SLIDER_TIME_MINUTES, BUTTON_RESET_TIME]), \n",
    "    HBox([\n",
    "        VBox([TEXT_TIME_BEGINNING, TEXT_TIME_END]), \n",
    "        BUTTON_UPDATE_TIME,\n",
    "        VBox([BUTTON_SAVE_TIME, BUTTON_LOAD_TIME])\n",
    "    ])\n",
    "])"
   ]
  },
  {
   "cell_type": "markdown",
   "id": "4359d8df-5a76-4d4d-89c5-713cde3d8c7e",
   "metadata": {
    "jp-MarkdownHeadingCollapsed": true,
    "tags": []
   },
   "source": [
    "### Query handler"
   ]
  },
  {
   "cell_type": "code",
   "execution_count": null,
   "id": "840d1977-3097-468d-8ccb-c22657b13db9",
   "metadata": {},
   "outputs": [],
   "source": [
    "TEXT_QUERY = Textarea(\n",
    "    description='Query filter:',\n",
    "    value=\"*\",\n",
    "    continuous_update=True\n",
    ")"
   ]
  },
  {
   "cell_type": "code",
   "execution_count": null,
   "id": "bcf8b19b-d014-447e-b5f7-77ed7c798620",
   "metadata": {},
   "outputs": [],
   "source": [
    "import pickle\n",
    "PKL_QUERY = \"./query.pkl\""
   ]
  },
  {
   "cell_type": "code",
   "execution_count": null,
   "id": "0322bac3-291d-4942-a879-cec8d8dcc9ee",
   "metadata": {},
   "outputs": [],
   "source": [
    "def handler_pickle_query_save(args):\n",
    "    with open(PKL_QUERY, \"wb\") as handle:\n",
    "        pickle.dump(TEXT_QUERY.value, handle)"
   ]
  },
  {
   "cell_type": "code",
   "execution_count": null,
   "id": "0788d5cd-62e5-4fd6-8b72-6c33601bb6de",
   "metadata": {},
   "outputs": [],
   "source": [
    "BUTTON_SAVE_QUERY = Button(description=\"Dump query\")\n",
    "BUTTON_SAVE_QUERY.on_click(handler_pickle_query_save)"
   ]
  },
  {
   "cell_type": "code",
   "execution_count": null,
   "id": "3d2c33e1-0ee2-4bed-9880-7730d0c758c6",
   "metadata": {},
   "outputs": [],
   "source": [
    "def handler_pickle_query_load(args):\n",
    "    handle = open(PKL_QUERY, \"rb\")\n",
    "    TEXT_QUERY.value = pickle.load(handle)"
   ]
  },
  {
   "cell_type": "code",
   "execution_count": null,
   "id": "cc8bcd27-e067-455f-a5d5-1fdbb849d5ec",
   "metadata": {},
   "outputs": [],
   "source": [
    "BUTTON_LOAD_QUERY = Button(description=\"Sync query\")\n",
    "BUTTON_LOAD_QUERY.on_click(handler_pickle_query_load)"
   ]
  },
  {
   "cell_type": "code",
   "execution_count": null,
   "id": "f65df608-c8b2-4864-8941-f62e839d1a72",
   "metadata": {},
   "outputs": [],
   "source": [
    "BOX_QUERY = HBox([\n",
    "    TEXT_QUERY, \n",
    "    VBox([BUTTON_SAVE_QUERY, BUTTON_LOAD_QUERY])\n",
    "])"
   ]
  },
  {
   "cell_type": "markdown",
   "id": "03c288d7-1282-4d85-9357-bd464a45bc9d",
   "metadata": {
    "jp-MarkdownHeadingCollapsed": true,
    "tags": []
   },
   "source": [
    "### Unique values"
   ]
  },
  {
   "cell_type": "code",
   "execution_count": null,
   "id": "6dd96142-6d7d-4063-8975-f352e317027c",
   "metadata": {},
   "outputs": [],
   "source": [
    "SELECT_FIELD = Combobox(options=c.get_unique_fields(), value=\"flow_id\")"
   ]
  },
  {
   "cell_type": "code",
   "execution_count": null,
   "id": "9368436c-9edb-4b49-bb3e-3906a3b61b09",
   "metadata": {},
   "outputs": [],
   "source": [
    "DF = pd.DataFrame()\n",
    "OUTPUT_UNIQUE = Output()\n",
    "def handler_pull_data(args):\n",
    "    global DF\n",
    "    DF = pd.DataFrame(c.get_eve_unique_values(counts=\"yes\", field=SELECT_FIELD.value, qfilter=TEXT_QUERY.value))\n",
    "    OUTPUT_UNIQUE.clear_output()\n",
    "    with OUTPUT_UNIQUE:\n",
    "        if len(DF) == 0:\n",
    "            print(\"no data\")\n",
    "        else:\n",
    "            display(DF.sort_values(by=\"key\"))"
   ]
  },
  {
   "cell_type": "code",
   "execution_count": null,
   "id": "d47fd493-55a0-494b-b483-aafe0f22856a",
   "metadata": {},
   "outputs": [],
   "source": [
    "BUTTON_PULL_UNIQUE = Button(description=\"Pull unique values\")\n",
    "BUTTON_PULL_UNIQUE.on_click(handler_pull_data)"
   ]
  },
  {
   "cell_type": "code",
   "execution_count": null,
   "id": "5d6a69b1-1144-4e32-abaf-bc2e49714efe",
   "metadata": {},
   "outputs": [],
   "source": [
    "def handler_show_simple_uniq(args):\n",
    "    OUTPUT_UNIQUE.clear_output()\n",
    "    with OUTPUT_UNIQUE:\n",
    "        print(\"\\n\".join(sorted(list(DF.key.astype(str).unique()))))"
   ]
  },
  {
   "cell_type": "code",
   "execution_count": null,
   "id": "e8d468ee-79ed-4b2c-ba9c-bd5242a62304",
   "metadata": {},
   "outputs": [],
   "source": [
    "BUTTON_SHOW_SIMPLE = Button(description=\"Show simple values\")\n",
    "BUTTON_SHOW_SIMPLE.on_click(handler_show_simple_uniq)"
   ]
  },
  {
   "cell_type": "code",
   "execution_count": null,
   "id": "1d7e8fa8-e341-4bf3-978e-7315db4ffa40",
   "metadata": {},
   "outputs": [],
   "source": [
    "BOX_UNIQUE = VBox([\n",
    "    HBox([\n",
    "        SELECT_FIELD,\n",
    "        VBox([BUTTON_PULL_UNIQUE, BUTTON_SHOW_SIMPLE]),\n",
    "    ]),\n",
    "    OUTPUT_UNIQUE\n",
    "])"
   ]
  },
  {
   "cell_type": "markdown",
   "id": "319a218b-48d2-4209-99a2-120ae8111894",
   "metadata": {},
   "source": [
    "### Hunting section"
   ]
  },
  {
   "cell_type": "code",
   "execution_count": null,
   "id": "9b573103-3a14-4f16-9869-a3d0af4eae78",
   "metadata": {},
   "outputs": [],
   "source": [
    "tab = Tab(children=[BOX_TIME, BOX_QUERY, BOX_UNIQUE])\n",
    "tab.set_title(0, \"Timepicker\")\n",
    "tab.set_title(1, \"Query filter\")\n",
    "tab.set_title(2, \"Analytics\")"
   ]
  },
  {
   "cell_type": "code",
   "execution_count": null,
   "id": "757de695-670a-40e9-aa17-ac0bc887b7e6",
   "metadata": {},
   "outputs": [],
   "source": [
    "tab"
   ]
  },
  {
   "cell_type": "code",
   "execution_count": null,
   "id": "a2a713a6-a05e-4ef8-94bb-6f36a86b6993",
   "metadata": {},
   "outputs": [],
   "source": []
  }
 ],
 "metadata": {
  "kernelspec": {
   "display_name": "Python 3 (ipykernel)",
   "language": "python",
   "name": "python3"
  },
  "language_info": {
   "codemirror_mode": {
    "name": "ipython",
    "version": 3
   },
   "file_extension": ".py",
   "mimetype": "text/x-python",
   "name": "python",
   "nbconvert_exporter": "python",
   "pygments_lexer": "ipython3",
   "version": "3.9.10"
  }
 },
 "nbformat": 4,
 "nbformat_minor": 5
}
