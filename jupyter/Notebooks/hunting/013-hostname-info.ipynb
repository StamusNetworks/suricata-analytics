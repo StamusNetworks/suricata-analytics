{
 "cells": [
  {
   "cell_type": "code",
   "execution_count": null,
   "id": "349c33fd-0e5e-424d-ad05-ae2a9045094e",
   "metadata": {},
   "outputs": [],
   "source": [
    "import urllib3\n",
    "urllib3.disable_warnings(urllib3.exceptions.InsecureRequestWarning)"
   ]
  },
  {
   "cell_type": "code",
   "execution_count": null,
   "id": "35215c84-d32b-472f-9508-5c4209745ee8",
   "metadata": {
    "tags": []
   },
   "outputs": [],
   "source": [
    "from surianalytics.connectors import RESTSciriusConnector"
   ]
  },
  {
   "cell_type": "code",
   "execution_count": null,
   "id": "3d6a155c-c251-4868-8f7f-43fde39f84e7",
   "metadata": {
    "tags": []
   },
   "outputs": [],
   "source": [
    "C = RESTSciriusConnector()"
   ]
  },
  {
   "cell_type": "code",
   "execution_count": null,
   "id": "aba80ed3-f94b-49c8-a25a-fa0bc62e14f0",
   "metadata": {},
   "outputs": [],
   "source": [
    "IGNORE_DOMAINS = [\n",
    "    \"*.microsoft.com\",\n",
    "    \"*.office.com\",\n",
    "    \"*.live.com\",\n",
    "    \"*.windowsupdate.com\"\n",
    "]"
   ]
  },
  {
   "cell_type": "code",
   "execution_count": null,
   "id": "9a9ee6c4-adfe-45d5-9834-155e7a730f51",
   "metadata": {},
   "outputs": [],
   "source": [
    "IGNORE_DOMAINS = \" OR \".join(IGNORE_DOMAINS)"
   ]
  },
  {
   "cell_type": "code",
   "execution_count": null,
   "id": "8cb702e3-ded0-43f7-88d2-4fa6c273b02d",
   "metadata": {},
   "outputs": [],
   "source": [
    "C.basefilter = f\"NOT hostname_info.host: ({IGNORE_DOMAINS}) AND NOT metadata.flowbits: stamus.pass\""
   ]
  },
  {
   "cell_type": "code",
   "execution_count": null,
   "id": "cbc36e6b-1f14-4d37-85de-cb7bc4a18039",
   "metadata": {},
   "outputs": [],
   "source": [
    "from surianalytics.widgets.config import update_connector_timeframe"
   ]
  },
  {
   "cell_type": "code",
   "execution_count": null,
   "id": "86e5f0be-d155-4359-ad06-46475b6bf8fd",
   "metadata": {
    "tags": []
   },
   "outputs": [],
   "source": [
    "update_connector_timeframe(c=C, dump_path=\"../config.json\")"
   ]
  },
  {
   "cell_type": "code",
   "execution_count": null,
   "id": "0c1d0610-e37b-41fe-840a-b66262719425",
   "metadata": {
    "tags": []
   },
   "outputs": [],
   "source": [
    "C.get_eve_unique_values(qfilter=\"net_info.src_agg: * AND NOT net_info.dest_agg: * AND event_type: (http OR tls)\", \n",
    "                        field=\"hostname_info.host\")"
   ]
  },
  {
   "cell_type": "code",
   "execution_count": null,
   "id": "ca1f46cd-612c-4679-9416-334c6f009f14",
   "metadata": {},
   "outputs": [],
   "source": [
    "C.get_eve_unique_values(qfilter=\"NOT net_info.src_agg: * AND net_info.dest_agg: * AND event_type: fileinfo AND app_proto: http\", \n",
    "                        field=\"fileinfo.filename\")"
   ]
  },
  {
   "cell_type": "code",
   "execution_count": null,
   "id": "d2d06245-27ef-4486-9aa8-135e15420dfc",
   "metadata": {
    "tags": []
   },
   "outputs": [],
   "source": [
    "G = (\n",
    "    C\n",
    "    .get_eve_fields_graph_nx(qfilter=\"NOT net_info.src_agg: * AND net_info.dest_agg: * AND event_type: fileinfo AND app_proto: http\",\n",
    "                             col_src=\"fileinfo.filename\", \n",
    "                             col_dest=\"hostname_info.host\")\n",
    ")"
   ]
  },
  {
   "cell_type": "code",
   "execution_count": null,
   "id": "741ab449-f349-49ca-91b3-f0bd50901fdb",
   "metadata": {
    "tags": []
   },
   "outputs": [],
   "source": [
    "from surianalytics.viz import draw_nx_graph"
   ]
  },
  {
   "cell_type": "code",
   "execution_count": null,
   "id": "2ae51ef1-67c6-4ca6-9be7-f08be3d462b0",
   "metadata": {
    "tags": []
   },
   "outputs": [],
   "source": [
    "display(draw_nx_graph(G))"
   ]
  }
 ],
 "metadata": {
  "kernelspec": {
   "display_name": "Python 3 (ipykernel)",
   "language": "python",
   "name": "python3"
  },
  "language_info": {
   "codemirror_mode": {
    "name": "ipython",
    "version": 3
   },
   "file_extension": ".py",
   "mimetype": "text/x-python",
   "name": "python",
   "nbconvert_exporter": "python",
   "pygments_lexer": "ipython3",
   "version": "3.12.7"
  }
 },
 "nbformat": 4,
 "nbformat_minor": 5
}
