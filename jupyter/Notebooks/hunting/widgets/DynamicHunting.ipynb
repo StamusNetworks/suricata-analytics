{
 "cells": [
  {
   "cell_type": "code",
   "execution_count": null,
   "id": "08f29d86-9b39-489d-9d8c-03da1e5c3b9a",
   "metadata": {},
   "outputs": [],
   "source": [
    "from surianalytics.widgets.explorer import Explorer"
   ]
  },
  {
   "cell_type": "code",
   "execution_count": null,
   "id": "e5743615-4564-4596-a211-5f0a6883d3e7",
   "metadata": {},
   "outputs": [],
   "source": [
    "explorer = Explorer()"
   ]
  },
  {
   "cell_type": "code",
   "execution_count": null,
   "id": "1504f0a4-e99f-4a59-9a5c-68e1f0d89d1b",
   "metadata": {},
   "outputs": [],
   "source": [
    "explorer.display()"
   ]
  }
 ],
 "metadata": {
  "kernelspec": {
   "display_name": "Python 3 (ipykernel)",
   "language": "python",
   "name": "python3"
  },
  "language_info": {
   "codemirror_mode": {
    "name": "ipython",
    "version": 3
   },
   "file_extension": ".py",
   "mimetype": "text/x-python",
   "name": "python",
   "nbconvert_exporter": "python",
   "pygments_lexer": "ipython3",
   "version": "3.12.7"
  }
 },
 "nbformat": 4,
 "nbformat_minor": 5
}
