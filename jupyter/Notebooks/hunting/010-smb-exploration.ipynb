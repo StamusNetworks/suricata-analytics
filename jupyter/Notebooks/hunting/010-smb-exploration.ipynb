{
 "cells": [
  {
   "cell_type": "code",
   "execution_count": null,
   "id": "68842d12-11d5-4d51-a532-633439c07f64",
   "metadata": {
    "tags": []
   },
   "outputs": [],
   "source": [
    "from surianalytics.connectors import RESTSciriusConnector"
   ]
  },
  {
   "cell_type": "code",
   "execution_count": null,
   "id": "106406a1-6863-4624-be4a-452f281e0bca",
   "metadata": {},
   "outputs": [],
   "source": [
    "from surianalytics.widgets.config import update_connector_time_delta"
   ]
  },
  {
   "cell_type": "code",
   "execution_count": null,
   "id": "804746bb-8b1f-43fc-9a12-982094ffa631",
   "metadata": {
    "tags": []
   },
   "outputs": [],
   "source": [
    "CONNECTOR = RESTSciriusConnector()"
   ]
  },
  {
   "cell_type": "code",
   "execution_count": null,
   "id": "8ad8206e-2515-4488-ac6e-869a6de7a964",
   "metadata": {
    "tags": []
   },
   "outputs": [],
   "source": [
    "CONNECTOR.set_page_size(10000)"
   ]
  },
  {
   "cell_type": "code",
   "execution_count": null,
   "id": "6dbd1bf1-bc80-45a7-8ce1-cba21bc75444",
   "metadata": {},
   "outputs": [],
   "source": [
    "update_connector_time_delta(c=CONNECTOR, dump_path=\"../config.json\")"
   ]
  },
  {
   "cell_type": "code",
   "execution_count": null,
   "id": "1948a0a1-cdb5-46e4-880a-b9c099a6e476",
   "metadata": {
    "tags": []
   },
   "outputs": [],
   "source": [
    "from IPython.display import JSON"
   ]
  },
  {
   "cell_type": "code",
   "execution_count": null,
   "id": "4beea5fc-6768-4f2e-b273-0a955ac1546c",
   "metadata": {
    "tags": []
   },
   "outputs": [],
   "source": [
    "import pandas as pd"
   ]
  },
  {
   "cell_type": "code",
   "execution_count": null,
   "id": "02254ee8-0b94-404a-b29f-f81cd1d22f6e",
   "metadata": {
    "tags": []
   },
   "outputs": [],
   "source": [
    "import ipywidgets as widgets"
   ]
  },
  {
   "cell_type": "code",
   "execution_count": null,
   "id": "3e4e5010-706a-45e6-86e5-ac02e7caa9f0",
   "metadata": {
    "tags": []
   },
   "outputs": [],
   "source": [
    "DATA = CONNECTOR.get_eve_unique_values(qfilter=\"event_type: smb\", \n",
    "                                    field=\"flow_id\", \n",
    "                                    counts=\"yes\", \n",
    "                                    size=100)"
   ]
  },
  {
   "cell_type": "code",
   "execution_count": null,
   "id": "9ab05b80-4620-4d14-9bc7-062a7572294a",
   "metadata": {
    "tags": []
   },
   "outputs": [],
   "source": [
    "pd.DataFrame(DATA)"
   ]
  },
  {
   "cell_type": "code",
   "execution_count": null,
   "id": "b8d6b1f4-7ad6-431b-a05c-eb2a3721dfc2",
   "metadata": {
    "tags": []
   },
   "outputs": [],
   "source": [
    "import ipywidgets as widgets"
   ]
  },
  {
   "cell_type": "code",
   "execution_count": null,
   "id": "eacbfd26-b2de-4bfc-8969-63ca96e33e1d",
   "metadata": {
    "tags": []
   },
   "outputs": [],
   "source": [
    "import pandas as pd"
   ]
  },
  {
   "cell_type": "code",
   "execution_count": null,
   "id": "68409bbc-0cf2-4b2b-ab24-33b10ae3b024",
   "metadata": {
    "tags": []
   },
   "outputs": [],
   "source": [
    "from ipywidgets.widgets.interaction import display"
   ]
  },
  {
   "cell_type": "code",
   "execution_count": null,
   "id": "c0d370cf-2a8a-446d-9f3c-f63843fbb5f2",
   "metadata": {
    "tags": []
   },
   "outputs": [],
   "source": [
    "def show(limit: int,\n",
    "         fid: int):\n",
    "    pd.set_option('display.max_rows', limit)\n",
    "    pd.set_option('display.min_rows', limit)\n",
    "    pd.set_option('display.max_columns', None)\n",
    "    \n",
    "    df = (\n",
    "        CONNECTOR\n",
    "        .get_events_df(qfilter=\"flow_id: {fid}\".format(fid=fid))\n",
    "    )\n",
    "    \n",
    "    cols = [\"host\", \"timestamp\", \"flow_id\", \"src_ip\", \"dest_ip\", \"src_port\", \"dest_port\"]\n",
    "    \n",
    "    for col in [\"alert.signature\"]:\n",
    "        if col in list(df.columns.values):\n",
    "            cols = cols + [col]\n",
    "            \n",
    "    cols += [c for c in list(df.columns.values) if c.startswith(\"smb.\")]\n",
    "\n",
    "    display(df.sort_values(by=[\"timestamp\"])[cols])"
   ]
  },
  {
   "cell_type": "code",
   "execution_count": null,
   "id": "d6413404-96af-4203-b893-90a802127a34",
   "metadata": {
    "tags": []
   },
   "outputs": [],
   "source": [
    "widgets.interact(show, \n",
    "                 limit=widgets.IntSlider(min=10, max=1000),\n",
    "                 fid=widgets.Dropdown(options=[f[\"key\"] for f in DATA]))"
   ]
  },
  {
   "cell_type": "code",
   "execution_count": null,
   "id": "39f0ad26-908d-4601-8e2a-0413035424ea",
   "metadata": {
    "tags": []
   },
   "outputs": [],
   "source": [
    "DF = pd.DataFrame()\n",
    "for fid in [d[\"key\"] for d in DATA]:\n",
    "    df = (\n",
    "        CONNECTOR\n",
    "        .get_events_df(qfilter=\"flow_id: {fid}\".format(fid=fid))\n",
    "    )\n",
    "    DF = pd.concat([DF, df], axis=0)"
   ]
  },
  {
   "cell_type": "code",
   "execution_count": null,
   "id": "43c2a3f4-4ede-45c4-ac96-cab71630fdea",
   "metadata": {
    "tags": []
   },
   "outputs": [],
   "source": [
    "pd.options.display.html.use_mathjax = False"
   ]
  },
  {
   "cell_type": "code",
   "execution_count": null,
   "id": "343d3b57-dd69-46f7-b5ce-d0d81ec70a9a",
   "metadata": {
    "tags": []
   },
   "outputs": [],
   "source": [
    "pd.set_option('display.max_rows', 50)\n",
    "pd.set_option('display.min_rows', 50)"
   ]
  },
  {
   "cell_type": "code",
   "execution_count": null,
   "id": "de293482-7b05-4e16-9ebe-d5920989a491",
   "metadata": {
    "tags": []
   },
   "outputs": [],
   "source": [
    "pd.set_option('max_colwidth', 1000)"
   ]
  },
  {
   "cell_type": "code",
   "execution_count": null,
   "id": "0eb7f0fd-7313-4fb8-b1db-11817fbf1cb1",
   "metadata": {},
   "outputs": [],
   "source": [
    "DF.groupby(\"src_ip\").agg({\n",
    "    \"src_ip\": [\"unique\", \"nunique\"],\n",
    "    \"smb.command\": [\"unique\", \"nunique\"],\n",
    "    \"smb.status\": [\"unique\", \"nunique\"],\n",
    "    # \"smb.ntlmssp.user\": [\"unique\", \"nunique\"],\n",
    "    \"smb.filename\": [\"unique\", \"nunique\"],\n",
    "    \"smb.named_pipe\": [\"unique\", \"nunique\"],\n",
    "    \"alert.signature\": [\"unique\", \"nunique\"],\n",
    "    \"timestamp\": [\"min\", \"max\"]\n",
    "}).sort_values(by=[('src_ip', 'nunique')], ascending=False)"
   ]
  },
  {
   "cell_type": "code",
   "execution_count": null,
   "id": "929afbe5-090b-4428-be68-64799359bf32",
   "metadata": {},
   "outputs": [],
   "source": []
  }
 ],
 "metadata": {
  "kernelspec": {
   "display_name": "Python 3 (ipykernel)",
   "language": "python",
   "name": "python3"
  },
  "language_info": {
   "codemirror_mode": {
    "name": "ipython",
    "version": 3
   },
   "file_extension": ".py",
   "mimetype": "text/x-python",
   "name": "python",
   "nbconvert_exporter": "python",
   "pygments_lexer": "ipython3",
   "version": "3.11.7"
  }
 },
 "nbformat": 4,
 "nbformat_minor": 5
}
