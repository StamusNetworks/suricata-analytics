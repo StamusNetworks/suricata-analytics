{
 "cells": [
  {
   "cell_type": "code",
   "execution_count": null,
   "id": "0981defe-886b-4504-a830-251e993f1079",
   "metadata": {
    "tags": []
   },
   "outputs": [],
   "source": [
    "from surianalytics.connectors import RESTSciriusConnector"
   ]
  },
  {
   "cell_type": "code",
   "execution_count": null,
   "id": "a39a1f9a-5ad1-4d1b-b514-7093b85f1e0a",
   "metadata": {},
   "outputs": [],
   "source": [
    "from surianalytics.widgets.config import update_connector_time_delta"
   ]
  },
  {
   "cell_type": "code",
   "execution_count": null,
   "id": "c474e248-2469-4067-a986-f8700e77ff0e",
   "metadata": {
    "tags": []
   },
   "outputs": [],
   "source": [
    "CONNECTOR = RESTSciriusConnector()"
   ]
  },
  {
   "cell_type": "code",
   "execution_count": null,
   "id": "6ad64b7c-e73f-42bb-bfc4-c3916f4bf09a",
   "metadata": {
    "tags": []
   },
   "outputs": [],
   "source": [
    "CONNECTOR.set_page_size(10000)"
   ]
  },
  {
   "cell_type": "code",
   "execution_count": null,
   "id": "cd8f3435-ffa4-4742-9779-4189663dc383",
   "metadata": {},
   "outputs": [],
   "source": [
    "update_connector_time_delta(c=CONNECTOR, dump_path=\"../config.json\")"
   ]
  },
  {
   "cell_type": "code",
   "execution_count": null,
   "id": "632eb488-9c94-4cda-931d-f85ed6b90097",
   "metadata": {
    "tags": []
   },
   "outputs": [],
   "source": [
    "from IPython.display import JSON"
   ]
  },
  {
   "cell_type": "code",
   "execution_count": null,
   "id": "56abbf33-3bd4-4e18-99a5-02fb5fbdde36",
   "metadata": {
    "tags": []
   },
   "outputs": [],
   "source": [
    "RULES = {\n",
    "    3120001: \"http.hostname\",\n",
    "    3120002: \"tls.ja3s.hash\",\n",
    "    3120003: \"tls.sni\",\n",
    "    3120004: \"tls.subject\",\n",
    "    3120005: \"tls.serial\",\n",
    "    3120006: \"tls.issuerdn\",\n",
    "    3120007: \"http.http_user_agent\",\n",
    "    3120009: \"ssh.client.software_version\",\n",
    "    3120010: \"ssh.server.software_version\",\n",
    "    3120011: \"http.server\",\n",
    "    3120012: \"http.server\",\n",
    "    3120013: \"smb.filename\",\n",
    "    3120014: \"smb.filename\",\n",
    "    3120015: \"smb.filename\",\n",
    "}"
   ]
  },
  {
   "cell_type": "code",
   "execution_count": null,
   "id": "dfef1430-9b81-46e7-8843-1cfb655d62c2",
   "metadata": {
    "tags": []
   },
   "outputs": [],
   "source": [
    "import urllib3\n",
    "urllib3.disable_warnings(urllib3.exceptions.InsecureRequestWarning)"
   ]
  },
  {
   "cell_type": "code",
   "execution_count": null,
   "id": "b4ce07ba-48e0-4d37-8e3d-9ce7b02d2d83",
   "metadata": {
    "tags": []
   },
   "outputs": [],
   "source": [
    "import pandas as pd"
   ]
  },
  {
   "cell_type": "code",
   "execution_count": null,
   "id": "faf1722a-3f86-486f-aff4-765cb3ff3da4",
   "metadata": {
    "tags": []
   },
   "outputs": [],
   "source": [
    "DF = pd.DataFrame()\n",
    "for sid, field in RULES.items():\n",
    "    resp = (CONNECTOR\n",
    "    .get_eve_unique_values(qfilter=\"alert.signature_id: {sid}\".format(sid=sid), \n",
    "                           field=field,\n",
    "                           size=10000,\n",
    "                           counts=\"no\"))\n",
    "    print(field, len(resp))\n",
    "    df = pd.DataFrame()\n",
    "    df[\"value\"] = resp\n",
    "    df[\"field\"] = field\n",
    "    df[\"sid\"] = sid\n",
    "    DF = pd.concat([DF, df], axis=0)"
   ]
  },
  {
   "cell_type": "code",
   "execution_count": null,
   "id": "b4090e83-45ea-4c71-b7d9-0ad503222706",
   "metadata": {
    "tags": []
   },
   "outputs": [],
   "source": [
    "import ipywidgets as widgets"
   ]
  },
  {
   "cell_type": "code",
   "execution_count": null,
   "id": "8a79933d-0254-47a4-a7ee-0fd76b58952e",
   "metadata": {
    "tags": []
   },
   "outputs": [],
   "source": [
    "from ipywidgets.widgets.interaction import display"
   ]
  },
  {
   "cell_type": "code",
   "execution_count": null,
   "id": "44ce3364-bd18-4bc9-9a56-68e870131658",
   "metadata": {
    "tags": []
   },
   "outputs": [],
   "source": [
    "SELECTION = widgets.Combobox(options=[])\n",
    "TYPES = {}"
   ]
  },
  {
   "cell_type": "code",
   "execution_count": null,
   "id": "9e26f48f-2b54-4068-b7ca-1fe1321b8234",
   "metadata": {
    "tags": []
   },
   "outputs": [],
   "source": [
    "def show(limit: int, fields: list):\n",
    "    pd.set_option('display.max_rows', limit)\n",
    "    pd.set_option('display.min_rows', limit)\n",
    "    pd.set_option('display.max_colwidth', None)\n",
    "    \n",
    "    df = (\n",
    "        DF\n",
    "        .loc[DF[\"field\"].isin(fields)]\n",
    "        .sort_values(by=[\"field\", \"value\"])\n",
    "    )\n",
    "    d = df.to_dict(orient=\"records\")\n",
    "    \n",
    "    global TYPES\n",
    "    TYPES = {i[\"value\"]: i[\"field\"] for i in d}\n",
    "    \n",
    "    global SELECTION\n",
    "    SELECTION.options = list(df.value.unique())\n",
    "    \n",
    "    display(df)\n",
    "    display(SELECTION)"
   ]
  },
  {
   "cell_type": "code",
   "execution_count": null,
   "id": "6da659a5-a27f-4fd7-ae16-d69dbd7d3a1f",
   "metadata": {
    "tags": []
   },
   "outputs": [],
   "source": [
    "widgets.interact(show, \n",
    "                 limit=widgets.IntSlider(min=10, max=1000),\n",
    "                 fields=widgets.SelectMultiple(options=list(DF.field.unique()), \n",
    "                                               rows=len(DF.field.unique())))"
   ]
  },
  {
   "cell_type": "code",
   "execution_count": null,
   "id": "1e38b6ec-8df8-484f-b39a-39514fba65fa",
   "metadata": {
    "tags": []
   },
   "outputs": [],
   "source": [
    "SHOW_SIZE = widgets.IntSlider(min=10, max=1000)"
   ]
  },
  {
   "cell_type": "code",
   "execution_count": null,
   "id": "bbf1fc4c-0ace-44bb-bc9c-7b5fa94f7dc3",
   "metadata": {
    "tags": []
   },
   "outputs": [],
   "source": [
    "OUTPUT = widgets.Output()\n",
    "def explore(args):\n",
    "    OUTPUT.clear_output()\n",
    "    pd.set_option('display.max_rows', SHOW_SIZE.value)\n",
    "    pd.set_option('display.min_rows', SHOW_SIZE.value)\n",
    "    pd.set_option('display.max_colwidth', None)\n",
    "    \n",
    "    resp = CONNECTOR.get_events_tail(qfilter=\"{field}: \\\"{value}\\\"\".format(value=SELECTION.value, field=TYPES[SELECTION.value]))\n",
    "    df = pd.json_normalize(resp)\n",
    "    with OUTPUT:\n",
    "        \n",
    "        display(df[[\n",
    "            \"timestamp\",\n",
    "            \"event_type\",\n",
    "            \"src_ip\",\n",
    "            \"dest_ip\",\n",
    "            \"flow_id\",\n",
    "        ] + [c for c in (\"host\",\n",
    "                         \"tls.sni\",\n",
    "                         \"alert.signature\",\n",
    "                         \"http.hostname\",\n",
    "                         \"http.url\") if c in list(df.columns.values)]])\n",
    "        \n",
    "        display(JSON(resp))\n",
    "        display(SELECTION.value)"
   ]
  },
  {
   "cell_type": "code",
   "execution_count": null,
   "id": "b0a122fe-b6b9-4404-867f-501bb58314ce",
   "metadata": {
    "tags": []
   },
   "outputs": [],
   "source": [
    "EXPLORE = widgets.Button(description=\"Explore\")\n",
    "EXPLORE.on_click(explore)"
   ]
  },
  {
   "cell_type": "code",
   "execution_count": null,
   "id": "67c9b1f0-e118-48a0-87b7-3ad398e2dbf4",
   "metadata": {
    "tags": []
   },
   "outputs": [],
   "source": [
    "SHOW_SIZE"
   ]
  },
  {
   "cell_type": "code",
   "execution_count": null,
   "id": "ae9a5e31-f65e-434f-9094-9143296032bf",
   "metadata": {
    "tags": []
   },
   "outputs": [],
   "source": [
    "display(EXPLORE)"
   ]
  },
  {
   "cell_type": "code",
   "execution_count": null,
   "id": "72f3c4d7-d429-4055-b141-6b9e1acd81ce",
   "metadata": {
    "tags": []
   },
   "outputs": [],
   "source": [
    "display(OUTPUT)"
   ]
  }
 ],
 "metadata": {
  "kernelspec": {
   "display_name": "Python 3 (ipykernel)",
   "language": "python",
   "name": "python3"
  },
  "language_info": {
   "codemirror_mode": {
    "name": "ipython",
    "version": 3
   },
   "file_extension": ".py",
   "mimetype": "text/x-python",
   "name": "python",
   "nbconvert_exporter": "python",
   "pygments_lexer": "ipython3",
   "version": "3.11.7"
  }
 },
 "nbformat": 4,
 "nbformat_minor": 5
}
