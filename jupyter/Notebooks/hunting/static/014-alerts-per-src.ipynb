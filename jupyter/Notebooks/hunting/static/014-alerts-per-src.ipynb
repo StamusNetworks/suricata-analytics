{
 "cells": [
  {
   "cell_type": "code",
   "execution_count": null,
   "id": "5c7e3118-8aba-4771-9da7-b464a5614c05",
   "metadata": {},
   "outputs": [],
   "source": [
    "from surianalytics.connectors import ESQueryBuilder, escape as es_escape"
   ]
  },
  {
   "cell_type": "code",
   "execution_count": null,
   "id": "4c9c4765-4ef6-4261-8b9e-e86e911e4aa2",
   "metadata": {},
   "outputs": [],
   "source": [
    "import urllib3\n",
    "urllib3.disable_warnings(urllib3.exceptions.InsecureRequestWarning)"
   ]
  },
  {
   "cell_type": "code",
   "execution_count": null,
   "id": "73dacd4b-f763-4439-a3be-2e229c009b0a",
   "metadata": {},
   "outputs": [],
   "source": [
    "BUILDER = ESQueryBuilder()"
   ]
  },
  {
   "cell_type": "code",
   "execution_count": null,
   "id": "3e2c556b-1cb9-49c6-9a68-bcca23cd24b1",
   "metadata": {},
   "outputs": [],
   "source": [
    "BUILDER.set_index('logstash-*')"
   ]
  },
  {
   "cell_type": "code",
   "execution_count": null,
   "id": "2286313c-0e35-41c6-81fe-bf3b87b527fd",
   "metadata": {},
   "outputs": [],
   "source": [
    "BUILDER.page_size = 0"
   ]
  },
  {
   "cell_type": "code",
   "execution_count": null,
   "id": "b882d54a-6a7d-4c06-85de-4c8eb1b3c7a5",
   "metadata": {},
   "outputs": [],
   "source": [
    "BUILDER.days = 0\n",
    "BUILDER.hours = 0\n",
    "BUILDER.minutes = 15\n",
    "BUILDER.set_time_delta()"
   ]
  },
  {
   "cell_type": "code",
   "execution_count": null,
   "id": "971c9409-c206-4422-8490-f39301289925",
   "metadata": {},
   "outputs": [],
   "source": [
    "F = \"NOT net_info.src_agg: * AND net_info.dest_agg: * AND alert.signature.keyword: (*SCAN* OR *EXPLOIT*)\""
   ]
  },
  {
   "cell_type": "code",
   "execution_count": null,
   "id": "949b0cf9-0ba4-4023-bbf8-8ceb058571ea",
   "metadata": {},
   "outputs": [],
   "source": [
    "BUILDER.set_qfilter(F)"
   ]
  },
  {
   "cell_type": "code",
   "execution_count": null,
   "id": "986de2a3-814b-443b-a876-1ad8b257a83d",
   "metadata": {},
   "outputs": [],
   "source": [
    "BUILDER.add_aggs(\"asset.src.fqdn.keyword\", col_name=\"sources\", order='_count', sort='asc', size=30)"
   ]
  },
  {
   "cell_type": "code",
   "execution_count": null,
   "id": "d93393cf-51b4-4d59-9cf6-0966c3b3d0b7",
   "metadata": {},
   "outputs": [],
   "source": [
    "BUILDER.add_aggs(\"alert.signature.keyword\", col_name=\"sigs\", order='_count', sort='asc', size=30)"
   ]
  },
  {
   "cell_type": "code",
   "execution_count": null,
   "id": "dcbbd001-99aa-43c4-8dcb-a09a3f151f7b",
   "metadata": {},
   "outputs": [],
   "source": [
    "from IPython.display import JSON"
   ]
  },
  {
   "cell_type": "code",
   "execution_count": null,
   "id": "bcc417a2-a285-49ad-8335-ede3923aaf2a",
   "metadata": {},
   "outputs": [],
   "source": [
    "JSON(BUILDER.__dict__(), expanded=True)"
   ]
  },
  {
   "cell_type": "code",
   "execution_count": null,
   "id": "98b1e349-1d81-4b83-8812-dccc3c9b60be",
   "metadata": {},
   "outputs": [],
   "source": [
    "R = BUILDER.post()"
   ]
  },
  {
   "cell_type": "code",
   "execution_count": null,
   "id": "243f66a0-b337-4975-8f33-fee020a49992",
   "metadata": {},
   "outputs": [],
   "source": [
    "JSON(R.json())"
   ]
  },
  {
   "cell_type": "code",
   "execution_count": null,
   "id": "355fbf29-201b-44b8-9a00-f6b35ad7a1ff",
   "metadata": {},
   "outputs": [],
   "source": [
    "import pandas as pd"
   ]
  },
  {
   "cell_type": "code",
   "execution_count": null,
   "id": "fb699812-be69-41aa-8616-0a7bb4c4ffc5",
   "metadata": {},
   "outputs": [],
   "source": [
    "pd.set_option('display.max_rows', None)\n",
    "pd.set_option('display.min_rows', None)\n",
    "pd.set_option('display.max_colwidth', None)"
   ]
  },
  {
   "cell_type": "code",
   "execution_count": null,
   "id": "27f67943-2a24-4716-a5f3-4d75b3915a0a",
   "metadata": {},
   "outputs": [],
   "source": [
    "BUILDER.flatten_aggregation(R.json())"
   ]
  },
  {
   "cell_type": "code",
   "execution_count": null,
   "id": "c9c427fa-79d1-461e-8830-0d1069cc6188",
   "metadata": {},
   "outputs": [],
   "source": []
  }
 ],
 "metadata": {
  "kernelspec": {
   "display_name": "Python 3 (ipykernel)",
   "language": "python",
   "name": "python3"
  },
  "language_info": {
   "codemirror_mode": {
    "name": "ipython",
    "version": 3
   },
   "file_extension": ".py",
   "mimetype": "text/x-python",
   "name": "python",
   "nbconvert_exporter": "python",
   "pygments_lexer": "ipython3",
   "version": "3.12.7"
  }
 },
 "nbformat": 4,
 "nbformat_minor": 5
}
