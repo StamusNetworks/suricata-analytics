{
 "cells": [
  {
   "cell_type": "code",
   "execution_count": null,
   "id": "49e05e47-926a-45dc-8d09-0a73a87d8aff",
   "metadata": {
    "tags": []
   },
   "outputs": [],
   "source": [
    "from surianalytics.connectors import RESTSciriusConnector"
   ]
  },
  {
   "cell_type": "code",
   "execution_count": null,
   "id": "ce800b0e-aa61-4d65-ae8d-baaffb4043d4",
   "metadata": {},
   "outputs": [],
   "source": [
    "from surianalytics.widgets.config import update_connector_timeframe"
   ]
  },
  {
   "cell_type": "code",
   "execution_count": null,
   "id": "73121eb2-2541-4936-9c4f-3306a8a82ccc",
   "metadata": {
    "tags": []
   },
   "outputs": [],
   "source": [
    "CONNECTOR = RESTSciriusConnector()"
   ]
  },
  {
   "cell_type": "code",
   "execution_count": null,
   "id": "d6b2496a-9be5-452d-87eb-f93bb6ae9548",
   "metadata": {
    "tags": []
   },
   "outputs": [],
   "source": [
    "CONNECTOR.page_size = 10000"
   ]
  },
  {
   "cell_type": "code",
   "execution_count": null,
   "id": "5ea74f6b-7500-48a6-a304-37b95d593780",
   "metadata": {},
   "outputs": [],
   "source": [
    "update_connector_timeframe(c=CONNECTOR, dump_path=\"../config.json\")"
   ]
  },
  {
   "cell_type": "code",
   "execution_count": null,
   "id": "7e930c96-149c-4dbb-9f95-7a0b72a5b3d9",
   "metadata": {
    "tags": []
   },
   "outputs": [],
   "source": [
    "from IPython.display import JSON"
   ]
  },
  {
   "cell_type": "code",
   "execution_count": null,
   "id": "21b04b04-232d-4bf2-9566-fb96aa86658e",
   "metadata": {},
   "outputs": [],
   "source": [
    "Q = \"*\""
   ]
  },
  {
   "cell_type": "code",
   "execution_count": null,
   "id": "3fdf900a-cb99-46b9-bb82-8fdb5f80c2af",
   "metadata": {
    "tags": []
   },
   "outputs": [],
   "source": [
    "DATA_HOSTS = (\n",
    "    CONNECTOR\n",
    "    .get_eve_unique_values(qfilter=Q,\n",
    "                           field=\"http.hostname\"),\n",
    ")"
   ]
  },
  {
   "cell_type": "code",
   "execution_count": null,
   "id": "1561fde0-d0ea-4dfb-a78d-a7d58400b63d",
   "metadata": {
    "tags": []
   },
   "outputs": [],
   "source": [
    "import pandas as pd"
   ]
  },
  {
   "cell_type": "code",
   "execution_count": null,
   "id": "4d894f17-8404-42e6-8959-12b1aa570dea",
   "metadata": {
    "tags": []
   },
   "outputs": [],
   "source": [
    "DATA_HOSTS"
   ]
  },
  {
   "cell_type": "code",
   "execution_count": null,
   "id": "0b13a3f7-679a-4599-a61e-038c3abb9c5f",
   "metadata": {
    "tags": []
   },
   "outputs": [],
   "source": [
    "DATA_SNI = (\n",
    "    CONNECTOR\n",
    "    .get_eve_unique_values(qfilter=Q,\n",
    "                           field=\"tls.sni\"),\n",
    ")"
   ]
  },
  {
   "cell_type": "code",
   "execution_count": null,
   "id": "364ac419-5932-42de-ada0-57a07a52a09b",
   "metadata": {
    "tags": []
   },
   "outputs": [],
   "source": [
    "DATA_SNI"
   ]
  },
  {
   "cell_type": "code",
   "execution_count": null,
   "id": "dcce0cef-6580-4826-8907-12a778914e5f",
   "metadata": {
    "tags": []
   },
   "outputs": [],
   "source": [
    "DATA_URL = (\n",
    "    CONNECTOR\n",
    "    .get_eve_unique_values(qfilter=Q,\n",
    "                           field=\"http.url\"),\n",
    ")"
   ]
  },
  {
   "cell_type": "code",
   "execution_count": null,
   "id": "f91277e6-a5c5-4f05-ade7-b3f7680a8741",
   "metadata": {
    "tags": []
   },
   "outputs": [],
   "source": [
    "[u for u in DATA_URL[0] if any( u.endswith(x) for x in [\".py\", \".exe\", \".sh\"] ) ]"
   ]
  },
  {
   "cell_type": "code",
   "execution_count": null,
   "id": "0b76d503-3093-4649-8247-51a444ba76a9",
   "metadata": {
    "tags": []
   },
   "outputs": [],
   "source": [
    "Q = \"http.server: SimpleHTTP*\""
   ]
  },
  {
   "cell_type": "code",
   "execution_count": null,
   "id": "e5db48bf-247d-4089-bf08-4590e2c18d63",
   "metadata": {
    "tags": []
   },
   "outputs": [],
   "source": [
    "(\n",
    "    CONNECTOR\n",
    "    .get_eve_unique_values(qfilter=Q,\n",
    "                           field=\"http.url\"),\n",
    ")"
   ]
  },
  {
   "cell_type": "code",
   "execution_count": null,
   "id": "92d303ba-f968-46f4-9e96-7cdd62a03215",
   "metadata": {},
   "outputs": [],
   "source": []
  }
 ],
 "metadata": {
  "kernelspec": {
   "display_name": "Python 3 (ipykernel)",
   "language": "python",
   "name": "python3"
  },
  "language_info": {
   "codemirror_mode": {
    "name": "ipython",
    "version": 3
   },
   "file_extension": ".py",
   "mimetype": "text/x-python",
   "name": "python",
   "nbconvert_exporter": "python",
   "pygments_lexer": "ipython3",
   "version": "3.12.7"
  }
 },
 "nbformat": 4,
 "nbformat_minor": 5
}
