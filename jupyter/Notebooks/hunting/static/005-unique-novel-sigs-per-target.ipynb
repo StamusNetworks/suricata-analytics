{
 "cells": [
  {
   "cell_type": "code",
   "execution_count": null,
   "id": "19f65ac0-d21d-4085-9732-956a18c51445",
   "metadata": {},
   "outputs": [],
   "source": [
    "HOURS = 1\n",
    "MINUTES = 0"
   ]
  },
  {
   "cell_type": "code",
   "execution_count": null,
   "id": "e5201b06-fff6-4599-b3c1-497c69212027",
   "metadata": {
    "tags": []
   },
   "outputs": [],
   "source": [
    "from surianalytics.connectors import RESTSciriusConnector"
   ]
  },
  {
   "cell_type": "code",
   "execution_count": null,
   "id": "8dbc13a2-01e0-4247-abcd-d5805a0bb0e6",
   "metadata": {},
   "outputs": [],
   "source": [
    "from surianalytics.widgets.config import update_connector_timeframe"
   ]
  },
  {
   "cell_type": "code",
   "execution_count": null,
   "id": "70ee634d-60a2-473c-8e3e-f4fab46843f0",
   "metadata": {
    "tags": []
   },
   "outputs": [],
   "source": [
    "CONNECTOR = RESTSciriusConnector()"
   ]
  },
  {
   "cell_type": "code",
   "execution_count": null,
   "id": "467181bb-5d40-415d-8903-27e22cdcbff9",
   "metadata": {
    "tags": []
   },
   "outputs": [],
   "source": [
    "CONNECTOR.page_size = 100"
   ]
  },
  {
   "cell_type": "code",
   "execution_count": null,
   "id": "31decf5a-33d5-4f52-b5f6-e5cf1387b8b6",
   "metadata": {},
   "outputs": [],
   "source": [
    "update_connector_timeframe(c=CONNECTOR, dump_path=\"../widgets/config.json\")"
   ]
  },
  {
   "cell_type": "code",
   "execution_count": null,
   "id": "bf6969fb-6394-46f0-b4fc-b6286cf4502c",
   "metadata": {
    "tags": []
   },
   "outputs": [],
   "source": [
    "STORAGE = \"29-uniq-novel-sigs.pkl\""
   ]
  },
  {
   "cell_type": "code",
   "execution_count": null,
   "id": "52de86ea-2437-4e90-8803-a6adc132cca8",
   "metadata": {
    "tags": []
   },
   "outputs": [],
   "source": [
    "from IPython.display import JSON"
   ]
  },
  {
   "cell_type": "code",
   "execution_count": null,
   "id": "4dc91f76-434d-439d-b2d3-8f3596b5f626",
   "metadata": {
    "tags": []
   },
   "outputs": [],
   "source": [
    "DATA = CONNECTOR.get_eve_fields_graph(qfilter=\"event_type: alert\", \n",
    "                                      col_src=\"flow.src_ip\", \n",
    "                                      col_dest=\"alert.signature\",\n",
    "                                      size_src=1000,\n",
    "                                      size_dest=1000)"
   ]
  },
  {
   "cell_type": "code",
   "execution_count": null,
   "id": "f26bd115-a8d6-4386-a691-32fe1063efd8",
   "metadata": {
    "tags": []
   },
   "outputs": [],
   "source": [
    "import os"
   ]
  },
  {
   "cell_type": "code",
   "execution_count": null,
   "id": "bf41c82c-d1ba-426c-936f-2bd3baa3d2f3",
   "metadata": {
    "tags": []
   },
   "outputs": [],
   "source": [
    "import pickle"
   ]
  },
  {
   "cell_type": "code",
   "execution_count": null,
   "id": "ca5466dc-09e8-49d5-9a3b-3c4b410a6bff",
   "metadata": {
    "tags": []
   },
   "outputs": [],
   "source": [
    "if os.path.exists(STORAGE):\n",
    "    with open(STORAGE, \"rb\") as handle:\n",
    "        print(\"loading pickle\")\n",
    "        SEEN = pickle.load(handle)\n",
    "else:\n",
    "    SEEN = dict()"
   ]
  },
  {
   "cell_type": "code",
   "execution_count": null,
   "id": "90888bba-5746-4bc9-9eb5-3eacd987bbe4",
   "metadata": {
    "tags": []
   },
   "outputs": [],
   "source": [
    "from datetime import datetime, timedelta"
   ]
  },
  {
   "cell_type": "code",
   "execution_count": null,
   "id": "d17ba1a8-d601-42d2-af16-609a19b7f036",
   "metadata": {
    "tags": []
   },
   "outputs": [],
   "source": [
    "for edge in DATA[\"graph\"][\"edges\"]:\n",
    "    t = tuple(edge[\"edge\"])\n",
    "    if t not in SEEN:\n",
    "        print(\"adding edge\", edge[\"edge\"])\n",
    "        SEEN[t] = datetime.now()"
   ]
  },
  {
   "cell_type": "code",
   "execution_count": null,
   "id": "1989dd4e-fa18-46b6-b082-4b774bcc5d63",
   "metadata": {
    "tags": []
   },
   "outputs": [],
   "source": [
    "with open(STORAGE, \"wb\") as handle:\n",
    "    pickle.dump(SEEN, handle)"
   ]
  },
  {
   "cell_type": "code",
   "execution_count": null,
   "id": "5dba9d08-5727-4d08-89bd-89a2da58381b",
   "metadata": {
    "tags": []
   },
   "outputs": [],
   "source": [
    "DELTA = timedelta(hours=HOURS, minutes=MINUTES)"
   ]
  },
  {
   "cell_type": "code",
   "execution_count": null,
   "id": "5e9c85fb-a9bf-4c9d-bf66-eaad0cf4b088",
   "metadata": {
    "tags": []
   },
   "outputs": [],
   "source": [
    "SOURCES = []\n",
    "SIGS = []"
   ]
  },
  {
   "cell_type": "code",
   "execution_count": null,
   "id": "68ade21e-f1d7-422e-aada-082e321056f0",
   "metadata": {
    "tags": []
   },
   "outputs": [],
   "source": [
    "for item, seen in SEEN.items():\n",
    "    if seen > datetime.now() - DELTA:\n",
    "        SOURCES.append(item[0])\n",
    "        SIGS.append(item[1])"
   ]
  },
  {
   "cell_type": "code",
   "execution_count": null,
   "id": "cf69de2c-48ff-4bd2-a520-fc726ef78041",
   "metadata": {
    "tags": []
   },
   "outputs": [],
   "source": [
    "import pandas as pd"
   ]
  },
  {
   "cell_type": "code",
   "execution_count": null,
   "id": "71fb6ade-fdc4-4e24-9c41-42edabd5a82f",
   "metadata": {
    "tags": []
   },
   "outputs": [],
   "source": [
    "DF = pd.DataFrame()"
   ]
  },
  {
   "cell_type": "code",
   "execution_count": null,
   "id": "5f126627-d1db-4118-9a34-954c5e0b45bb",
   "metadata": {
    "tags": []
   },
   "outputs": [],
   "source": [
    "DF[\"source\"] = SOURCES\n",
    "DF[\"signature\"] = SIGS"
   ]
  },
  {
   "cell_type": "code",
   "execution_count": null,
   "id": "c8a1994a-7b91-4206-839f-cfd505964166",
   "metadata": {
    "tags": []
   },
   "outputs": [],
   "source": [
    "import ipywidgets as widgets"
   ]
  },
  {
   "cell_type": "code",
   "execution_count": null,
   "id": "b3bbf660-c010-491c-900c-8f2efd109209",
   "metadata": {
    "tags": []
   },
   "outputs": [],
   "source": [
    "def show(limit: int, sort: str):\n",
    "    pd.set_option('display.max_rows', limit)\n",
    "    pd.set_option('display.min_rows', limit)\n",
    "    pd.set_option('display.max_colwidth', None)\n",
    "    return DF.sort_values(by=[sort])"
   ]
  },
  {
   "cell_type": "code",
   "execution_count": null,
   "id": "2cfe3b4f-c4ad-42ba-9aa0-aed210b9d078",
   "metadata": {
    "tags": []
   },
   "outputs": [],
   "source": [
    "widgets.interact(show, \n",
    "                 limit=widgets.IntSlider(min=10, max=1000),\n",
    "                 sort=widgets.Dropdown(options=list(DF.columns.values)))"
   ]
  },
  {
   "cell_type": "code",
   "execution_count": null,
   "id": "d3a5dad5-4af9-4de4-90cf-f83f734473ec",
   "metadata": {},
   "outputs": [],
   "source": []
  }
 ],
 "metadata": {
  "kernelspec": {
   "display_name": "Python 3 (ipykernel)",
   "language": "python",
   "name": "python3"
  },
  "language_info": {
   "codemirror_mode": {
    "name": "ipython",
    "version": 3
   },
   "file_extension": ".py",
   "mimetype": "text/x-python",
   "name": "python",
   "nbconvert_exporter": "python",
   "pygments_lexer": "ipython3",
   "version": "3.12.7"
  }
 },
 "nbformat": 4,
 "nbformat_minor": 5
}
