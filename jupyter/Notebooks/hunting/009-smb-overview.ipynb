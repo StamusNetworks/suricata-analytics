{
 "cells": [
  {
   "cell_type": "code",
   "execution_count": null,
   "id": "68842d12-11d5-4d51-a532-633439c07f64",
   "metadata": {
    "tags": []
   },
   "outputs": [],
   "source": [
    "from surianalytics.connectors import RESTSciriusConnector"
   ]
  },
  {
   "cell_type": "code",
   "execution_count": null,
   "id": "1e909756-fe00-4966-87f1-e083ea61666f",
   "metadata": {},
   "outputs": [],
   "source": [
    "from surianalytics.widgets.config import update_connector_timeframe"
   ]
  },
  {
   "cell_type": "code",
   "execution_count": null,
   "id": "804746bb-8b1f-43fc-9a12-982094ffa631",
   "metadata": {
    "tags": []
   },
   "outputs": [],
   "source": [
    "CONNECTOR = RESTSciriusConnector()"
   ]
  },
  {
   "cell_type": "code",
   "execution_count": null,
   "id": "8ad8206e-2515-4488-ac6e-869a6de7a964",
   "metadata": {
    "tags": []
   },
   "outputs": [],
   "source": [
    "CONNECTOR.page_size = 10000"
   ]
  },
  {
   "cell_type": "code",
   "execution_count": null,
   "id": "37742c79-540a-4c90-ae32-431c574ef5b6",
   "metadata": {},
   "outputs": [],
   "source": [
    "update_connector_timeframe(c=CONNECTOR, dump_path=\"../config.json\")"
   ]
  },
  {
   "cell_type": "code",
   "execution_count": null,
   "id": "1948a0a1-cdb5-46e4-880a-b9c099a6e476",
   "metadata": {
    "tags": []
   },
   "outputs": [],
   "source": [
    "from IPython.display import JSON"
   ]
  },
  {
   "cell_type": "code",
   "execution_count": null,
   "id": "4beea5fc-6768-4f2e-b273-0a955ac1546c",
   "metadata": {
    "tags": []
   },
   "outputs": [],
   "source": [
    "import pandas as pd"
   ]
  },
  {
   "cell_type": "code",
   "execution_count": null,
   "id": "59448618-02c1-4fa8-8d9c-2b09bd3f72a7",
   "metadata": {
    "tags": []
   },
   "outputs": [],
   "source": [
    "pd.DataFrame(\n",
    "    CONNECTOR.get_eve_unique_values(qfilter=\"event_type: smb\", \n",
    "                                    field=\"flow_id\", \n",
    "                                    counts=\"yes\", \n",
    "                                    size=50)\n",
    ")"
   ]
  },
  {
   "cell_type": "markdown",
   "id": "078ef27b-d4db-4216-aa8e-8bb1e7bc7ad4",
   "metadata": {
    "tags": []
   },
   "source": [
    "CONNECTOR.get_eve_unique_values(qfilter=\"event_type: smb AND flow_id: 325734671906933\", \n",
    "                                field=\"smb.status\", \n",
    "                                counts=\"yes\", \n",
    "                                size=50)"
   ]
  },
  {
   "cell_type": "code",
   "execution_count": null,
   "id": "2a74ad83-eb30-46ba-b0ff-ab80d5a5c881",
   "metadata": {
    "tags": []
   },
   "outputs": [],
   "source": [
    "CONNECTOR.get_eve_unique_values(qfilter=\"event_type: smb\", \n",
    "                                field=\"smb.ntlmssp.user\", \n",
    "                                counts=\"yes\", \n",
    "                                size=50)"
   ]
  },
  {
   "cell_type": "code",
   "execution_count": null,
   "id": "d5b18db7-5923-4aba-9c26-34f98eab1f54",
   "metadata": {
    "tags": []
   },
   "outputs": [],
   "source": [
    "CONNECTOR.get_eve_unique_values(qfilter=\"event_type: smb\", \n",
    "                                field=\"smb.command\", \n",
    "                                counts=\"yes\", \n",
    "                                size=50)"
   ]
  },
  {
   "cell_type": "code",
   "execution_count": null,
   "id": "6832d93d-a62a-4d9e-af25-2ff55d8ceece",
   "metadata": {
    "tags": []
   },
   "outputs": [],
   "source": [
    "CONNECTOR.get_eve_unique_values(qfilter=\"event_type: smb\", \n",
    "                                field=\"smb.status\", \n",
    "                                counts=\"yes\", \n",
    "                                size=50)"
   ]
  },
  {
   "cell_type": "code",
   "execution_count": null,
   "id": "b4b19379-5424-4684-9445-ef5cf7f31136",
   "metadata": {},
   "outputs": [],
   "source": [
    "Q = \"smb.status: STATUS_LOGON_FAILURE\""
   ]
  },
  {
   "cell_type": "code",
   "execution_count": null,
   "id": "1261687d-1170-4f6b-aa78-b1fe343d5408",
   "metadata": {
    "tags": []
   },
   "outputs": [],
   "source": [
    "CONNECTOR.page_size = 10000"
   ]
  },
  {
   "cell_type": "code",
   "execution_count": null,
   "id": "b7e7a6ca-0b24-46c0-87da-2b375c447fe9",
   "metadata": {
    "tags": []
   },
   "outputs": [],
   "source": [
    "DF_SMB = (\n",
    "    CONNECTOR\n",
    "    .get_events_df(qfilter=Q)\n",
    ")"
   ]
  },
  {
   "cell_type": "code",
   "execution_count": null,
   "id": "1d721092-1420-465f-9a03-daf18f48a817",
   "metadata": {
    "tags": []
   },
   "outputs": [],
   "source": [
    "COLS = [\"timestamp\", \n",
    "        \"src_ip\", \n",
    "        \"dest_ip\",\n",
    "        \"smb.command\", \n",
    "        \"smb.status\", \n",
    "        \"smb.ext_status.severity\",\n",
    "        \"smb.named_pipe\",\n",
    "        \"smb.ntlmssp.user\",\n",
    "        \"smb.ntlmssp.host\",\n",
    "        \"smb.ntlmssp.domain\",\n",
    "        \"smb.filename\",\n",
    "        \"smb.client_dialects\",\n",
    "        \"smb.request.native_os\",\n",
    "        \"smb.response.native_os\"]"
   ]
  },
  {
   "cell_type": "code",
   "execution_count": null,
   "id": "3fc36d7d-651e-4463-8685-6050611346cf",
   "metadata": {
    "tags": []
   },
   "outputs": [],
   "source": [
    "pd.set_option('display.max_rows', 100)\n",
    "(\n",
    "    DF_SMB[[c for c in COLS if c in list(DF_SMB.columns.values)]]\n",
    "    .sort_values(by=[\"timestamp\"], ascending=True)\n",
    ")"
   ]
  },
  {
   "cell_type": "code",
   "execution_count": null,
   "id": "e977de20-a231-419a-a118-c66d8c15ba84",
   "metadata": {
    "tags": []
   },
   "outputs": [],
   "source": [
    "g = (\n",
    "    CONNECTOR\n",
    "    .get_eve_fields_graph_nx(qfilter=\"event_type: smb\",\n",
    "                             col_src=\"smb.command\", \n",
    "                             col_dest=\"smb.status\")\n",
    ")"
   ]
  },
  {
   "cell_type": "code",
   "execution_count": null,
   "id": "0baf6690-5e11-40a4-9e22-931441cbf60a",
   "metadata": {
    "tags": []
   },
   "outputs": [],
   "source": [
    "from surianalytics.viz import draw_nx_graph"
   ]
  },
  {
   "cell_type": "code",
   "execution_count": null,
   "id": "8ab88d69-15b5-4655-976c-080b50966ba0",
   "metadata": {
    "tags": []
   },
   "outputs": [],
   "source": [
    "display(draw_nx_graph(g))"
   ]
  },
  {
   "cell_type": "code",
   "execution_count": null,
   "id": "381b8e17-a360-4676-9c9d-4960b3fbd86a",
   "metadata": {
    "tags": []
   },
   "outputs": [],
   "source": [
    "g = (\n",
    "    CONNECTOR\n",
    "    .get_eve_fields_graph_nx(qfilter=\"event_type: smb\",\n",
    "                             col_src=\"smb.ntlmssp.user\", \n",
    "                             col_dest=\"smb.ntlmssp.domain\")\n",
    ")"
   ]
  },
  {
   "cell_type": "code",
   "execution_count": null,
   "id": "d1d9b1ea-4b3c-4349-97a0-39cda3ec65a8",
   "metadata": {},
   "outputs": [],
   "source": [
    "display(draw_nx_graph(g))"
   ]
  },
  {
   "cell_type": "code",
   "execution_count": null,
   "id": "c035246c-9e25-4d0e-98bf-1c3867769628",
   "metadata": {},
   "outputs": [],
   "source": []
  }
 ],
 "metadata": {
  "kernelspec": {
   "display_name": "Python 3 (ipykernel)",
   "language": "python",
   "name": "python3"
  },
  "language_info": {
   "codemirror_mode": {
    "name": "ipython",
    "version": 3
   },
   "file_extension": ".py",
   "mimetype": "text/x-python",
   "name": "python",
   "nbconvert_exporter": "python",
   "pygments_lexer": "ipython3",
   "version": "3.12.7"
  }
 },
 "nbformat": 4,
 "nbformat_minor": 5
}
