{
 "cells": [
  {
   "cell_type": "code",
   "execution_count": null,
   "id": "e5201b06-fff6-4599-b3c1-497c69212027",
   "metadata": {
    "tags": []
   },
   "outputs": [],
   "source": [
    "from surianalytics.connectors import RESTSciriusConnector"
   ]
  },
  {
   "cell_type": "code",
   "execution_count": null,
   "id": "6193d8e2-fab4-4d47-9cd2-73bf05998249",
   "metadata": {},
   "outputs": [],
   "source": [
    "from surianalytics.widgets.config import update_connector_timeframe"
   ]
  },
  {
   "cell_type": "code",
   "execution_count": null,
   "id": "70ee634d-60a2-473c-8e3e-f4fab46843f0",
   "metadata": {
    "tags": []
   },
   "outputs": [],
   "source": [
    "CONNECTOR = RESTSciriusConnector()"
   ]
  },
  {
   "cell_type": "code",
   "execution_count": null,
   "id": "467181bb-5d40-415d-8903-27e22cdcbff9",
   "metadata": {
    "tags": []
   },
   "outputs": [],
   "source": [
    "CONNECTOR.page_size = 10000"
   ]
  },
  {
   "cell_type": "code",
   "execution_count": null,
   "id": "12b4d689-a1b6-4f00-9e34-5445b0ecfeba",
   "metadata": {},
   "outputs": [],
   "source": [
    "update_connector_timeframe(c=CONNECTOR, dump_path=\"../config.json\")"
   ]
  },
  {
   "cell_type": "code",
   "execution_count": null,
   "id": "52de86ea-2437-4e90-8803-a6adc132cca8",
   "metadata": {
    "tags": []
   },
   "outputs": [],
   "source": [
    "from IPython.display import JSON"
   ]
  },
  {
   "cell_type": "code",
   "execution_count": null,
   "id": "f362244c-646a-4e31-92f9-f07eabb53622",
   "metadata": {
    "tags": []
   },
   "outputs": [],
   "source": [
    "QUERY = \"event_type: fileinfo AND fileinfo.mimetype: *shell*\""
   ]
  },
  {
   "cell_type": "code",
   "execution_count": null,
   "id": "d3a5dad5-4af9-4de4-90cf-f83f734473ec",
   "metadata": {},
   "outputs": [],
   "source": [
    "DATA_SCRIPTS = (\n",
    "    CONNECTOR\n",
    "    .get_eve_unique_values(qfilter=QUERY, \n",
    "                           field=\"http.url\", \n",
    "                           counts=\"no\")\n",
    ")"
   ]
  },
  {
   "cell_type": "code",
   "execution_count": null,
   "id": "c90f4cc8-ed11-4524-a619-974103ea6e65",
   "metadata": {
    "tags": []
   },
   "outputs": [],
   "source": [
    "len(DATA_SCRIPTS)"
   ]
  },
  {
   "cell_type": "code",
   "execution_count": null,
   "id": "5ec164fb-c907-4bc0-86f4-23d5aa5481f0",
   "metadata": {
    "tags": []
   },
   "outputs": [],
   "source": [
    "DATA_FLOWS = (\n",
    "    CONNECTOR\n",
    "    .get_eve_unique_values(qfilter=QUERY, \n",
    "                           field=\"flow_id\", \n",
    "                           counts=\"no\")\n",
    ")"
   ]
  },
  {
   "cell_type": "code",
   "execution_count": null,
   "id": "1027b206-ecb2-4d06-9943-9034fdf01653",
   "metadata": {
    "tags": []
   },
   "outputs": [],
   "source": [
    "len(DATA_FLOWS)"
   ]
  },
  {
   "cell_type": "code",
   "execution_count": null,
   "id": "a4d5058d-bc22-4b32-8474-35e5944188ca",
   "metadata": {
    "tags": []
   },
   "outputs": [],
   "source": [
    "JSON(CONNECTOR.get_eve_fields_graph(qfilter=QUERY, \n",
    "                                    col_src=\"http.url\", \n",
    "                                    col_dest=\"flow_id\"))"
   ]
  },
  {
   "cell_type": "code",
   "execution_count": null,
   "id": "1a3794a6-d08b-4f2f-a088-13d2f3b660e0",
   "metadata": {
    "tags": []
   },
   "outputs": [],
   "source": [
    "g = CONNECTOR.get_eve_fields_graph_nx(qfilter=QUERY, col_src=\"src_ip\", col_dest=\"dest_ip\")"
   ]
  },
  {
   "cell_type": "code",
   "execution_count": null,
   "id": "463664bf-df07-4171-b4af-9ad4af5e91d6",
   "metadata": {
    "tags": []
   },
   "outputs": [],
   "source": [
    "from surianalytics.viz import draw_nx_graph"
   ]
  },
  {
   "cell_type": "code",
   "execution_count": null,
   "id": "291a0e9f-e04f-429e-9e4c-3c58d2b79dc1",
   "metadata": {
    "tags": []
   },
   "outputs": [],
   "source": [
    "display(draw_nx_graph(g))"
   ]
  },
  {
   "cell_type": "code",
   "execution_count": null,
   "id": "4d47e14a-0b0e-472a-aaff-0405ddaa0274",
   "metadata": {
    "tags": []
   },
   "outputs": [],
   "source": [
    "QUERY_TPL = \"event_type: alert AND flow_id: ({flows})\""
   ]
  },
  {
   "cell_type": "code",
   "execution_count": null,
   "id": "3def4fa6-1d10-4a23-9146-32b80d6be3a7",
   "metadata": {
    "tags": []
   },
   "outputs": [],
   "source": [
    "BATCHSIZE = 10"
   ]
  },
  {
   "cell_type": "code",
   "execution_count": null,
   "id": "19cbf3d9-f8e9-4249-9c88-c0f746848b1a",
   "metadata": {
    "tags": []
   },
   "outputs": [],
   "source": [
    "BATCHES = int(len(DATA_FLOWS) / BATCHSIZE) + 1"
   ]
  },
  {
   "cell_type": "code",
   "execution_count": null,
   "id": "87317712-2146-4ba8-8e7c-e6e074dbac60",
   "metadata": {
    "tags": []
   },
   "outputs": [],
   "source": [
    "DATA = []\n",
    "for i in range(BATCHES):\n",
    "    if len(DATA_FLOWS) > BATCHSIZE:\n",
    "        batch = DATA_FLOWS[:BATCHSIZE]\n",
    "        DATA_FLOWS = DATA_FLOWS[BATCHSIZE:]\n",
    "    else:\n",
    "        batch = DATA_FLOWS\n",
    "    \n",
    "    q = QUERY_TPL.format(flows=\" OR \".join([str(f) for f in batch]))\n",
    "    \n",
    "    resp = CONNECTOR.get_events_tail(qfilter=q)\n",
    "    \n",
    "    DATA.extend(resp)"
   ]
  },
  {
   "cell_type": "code",
   "execution_count": null,
   "id": "d610116c-6964-4577-83dd-fd30ec422cc9",
   "metadata": {
    "tags": []
   },
   "outputs": [],
   "source": [
    "import pandas as pd"
   ]
  },
  {
   "cell_type": "code",
   "execution_count": null,
   "id": "4d6c2d04-b4c9-4101-85c2-756c3c2f47c5",
   "metadata": {
    "tags": []
   },
   "outputs": [],
   "source": [
    "DF = pd.json_normalize(DATA)"
   ]
  },
  {
   "cell_type": "code",
   "execution_count": null,
   "id": "8273eb14-e927-44b9-a8f3-951bbd5fa11c",
   "metadata": {
    "tags": []
   },
   "outputs": [],
   "source": [
    "PAYLOADS = DF.payload_printable.unique()"
   ]
  },
  {
   "cell_type": "code",
   "execution_count": null,
   "id": "39473ec7-12c6-4965-a1e8-b8b5a23d29fb",
   "metadata": {
    "tags": []
   },
   "outputs": [],
   "source": [
    "PAYLOADS"
   ]
  },
  {
   "cell_type": "code",
   "execution_count": null,
   "id": "60f49418-de1a-4269-8b8e-a8fc55f1b8ea",
   "metadata": {
    "tags": []
   },
   "outputs": [],
   "source": [
    "!mkdir -p scripts-alerts-payloads"
   ]
  },
  {
   "cell_type": "code",
   "execution_count": null,
   "id": "20a8f66f-95a6-40ff-834a-7cacf3cc1ed6",
   "metadata": {
    "tags": []
   },
   "outputs": [],
   "source": [
    "import hashlib"
   ]
  },
  {
   "cell_type": "code",
   "execution_count": null,
   "id": "88ff7657-e960-4849-acd9-7d0c39051429",
   "metadata": {
    "tags": []
   },
   "outputs": [],
   "source": [
    "import os"
   ]
  },
  {
   "cell_type": "code",
   "execution_count": null,
   "id": "68c59cb8-90fa-4af7-8e3d-06f5fedb25b5",
   "metadata": {
    "tags": []
   },
   "outputs": [],
   "source": [
    "for resp in PAYLOADS:\n",
    "    if not isinstance(resp, str) or len(resp) < 100:\n",
    "        continue\n",
    "    h = hashlib.new(\"sha256\")\n",
    "    h.update(resp.encode(\"utf-8\"))\n",
    "    with open(os.path.join(\"scripts-alerts-payloads\", h.hexdigest()), \"w\") as handle:\n",
    "        handle.write(resp)"
   ]
  },
  {
   "cell_type": "code",
   "execution_count": null,
   "id": "f3ea106f-8b92-4062-ad14-51cfb9edac35",
   "metadata": {},
   "outputs": [],
   "source": [
    "RESPONSES = list(DF[\"http.http_response_body_printable\"].unique())"
   ]
  },
  {
   "cell_type": "code",
   "execution_count": null,
   "id": "fd03fbe5-f9f1-4582-bce2-006c4bca036a",
   "metadata": {
    "tags": []
   },
   "outputs": [],
   "source": [
    "len(RESPONSES)"
   ]
  },
  {
   "cell_type": "code",
   "execution_count": null,
   "id": "8dfb7eec-ada2-49a3-b819-8ddccd7bde87",
   "metadata": {
    "tags": []
   },
   "outputs": [],
   "source": [
    "!mkdir -p scripts-responses"
   ]
  },
  {
   "cell_type": "code",
   "execution_count": null,
   "id": "286417a1-43c8-4256-9712-a428ecb23d26",
   "metadata": {
    "tags": []
   },
   "outputs": [],
   "source": [
    "for resp in RESPONSES:\n",
    "    if not isinstance(resp, str) or len(resp) < 1500:\n",
    "        continue\n",
    "    h = hashlib.new(\"sha256\")\n",
    "    h.update(resp.encode(\"utf-8\"))\n",
    "    with open(os.path.join(\"scripts-responses\", h.hexdigest()), \"w\") as handle:\n",
    "        handle.write(resp)"
   ]
  },
  {
   "cell_type": "code",
   "execution_count": null,
   "id": "cd0c3e58-e87f-494f-8ed5-c7e392d54906",
   "metadata": {},
   "outputs": [],
   "source": []
  }
 ],
 "metadata": {
  "kernelspec": {
   "display_name": "Python 3 (ipykernel)",
   "language": "python",
   "name": "python3"
  },
  "language_info": {
   "codemirror_mode": {
    "name": "ipython",
    "version": 3
   },
   "file_extension": ".py",
   "mimetype": "text/x-python",
   "name": "python",
   "nbconvert_exporter": "python",
   "pygments_lexer": "ipython3",
   "version": "3.12.7"
  }
 },
 "nbformat": 4,
 "nbformat_minor": 5
}
