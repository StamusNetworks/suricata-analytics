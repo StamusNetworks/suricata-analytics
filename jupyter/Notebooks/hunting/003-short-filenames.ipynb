{
 "cells": [
  {
   "cell_type": "code",
   "execution_count": null,
   "id": "d921539b-9ecc-4d45-8c59-f2f89a7d02c6",
   "metadata": {
    "tags": []
   },
   "outputs": [],
   "source": [
    "from surianalytics.connectors import RESTSciriusConnector"
   ]
  },
  {
   "cell_type": "code",
   "execution_count": null,
   "id": "32d203a9-c987-423f-96cb-9ec61298b58c",
   "metadata": {},
   "outputs": [],
   "source": [
    "from surianalytics.widgets.config import update_connector_timeframe"
   ]
  },
  {
   "cell_type": "code",
   "execution_count": null,
   "id": "4ceb3739-af84-4905-b496-6d3b37d65832",
   "metadata": {
    "tags": []
   },
   "outputs": [],
   "source": [
    "CONNECTOR = RESTSciriusConnector()"
   ]
  },
  {
   "cell_type": "code",
   "execution_count": null,
   "id": "8df0e2fb-6458-4d36-bc1f-c3293e3f24fc",
   "metadata": {
    "tags": []
   },
   "outputs": [],
   "source": [
    "CONNECTOR.page_size = 10000"
   ]
  },
  {
   "cell_type": "code",
   "execution_count": null,
   "id": "35962cbf-75f7-41a1-bf8a-6735477d82c2",
   "metadata": {},
   "outputs": [],
   "source": [
    "update_connector_timeframe(c=CONNECTOR, dump_path=\"../config.json\")"
   ]
  },
  {
   "cell_type": "code",
   "execution_count": null,
   "id": "bf62ba3e-c81f-43db-9fe0-767387c41035",
   "metadata": {
    "tags": []
   },
   "outputs": [],
   "source": [
    "LENGTH = 50"
   ]
  },
  {
   "cell_type": "code",
   "execution_count": null,
   "id": "6426127b-0193-49e7-8667-9face34d595b",
   "metadata": {
    "tags": []
   },
   "outputs": [],
   "source": [
    "from IPython.display import JSON"
   ]
  },
  {
   "cell_type": "code",
   "execution_count": null,
   "id": "07bbbe60-27f0-4bf7-bc79-a9c2d364d78c",
   "metadata": {
    "tags": []
   },
   "outputs": [],
   "source": [
    "TYPES = (\n",
    "    CONNECTOR\n",
    "    .get_eve_unique_values(qfilter=\"event_type: fileinfo AND fileinfo.filename: *\", \n",
    "                           field=\"fileinfo.mimetype\", \n",
    "                           counts=\"no\")\n",
    ")"
   ]
  },
  {
   "cell_type": "code",
   "execution_count": null,
   "id": "e1d200e1-1f30-4079-bdde-b40cb53f5216",
   "metadata": {
    "tags": []
   },
   "outputs": [],
   "source": [
    "TYPES"
   ]
  },
  {
   "cell_type": "code",
   "execution_count": null,
   "id": "f939f126-ee1a-420f-b0fb-d4360cb52990",
   "metadata": {},
   "outputs": [],
   "source": [
    "EXECUTABLES = (\n",
    "    CONNECTOR\n",
    "    .get_eve_unique_values(qfilter=\"event_type: fileinfo AND fileinfo.filename: * AND fileinfo.mimetype: (*script* OR *exec*)\", \n",
    "                           field=\"fileinfo.filename\", \n",
    "                           counts=\"no\")\n",
    ")"
   ]
  },
  {
   "cell_type": "code",
   "execution_count": null,
   "id": "3057c11f-8fa6-481f-976c-b2b15546d733",
   "metadata": {},
   "outputs": [],
   "source": [
    "EXECUTABLES"
   ]
  },
  {
   "cell_type": "code",
   "execution_count": null,
   "id": "f8e6a9d4-daaf-4c41-ae99-8fccf42e4f8d",
   "metadata": {
    "tags": []
   },
   "outputs": [],
   "source": [
    "EXECUTABLES_SHORT = [f for f in EXECUTABLES if len(f) < LENGTH]"
   ]
  },
  {
   "cell_type": "code",
   "execution_count": null,
   "id": "3ee1bbd5-fb3b-4b01-b4c0-948529713f3e",
   "metadata": {
    "tags": []
   },
   "outputs": [],
   "source": [
    "EXECUTABLES_SHORT"
   ]
  },
  {
   "cell_type": "code",
   "execution_count": null,
   "id": "cd61b2d5-8ef9-4247-9853-4d8d26a7439d",
   "metadata": {
    "tags": []
   },
   "outputs": [],
   "source": [
    "import networkx as nx\n",
    "import holoviews as hv\n",
    "import hvplot.networkx as hvnx"
   ]
  },
  {
   "cell_type": "code",
   "execution_count": null,
   "id": "400c39a8-a274-4e86-b396-22d03629f679",
   "metadata": {
    "tags": []
   },
   "outputs": [],
   "source": [
    "hv.extension('bokeh')"
   ]
  },
  {
   "cell_type": "code",
   "execution_count": null,
   "id": "ab83f839-e0b0-4c52-b225-20c727626aa4",
   "metadata": {
    "tags": []
   },
   "outputs": [],
   "source": [
    "from bokeh.plotting import show"
   ]
  },
  {
   "cell_type": "code",
   "execution_count": null,
   "id": "fdd7061d-3dd3-44b7-8cfe-1e741b4b344c",
   "metadata": {
    "tags": []
   },
   "outputs": [],
   "source": [
    "from ipywidgets.widgets.interaction import display"
   ]
  },
  {
   "cell_type": "code",
   "execution_count": null,
   "id": "0b52021e-9495-4178-87cf-c5afd2f9e54f",
   "metadata": {
    "tags": []
   },
   "outputs": [],
   "source": [
    "import re"
   ]
  },
  {
   "cell_type": "code",
   "execution_count": null,
   "id": "f91a694b-8181-41f9-b229-ac09cc4a32d0",
   "metadata": {
    "tags": []
   },
   "outputs": [],
   "source": [
    "from surianalytics.viz import draw_nx_graph"
   ]
  },
  {
   "cell_type": "code",
   "execution_count": null,
   "id": "e2744d46-97b7-4d21-a768-2385683beece",
   "metadata": {},
   "outputs": [],
   "source": [
    "def show(filename: str):\n",
    "    g = (\n",
    "        CONNECTOR\n",
    "        .get_eve_fields_graph_nx(qfilter=\"fileinfo.filename: {fn}\".format(fn=re.escape(filename).replace(\"/\", \"\\/\")),\n",
    "                                 col_src=\"src_ip\", \n",
    "                                 col_dest=\"dest_ip\")\n",
    "    )\n",
    "    display(draw_nx_graph(g))"
   ]
  },
  {
   "cell_type": "code",
   "execution_count": null,
   "id": "277cf192-b982-4df9-b80c-feb578ad45c5",
   "metadata": {
    "tags": []
   },
   "outputs": [],
   "source": [
    "import ipywidgets as widgets"
   ]
  },
  {
   "cell_type": "code",
   "execution_count": null,
   "id": "b97698bc-a29c-403a-8e27-672cb6107fb5",
   "metadata": {
    "tags": []
   },
   "outputs": [],
   "source": [
    "widgets.interact(show, filename=widgets.Dropdown(options=EXECUTABLES_SHORT))"
   ]
  }
 ],
 "metadata": {
  "kernelspec": {
   "display_name": "Python 3 (ipykernel)",
   "language": "python",
   "name": "python3"
  },
  "language_info": {
   "codemirror_mode": {
    "name": "ipython",
    "version": 3
   },
   "file_extension": ".py",
   "mimetype": "text/x-python",
   "name": "python",
   "nbconvert_exporter": "python",
   "pygments_lexer": "ipython3",
   "version": "3.12.7"
  }
 },
 "nbformat": 4,
 "nbformat_minor": 5
}
