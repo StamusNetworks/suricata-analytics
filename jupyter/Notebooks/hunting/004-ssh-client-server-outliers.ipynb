{
 "cells": [
  {
   "cell_type": "code",
   "execution_count": null,
   "id": "e5201b06-fff6-4599-b3c1-497c69212027",
   "metadata": {
    "tags": []
   },
   "outputs": [],
   "source": [
    "from surianalytics.connectors import RESTSciriusConnector"
   ]
  },
  {
   "cell_type": "code",
   "execution_count": null,
   "id": "67db78bc-8b93-4941-93bc-b7f06d051849",
   "metadata": {},
   "outputs": [],
   "source": [
    "from surianalytics.widgets.config import update_connector_time_delta"
   ]
  },
  {
   "cell_type": "code",
   "execution_count": null,
   "id": "70ee634d-60a2-473c-8e3e-f4fab46843f0",
   "metadata": {
    "tags": []
   },
   "outputs": [],
   "source": [
    "CONNECTOR = RESTSciriusConnector()"
   ]
  },
  {
   "cell_type": "code",
   "execution_count": null,
   "id": "467181bb-5d40-415d-8903-27e22cdcbff9",
   "metadata": {
    "tags": []
   },
   "outputs": [],
   "source": [
    "CONNECTOR.set_page_size(10000)"
   ]
  },
  {
   "cell_type": "code",
   "execution_count": null,
   "id": "4ce2f869-2ec3-4a4a-8ab6-e60f0c3fb321",
   "metadata": {},
   "outputs": [],
   "source": [
    "update_connector_time_delta(c=CONNECTOR, dump_path=\"../config.json\")"
   ]
  },
  {
   "cell_type": "code",
   "execution_count": null,
   "id": "52de86ea-2437-4e90-8803-a6adc132cca8",
   "metadata": {
    "tags": []
   },
   "outputs": [],
   "source": [
    "from IPython.display import JSON"
   ]
  },
  {
   "cell_type": "code",
   "execution_count": null,
   "id": "d3a5dad5-4af9-4de4-90cf-f83f734473ec",
   "metadata": {},
   "outputs": [],
   "source": [
    "CLIENTS = (\n",
    "    CONNECTOR\n",
    "    .get_eve_unique_values(qfilter=\"event_type: ssh\", \n",
    "                           field=\"ssh.client.software_version\", \n",
    "                           counts=\"no\")\n",
    ")"
   ]
  },
  {
   "cell_type": "code",
   "execution_count": null,
   "id": "8a2c44dd-cf78-4d9f-a47f-2ebc68f8ccd2",
   "metadata": {
    "tags": []
   },
   "outputs": [],
   "source": [
    "CLIENTS"
   ]
  },
  {
   "cell_type": "code",
   "execution_count": null,
   "id": "1c33f04b-5626-4569-9ed1-06b74aabd1f1",
   "metadata": {
    "tags": []
   },
   "outputs": [],
   "source": [
    "SERVERS = (\n",
    "    CONNECTOR\n",
    "    .get_eve_unique_values(qfilter=\"event_type: ssh\", \n",
    "                           field=\"ssh.server.software_version\", \n",
    "                           counts=\"no\")\n",
    ")"
   ]
  },
  {
   "cell_type": "code",
   "execution_count": null,
   "id": "1b6dc50e-60f2-47e1-8f39-85125474e17b",
   "metadata": {
    "tags": []
   },
   "outputs": [],
   "source": [
    "SERVERS"
   ]
  },
  {
   "cell_type": "code",
   "execution_count": null,
   "id": "2f368ed2-52cf-483b-aabd-f77b46728384",
   "metadata": {
    "tags": []
   },
   "outputs": [],
   "source": [
    "import ipywidgets as widgets"
   ]
  },
  {
   "cell_type": "code",
   "execution_count": null,
   "id": "02e34995-8015-4c52-82fd-d6b3c7871ea5",
   "metadata": {
    "tags": []
   },
   "outputs": [],
   "source": [
    "import pandas as pd"
   ]
  },
  {
   "cell_type": "code",
   "execution_count": null,
   "id": "759dd757-bd7d-4193-bbfa-ba85e85af117",
   "metadata": {
    "tags": []
   },
   "outputs": [],
   "source": [
    "from ipywidgets.widgets.interaction import display"
   ]
  },
  {
   "cell_type": "code",
   "execution_count": null,
   "id": "f9f19409-38f3-49b9-a5a8-9ca08a4d8c2e",
   "metadata": {
    "tags": []
   },
   "outputs": [],
   "source": [
    "def show(limit: int,\n",
    "         value: str,\n",
    "         kind: str):\n",
    "    pd.set_option('display.max_rows', limit)\n",
    "    pd.set_option('display.min_rows', limit)\n",
    "    \n",
    "    df = (\n",
    "        CONNECTOR\n",
    "        .get_events_df(qfilter=\"ssh.{kind}.software_version: {val}\".format(kind=kind, val=value))\n",
    "    )\n",
    "    \n",
    "    cols = [\"timestamp\", \"flow_id\", \"src_ip\", \"dest_ip\", \"src_port\", \"dest_port\"]\n",
    "    \n",
    "    for col in [\"alert.signature\", \"host\"]:\n",
    "        if col in list(df.columns.values):\n",
    "            cols = cols + [col]\n",
    "            \n",
    "    cols += [c for c in list(df.columns.values) if c.startswith(\"ssh.\")]\n",
    "\n",
    "    display(df.sort_values(by=[\"timestamp\"])[cols])\n",
    "    display(df.groupby(\"ssh.{kind}.software_version\".format(kind=kind)).agg({\n",
    "        \"src_ip\": [\"nunique\", \"unique\"],\n",
    "        \"dest_ip\": [\"nunique\", \"unique\"],\n",
    "    }))"
   ]
  },
  {
   "cell_type": "code",
   "execution_count": null,
   "id": "37b14508-9f52-4d39-826c-50b4945d45b1",
   "metadata": {
    "tags": []
   },
   "outputs": [],
   "source": [
    "def show_server(limit=widgets.IntSlider(min=10, max=1000),\n",
    "                server=widgets.Dropdown(options=SERVERS)):\n",
    "    return show(limit=limit, value=server, kind=\"server\")"
   ]
  },
  {
   "cell_type": "code",
   "execution_count": null,
   "id": "ae214212-3d92-473a-a554-facc48505d7e",
   "metadata": {
    "tags": []
   },
   "outputs": [],
   "source": [
    "def show_client(limit=widgets.IntSlider(min=10, max=1000),\n",
    "                client=widgets.Dropdown(options=CLIENTS)):\n",
    "    return show(limit=limit, value=client, kind=\"client\")"
   ]
  },
  {
   "cell_type": "code",
   "execution_count": null,
   "id": "027bf968-212c-497a-b84f-b60cc9815c20",
   "metadata": {
    "tags": []
   },
   "outputs": [],
   "source": [
    "widgets.interact(show_server)"
   ]
  },
  {
   "cell_type": "code",
   "execution_count": null,
   "id": "aac80645-b65c-46bc-b8b9-c12723583ebe",
   "metadata": {
    "tags": []
   },
   "outputs": [],
   "source": [
    "widgets.interact(show_client)"
   ]
  }
 ],
 "metadata": {
  "kernelspec": {
   "display_name": "Python 3 (ipykernel)",
   "language": "python",
   "name": "python3"
  },
  "language_info": {
   "codemirror_mode": {
    "name": "ipython",
    "version": 3
   },
   "file_extension": ".py",
   "mimetype": "text/x-python",
   "name": "python",
   "nbconvert_exporter": "python",
   "pygments_lexer": "ipython3",
   "version": "3.11.7"
  }
 },
 "nbformat": 4,
 "nbformat_minor": 5
}
