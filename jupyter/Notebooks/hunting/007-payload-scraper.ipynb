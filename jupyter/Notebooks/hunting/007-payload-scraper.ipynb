{
 "cells": [
  {
   "cell_type": "code",
   "execution_count": null,
   "id": "53041b5f-55bf-43b7-acd3-0de6baf70303",
   "metadata": {
    "tags": []
   },
   "outputs": [],
   "source": [
    "from surianalytics.connectors import RESTSciriusConnector"
   ]
  },
  {
   "cell_type": "code",
   "execution_count": null,
   "id": "873fc0d1-ce3d-4a57-9d5b-6c86a55a4a0e",
   "metadata": {},
   "outputs": [],
   "source": [
    "from surianalytics.widgets.config import update_connector_timeframe"
   ]
  },
  {
   "cell_type": "code",
   "execution_count": null,
   "id": "79b1a5dd-2efb-46a3-9573-6f6cd00061fe",
   "metadata": {
    "tags": []
   },
   "outputs": [],
   "source": [
    "CONNECTOR = RESTSciriusConnector()"
   ]
  },
  {
   "cell_type": "code",
   "execution_count": null,
   "id": "b2ffe9ff-b78f-457b-96b1-ff31b8716317",
   "metadata": {
    "tags": []
   },
   "outputs": [],
   "source": [
    "CONNECTOR.page_size = 10000"
   ]
  },
  {
   "cell_type": "code",
   "execution_count": null,
   "id": "bf8cba5d-4452-47cf-970a-9e2be341b761",
   "metadata": {},
   "outputs": [],
   "source": [
    "update_connector_timeframe(c=CONNECTOR, dump_path=\"../config.json\")"
   ]
  },
  {
   "cell_type": "code",
   "execution_count": null,
   "id": "8b48cc85-0271-4c4a-916a-7a869c8a2749",
   "metadata": {
    "tags": []
   },
   "outputs": [],
   "source": [
    "from IPython.display import JSON"
   ]
  },
  {
   "cell_type": "code",
   "execution_count": null,
   "id": "71334a7e-95ae-4269-8dcf-e2be46abcf35",
   "metadata": {
    "tags": []
   },
   "outputs": [],
   "source": [
    "QUERY_PAYLOADS = \"event_type: alert AND payload_printable: *\""
   ]
  },
  {
   "cell_type": "code",
   "execution_count": null,
   "id": "73f25ffe-1a07-4dcd-9566-1c01ba9f1805",
   "metadata": {
    "tags": []
   },
   "outputs": [],
   "source": [
    "QUERY_HTTP_RESPONSES = \"event_type: alert AND http.http_response_body_printable: *\""
   ]
  },
  {
   "cell_type": "code",
   "execution_count": null,
   "id": "a77961f1-594e-42ad-a52b-cb527ce20031",
   "metadata": {
    "tags": []
   },
   "outputs": [],
   "source": [
    "DATA_PAYLOADS = (\n",
    "    CONNECTOR\n",
    "    .get_eve_unique_values(qfilter=QUERY_PAYLOADS,\n",
    "                           field=\"payload_printable\", \n",
    "                           counts=\"no\")\n",
    ")"
   ]
  },
  {
   "cell_type": "code",
   "execution_count": null,
   "id": "b2fd5f1b-7ed9-4cb1-994e-b41cc33f3695",
   "metadata": {
    "tags": []
   },
   "outputs": [],
   "source": [
    "DATA_HTTP_RESP = (\n",
    "    CONNECTOR\n",
    "    .get_eve_unique_values(qfilter=QUERY_HTTP_RESPONSES, \n",
    "                           field=\"payload_printable\", \n",
    "                           counts=\"no\")\n",
    ")"
   ]
  },
  {
   "cell_type": "code",
   "execution_count": null,
   "id": "ecec5292-50e0-4ebe-9ea7-f2ee086d3abc",
   "metadata": {
    "tags": []
   },
   "outputs": [],
   "source": [
    "!pip install iocextract"
   ]
  },
  {
   "cell_type": "code",
   "execution_count": null,
   "id": "f54b5f67-dcd1-492b-919b-f39611b5eb33",
   "metadata": {
    "tags": []
   },
   "outputs": [],
   "source": [
    "import iocextract"
   ]
  },
  {
   "cell_type": "code",
   "execution_count": null,
   "id": "7590dc65-8aa3-4478-acad-5655b55e265a",
   "metadata": {
    "tags": []
   },
   "outputs": [],
   "source": [
    "RESULTS = []\n",
    "for payload in DATA_PAYLOADS + DATA_HTTP_RESP:\n",
    "    for result in iocextract.extract_ips(payload):\n",
    "        RESULTS.append({\n",
    "            \"type\": \"ip\",\n",
    "            \"value\": result,\n",
    "        })\n",
    "    for result in iocextract.extract_urls(payload):\n",
    "        RESULTS.append({\n",
    "            \"type\": \"url\",\n",
    "            \"value\": result,\n",
    "        })"
   ]
  },
  {
   "cell_type": "code",
   "execution_count": null,
   "id": "8d7e2800-9b2a-4da5-bd57-e5a4271a8df6",
   "metadata": {
    "tags": []
   },
   "outputs": [],
   "source": [
    "import pandas as pd"
   ]
  },
  {
   "cell_type": "code",
   "execution_count": null,
   "id": "e25a5f3f-6e83-4e61-a779-b266b6d68d8e",
   "metadata": {
    "tags": []
   },
   "outputs": [],
   "source": [
    "DF = pd.DataFrame(RESULTS)"
   ]
  },
  {
   "cell_type": "code",
   "execution_count": null,
   "id": "c6873829-e4fc-47b6-9c14-a201bffe7422",
   "metadata": {
    "tags": []
   },
   "outputs": [],
   "source": [
    "pd.set_option('display.max_rows', None)\n",
    "pd.set_option('display.min_rows', None)"
   ]
  },
  {
   "cell_type": "code",
   "execution_count": null,
   "id": "de60c144-09ca-4c0a-90ff-2f1fe686489e",
   "metadata": {
    "tags": []
   },
   "outputs": [],
   "source": [
    "from pandas import option_context\n",
    "\n",
    "with option_context('display.max_colwidth', None):\n",
    "    display(list(DF.sort_values(by=[\"type\", \"value\"]).value.unique()))"
   ]
  },
  {
   "cell_type": "code",
   "execution_count": null,
   "id": "3394fb5b-e692-423f-a1a2-e64ebfb4557c",
   "metadata": {},
   "outputs": [],
   "source": []
  }
 ],
 "metadata": {
  "kernelspec": {
   "display_name": "Python 3 (ipykernel)",
   "language": "python",
   "name": "python3"
  },
  "language_info": {
   "codemirror_mode": {
    "name": "ipython",
    "version": 3
   },
   "file_extension": ".py",
   "mimetype": "text/x-python",
   "name": "python",
   "nbconvert_exporter": "python",
   "pygments_lexer": "ipython3",
   "version": "3.12.7"
  }
 },
 "nbformat": 4,
 "nbformat_minor": 5
}
