{
 "cells": [
  {
   "cell_type": "code",
   "execution_count": null,
   "id": "eac08ccd-8c9f-4cf8-8112-0cc6e8326b64",
   "metadata": {
    "tags": []
   },
   "outputs": [],
   "source": [
    "from surianalytics.connectors import RESTSciriusConnector"
   ]
  },
  {
   "cell_type": "code",
   "execution_count": null,
   "id": "f574b8de-0210-43e7-a0ab-094cde7cc10f",
   "metadata": {},
   "outputs": [],
   "source": [
    "from surianalytics.widgets.config import update_connector_time_delta"
   ]
  },
  {
   "cell_type": "code",
   "execution_count": null,
   "id": "c8e08773-3394-4d61-aa04-d7de88c25c24",
   "metadata": {
    "tags": []
   },
   "outputs": [],
   "source": [
    "CONNECTOR = RESTSciriusConnector()"
   ]
  },
  {
   "cell_type": "code",
   "execution_count": null,
   "id": "afe0b85c-3cfe-4e31-8c46-be271a9f8ed7",
   "metadata": {
    "tags": []
   },
   "outputs": [],
   "source": [
    "CONNECTOR.set_page_size(10000)"
   ]
  },
  {
   "cell_type": "code",
   "execution_count": null,
   "id": "4f442f9e-8f44-4133-8cca-94d0e78373ca",
   "metadata": {},
   "outputs": [],
   "source": [
    "update_connector_time_delta(c=CONNECTOR, dump_path=\"../config.json\")"
   ]
  },
  {
   "cell_type": "code",
   "execution_count": null,
   "id": "51cb66d6-1463-4a8a-9884-52b0189616d9",
   "metadata": {
    "tags": []
   },
   "outputs": [],
   "source": [
    "from IPython.display import JSON"
   ]
  },
  {
   "cell_type": "code",
   "execution_count": null,
   "id": "8192146b-7506-4cb9-b69e-b76f401ecae7",
   "metadata": {},
   "outputs": [],
   "source": [
    "DATA = (\n",
    "    CONNECTOR\n",
    "    .get_events_df(qfilter=\"alert.signature: (*ATTACK_RESPONSE* OR *MALWARE* OR *HUNTING*) AND flow.bytes_toclient: [150 TO *] AND NOT payload_printable: GET\")\n",
    ")"
   ]
  },
  {
   "cell_type": "code",
   "execution_count": null,
   "id": "3c6d84eb-f909-4f92-a150-73e9218f1abb",
   "metadata": {
    "tags": []
   },
   "outputs": [],
   "source": [
    "AGG = DATA.groupby(\"payload_printable\").agg({\n",
    "    \"flow.src_ip\": [\"unique\", \"nunique\"],\n",
    "    \"flow.dest_ip\": [\"unique\", \"nunique\"],\n",
    "    \"timestamp\": [\"min\", \"max\"]\n",
    "})"
   ]
  },
  {
   "cell_type": "code",
   "execution_count": null,
   "id": "c6176489-1105-4a40-825a-7f2b84676d9d",
   "metadata": {
    "tags": []
   },
   "outputs": [],
   "source": [
    "AGG"
   ]
  },
  {
   "cell_type": "code",
   "execution_count": null,
   "id": "04b73ca7-b999-4960-a447-91f0c75c42d8",
   "metadata": {
    "tags": []
   },
   "outputs": [],
   "source": [
    "for pl in DATA.payload_printable.unique():\n",
    "    print(\"-\"*100)\n",
    "    print(pl)"
   ]
  }
 ],
 "metadata": {
  "kernelspec": {
   "display_name": "Python 3 (ipykernel)",
   "language": "python",
   "name": "python3"
  },
  "language_info": {
   "codemirror_mode": {
    "name": "ipython",
    "version": 3
   },
   "file_extension": ".py",
   "mimetype": "text/x-python",
   "name": "python",
   "nbconvert_exporter": "python",
   "pygments_lexer": "ipython3",
   "version": "3.11.7"
  }
 },
 "nbformat": 4,
 "nbformat_minor": 5
}
