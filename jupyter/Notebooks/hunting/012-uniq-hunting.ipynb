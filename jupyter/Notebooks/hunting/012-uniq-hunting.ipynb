{
 "cells": [
  {
   "cell_type": "markdown",
   "id": "57fa959e-339b-46b7-b072-bae8c76e8b9b",
   "metadata": {},
   "source": [
    "# Unique value pivoting"
   ]
  },
  {
   "cell_type": "code",
   "execution_count": null,
   "id": "d1ac35fc-0581-46e4-a226-64be3fae4f47",
   "metadata": {},
   "outputs": [],
   "source": [
    "import urllib3\n",
    "urllib3.disable_warnings(urllib3.exceptions.InsecureRequestWarning)"
   ]
  },
  {
   "cell_type": "code",
   "execution_count": null,
   "id": "7f2577d8-887b-4fa6-868e-6864bc6480a5",
   "metadata": {},
   "outputs": [],
   "source": [
    "from surianalytics.widgets.uniq import UniqPivot, OUTPUT_DEBUG"
   ]
  },
  {
   "cell_type": "code",
   "execution_count": null,
   "id": "bc41f2eb-e941-4e87-8f5d-7a5e0c679012",
   "metadata": {},
   "outputs": [],
   "source": [
    "UP = UniqPivot()"
   ]
  },
  {
   "cell_type": "code",
   "execution_count": null,
   "id": "cb3abe6e-fd45-4083-8eae-cebabb317b42",
   "metadata": {},
   "outputs": [],
   "source": [
    "from surianalytics.widgets.config import update_connector_timeframe"
   ]
  },
  {
   "cell_type": "code",
   "execution_count": null,
   "id": "1fa69be2-dadc-4bfb-a922-eb363c8ceff1",
   "metadata": {},
   "outputs": [],
   "source": [
    "update_connector_timeframe(UP.connector, \"../config.json\")"
   ]
  },
  {
   "cell_type": "code",
   "execution_count": null,
   "id": "9fda47eb-5c53-4f33-99dd-b6240f288f52",
   "metadata": {
    "tags": []
   },
   "outputs": [],
   "source": [
    "UP.connector.page_size = 10000"
   ]
  },
  {
   "cell_type": "code",
   "execution_count": null,
   "id": "cdbe89cb-8a43-4339-8ffb-340e1e4ecd75",
   "metadata": {},
   "outputs": [],
   "source": [
    "UP.display()"
   ]
  },
  {
   "cell_type": "code",
   "execution_count": null,
   "id": "666d1bd3-e3a4-429f-8e46-937d673da8cb",
   "metadata": {
    "tags": []
   },
   "outputs": [],
   "source": [
    "OUTPUT_DEBUG"
   ]
  }
 ],
 "metadata": {
  "kernelspec": {
   "display_name": "Python 3 (ipykernel)",
   "language": "python",
   "name": "python3"
  },
  "language_info": {
   "codemirror_mode": {
    "name": "ipython",
    "version": 3
   },
   "file_extension": ".py",
   "mimetype": "text/x-python",
   "name": "python",
   "nbconvert_exporter": "python",
   "pygments_lexer": "ipython3",
   "version": "3.12.7"
  }
 },
 "nbformat": 4,
 "nbformat_minor": 5
}
