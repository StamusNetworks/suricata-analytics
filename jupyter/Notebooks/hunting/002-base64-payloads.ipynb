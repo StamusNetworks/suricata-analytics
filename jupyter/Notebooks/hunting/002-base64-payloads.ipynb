{
 "cells": [
  {
   "cell_type": "code",
   "execution_count": null,
   "id": "eac08ccd-8c9f-4cf8-8112-0cc6e8326b64",
   "metadata": {
    "tags": []
   },
   "outputs": [],
   "source": [
    "from surianalytics.connectors import RESTSciriusConnector"
   ]
  },
  {
   "cell_type": "code",
   "execution_count": null,
   "id": "2c44a6f3-9c89-4b8b-bca9-f655e914621b",
   "metadata": {},
   "outputs": [],
   "source": [
    "from surianalytics.widgets.config import update_connector_time_delta"
   ]
  },
  {
   "cell_type": "code",
   "execution_count": null,
   "id": "c8e08773-3394-4d61-aa04-d7de88c25c24",
   "metadata": {
    "tags": []
   },
   "outputs": [],
   "source": [
    "CONNECTOR = RESTSciriusConnector()"
   ]
  },
  {
   "cell_type": "code",
   "execution_count": null,
   "id": "afe0b85c-3cfe-4e31-8c46-be271a9f8ed7",
   "metadata": {
    "tags": []
   },
   "outputs": [],
   "source": [
    "CONNECTOR.set_page_size(10000)"
   ]
  },
  {
   "cell_type": "code",
   "execution_count": null,
   "id": "8ef0bb79-8e18-4ebf-b51f-bf736d3b5584",
   "metadata": {},
   "outputs": [],
   "source": [
    "update_connector_time_delta(c=CONNECTOR, dump_path=\"../config.json\")"
   ]
  },
  {
   "cell_type": "code",
   "execution_count": null,
   "id": "51cb66d6-1463-4a8a-9884-52b0189616d9",
   "metadata": {
    "tags": []
   },
   "outputs": [],
   "source": [
    "from IPython.display import JSON"
   ]
  },
  {
   "cell_type": "code",
   "execution_count": null,
   "id": "8192146b-7506-4cb9-b69e-b76f401ecae7",
   "metadata": {},
   "outputs": [],
   "source": [
    "DATA = (\n",
    "    CONNECTOR\n",
    "    .get_eve_unique_values(qfilter=\"payload_printable: *base64*\", \n",
    "                           field=\"payload_printable\", \n",
    "                           counts=\"no\")\n",
    ")"
   ]
  },
  {
   "cell_type": "code",
   "execution_count": null,
   "id": "c6a181e8-c260-4a2b-9c2b-abf5a093d8aa",
   "metadata": {},
   "outputs": [],
   "source": [
    "import re\n",
    "PATTERN = re.compile(r\"([A-Za-z0-9]{12,}={,2})\")\n",
    "def extract_base64(x: str):\n",
    "    match = re.search(PATTERN, x)\n",
    "    if match:\n",
    "        return match.group(1)\n",
    "    return None"
   ]
  },
  {
   "cell_type": "code",
   "execution_count": null,
   "id": "b017ca60-b1d5-4682-9d8d-ddbfce972168",
   "metadata": {},
   "outputs": [],
   "source": [
    "import base64"
   ]
  },
  {
   "cell_type": "code",
   "execution_count": null,
   "id": "04b73ca7-b999-4960-a447-91f0c75c42d8",
   "metadata": {
    "tags": []
   },
   "outputs": [],
   "source": [
    "for item in DATA:\n",
    "    coded_string = extract_base64(item)\n",
    "    print(\"-\"*100)\n",
    "    try:\n",
    "        dec = base64.b64decode(coded_string)\n",
    "        print(dec)\n",
    "    except:\n",
    "        print(\"unable to decode {s}\".format(s=coded_string))"
   ]
  }
 ],
 "metadata": {
  "kernelspec": {
   "display_name": "Python 3 (ipykernel)",
   "language": "python",
   "name": "python3"
  },
  "language_info": {
   "codemirror_mode": {
    "name": "ipython",
    "version": 3
   },
   "file_extension": ".py",
   "mimetype": "text/x-python",
   "name": "python",
   "nbconvert_exporter": "python",
   "pygments_lexer": "ipython3",
   "version": "3.11.7"
  }
 },
 "nbformat": 4,
 "nbformat_minor": 5
}
