{
 "cells": [
  {
   "cell_type": "markdown",
   "id": "8bb3f2d1-ce26-4e57-a2bb-fd76856c9b51",
   "metadata": {
    "jp-MarkdownHeadingCollapsed": true,
    "tags": []
   },
   "source": [
    "### Common imports"
   ]
  },
  {
   "cell_type": "code",
   "execution_count": null,
   "id": "52edb840-9a13-46bb-b07b-7357072654fd",
   "metadata": {},
   "outputs": [],
   "source": [
    "from ipywidgets import interact, interactive, fixed, interact_manual\n",
    "from ipywidgets import Output, Dropdown, SelectMultiple, HBox, VBox, Button, IntSlider, FloatRangeSlider, FloatSlider, Text, Textarea, Combobox, HBox, VBox, SelectMultiple, Tab\n",
    "from IPython.display import display\n",
    "\n",
    "from surianalytics.connectors import RESTSciriusConnector\n",
    "from surianalytics.datamining import min_max_scaling\n",
    "\n",
    "import pandas as pd\n",
    "import numpy as np"
   ]
  },
  {
   "cell_type": "code",
   "execution_count": null,
   "id": "4633df24-37e6-41a6-bee4-c27ddf2e4c42",
   "metadata": {},
   "outputs": [],
   "source": [
    "import urllib3\n",
    "urllib3.disable_warnings(urllib3.exceptions.InsecureRequestWarning)"
   ]
  },
  {
   "cell_type": "code",
   "execution_count": null,
   "id": "94a4d62c-47cd-457e-a535-3a156a7216bc",
   "metadata": {},
   "outputs": [],
   "source": [
    "pd.set_option('display.max_colwidth', None)\n",
    "pd.set_option('display.max_columns', None)\n",
    "pd.set_option('display.max_rows', 1000)\n",
    "pd.set_option('display.width', None)"
   ]
  },
  {
   "cell_type": "code",
   "execution_count": null,
   "id": "601e34e3-bcec-4b39-b493-f8a541c438e9",
   "metadata": {},
   "outputs": [],
   "source": [
    "c = RESTSciriusConnector()\n",
    "c.set_page_size(1000)"
   ]
  },
  {
   "cell_type": "markdown",
   "id": "72d20147-d7e2-43f6-a267-2e2c883e7441",
   "metadata": {
    "tags": []
   },
   "source": [
    "### Timestamp handlers"
   ]
  },
  {
   "cell_type": "code",
   "execution_count": null,
   "id": "e54bf8a1-ee3d-4aa6-9e29-07659ac27326",
   "metadata": {},
   "outputs": [],
   "source": [
    "from datetime import datetime, timedelta"
   ]
  },
  {
   "cell_type": "code",
   "execution_count": null,
   "id": "8b42b447-7c3f-40b2-9f9d-72c30c318dd2",
   "metadata": {},
   "outputs": [],
   "source": [
    "TIME_END = datetime.utcnow()\n",
    "TIME_BEGINNING = TIME_END - timedelta(minutes=60)"
   ]
  },
  {
   "cell_type": "code",
   "execution_count": null,
   "id": "fc6c7206-a1f0-4373-9d97-fafb53bae006",
   "metadata": {},
   "outputs": [],
   "source": [
    "SLIDER_TIME_MINUTES = IntSlider(\n",
    "    value=60,\n",
    "    min=5,\n",
    "    max=600,\n",
    "    step=5,\n",
    "    description='Minutes',\n",
    "    orientation='horizontal',\n",
    "    readout=True,\n",
    ")"
   ]
  },
  {
   "cell_type": "code",
   "execution_count": null,
   "id": "31a5a3f9-0c44-4b96-b41d-c863f7aa8105",
   "metadata": {},
   "outputs": [],
   "source": [
    "# TimePicker is not in ipywidgests 7.7\n",
    "# Use text boxes instead for now\n",
    "TEXT_TIME_BEGINNING = Text(\n",
    "    description=\"From: \",\n",
    "    value=TIME_BEGINNING.isoformat(),\n",
    "    continuous_update=True\n",
    ")\n",
    "TEXT_TIME_END = Text(\n",
    "    description=\"To: \",\n",
    "    value=TIME_END.isoformat(),\n",
    "    continuous_update=True\n",
    ")\n",
    "_ = c.set_query_timeframe(from_date=TEXT_TIME_BEGINNING.value, to_date=TEXT_TIME_END.value)"
   ]
  },
  {
   "cell_type": "code",
   "execution_count": null,
   "id": "b03fa882-a2f9-4c8c-ad06-468acab7d05a",
   "metadata": {},
   "outputs": [],
   "source": [
    "def handler_update_timeframe(args):\n",
    "    c.set_query_timeframe(from_date=TEXT_TIME_BEGINNING.value, to_date=TEXT_TIME_END.value)"
   ]
  },
  {
   "cell_type": "code",
   "execution_count": null,
   "id": "ad034b5c-2f61-4b24-9d8d-ebba079fffc7",
   "metadata": {},
   "outputs": [],
   "source": [
    "BUTTON_UPDATE_TIME = Button(description=\"Set time\")\n",
    "BUTTON_UPDATE_TIME.on_click(handler_update_timeframe)"
   ]
  },
  {
   "cell_type": "code",
   "execution_count": null,
   "id": "719c8ef4-4cf9-40f5-b323-272fb4337147",
   "metadata": {},
   "outputs": [],
   "source": [
    "def handler_reset_timeframe(args):\n",
    "    time_to = datetime.utcnow()\n",
    "    time_from = time_to - timedelta(minutes=SLIDER_TIME_MINUTES.value)\n",
    "    TEXT_TIME_END.value = time_to.isoformat()\n",
    "    TEXT_TIME_BEGINNING.value = time_from.isoformat()\n",
    "    c.set_query_delta(minutes=SLIDER_TIME_MINUTES.value)"
   ]
  },
  {
   "cell_type": "code",
   "execution_count": null,
   "id": "b0542586-8fa2-42c1-a080-527c2211a1b4",
   "metadata": {},
   "outputs": [],
   "source": [
    "BUTTON_RESET_TIME = Button(description=\"Generate time\")\n",
    "BUTTON_RESET_TIME.on_click(handler_reset_timeframe)"
   ]
  },
  {
   "cell_type": "code",
   "execution_count": null,
   "id": "2e927c78-604c-4d5a-8f7d-f0182b8d5c4e",
   "metadata": {},
   "outputs": [],
   "source": [
    "import pickle\n",
    "PKL_TIME = \"./time.pkl\""
   ]
  },
  {
   "cell_type": "code",
   "execution_count": null,
   "id": "173eeb8b-ca54-4a3a-8658-630300b6db26",
   "metadata": {},
   "outputs": [],
   "source": [
    "def handler_pickle_time_save(args):\n",
    "    with open(PKL_TIME, \"wb\") as handle:\n",
    "        pickle.dump((TEXT_TIME_BEGINNING.value, TEXT_TIME_END.value), handle)"
   ]
  },
  {
   "cell_type": "code",
   "execution_count": null,
   "id": "9f3989ae-94f9-497a-99cb-8595318cbde5",
   "metadata": {},
   "outputs": [],
   "source": [
    "BUTTON_SAVE_TIME = Button(description=\"Dump time\")\n",
    "BUTTON_SAVE_TIME.on_click(handler_pickle_time_save)"
   ]
  },
  {
   "cell_type": "code",
   "execution_count": null,
   "id": "ec40e012-c77b-45d0-8ae4-bc4d4bf9ab1a",
   "metadata": {},
   "outputs": [],
   "source": [
    "def handler_pickle_time_load(args):\n",
    "    handle = open(PKL_TIME, \"rb\")\n",
    "    times = pickle.load(handle)\n",
    "    TEXT_TIME_BEGINNING.value = times[0]\n",
    "    TEXT_TIME_END.value = times[1]\n",
    "    handler_update_timeframe(args)"
   ]
  },
  {
   "cell_type": "code",
   "execution_count": null,
   "id": "3cfb64b0-1e8c-4cb0-8a49-a28994bf3736",
   "metadata": {},
   "outputs": [],
   "source": [
    "BUTTON_LOAD_TIME = Button(description=\"Sync time\")\n",
    "BUTTON_LOAD_TIME.on_click(handler_pickle_time_load)"
   ]
  },
  {
   "cell_type": "code",
   "execution_count": null,
   "id": "7eadafc0-e7ac-409f-8be0-3c00c6673db5",
   "metadata": {},
   "outputs": [],
   "source": [
    "BOX_TIME = VBox([\n",
    "    HBox([SLIDER_TIME_MINUTES, BUTTON_RESET_TIME]), \n",
    "    HBox([\n",
    "        VBox([TEXT_TIME_BEGINNING, TEXT_TIME_END]), \n",
    "        BUTTON_UPDATE_TIME,\n",
    "        VBox([BUTTON_SAVE_TIME, BUTTON_LOAD_TIME])\n",
    "    ])\n",
    "])"
   ]
  },
  {
   "cell_type": "code",
   "execution_count": null,
   "id": "d2e5c0d5-5b3d-4e88-b0c5-be47e4a4ed95",
   "metadata": {},
   "outputs": [],
   "source": [
    "BOX_TIME"
   ]
  },
  {
   "cell_type": "markdown",
   "id": "4359d8df-5a76-4d4d-89c5-713cde3d8c7e",
   "metadata": {
    "tags": []
   },
   "source": [
    "### Query handler"
   ]
  },
  {
   "cell_type": "code",
   "execution_count": null,
   "id": "840d1977-3097-468d-8ccb-c22657b13db9",
   "metadata": {},
   "outputs": [],
   "source": [
    "TEXT_QUERY = Textarea(\n",
    "    description='Query filter:',\n",
    "    value=\"*\",\n",
    "    continuous_update=True\n",
    ")"
   ]
  },
  {
   "cell_type": "code",
   "execution_count": null,
   "id": "bcf8b19b-d014-447e-b5f7-77ed7c798620",
   "metadata": {},
   "outputs": [],
   "source": [
    "import pickle\n",
    "PKL_QUERY = \"./query.pkl\""
   ]
  },
  {
   "cell_type": "code",
   "execution_count": null,
   "id": "0322bac3-291d-4942-a879-cec8d8dcc9ee",
   "metadata": {},
   "outputs": [],
   "source": [
    "def handler_pickle_query_save(args):\n",
    "    with open(PKL_QUERY, \"wb\") as handle:\n",
    "        pickle.dump(TEXT_QUERY.value, handle)"
   ]
  },
  {
   "cell_type": "code",
   "execution_count": null,
   "id": "0788d5cd-62e5-4fd6-8b72-6c33601bb6de",
   "metadata": {},
   "outputs": [],
   "source": [
    "BUTTON_SAVE_QUERY = Button(description=\"Dump query\")\n",
    "BUTTON_SAVE_QUERY.on_click(handler_pickle_query_save)"
   ]
  },
  {
   "cell_type": "code",
   "execution_count": null,
   "id": "3d2c33e1-0ee2-4bed-9880-7730d0c758c6",
   "metadata": {},
   "outputs": [],
   "source": [
    "def handler_pickle_query_load(args):\n",
    "    handle = open(PKL_QUERY, \"rb\")\n",
    "    TEXT_QUERY.value = pickle.load(handle)"
   ]
  },
  {
   "cell_type": "code",
   "execution_count": null,
   "id": "cc8bcd27-e067-455f-a5d5-1fdbb849d5ec",
   "metadata": {},
   "outputs": [],
   "source": [
    "BUTTON_LOAD_QUERY = Button(description=\"Sync query\")\n",
    "BUTTON_LOAD_QUERY.on_click(handler_pickle_query_load)"
   ]
  },
  {
   "cell_type": "code",
   "execution_count": null,
   "id": "f65df608-c8b2-4864-8941-f62e839d1a72",
   "metadata": {},
   "outputs": [],
   "source": [
    "BOX_QUERY = HBox([\n",
    "    TEXT_QUERY, \n",
    "    VBox([BUTTON_SAVE_QUERY, BUTTON_LOAD_QUERY])\n",
    "])"
   ]
  },
  {
   "cell_type": "markdown",
   "id": "c7fc7d43-3cb1-4363-9289-dbb40a757685",
   "metadata": {},
   "source": [
    "### Graph Mining"
   ]
  },
  {
   "cell_type": "code",
   "execution_count": null,
   "id": "5c1b912e-6aa5-43e3-a96b-b24a436f7711",
   "metadata": {},
   "outputs": [],
   "source": [
    "if \"FIELDS\" not in globals():\n",
    "    FIELDS = []\n",
    "if \"GRAPH\" not in globals():\n",
    "    GRAPH = None\n",
    "    \n",
    "GRAPH_WIDTH = 1600\n",
    "GRAPH_HEIGHT = 900"
   ]
  },
  {
   "cell_type": "code",
   "execution_count": null,
   "id": "bd7b867a-3ae8-46dd-8ed1-753440827a6c",
   "metadata": {},
   "outputs": [],
   "source": [
    "DROPDOWN_EVENT_TYPES = Dropdown(\n",
    "    options=[\"all\"],\n",
    "    value=\"all\",\n",
    "    description=\"Event type\"\n",
    ")\n",
    "DROPDOWN_FIELDS_SRC = Combobox(\n",
    "    options=FIELDS,\n",
    "    value=None\n",
    ")\n",
    "DROPDOWN_FIELDS_DEST = Combobox(\n",
    "    options=FIELDS,\n",
    "    value=None\n",
    ")\n",
    "SLIDER_SIZE_COL = IntSlider(\n",
    "    value=500,\n",
    "    min=100,\n",
    "    max=5000,\n",
    "    description='Aggregation max size',\n",
    "    orientation='horizontal',\n",
    "    readout=True,\n",
    ")\n",
    "SLIDER_THRESH_DEGREE = FloatRangeSlider(\n",
    "    value=[0, 1],\n",
    "    min=0,\n",
    "    max=1,\n",
    "    step=0.001,\n",
    "    description=\"Degree: \",\n",
    "    continuous_update=False,\n",
    "    orientation='horizontal',\n",
    "    readout=True,\n",
    "    readout_format='.2f',\n",
    ")"
   ]
  },
  {
   "cell_type": "code",
   "execution_count": null,
   "id": "dee94f24-3788-49fe-8c0e-be325a8884ec",
   "metadata": {
    "tags": []
   },
   "outputs": [],
   "source": [
    "def handler_update_event_types(args):\n",
    "    DROPDOWN_EVENT_TYPES.options = c.get_event_types()"
   ]
  },
  {
   "cell_type": "code",
   "execution_count": null,
   "id": "b9714d91-9b89-486c-b384-fdecf855fae1",
   "metadata": {},
   "outputs": [],
   "source": [
    "BUTTON_REFRESH_EVENT_TYPES = Button(description=\"Refresh event types\")\n",
    "BUTTON_REFRESH_EVENT_TYPES.on_click(handler_update_event_types)"
   ]
  },
  {
   "cell_type": "code",
   "execution_count": null,
   "id": "3090ca8f-93e5-42a4-bca8-c1a4940d2d21",
   "metadata": {},
   "outputs": [],
   "source": [
    "FIELDS_FILTER = [\"@timestamp\", \"timestamp\"]\n",
    "def handler_build_fields(event_type=\"all\"):\n",
    "    fields = c.get_unique_fields(event_type=DROPDOWN_EVENT_TYPES.value)\n",
    "    if len(fields) == 0:\n",
    "        print(\"no fields from\", event_type)\n",
    "        \n",
    "    global FIELDS\n",
    "    FIELDS = [f for f in fields if f not in FIELDS_FILTER]\n",
    "    DROPDOWN_FIELDS_SRC.options = FIELDS\n",
    "    DROPDOWN_FIELDS_DEST.options = FIELDS\n",
    "    \n",
    "_ = interactive(handler_build_fields, event_type=DROPDOWN_EVENT_TYPES)"
   ]
  },
  {
   "cell_type": "code",
   "execution_count": null,
   "id": "5667409c-a396-4998-9624-988d9064d127",
   "metadata": {},
   "outputs": [],
   "source": [
    "OUTPUT_GRAPH_DL = Output()\n",
    "def handler_pull_graph_data(args):\n",
    "    OUTPUT_GRAPH_DL.clear_output()\n",
    "    with OUTPUT_GRAPH_DL:\n",
    "        display(print(\"Calling scirius\"))\n",
    "        global GRAPH\n",
    "        GRAPH = c.get_eve_fields_graph_nx(        \n",
    "            col_src=DROPDOWN_FIELDS_SRC.value,\n",
    "            col_dest=DROPDOWN_FIELDS_DEST.value,\n",
    "            size_src=SLIDER_SIZE_COL.value,\n",
    "            size_dest=SLIDER_SIZE_COL.value,\n",
    "            event_type=DROPDOWN_EVENT_TYPES.value,\n",
    "            qfilter=TEXT_QUERY.value\n",
    "        )\n",
    "        display(\"call done, got {} nodes and {} edges\".format(len(GRAPH.nodes()), len(GRAPH.edges())))"
   ]
  },
  {
   "cell_type": "code",
   "execution_count": null,
   "id": "e72915b8-5f0b-466a-b3ff-0305f4fa5bcc",
   "metadata": {},
   "outputs": [],
   "source": [
    "BUTTON_LOAD_DATA = Button(description=\"Pull data\")\n",
    "BUTTON_LOAD_DATA.on_click(handler_pull_graph_data)"
   ]
  },
  {
   "cell_type": "code",
   "execution_count": null,
   "id": "294e49f0-db43-459e-94e7-dd73c60872b2",
   "metadata": {},
   "outputs": [],
   "source": [
    "import networkx as nx\n",
    "import hvplot.networkx as hvnx\n",
    "import holoviews as hv\n",
    "from holoviews import opts\n",
    "from surianalytics.datamining import min_max_scaling"
   ]
  },
  {
   "cell_type": "code",
   "execution_count": null,
   "id": "3ecf12f3-2ebd-4a70-8f29-5f001321afcb",
   "metadata": {},
   "outputs": [],
   "source": [
    "OUTPUT_GRAPH = Output()\n",
    "def handler_draw_graph(args):\n",
    "    OUTPUT_GRAPH.clear_output()\n",
    "    with OUTPUT_GRAPH:\n",
    "        if len(GRAPH.edges) == 0:\n",
    "            display(\"Missing graph data, please run query first\")\n",
    "            return\n",
    "\n",
    "        # use local graph object\n",
    "        g = GRAPH.copy()\n",
    "\n",
    "        # drop empty nodes (and connected edges) \n",
    "        # means missing eve field, no connection can be made\n",
    "        if \"\" in list(g.nodes()):\n",
    "            g.remove_node(\"\")\n",
    "\n",
    "        doc_counts = [attr[\"doc_count\"] for (src, dst, attr) in g.edges(data=True)]\n",
    "        doc_counts = np.log2(doc_counts)\n",
    "        doc_counts = min_max_scaling(pd.Series(doc_counts))\n",
    "\n",
    "        # add scaled doc counts to edges to serve as weights\n",
    "        for i, (src, dst, attr) in enumerate(g.edges(data=True)):\n",
    "            attr[\"scaled_doc_count\"] = doc_counts[i]\n",
    "\n",
    "        # discover node degree and scale the values\n",
    "        degree = [g.degree(n) for n in g.nodes()]\n",
    "        degree = min_max_scaling(pd.Series(degree))\n",
    "\n",
    "        to_remove = []\n",
    "        # drop nodes that do not match filtering criteria\n",
    "        for i, n in enumerate(g.nodes()):\n",
    "            if degree[i] > SLIDER_THRESH_DEGREE.value[1] or degree[i] < SLIDER_THRESH_DEGREE.value[0]:\n",
    "                to_remove.append(n)\n",
    "\n",
    "        for n in to_remove:\n",
    "            g.remove_node(n)\n",
    "\n",
    "        # calculate total number of docs for edges\n",
    "        doc_count_total_edge = np.sum([attr[\"doc_count\"] for (src, dst, attr) in g.edges(data=True)])\n",
    "\n",
    "        # locate source nodes\n",
    "        n_src = [i for i, (u, a) in enumerate(g.nodes(data=True)) if a[\"kind\"] == \"source\"]\n",
    "        # locate destination nodes\n",
    "        n_dst = [i for i, (u, a) in enumerate(g.nodes(data=True)) if a[\"kind\"] == \"destination\"]\n",
    "\n",
    "        # generate layout\n",
    "        pos = nx.layout.spring_layout(g)\n",
    "\n",
    "        # generate nodes per kind\n",
    "        nodes_src = hvnx.draw_networkx_nodes(g, pos, nodelist=n_src, node_color='#A0CBE2').opts(width=GRAPH_WIDTH, height=GRAPH_HEIGHT)\n",
    "        nodes_dst = hvnx.draw_networkx_nodes(g, pos, nodelist=n_dst, node_color=\"Orange\").opts(width=GRAPH_WIDTH, height=GRAPH_HEIGHT)\n",
    "\n",
    "        # use kwargs to make parameter handling easier\n",
    "        edge_params = {\n",
    "            \"alpha\": 1,\n",
    "            \"edge_color\": 'scaled_doc_count', \n",
    "            \"edge_cmap\": 'viridis',\n",
    "            \"edge_width\": hv.dim('scaled_doc_count')*5\n",
    "        }\n",
    "\n",
    "        # generate edges\n",
    "        edges = hvnx.draw_networkx_edges(g, pos, **edge_params).opts(width=GRAPH_WIDTH, height=GRAPH_HEIGHT)\n",
    "\n",
    "        # overlay nodes and edges\n",
    "        res = edges * nodes_src * nodes_dst\n",
    "\n",
    "        component_sizes = [len(c) for c in sorted(nx.connected_components(g), key=len, reverse=True) if len(c) > 1]\n",
    "\n",
    "        display(print(\"Number of documents for edges: {}\".format(doc_count_total_edge)))\n",
    "        display(print(\"Number of clusters: {}\".format(len(component_sizes))))\n",
    "        display(res)"
   ]
  },
  {
   "cell_type": "code",
   "execution_count": null,
   "id": "5d8589ff-ad8f-435b-bea8-2e8e9f5eec4f",
   "metadata": {},
   "outputs": [],
   "source": [
    "BUTTON_DRAW_GRAPH = Button(description=\"Draw graph\")\n",
    "BUTTON_DRAW_GRAPH.on_click(handler_draw_graph)"
   ]
  },
  {
   "cell_type": "code",
   "execution_count": null,
   "id": "e2dadb4d-9aba-4ed0-b5a6-9e2054950e77",
   "metadata": {},
   "outputs": [],
   "source": [
    "BOX_COL_SRC = HBox([DROPDOWN_FIELDS_SRC, SLIDER_THRESH_DEGREE])\n",
    "BOX_COL_DEST = HBox([DROPDOWN_FIELDS_DEST])\n",
    "\n",
    "BOX_COL_CONFIG = VBox([BOX_COL_SRC, BOX_COL_DEST])\n",
    "BOX_BUTTONS = HBox([BUTTON_REFRESH_EVENT_TYPES, BUTTON_LOAD_DATA, BUTTON_DRAW_GRAPH])\n",
    "\n",
    "BOX_TIME_INPUT = VBox([TEXT_TIME_BEGINNING, TEXT_TIME_END])\n",
    "BOX_TIME_BTNS = VBox([BUTTON_UPDATE_TIME, BUTTON_RESET_TIME])\n",
    "\n",
    "BOX_FINAL = VBox([\n",
    "    DROPDOWN_EVENT_TYPES, \n",
    "    BOX_COL_CONFIG, \n",
    "    BOX_BUTTONS,\n",
    "    OUTPUT_GRAPH_DL,\n",
    "    OUTPUT_GRAPH\n",
    "])"
   ]
  },
  {
   "cell_type": "markdown",
   "id": "319a218b-48d2-4209-99a2-120ae8111894",
   "metadata": {},
   "source": [
    "### Hunting section"
   ]
  },
  {
   "cell_type": "code",
   "execution_count": null,
   "id": "9b573103-3a14-4f16-9869-a3d0af4eae78",
   "metadata": {},
   "outputs": [],
   "source": [
    "tab = Tab(children=[BOX_TIME, BOX_QUERY, BOX_FINAL])\n",
    "tab.set_title(0, \"Timepicker\")\n",
    "tab.set_title(1, \"Query filter\")\n",
    "tab.set_title(2, \"Graph\")"
   ]
  },
  {
   "cell_type": "code",
   "execution_count": null,
   "id": "757de695-670a-40e9-aa17-ac0bc887b7e6",
   "metadata": {},
   "outputs": [],
   "source": [
    "tab"
   ]
  },
  {
   "cell_type": "code",
   "execution_count": null,
   "id": "a2a713a6-a05e-4ef8-94bb-6f36a86b6993",
   "metadata": {},
   "outputs": [],
   "source": []
  }
 ],
 "metadata": {
  "kernelspec": {
   "display_name": "Python 3 (ipykernel)",
   "language": "python",
   "name": "python3"
  },
  "language_info": {
   "codemirror_mode": {
    "name": "ipython",
    "version": 3
   },
   "file_extension": ".py",
   "mimetype": "text/x-python",
   "name": "python",
   "nbconvert_exporter": "python",
   "pygments_lexer": "ipython3",
   "version": "3.9.10"
  }
 },
 "nbformat": 4,
 "nbformat_minor": 5
}
