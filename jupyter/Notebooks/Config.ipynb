{
 "cells": [
  {
   "cell_type": "code",
   "execution_count": null,
   "id": "b648e646-1de0-402e-8218-87417a5525c3",
   "metadata": {
    "tags": []
   },
   "outputs": [],
   "source": [
    "from surianalytics.widgets.config import Timepicker"
   ]
  },
  {
   "cell_type": "code",
   "execution_count": null,
   "id": "35aa5309-242d-441b-a959-46f169399880",
   "metadata": {
    "tags": []
   },
   "outputs": [],
   "source": [
    "Timepicker().display()"
   ]
  }
 ],
 "metadata": {
  "kernelspec": {
   "display_name": "Python 3 (ipykernel)",
   "language": "python",
   "name": "python3"
  },
  "language_info": {
   "codemirror_mode": {
    "name": "ipython",
    "version": 3
   },
   "file_extension": ".py",
   "mimetype": "text/x-python",
   "name": "python",
   "nbconvert_exporter": "python",
   "pygments_lexer": "ipython3",
   "version": "3.11.7"
  }
 },
 "nbformat": 4,
 "nbformat_minor": 5
}
