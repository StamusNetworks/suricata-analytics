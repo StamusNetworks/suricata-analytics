{
 "cells": [
  {
   "cell_type": "code",
   "execution_count": null,
   "id": "c8ac0c7b-1d80-4898-9f26-37df92914596",
   "metadata": {
    "tags": []
   },
   "outputs": [],
   "source": [
    "import pandas as pd\n",
    "import numpy as np"
   ]
  },
  {
   "cell_type": "code",
   "execution_count": null,
   "id": "506638ad-d3b6-4615-81b3-2eb1c8caef84",
   "metadata": {},
   "outputs": [],
   "source": [
    "#pd.set_option('display.max_colwidth', None)\n",
    "pd.set_option('display.max_columns', None)\n",
    "#pd.set_option('display.width', 900)\n",
    "pd.set_option('display.max_rows', None)\n",
    "pd.set_option('display.min_rows', None)\n",
    "pd.set_option('display.html.use_mathjax', False)"
   ]
  },
  {
   "cell_type": "code",
   "execution_count": null,
   "id": "0236afae-765d-4a19-8b97-6cf7b0168c0f",
   "metadata": {},
   "outputs": [],
   "source": [
    "from surianalytics.connectors import RESTSciriusConnector\n",
    "from surianalytics.datamining import min_max_scaling"
   ]
  },
  {
   "cell_type": "code",
   "execution_count": null,
   "id": "eeb3f85a-4f72-4601-bbc0-2be6d45f8387",
   "metadata": {},
   "outputs": [],
   "source": [
    "c = RESTSciriusConnector()\n",
    "c.set_page_size(1000)"
   ]
  },
  {
   "cell_type": "code",
   "execution_count": null,
   "id": "a419cea6-1bd7-4c7a-8bc3-de39cd9884c6",
   "metadata": {},
   "outputs": [],
   "source": [
    "if c.tls_verify is False:\n",
    "    import urllib3\n",
    "    urllib3.disable_warnings(urllib3.exceptions.InsecureRequestWarning)"
   ]
  },
  {
   "cell_type": "code",
   "execution_count": null,
   "id": "003218d3-d278-41d0-acd2-ad0c8c587b84",
   "metadata": {},
   "outputs": [],
   "source": [
    "import ipywidgets as widgets"
   ]
  },
  {
   "cell_type": "markdown",
   "id": "7f30241c-7552-47eb-961e-bc3058df3019",
   "metadata": {
    "tags": []
   },
   "source": [
    "## Shared things"
   ]
  },
  {
   "cell_type": "markdown",
   "id": "aad541fc-8699-4742-adbb-3199456c5e77",
   "metadata": {
    "jp-MarkdownHeadingCollapsed": true,
    "tags": []
   },
   "source": [
    "### Data containers"
   ]
  },
  {
   "cell_type": "code",
   "execution_count": null,
   "id": "188cb06d-8e60-4479-ae7d-57e982ecff96",
   "metadata": {},
   "outputs": [],
   "source": [
    "import copy"
   ]
  },
  {
   "cell_type": "code",
   "execution_count": null,
   "id": "642082a6-3fa9-413c-aa22-ccc30c263a58",
   "metadata": {},
   "outputs": [],
   "source": [
    "DEFAULT_COLUMNS = [\"timestamp\", \"host\", \"community_id\", \"flow_id\", \"event_type\", \"proto\", \"app_proto\", \"src_ip\", \"flow.src_ip\", \"src_port\",\"dest_ip\", \"flow.dest_ip\", \"dest_port\", \"direction\",]"
   ]
  },
  {
   "cell_type": "code",
   "execution_count": null,
   "id": "fd4c19f3-6100-456a-9b42-4a89aaadce3b",
   "metadata": {},
   "outputs": [],
   "source": [
    "DF_EVENTS = pd.DataFrame(columns=DEFAULT_COLUMNS)"
   ]
  },
  {
   "cell_type": "code",
   "execution_count": null,
   "id": "162771b2-8f21-4f97-aafb-7519a20aa082",
   "metadata": {},
   "outputs": [],
   "source": [
    "DF_FILTER = pd.DataFrame(columns=DEFAULT_COLUMNS)"
   ]
  },
  {
   "cell_type": "code",
   "execution_count": null,
   "id": "2a01e81d-e814-4fa4-bb51-15da5b543a2a",
   "metadata": {},
   "outputs": [],
   "source": [
    "UNIQ_FIELDS = [f for f in c.get_unique_fields() if not f.startswith(\"stats.\")]"
   ]
  },
  {
   "cell_type": "markdown",
   "id": "063ccf64-df36-47bd-84f2-be7be3ad3ebf",
   "metadata": {
    "tags": []
   },
   "source": [
    "### Functions"
   ]
  },
  {
   "cell_type": "code",
   "execution_count": null,
   "id": "9c338776-dd51-4c41-86a8-4d414e66c61c",
   "metadata": {},
   "outputs": [],
   "source": [
    "def reorder_columns():\n",
    "    global DF_EVENTS\n",
    "    cols = list(DF_EVENTS.columns.values)\n",
    "    core_cols = [c for c in DEFAULT_COLUMNS if c in cols]\n",
    "    \n",
    "    cols = sorted([c for c in cols if c not in core_cols])\n",
    "    cols = core_cols + cols\n",
    "    DF_EVENTS = DF_EVENTS[cols]"
   ]
  },
  {
   "cell_type": "code",
   "execution_count": null,
   "id": "b4ae6009-0962-4c69-9acd-8cebd41153fc",
   "metadata": {},
   "outputs": [],
   "source": [
    "def col_names():\n",
    "    return [c for c in list(DF_EVENTS.dropna(how=\"all\", axis=1).columns.values) if not c.startswith(\"stats\")]"
   ]
  },
  {
   "cell_type": "code",
   "execution_count": null,
   "id": "49cb2c87-4996-4cda-8c8c-b0fe59ba9b69",
   "metadata": {},
   "outputs": [],
   "source": [
    "def col_names_subset():\n",
    "    return [c for c in list(DF_FILTER.dropna(how=\"all\", axis=1).columns.values) if not c.startswith(\"stats\")]"
   ]
  },
  {
   "cell_type": "markdown",
   "id": "d1d2a759-508e-4f6f-b33c-5c5c3433d83a",
   "metadata": {
    "tags": []
   },
   "source": [
    "### Widgets"
   ]
  },
  {
   "cell_type": "code",
   "execution_count": null,
   "id": "ea5f6ea6-6341-4c5c-b966-b386b5273961",
   "metadata": {},
   "outputs": [],
   "source": [
    "DROPDOWN_EVENT_TYPE = widgets.Dropdown(\n",
    "    options=[\"\"] + sorted(list(DF_EVENTS.event_type.unique())),\n",
    ")"
   ]
  },
  {
   "cell_type": "code",
   "execution_count": null,
   "id": "22586b68-94bb-4734-b314-3ea1d8ae2b4b",
   "metadata": {},
   "outputs": [],
   "source": [
    "SELECT_AGG_COLUMN = widgets.Combobox(description=\"Group by\")"
   ]
  },
  {
   "cell_type": "code",
   "execution_count": null,
   "id": "bbb61dc4-51e3-4065-8aa3-4551949b5924",
   "metadata": {},
   "outputs": [],
   "source": [
    "TEXT_QUERY = widgets.Textarea(\n",
    "    description='Query filter:',\n",
    "    value=\"*\",\n",
    "    continuous_update=True\n",
    ")"
   ]
  },
  {
   "cell_type": "code",
   "execution_count": null,
   "id": "37fec9c7-8079-4162-9ca9-647f00f43a5c",
   "metadata": {},
   "outputs": [],
   "source": [
    "SELECT_COLUMNS = widgets.SelectMultiple(\n",
    "    values=DEFAULT_COLUMNS,\n",
    "    options=col_names(), \n",
    "    description=\"Columns\",\n",
    "    rows=20,\n",
    "    ensure_option=True,\n",
    ")"
   ]
  },
  {
   "cell_type": "code",
   "execution_count": null,
   "id": "125ba949-1e9c-4226-bb26-4f8a5842d5d5",
   "metadata": {},
   "outputs": [],
   "source": [
    "SELECT_COLUMN = widgets.Combobox(\n",
    "    values=DEFAULT_COLUMNS,\n",
    "    options=col_names(),\n",
    "    description=\"Columns\",\n",
    ")"
   ]
  },
  {
   "cell_type": "code",
   "execution_count": null,
   "id": "6d6c643c-e50e-465a-b68b-02f621edb4f0",
   "metadata": {},
   "outputs": [],
   "source": [
    "SORT_COLUMNS = widgets.SelectMultiple(\n",
    "    options=col_names(), \n",
    "    description=\"Columns\",\n",
    "    rows=10,\n",
    "    ensure_option=True,\n",
    ")"
   ]
  },
  {
   "cell_type": "code",
   "execution_count": null,
   "id": "3b2c4402-d8b9-4466-866a-edad328d85fe",
   "metadata": {},
   "outputs": [],
   "source": [
    "COLUMN_SELECTION = widgets.SelectMultiple(\n",
    "    options=col_names(),\n",
    "    description=\"Columns subset\",\n",
    "    rows=20,\n",
    "    ensure_option=True,\n",
    ")"
   ]
  },
  {
   "cell_type": "code",
   "execution_count": null,
   "id": "82104278-824b-4ab6-a27b-96a398308f2d",
   "metadata": {},
   "outputs": [],
   "source": [
    "SLIDER_MAX_DOCS = widgets.IntSlider(\n",
    "    value=1000,\n",
    "    min=100,\n",
    "    max=10000,\n",
    "    description=\"Number of documents to pull\"\n",
    ")"
   ]
  },
  {
   "cell_type": "code",
   "execution_count": null,
   "id": "7ef864af-5945-49ae-912e-fa4cfa9c5d2d",
   "metadata": {},
   "outputs": [],
   "source": [
    "from msticpy.transform import IoCExtract"
   ]
  },
  {
   "cell_type": "code",
   "execution_count": null,
   "id": "1c0a7f52-ce57-47d5-b924-2d691ed4289b",
   "metadata": {},
   "outputs": [],
   "source": [
    "ioc_extractor = IoCExtract()"
   ]
  },
  {
   "cell_type": "markdown",
   "id": "2c85b6f0-a0cf-4c70-a07f-1766c0c5d25f",
   "metadata": {
    "tags": []
   },
   "source": [
    "### Outputs"
   ]
  },
  {
   "cell_type": "code",
   "execution_count": null,
   "id": "84efaacf-12bb-4a18-9f59-258b9120a6c9",
   "metadata": {},
   "outputs": [],
   "source": [
    "OUTPUT_DEBUG = widgets.Output()"
   ]
  },
  {
   "cell_type": "markdown",
   "id": "d580f56a-744b-49e2-9b68-82c5d9d20d29",
   "metadata": {
    "jp-MarkdownHeadingCollapsed": true,
    "tags": []
   },
   "source": [
    "## Timepicker"
   ]
  },
  {
   "cell_type": "code",
   "execution_count": null,
   "id": "b076db8f-eee7-420b-abe9-d474dfb8f057",
   "metadata": {},
   "outputs": [],
   "source": [
    "from datetime import datetime, timedelta"
   ]
  },
  {
   "cell_type": "code",
   "execution_count": null,
   "id": "64bee5a7-3f44-4f1f-a536-1914beb63e41",
   "metadata": {},
   "outputs": [],
   "source": [
    "def update_time(time_from, time_to):\n",
    "    OUTPUT_DEBUG.clear_output()\n",
    "    with OUTPUT_DEBUG:\n",
    "        try:\n",
    "            c.set_query_timeframe(time_from, time_to)\n",
    "        except ValueError as err:\n",
    "            print(\"ERROR: %s\" % err)"
   ]
  },
  {
   "cell_type": "code",
   "execution_count": null,
   "id": "a2a662a7-aa47-447d-925b-cb37cd0e473d",
   "metadata": {},
   "outputs": [],
   "source": [
    "INTERACT_TIMEPICKER = widgets.interactive(update_time,\n",
    "                                          time_from=widgets.DatetimePicker(description='From', \n",
    "                                                                           disabled=False),\n",
    "                                          time_to=widgets.DatetimePicker(description='To', \n",
    "                                                                         disabled=False))"
   ]
  },
  {
   "cell_type": "markdown",
   "id": "28a31dcb-b795-4253-a9fa-d78f2a03a38c",
   "metadata": {
    "tags": []
   },
   "source": [
    "## Set up data ingest"
   ]
  },
  {
   "cell_type": "code",
   "execution_count": null,
   "id": "cf3a09af-01a8-4f5f-96f9-71e16f9f4b86",
   "metadata": {},
   "outputs": [],
   "source": [
    "TIME_COLS = [\"@timestamp\", \"timestamp\", \"http.date\"]"
   ]
  },
  {
   "cell_type": "code",
   "execution_count": null,
   "id": "188fe307-d8a8-4075-b1f2-c570c0219863",
   "metadata": {},
   "outputs": [],
   "source": [
    "def handler_pull_events(args):\n",
    "    c.set_page_size(SLIDER_MAX_DOCS.value)\n",
    "    OUTPUT_DEBUG.clear_output()\n",
    "    with OUTPUT_DEBUG:\n",
    "        global DF_EVENTS\n",
    "        DF_EVENTS = c.get_events_df(qfilter=TEXT_QUERY.value)\n",
    "        global DF_FILTER\n",
    "        DF_FILTER = DF_EVENTS\n",
    "        reorder_columns()\n",
    "        for ts in TIME_COLS:\n",
    "            if ts in list(DF_EVENTS.columns.values):\n",
    "                DF_EVENTS[ts] = pd.to_datetime(DF_EVENTS[ts])\n",
    "        with SELECT_COLUMNS.hold_trait_notifications():\n",
    "            SELECT_COLUMNS.options =  col_names()\n",
    "        with SELECT_COLUMN.hold_trait_notifications():\n",
    "            SELECT_COLUMN.options = col_names()\n",
    "            \n",
    "        if \"event_type\" in list(DF_EVENTS.columns.values):\n",
    "            with DROPDOWN_EVENT_TYPE.hold_trait_notifications():\n",
    "                DROPDOWN_EVENT_TYPE.options = [\"\"] + sorted(list(DF_EVENTS.event_type.unique()))\n",
    "        else:\n",
    "            print(\"event_type not in DF columns\")\n",
    "            \n",
    "        print(\"downloaded {} rows and {} columns\".format(len(DF_EVENTS), len(DF_EVENTS.columns.values)))\n",
    "        df_agg = DF_EVENTS.groupby(\"event_type\").agg({\n",
    "            \"event_type\": [\"count\"],\n",
    "        }).reset_index()\n",
    "        df_agg.columns = [\"event_type\", \"count\"]\n",
    "        SORT_COLUMNS.options = list(DF_EVENTS.columns.values)\n",
    "        display(df_agg)"
   ]
  },
  {
   "cell_type": "code",
   "execution_count": null,
   "id": "a130e400-5e8c-4f7c-af6c-8dab30bc6cce",
   "metadata": {},
   "outputs": [],
   "source": [
    "BUTTON_EVE_PULL = widgets.Button(description=\"Download EVE\")\n",
    "BUTTON_EVE_PULL.on_click(handler_pull_events)"
   ]
  },
  {
   "cell_type": "code",
   "execution_count": null,
   "id": "db5fbd1a-b680-456f-8dd7-94b069f6af85",
   "metadata": {},
   "outputs": [],
   "source": [
    "BOX_DOWNLOAD_EVE = widgets.HBox(\n",
    "    [\n",
    "        widgets.VBox([\n",
    "            INTERACT_TIMEPICKER,\n",
    "            TEXT_QUERY,\n",
    "            SELECT_COLUMNS,\n",
    "        ]),\n",
    "        widgets.VBox([\n",
    "            BUTTON_EVE_PULL,\n",
    "            SLIDER_MAX_DOCS,\n",
    "            OUTPUT_DEBUG\n",
    "        ])\n",
    "    ]\n",
    ")"
   ]
  },
  {
   "cell_type": "markdown",
   "id": "34efaa12-a5d2-41b4-b0df-10fa413e5459",
   "metadata": {
    "tags": []
   },
   "source": [
    "## Explore EVE"
   ]
  },
  {
   "cell_type": "code",
   "execution_count": null,
   "id": "a78d963b-d8a6-4ef5-a4b0-fcbf9a760510",
   "metadata": {},
   "outputs": [],
   "source": [
    "OUTPUT_EVE_DF = widgets.Output()"
   ]
  },
  {
   "cell_type": "code",
   "execution_count": null,
   "id": "5442b685-ab2a-49c4-b0ce-0e4f4f50bda6",
   "metadata": {},
   "outputs": [],
   "source": [
    "import re"
   ]
  },
  {
   "cell_type": "code",
   "execution_count": null,
   "id": "e63066f2-069e-46ec-9ee4-d794f3d164b1",
   "metadata": {},
   "outputs": [],
   "source": [
    "def handler_show_eve(limit: int, event_type: str, columns: list, sort: list, find_col: str, find_val: str):\n",
    "    pd.set_option('display.max_rows', limit)\n",
    "    pd.set_option('display.min_rows', limit)\n",
    "    \n",
    "    df_filter = DF_EVENTS\n",
    "    df_filter = df_filter.dropna(how=\"all\", axis=1)\n",
    "    if \"event_type\" in list(df_filter.columns.values):\n",
    "        df_filter = df_filter.loc[df_filter.event_type.str.contains(event_type)]\n",
    "    \n",
    "    if columns is not None and len(columns) > 0:\n",
    "        columns = [c for c in columns if c in list(df_filter.columns.values)]\n",
    "        df_filter = df_filter[list(columns)]\n",
    "        \n",
    "    if find_col != \"\" and find_val != \"\":\n",
    "        if find_col in list(df_filter.columns.values):\n",
    "            df_filter = df_filter.loc[pd.notna(df_filter[find_col])]\n",
    "            col = df_filter[find_col]\n",
    "            if col.dtype == \"object\":\n",
    "                df_filter = df_filter.loc[col.str.contains(find_val, flags=re.IGNORECASE)]\n",
    "            elif col.dtype == \"int64\":\n",
    "                df_filter = df_filter.loc[col == int(find_val)]\n",
    "            elif col.dtype == \"float64\":\n",
    "                df_filter = df_filter.loc[col.astype(int) == int(find_val)]\n",
    "            else:\n",
    "                OUTPUT_DEBUG.clear_output()\n",
    "                with OUTPUT_DEBUG:\n",
    "                    print(\"col {} is {}, supported are string an int\".format(find_col, col.dtype))\n",
    "        else:\n",
    "            OUTPUT_DEBUG.clear_output()\n",
    "            with OUTPUT_DEBUG:\n",
    "                print(\"col {} not in dataframe\".format(find_col))\n",
    "                \n",
    "    SELECT_AGG_COLUMN.options = col_names_subset()\n",
    "    COLUMN_SELECTION.options = col_names_subset()\n",
    "            \n",
    "    global DF_FILTER\n",
    "    DF_FILTER = df_filter\n",
    "    OUTPUT_EVE_DF.clear_output()\n",
    "    with OUTPUT_EVE_DF:\n",
    "        display(df_filter)"
   ]
  },
  {
   "cell_type": "code",
   "execution_count": null,
   "id": "3e856b31-6f3b-4307-b239-be50ae971aa6",
   "metadata": {},
   "outputs": [],
   "source": [
    "INTERACTIVE_EXPLORE_EVE = widgets.interactive(\n",
    "    handler_show_eve,\n",
    "    limit=widgets.IntSlider(\n",
    "        min=10,\n",
    "        max=1000,\n",
    "    ),\n",
    "    event_type=DROPDOWN_EVENT_TYPE,\n",
    "    columns=SELECT_COLUMNS,\n",
    "    sort=SORT_COLUMNS,\n",
    "    find_col=widgets.Combobox(options=list(DF_EVENTS.columns.values), description=\"Find column\"),\n",
    "    find_val=\"\",\n",
    ")"
   ]
  },
  {
   "cell_type": "code",
   "execution_count": null,
   "id": "a485de7a-3cae-46af-b418-0af3d258002b",
   "metadata": {},
   "outputs": [],
   "source": [
    "BOX_EVE_EXPLORE = widgets.VBox([\n",
    "    widgets.HBox([\n",
    "        widgets.VBox([\n",
    "            INTERACT_TIMEPICKER,\n",
    "            TEXT_QUERY,\n",
    "        ]),\n",
    "        INTERACTIVE_EXPLORE_EVE,\n",
    "        widgets.VBox([\n",
    "            OUTPUT_DEBUG\n",
    "        ])\n",
    "    ]),\n",
    "    OUTPUT_EVE_DF\n",
    "])"
   ]
  },
  {
   "cell_type": "markdown",
   "id": "a8d741c7-b70d-4319-8ff3-641997a9c41a",
   "metadata": {
    "tags": []
   },
   "source": [
    "## Aggregate"
   ]
  },
  {
   "cell_type": "code",
   "execution_count": null,
   "id": "b1b0d6bc-b2cb-4ba4-b263-8e84fd556d4c",
   "metadata": {},
   "outputs": [],
   "source": [
    "OUTPUT_AGG = widgets.Output()"
   ]
  },
  {
   "cell_type": "code",
   "execution_count": null,
   "id": "c2a7fcb7-9a49-4649-aac3-875751cb78cc",
   "metadata": {},
   "outputs": [],
   "source": [
    "DF_AGG = pd.DataFrame()"
   ]
  },
  {
   "cell_type": "code",
   "execution_count": null,
   "id": "c81ef7da-1688-4283-99e4-0e41d7fb2e10",
   "metadata": {},
   "outputs": [],
   "source": [
    "DROPDOWN_AGG_COLS = widgets.Dropdown(description=\"Explode column\")"
   ]
  },
  {
   "cell_type": "code",
   "execution_count": null,
   "id": "2a0530d0-e938-4e33-be64-11d709b67c4d",
   "metadata": {},
   "outputs": [],
   "source": [
    "SLIDER_LIMIT_AGG = widgets.IntSlider(\n",
    "    min=10,\n",
    "    max=150,\n",
    "    description=\"limit\"\n",
    ")"
   ]
  },
  {
   "cell_type": "code",
   "execution_count": null,
   "id": "bc5e8837-77d0-4f49-9e9c-c6ed2c74c99d",
   "metadata": {
    "tags": []
   },
   "outputs": [],
   "source": [
    "def handler_aggregate_events(args):\n",
    "    pd.set_option('display.max_rows', SLIDER_LIMIT_AGG.value)\n",
    "    pd.set_option('display.min_rows', SLIDER_LIMIT_AGG.value)\n",
    "    OUTPUT_AGG.clear_output()\n",
    "    with OUTPUT_AGG:\n",
    "        global DF_AGG\n",
    "        DF_AGG = (\n",
    "            DF_FILTER.fillna(\"\")\n",
    "            .dropna(axis=1, how=\"all\")\n",
    "            .groupby(SELECT_AGG_COLUMN.value)\n",
    "            .agg({\n",
    "                item: [\"min\", \"max\"] if item in TIME_COLS\n",
    "                #else [lambda x: x.nunique()] if item == \"flow_id\"\n",
    "                else [\"unique\"]\n",
    "                for item in list(DF_FILTER.columns.values)\n",
    "                if item != SELECT_AGG_COLUMN.value\n",
    "            })\n",
    "        )\n",
    "        DROPDOWN_AGG_COLS.options = [(t[0], t) for t in list(DF_AGG.columns.values)]\n",
    "        display(DF_AGG)"
   ]
  },
  {
   "cell_type": "code",
   "execution_count": null,
   "id": "00354bbe-b6fc-4216-8415-dd366a787efd",
   "metadata": {},
   "outputs": [],
   "source": [
    "BUTTON_EVE_AGG = widgets.Button(description=\"Aggregate EVE\")\n",
    "BUTTON_EVE_AGG.on_click(handler_aggregate_events)"
   ]
  },
  {
   "cell_type": "code",
   "execution_count": null,
   "id": "f97eb42b-96c5-45c1-8994-b2602d8efeb4",
   "metadata": {},
   "outputs": [],
   "source": [
    "def handler_explode_agg(args):\n",
    "    OUTPUT_DEBUG.clear_output()\n",
    "    with OUTPUT_DEBUG:\n",
    "        if DF_AGG.empty:\n",
    "            print(\"Please call aggregate EVE first, dataframe is empty\")\n",
    "            return\n",
    "    OUTPUT_AGG.clear_output()\n",
    "    with OUTPUT_AGG:\n",
    "        col = DROPDOWN_AGG_COLS.value\n",
    "        display(DF_AGG.explode(col))"
   ]
  },
  {
   "cell_type": "code",
   "execution_count": null,
   "id": "a9c7eaa6-fc20-402d-b7c2-17f687f4e9e0",
   "metadata": {},
   "outputs": [],
   "source": [
    "BUTTON_EVE_AGG_EXP = widgets.Button(description=\"Explode column\")\n",
    "BUTTON_EVE_AGG_EXP.on_click(handler_explode_agg)"
   ]
  },
  {
   "cell_type": "code",
   "execution_count": null,
   "id": "5f159cf6-0245-4d16-84fc-9393a9f2fea9",
   "metadata": {},
   "outputs": [],
   "source": [
    "BOX_AGGREGATE = widgets.VBox([\n",
    "    widgets.HBox([\n",
    "        widgets.VBox([\n",
    "            INTERACT_TIMEPICKER,\n",
    "            TEXT_QUERY,\n",
    "        ]),\n",
    "        widgets.VBox([\n",
    "            SLIDER_LIMIT_AGG,\n",
    "            SELECT_COLUMNS,\n",
    "            SELECT_AGG_COLUMN,\n",
    "            DROPDOWN_AGG_COLS,\n",
    "            BUTTON_EVE_AGG,\n",
    "            BUTTON_EVE_AGG_EXP\n",
    "        ]),\n",
    "        widgets.VBox([\n",
    "            OUTPUT_DEBUG\n",
    "        ])\n",
    "    ]),\n",
    "    OUTPUT_AGG\n",
    "])"
   ]
  },
  {
   "cell_type": "markdown",
   "id": "01f9af85-9e3e-4bba-b4ac-cee3f0de5ce1",
   "metadata": {
    "tags": []
   },
   "source": [
    "## Uniq values"
   ]
  },
  {
   "cell_type": "code",
   "execution_count": null,
   "id": "6e85f9a3-cef9-47d8-b5fd-306f919c2cab",
   "metadata": {},
   "outputs": [],
   "source": [
    "SELECT_FIELD = widgets.Combobox(options=UNIQ_FIELDS, value=\"flow_id\", description=\"Select\")"
   ]
  },
  {
   "cell_type": "code",
   "execution_count": null,
   "id": "ae6f5109-f881-4236-8ad2-42a631d6fc1a",
   "metadata": {},
   "outputs": [],
   "source": [
    "DF_UNIQ = pd.DataFrame()"
   ]
  },
  {
   "cell_type": "code",
   "execution_count": null,
   "id": "f06e8916-2fd7-49e8-9da5-1713c68833ae",
   "metadata": {},
   "outputs": [],
   "source": [
    "OUTPUT_UNIQUE = widgets.Output()"
   ]
  },
  {
   "cell_type": "code",
   "execution_count": null,
   "id": "48924d6c-7f7d-4aea-85ba-1b1301446999",
   "metadata": {},
   "outputs": [],
   "source": [
    "DROPDOWN_SORT_UNIQ = widgets.Dropdown(description=\"Sort\", options=[\"key\", \"doc_count\"], value=\"key\")"
   ]
  },
  {
   "cell_type": "code",
   "execution_count": null,
   "id": "e81fbaac-271a-4d4d-98fe-de763d5e06bd",
   "metadata": {},
   "outputs": [],
   "source": [
    "SLIDER_SHOW_UNIQ = widgets.IntSlider(\n",
    "    min=10,\n",
    "    max=1000,\n",
    "    description=\"Limit\"\n",
    ")"
   ]
  },
  {
   "cell_type": "code",
   "execution_count": null,
   "id": "610b3e2f-123a-4a3b-ad13-4af4876c9180",
   "metadata": {},
   "outputs": [],
   "source": [
    "TICKBOX_UNIQ_IOC = widgets.Checkbox(\n",
    "    value=False,\n",
    "    description='Extract IoC',\n",
    ")"
   ]
  },
  {
   "cell_type": "code",
   "execution_count": null,
   "id": "aa595b73-72e5-4889-887d-73d8228c05eb",
   "metadata": {},
   "outputs": [],
   "source": [
    "def handler_pull_data(args):\n",
    "    pd.set_option('display.max_rows', SLIDER_SHOW_UNIQ.value)\n",
    "    pd.set_option('display.min_rows', SLIDER_SHOW_UNIQ.value)\n",
    "    global DF_UNIQ\n",
    "    DF_UNIQ = pd.DataFrame(c.get_eve_unique_values(counts=\"yes\", field=SELECT_FIELD.value, qfilter=TEXT_QUERY.value))\n",
    "    OUTPUT_UNIQUE.clear_output()\n",
    "    with OUTPUT_UNIQUE:\n",
    "        if TICKBOX_UNIQ_IOC.value is True:\n",
    "            DF_UNIQ[\"ioc\"] = DF_UNIQ[\"key\"].apply(ioc_extractor.extract)\n",
    "            DF_IOC = DF_UNIQ.ioc.apply(pd.Series)\n",
    "            DF_UNIQ = pd.concat([DF_UNIQ, DF_IOC], axis=1)\n",
    "            DF_UNIQ = DF_UNIQ.drop(columns=[\"ioc\"])\n",
    "        if len(DF_UNIQ) == 0:\n",
    "            print(\"no data\")\n",
    "        else:\n",
    "            sort = DROPDOWN_SORT_UNIQ.value\n",
    "            display(DF_UNIQ.sort_values(by=sort, ascending=False if sort == \"doc_count\" else True))"
   ]
  },
  {
   "cell_type": "code",
   "execution_count": null,
   "id": "e27370b3-d3c5-47d5-bca8-768d318af0cd",
   "metadata": {},
   "outputs": [],
   "source": [
    "BUTTON_PULL_UNIQUE = widgets.Button(description=\"Pull unique values\")\n",
    "BUTTON_PULL_UNIQUE.on_click(handler_pull_data)"
   ]
  },
  {
   "cell_type": "code",
   "execution_count": null,
   "id": "af1629f0-097f-45aa-911d-afccd3db8760",
   "metadata": {},
   "outputs": [],
   "source": [
    "def handler_show_simple_uniq(args):\n",
    "    OUTPUT_UNIQUE.clear_output()\n",
    "    with OUTPUT_UNIQUE:\n",
    "        print(\"\\n\".join(sorted(list(DF_UNIQ.key.astype(str).unique()))))"
   ]
  },
  {
   "cell_type": "code",
   "execution_count": null,
   "id": "27cb8159-1d17-415a-8ca1-d9120e672843",
   "metadata": {},
   "outputs": [],
   "source": [
    "BUTTON_SHOW_SIMPLE = widgets.Button(description=\"Show simple values\")\n",
    "BUTTON_SHOW_SIMPLE.on_click(handler_show_simple_uniq)"
   ]
  },
  {
   "cell_type": "code",
   "execution_count": null,
   "id": "1e617ea1-112f-4592-a28b-7d09becad781",
   "metadata": {},
   "outputs": [],
   "source": [
    "BOX_UNIQUE = widgets.VBox([\n",
    "    widgets.HBox([\n",
    "        widgets.VBox([\n",
    "            INTERACT_TIMEPICKER,\n",
    "            TEXT_QUERY,\n",
    "        ]),\n",
    "        widgets.VBox([\n",
    "            SLIDER_SHOW_UNIQ,\n",
    "            SELECT_FIELD,\n",
    "            DROPDOWN_SORT_UNIQ,\n",
    "            TICKBOX_UNIQ_IOC,\n",
    "            BUTTON_PULL_UNIQUE,\n",
    "            BUTTON_SHOW_SIMPLE\n",
    "        ]),\n",
    "    ]),\n",
    "    OUTPUT_UNIQUE\n",
    "])"
   ]
  },
  {
   "cell_type": "markdown",
   "id": "abfa04fa-d009-49f6-a464-2a7c42e689fc",
   "metadata": {
    "jp-MarkdownHeadingCollapsed": true,
    "tags": []
   },
   "source": [
    "## Graph mining"
   ]
  },
  {
   "cell_type": "code",
   "execution_count": null,
   "id": "77cb38f5-9988-4d9f-b87b-8f7781f1e537",
   "metadata": {},
   "outputs": [],
   "source": [
    "OUTPUT_GRAPH_DEBUG = widgets.Output()"
   ]
  },
  {
   "cell_type": "code",
   "execution_count": null,
   "id": "73d4d7ea-0244-48c3-a451-2d6385238e5f",
   "metadata": {},
   "outputs": [],
   "source": [
    "OUTPUT_GRAPH = widgets.Output()"
   ]
  },
  {
   "cell_type": "code",
   "execution_count": null,
   "id": "c649481a-a4dd-4e92-9021-ac7e003dd1cc",
   "metadata": {},
   "outputs": [],
   "source": [
    "if \"FIELDS\" not in globals():\n",
    "    FIELDS = []\n",
    "if \"GRAPH\" not in globals():\n",
    "    GRAPH = None"
   ]
  },
  {
   "cell_type": "code",
   "execution_count": null,
   "id": "321c7adb-45a2-493a-9340-a06ed1bb5680",
   "metadata": {},
   "outputs": [],
   "source": [
    "GRAPH_RESOLUTIONS = [\n",
    "        \"480x360\",\n",
    "        \"960x540\",\n",
    "        \"1280x720\",\n",
    "        \"1600x900\",\n",
    "        \"1920x1080\",\n",
    "        \"2048x1080\",\n",
    "        \"2540x1440\",\n",
    "        \"3840x2160\"\n",
    "    ]"
   ]
  },
  {
   "cell_type": "code",
   "execution_count": null,
   "id": "122ced0d-1fb0-42a8-b14f-324a49cefb70",
   "metadata": {},
   "outputs": [],
   "source": [
    "DROPDOWN_GRAPH_REZ = widgets.Dropdown(\n",
    "    description=\"Graph size\",\n",
    "    options=GRAPH_RESOLUTIONS,\n",
    "    value=GRAPH_RESOLUTIONS[1]\n",
    ")"
   ]
  },
  {
   "cell_type": "code",
   "execution_count": null,
   "id": "f4d39d82-8334-4d1b-998e-02738ecb13de",
   "metadata": {},
   "outputs": [],
   "source": [
    "SLIDER_SIZE_GRAPH_COL = widgets.IntSlider(\n",
    "    value=500,\n",
    "    min=100,\n",
    "    max=5000,\n",
    "    description='Aggregation max size',\n",
    "    orientation='horizontal',\n",
    "    readout=True,\n",
    ")\n",
    "SLIDER_THRESH_GRAPH_DEGREE = widgets.FloatRangeSlider(\n",
    "    value=[0, 1],\n",
    "    min=0,\n",
    "    max=1,\n",
    "    step=0.001,\n",
    "    description=\"Degree: \",\n",
    "    continuous_update=False,\n",
    "    orientation='horizontal',\n",
    "    readout=True,\n",
    "    readout_format='.2f',\n",
    ")"
   ]
  },
  {
   "cell_type": "code",
   "execution_count": null,
   "id": "ad62f1fd-340b-4c37-90db-f78b001fd094",
   "metadata": {},
   "outputs": [],
   "source": [
    "DROPDOWN_FIELDS_GRAPH_SRC = widgets.Combobox(description=\"Src node\", options=UNIQ_FIELDS)\n",
    "DROPDOWN_FIELDS_GRAPH_DEST = widgets.Combobox(description=\"Dest node\", options=UNIQ_FIELDS)"
   ]
  },
  {
   "cell_type": "code",
   "execution_count": null,
   "id": "ead33b59-67c7-471c-943e-7e8f69bbd35d",
   "metadata": {},
   "outputs": [],
   "source": [
    "def handler_pull_graph_data(args):\n",
    "    OUTPUT_GRAPH_DEBUG.clear_output()\n",
    "    with OUTPUT_GRAPH_DEBUG:\n",
    "        display(print(\"Calling scirius\"))\n",
    "        global GRAPH\n",
    "        kwargs = {\n",
    "            \"col_src\": DROPDOWN_FIELDS_GRAPH_SRC.value,\n",
    "            \"col_dest\": DROPDOWN_FIELDS_GRAPH_DEST.value,\n",
    "            \"size_src\": SLIDER_SIZE_GRAPH_COL.value,\n",
    "            \"size_dest\": SLIDER_SIZE_GRAPH_COL.value,\n",
    "            \"qfilter\": TEXT_QUERY.value\n",
    "        }\n",
    "        event_type = DROPDOWN_EVENT_TYPE.value\n",
    "        if event_type not in (None, \"\", \"all\", \"any\"):\n",
    "            kwargs[\"event_type\"] = event_type\n",
    "        GRAPH = c.get_eve_fields_graph_nx(**kwargs)\n",
    "        display(\"call done, got {} nodes and {} edges\".format(len(GRAPH.nodes()), len(GRAPH.edges())))"
   ]
  },
  {
   "cell_type": "code",
   "execution_count": null,
   "id": "4fc2f663-980c-41f5-a307-212f0f57cd6f",
   "metadata": {},
   "outputs": [],
   "source": [
    "BUTTON_LOAD_GRAPH_DATA = widgets.Button(description=\"Pull graph data\")\n",
    "BUTTON_LOAD_GRAPH_DATA.on_click(handler_pull_graph_data)"
   ]
  },
  {
   "cell_type": "code",
   "execution_count": null,
   "id": "b490baa3-18da-4ee3-ae27-9443b5d4648b",
   "metadata": {},
   "outputs": [],
   "source": [
    "import networkx as nx\n",
    "import hvplot.networkx as hvnx\n",
    "import holoviews as hv\n",
    "from holoviews import opts\n",
    "from surianalytics.datamining import min_max_scaling"
   ]
  },
  {
   "cell_type": "code",
   "execution_count": null,
   "id": "4ac9deb2-c5e5-4494-90d0-ae57f08afdb3",
   "metadata": {},
   "outputs": [],
   "source": [
    "def handler_draw_graph(args):\n",
    "    OUTPUT_GRAPH.clear_output()\n",
    "    with OUTPUT_GRAPH:\n",
    "        if len(GRAPH.edges) == 0:\n",
    "            display(\"Missing graph data, please run query first\")\n",
    "            return\n",
    "\n",
    "        # use local graph object\n",
    "        g = GRAPH.copy()\n",
    "\n",
    "        # drop empty nodes (and connected edges) \n",
    "        # means missing eve field, no connection can be made\n",
    "        if \"\" in list(g.nodes()):\n",
    "            g.remove_node(\"\")\n",
    "\n",
    "        doc_counts = [attr[\"doc_count\"] for (src, dst, attr) in g.edges(data=True)]\n",
    "        doc_counts = np.log2(doc_counts)\n",
    "        doc_counts = min_max_scaling(pd.Series(doc_counts))\n",
    "\n",
    "        # add scaled doc counts to edges to serve as weights\n",
    "        for i, (src, dst, attr) in enumerate(g.edges(data=True)):\n",
    "            attr[\"scaled_doc_count\"] = doc_counts[i]\n",
    "\n",
    "        # discover node degree and scale the values\n",
    "        degree = [g.degree(n) for n in g.nodes()]\n",
    "        degree = min_max_scaling(pd.Series(degree))\n",
    "\n",
    "        to_remove = []\n",
    "        # drop nodes that do not match filtering criteria\n",
    "        for i, n in enumerate(g.nodes()):\n",
    "            if degree[i] > SLIDER_THRESH_GRAPH_DEGREE.value[1] or degree[i] < SLIDER_THRESH_GRAPH_DEGREE.value[0]:\n",
    "                to_remove.append(n)\n",
    "\n",
    "        for n in to_remove:\n",
    "            g.remove_node(n)\n",
    "\n",
    "        # calculate total number of docs for edges\n",
    "        doc_count_total_edge = np.sum([attr[\"doc_count\"] for (src, dst, attr) in g.edges(data=True)])\n",
    "\n",
    "        # locate source nodes\n",
    "        n_src = [i for i, (u, a) in enumerate(g.nodes(data=True)) if a[\"kind\"] == \"source\"]\n",
    "        # locate destination nodes\n",
    "        n_dst = [i for i, (u, a) in enumerate(g.nodes(data=True)) if a[\"kind\"] == \"destination\"]\n",
    "\n",
    "        # generate layout\n",
    "        pos = nx.layout.spring_layout(g)\n",
    "        \n",
    "        # parse resolution\n",
    "        rez = DROPDOWN_GRAPH_REZ.value\n",
    "        rez = rez.split(\"x\")\n",
    "        width = int(rez[0])\n",
    "        height = int(rez[1])\n",
    "\n",
    "        # generate nodes per kind\n",
    "        nodes_src = hvnx.draw_networkx_nodes(g, pos, nodelist=n_src, node_color='#A0CBE2').opts(width=width, height=height)\n",
    "        nodes_dst = hvnx.draw_networkx_nodes(g, pos, nodelist=n_dst, node_color=\"Orange\").opts(width=width, height=height)\n",
    "\n",
    "        # use kwargs to make parameter handling easier\n",
    "        edge_params = {\n",
    "            \"alpha\": 1,\n",
    "            \"edge_color\": 'scaled_doc_count', \n",
    "            \"edge_cmap\": 'viridis',\n",
    "            \"edge_width\": hv.dim('scaled_doc_count')*5\n",
    "        }\n",
    "        \n",
    "        \n",
    "\n",
    "        # generate edges\n",
    "        edges = hvnx.draw_networkx_edges(g, pos, **edge_params).opts(width=width, height=height)\n",
    "\n",
    "        # overlay nodes and edges\n",
    "        res = edges * nodes_src * nodes_dst\n",
    "\n",
    "        component_sizes = [len(c) for c in sorted(nx.connected_components(g), key=len, reverse=True) if len(c) > 1]\n",
    "\n",
    "        display(print(\"Number of documents for edges: {}\".format(doc_count_total_edge)))\n",
    "        display(print(\"Number of clusters: {}\".format(len(component_sizes))))\n",
    "        display(res)"
   ]
  },
  {
   "cell_type": "code",
   "execution_count": null,
   "id": "aaab8d16-e2e6-4681-b21b-43a86365c19c",
   "metadata": {},
   "outputs": [],
   "source": [
    "BUTTON_DRAW_GRAPH = widgets.Button(description=\"Draw graph\")\n",
    "BUTTON_DRAW_GRAPH.on_click(handler_draw_graph)"
   ]
  },
  {
   "cell_type": "code",
   "execution_count": null,
   "id": "ec52ea6c-13dd-4d4c-b552-3c29140cc21b",
   "metadata": {},
   "outputs": [],
   "source": [
    "BOX_GRAPH_MINE = widgets.VBox([\n",
    "    widgets.HBox([\n",
    "        widgets.VBox([\n",
    "            INTERACT_TIMEPICKER,\n",
    "            TEXT_QUERY,\n",
    "        ]),\n",
    "        widgets.VBox([\n",
    "            DROPDOWN_GRAPH_REZ,\n",
    "            DROPDOWN_EVENT_TYPE,\n",
    "            DROPDOWN_FIELDS_GRAPH_SRC,\n",
    "            DROPDOWN_FIELDS_GRAPH_DEST,\n",
    "            SLIDER_SIZE_GRAPH_COL,\n",
    "            SLIDER_THRESH_GRAPH_DEGREE,\n",
    "            BUTTON_LOAD_GRAPH_DATA,\n",
    "            BUTTON_DRAW_GRAPH\n",
    "        ]),\n",
    "        widgets.VBox([\n",
    "            OUTPUT_GRAPH_DEBUG\n",
    "        ])\n",
    "    ]),\n",
    "    OUTPUT_GRAPH\n",
    "])"
   ]
  },
  {
   "cell_type": "markdown",
   "id": "e01e721a-40a6-41cb-b8f1-0ad4ff9f3ee4",
   "metadata": {
    "tags": []
   },
   "source": [
    "## Timeline"
   ]
  },
  {
   "cell_type": "code",
   "execution_count": null,
   "id": "49697e3e-7af2-4b3f-a56e-00e977cc9fb3",
   "metadata": {},
   "outputs": [],
   "source": [
    "OUTPUT_TIMELINE = widgets.Output()"
   ]
  },
  {
   "cell_type": "code",
   "execution_count": null,
   "id": "cba4f163-427b-4dd8-b415-399276fdc441",
   "metadata": {},
   "outputs": [],
   "source": [
    "from msticpy.vis.timeline import display_timeline, display_timeline_values\n",
    "from msticpy.vis.timeline_duration import display_timeline_duration"
   ]
  },
  {
   "cell_type": "code",
   "execution_count": null,
   "id": "6eb7d61c-701f-44dd-91cf-3e3b6c47a430",
   "metadata": {},
   "outputs": [],
   "source": [
    "GRAPH_W = [r.split(\"x\")[0] for r in GRAPH_RESOLUTIONS]\n",
    "GRAPH_H = [r.split(\"x\")[1] for r in GRAPH_RESOLUTIONS]"
   ]
  },
  {
   "cell_type": "code",
   "execution_count": null,
   "id": "14045cce-f3a2-41ae-90ba-b12dd20f8a38",
   "metadata": {},
   "outputs": [],
   "source": [
    "DROPDOWN_TIMELINE_W = widgets.Dropdown(\n",
    "    description=\"Width\",\n",
    "    options=GRAPH_W,\n",
    "    value=GRAPH_W[1]\n",
    ")\n",
    "DROPDOWN_TIMELINE_H = widgets.Dropdown(\n",
    "    description=\"Height\",\n",
    "    options=GRAPH_H,\n",
    "    value=GRAPH_H[0]\n",
    ")"
   ]
  },
  {
   "cell_type": "code",
   "execution_count": null,
   "id": "c14f57ce-6c95-4800-bdab-65f86c1a386f",
   "metadata": {},
   "outputs": [],
   "source": [
    "def handler_draw_timeline(args):\n",
    "    group_by = SELECT_COLUMN.value\n",
    "    OUTPUT_TIMELINE.clear_output()\n",
    "    with OUTPUT_TIMELINE:\n",
    "        if group_by not in list(DF_FILTER.columns.values):\n",
    "            print(\"group by col {} not in filtered set, available are {}\".format(group_by, list(DF_FILTER.columns.values)))\n",
    "            return\n",
    "        display_timeline(\n",
    "            DF_FILTER.fillna(\"\"), \n",
    "            group_by=group_by, \n",
    "            #source_columns=[\"src_ip\", \"dest_ip\"],\n",
    "            time_column=\"timestamp\",\n",
    "            legend=\"right\",\n",
    "            width=int(DROPDOWN_TIMELINE_W.value),\n",
    "            height=int(DROPDOWN_TIMELINE_H.value)\n",
    "        )\n",
    "        display_timeline_duration(\n",
    "            DF_FILTER.fillna(\"\"), \n",
    "            group_by=group_by, \n",
    "            #source_columns=[\"src_ip\", \"dest_ip\"],\n",
    "            time_column=\"timestamp\",\n",
    "            #legend=\"right\",\n",
    "            width=int(DROPDOWN_TIMELINE_W.value),\n",
    "            height=int(DROPDOWN_TIMELINE_H.value)\n",
    "        )"
   ]
  },
  {
   "cell_type": "code",
   "execution_count": null,
   "id": "04ac041c-8960-4c6b-b02e-34a5a0858427",
   "metadata": {},
   "outputs": [],
   "source": [
    "BUTTON_DRAW = widgets.Button(description=\"Draw timeline\")\n",
    "BUTTON_DRAW.on_click(handler_draw_timeline)"
   ]
  },
  {
   "cell_type": "code",
   "execution_count": null,
   "id": "d28cfbcd-6423-41ca-9724-06f64df1288a",
   "metadata": {},
   "outputs": [],
   "source": [
    "BOX_TIMELINE = widgets.VBox([\n",
    "    widgets.HBox([\n",
    "        widgets.VBox([\n",
    "            INTERACT_TIMEPICKER,\n",
    "            TEXT_QUERY,\n",
    "            SELECT_COLUMNS\n",
    "        ]),\n",
    "        widgets.VBox([\n",
    "            DROPDOWN_TIMELINE_W,\n",
    "            DROPDOWN_TIMELINE_H,\n",
    "            SELECT_COLUMN,\n",
    "            BUTTON_DRAW,\n",
    "        ]),\n",
    "    ]),\n",
    "    OUTPUT_TIMELINE\n",
    "])"
   ]
  },
  {
   "cell_type": "markdown",
   "id": "ed8ac716-2dca-4b35-84a4-23d6234d515c",
   "metadata": {},
   "source": [
    "## IoC Extract"
   ]
  },
  {
   "cell_type": "code",
   "execution_count": null,
   "id": "f9ea2b82-8f41-4374-8165-8616e2595078",
   "metadata": {},
   "outputs": [],
   "source": [
    "DF_IOC = pd.DataFrame()"
   ]
  },
  {
   "cell_type": "code",
   "execution_count": null,
   "id": "0b7dec31-041c-477c-a8e5-b9e36f334c11",
   "metadata": {},
   "outputs": [],
   "source": [
    "OUTPUT_EXTRACT = widgets.Output()"
   ]
  },
  {
   "cell_type": "code",
   "execution_count": null,
   "id": "6756545e-b935-4173-a1e6-3af10e779a08",
   "metadata": {
    "tags": []
   },
   "outputs": [],
   "source": [
    "def apply_extract_ioc(x: str) -> dict:\n",
    "    if not isinstance(x, str):\n",
    "        return {}\n",
    "    return {\"raw\": x, \"ioc\": ioc_extractor.extract(x)}"
   ]
  },
  {
   "cell_type": "code",
   "execution_count": null,
   "id": "53dcea26-ab59-44cf-ae8d-61117ce7f919",
   "metadata": {},
   "outputs": [],
   "source": [
    "SLIDER_LIMIT_IOC = widgets.IntSlider(\n",
    "    min=25,\n",
    "    max=1000,\n",
    "    description=\"limit\"\n",
    ")"
   ]
  },
  {
   "cell_type": "code",
   "execution_count": null,
   "id": "5d6cfca2-d9f2-4996-85eb-efbb3b4cbcc1",
   "metadata": {},
   "outputs": [],
   "source": [
    "SLIDER_LIMIT_IOC_LEN = widgets.IntSlider(\n",
    "    min=50,\n",
    "    max=1000,\n",
    "    description=\"limit IoC length\"\n",
    ")"
   ]
  },
  {
   "cell_type": "code",
   "execution_count": null,
   "id": "2706b999-db2b-41af-b0e7-5686f3800f2f",
   "metadata": {},
   "outputs": [],
   "source": [
    "TICKBOX_RAW_COL = widgets.Checkbox(\n",
    "    value=False,\n",
    "    description='Show Raw column',\n",
    ")"
   ]
  },
  {
   "cell_type": "code",
   "execution_count": null,
   "id": "8b35bcae-cab4-4fae-8adf-6ee93977f9f1",
   "metadata": {},
   "outputs": [],
   "source": [
    "TICKBOX_AGG_VALUES = widgets.Checkbox(\n",
    "    value=False,\n",
    "    description='Aggregate values',\n",
    ")"
   ]
  },
  {
   "cell_type": "code",
   "execution_count": null,
   "id": "ef5299a3-164a-4593-be13-5cf926c72312",
   "metadata": {},
   "outputs": [],
   "source": [
    "def extract_ioc() -> pd.DataFrame:\n",
    "    df = DF_FILTER[list(COLUMN_SELECTION.value)]\n",
    "    extractions = []\n",
    "    for col in list(df.columns.values):\n",
    "        vals = df[col].apply(apply_extract_ioc)\n",
    "        for item in list(vals):\n",
    "            if \"ioc\" not in item or len(item[\"ioc\"]) == 0:\n",
    "                continue\n",
    "            for kind, dataset in item[\"ioc\"].items():\n",
    "                for val in dataset:\n",
    "                    d = {\n",
    "                        \"field\": col,\n",
    "                        \"kind\": kind,\n",
    "                        \"value\": val,\n",
    "                    }\n",
    "                    if TICKBOX_RAW_COL.value is True:\n",
    "                        d[\"raw\"] = item[\"raw\"]\n",
    "                    extractions.append(d)\n",
    "    return pd.DataFrame(extractions)"
   ]
  },
  {
   "cell_type": "code",
   "execution_count": null,
   "id": "cbe084ee-8e7b-4325-99f5-e20cb8f8a9fe",
   "metadata": {},
   "outputs": [],
   "source": [
    "def handler_extract_ioc(args):\n",
    "    pd.set_option('display.max_rows', SLIDER_LIMIT_IOC.value)\n",
    "    pd.set_option('display.min_rows', SLIDER_LIMIT_IOC.value)\n",
    "    OUTPUT_EXTRACT.clear_output()\n",
    "    with OUTPUT_EXTRACT:\n",
    "        print(\"starting, please be patient\")\n",
    "        \n",
    "        global DF_IOC\n",
    "        DF_IOC = pd.DataFrame(extract_ioc())\n",
    "        \n",
    "        print(\"done extracting\")\n",
    "        \n",
    "        df = DF_IOC.loc[DF_IOC.value.str.len() <= SLIDER_LIMIT_IOC_LEN.value]\n",
    "        if TICKBOX_AGG_VALUES.value is True:\n",
    "            display(df.groupby(\"value\").agg({\n",
    "                \"field\": \"unique\",\n",
    "                \"kind\": \"unique\"\n",
    "            }).reset_index().sort_values(by=\"value\"))\n",
    "        else:\n",
    "            display(df.sort_values(by=[\"kind\", \"value\"]))"
   ]
  },
  {
   "cell_type": "code",
   "execution_count": null,
   "id": "b42b2487-848c-44fb-ba68-19537b323d1a",
   "metadata": {},
   "outputs": [],
   "source": [
    "BUTTON_EXTRACT_IOC = widgets.Button(description=\"Extract IoCs\")\n",
    "BUTTON_EXTRACT_IOC.on_click(handler_extract_ioc)"
   ]
  },
  {
   "cell_type": "code",
   "execution_count": null,
   "id": "0b0b1af0-86e1-4d9c-a78a-4f6132af0af0",
   "metadata": {},
   "outputs": [],
   "source": [
    "def handler_show_ioc(limit: int):\n",
    "    pd.set_option('display.max_rows', SLIDER_LIMIT_IOC.value)\n",
    "    pd.set_option('display.min_rows', SLIDER_LIMIT_IOC.value)\n",
    "    OUTPUT_EXTRACT.clear_output()\n",
    "    with OUTPUT_EXTRACT:\n",
    "        df = DF_IOC.loc[DF_IOC.value.str.len() <= SLIDER_LIMIT_IOC_LEN.value]\n",
    "        if TICKBOX_AGG_VALUES.value is True:\n",
    "            display(df.groupby(\"value\").agg({\n",
    "                \"field\": \"unique\",\n",
    "                \"kind\": \"unique\"\n",
    "            }).reset_index().sort_values(by=\"value\"))\n",
    "        else:\n",
    "            display(df.sort_values(by=[\"kind\", \"value\"]))"
   ]
  },
  {
   "cell_type": "code",
   "execution_count": null,
   "id": "88daf7f9-da93-48c3-a124-19d0f5c39e55",
   "metadata": {},
   "outputs": [],
   "source": [
    "INTERACTIVE_SLIDER = widgets.interactive(handler_show_ioc, limit=SLIDER_LIMIT_IOC)"
   ]
  },
  {
   "cell_type": "code",
   "execution_count": null,
   "id": "c2d129bb-53fa-4915-8b02-2a7a963a78f0",
   "metadata": {},
   "outputs": [],
   "source": [
    "BOX_IOC_EXTRACT = widgets.VBox([\n",
    "    widgets.HBox([\n",
    "        widgets.VBox([\n",
    "            INTERACT_TIMEPICKER,\n",
    "            TEXT_QUERY,\n",
    "            SELECT_COLUMNS\n",
    "        ]),\n",
    "        widgets.VBox([\n",
    "            INTERACTIVE_SLIDER,\n",
    "            SLIDER_LIMIT_IOC_LEN,\n",
    "            COLUMN_SELECTION,\n",
    "            TICKBOX_RAW_COL,\n",
    "            TICKBOX_AGG_VALUES,\n",
    "            BUTTON_EXTRACT_IOC\n",
    "        ]),\n",
    "    ]),\n",
    "    OUTPUT_EXTRACT\n",
    "])"
   ]
  },
  {
   "cell_type": "code",
   "execution_count": null,
   "id": "d6276965-3374-4371-9e0d-87b974d6002b",
   "metadata": {},
   "outputs": [],
   "source": [
    "import pandas as pd\n",
    "pd.set_option('display.max_columns', None)\n",
    "pd.set_option('max_colwidth', 150)"
   ]
  },
  {
   "cell_type": "code",
   "execution_count": null,
   "id": "1c439969-d03c-4255-a737-2769585442d3",
   "metadata": {},
   "outputs": [],
   "source": [
    "from surianalytics.widgets.explorer import Explorer"
   ]
  },
  {
   "cell_type": "code",
   "execution_count": null,
   "id": "0f439e8e-1b85-4e78-894f-66c96457f8b1",
   "metadata": {},
   "outputs": [],
   "source": [
    "explorer = Explorer()"
   ]
  },
  {
   "cell_type": "code",
   "execution_count": null,
   "id": "09fbf9f1-2bf0-4429-91ba-551547cfbb53",
   "metadata": {},
   "outputs": [],
   "source": [
    "explorer.display()"
   ]
  }
 ],
 "metadata": {
  "kernelspec": {
   "display_name": "Python 3 (ipykernel)",
   "language": "python",
   "name": "python3"
  },
  "language_info": {
   "codemirror_mode": {
    "name": "ipython",
    "version": 3
   },
   "file_extension": ".py",
   "mimetype": "text/x-python",
   "name": "python",
   "nbconvert_exporter": "python",
   "pygments_lexer": "ipython3",
   "version": "3.10.9"
  }
 },
 "nbformat": 4,
 "nbformat_minor": 5
}
