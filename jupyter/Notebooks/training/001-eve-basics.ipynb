{
 "cells": [
  {
   "cell_type": "markdown",
   "id": "7d73d5f2-f1ef-4404-acf1-effe0ac3b8d3",
   "metadata": {},
   "source": [
    "# Extensible Event Format (EVE)"
   ]
  },
  {
   "cell_type": "markdown",
   "id": "16d84bc5-7671-4734-b4c3-4c17f8c71adf",
   "metadata": {},
   "source": [
    "## Intro"
   ]
  },
  {
   "cell_type": "markdown",
   "id": "e1ddccb8-0208-4b4e-ac14-91996eb385b1",
   "metadata": {},
   "source": [
    "* Suricata is not just IDS;\n",
    "* Lot of protocol parsers;\n",
    "* Need to parse a protocol in order to implement alerting;\n",
    "* Logging the parsed data is a no brainer;\n",
    "* EVE stands for Extensible Event Format;"
   ]
  },
  {
   "cell_type": "markdown",
   "id": "f0f610b6-395a-4d8f-a752-5c4618724c9a",
   "metadata": {},
   "source": [
    "## Starting to learn"
   ]
  },
  {
   "cell_type": "markdown",
   "id": "af95ad91-64a2-4eea-980f-726e2599ce65",
   "metadata": {},
   "source": [
    "* Full JSON logging of protocol metadata;\n",
    "* More in [official documentation](https://docs.suricata.io/en/latest/output/eve/eve-json-output.html);\n",
    "* Good resource to learn is [Malware Traffic Analysis (dot net)](https://www.malware-traffic-analysis.net/)\n",
    "* Let's investigate a [PCAP containing web scanner samples](https://www.malware-traffic-analysis.net/2024/06/08/index.html)"
   ]
  },
  {
   "cell_type": "code",
   "execution_count": null,
   "id": "a9f9a81d-a466-415f-a889-7139f3f246c4",
   "metadata": {},
   "outputs": [],
   "source": [
    "import pandas as pd\n",
    "import json"
   ]
  },
  {
   "cell_type": "code",
   "execution_count": null,
   "id": "6293e1b8-314e-4014-9c07-d4e255910969",
   "metadata": {
    "tags": []
   },
   "outputs": [],
   "source": [
    "with open(\"./data/01/eve.json\", \"r\") as handle:\n",
    "    DF = pd.json_normalize([json.loads(l) for l in handle])"
   ]
  },
  {
   "cell_type": "code",
   "execution_count": null,
   "id": "993b97ec-b7ac-4dbb-b290-c8998cf112a0",
   "metadata": {
    "tags": []
   },
   "outputs": [],
   "source": [
    "DF"
   ]
  },
  {
   "cell_type": "markdown",
   "id": "59111adf-7d39-423b-9bb1-37d54ee0d0d3",
   "metadata": {},
   "source": [
    "## Where to begin???"
   ]
  },
  {
   "cell_type": "markdown",
   "id": "b25a5c2a-2620-4da5-9dad-9248e80038fe",
   "metadata": {},
   "source": [
    "* Lot to inspect, where to begin???\n",
    "    * Firstly, let's see how much data we actually have;\n",
    "    * Secondly, let's just pick a subset;\n",
    "    * Thirdly, let's inspect interesting values;\n",
    "* Move from that after initial familiarization;\n",
    "* Hunting is based on:\n",
    "    * Experience & intuition;\n",
    "    * Familiarity with data;\n",
    "* First time around is always confusing, so start small;"
   ]
  },
  {
   "cell_type": "code",
   "execution_count": null,
   "id": "353895ea-d1ff-4c3e-afbd-70b55424f5d6",
   "metadata": {
    "tags": []
   },
   "outputs": [],
   "source": [
    "len(DF)"
   ]
  },
  {
   "cell_type": "markdown",
   "id": "165bb34d-62d6-4eaa-a0c0-ad4e7604b18b",
   "metadata": {},
   "source": [
    "## Event Type"
   ]
  },
  {
   "cell_type": "markdown",
   "id": "1c4c2d45-3381-4a38-9d77-f0a3024f6958",
   "metadata": {},
   "source": [
    "* To reiterate **protocol log is produced regardless if flow alerted or not**\n",
    "* `event_type` field refers to what kind of event we're dealing with\n",
    "* `alert` is emitted ASAP\n",
    "* `flow` is emitted at the end\n",
    "    * `alert` has `flow` section but it's partial\n",
    "* individual protocol events are emitted as they are observed in the flow"
   ]
  },
  {
   "cell_type": "code",
   "execution_count": null,
   "id": "21d05766-b7f9-445a-9a40-670c2d4bdcdc",
   "metadata": {
    "tags": []
   },
   "outputs": [],
   "source": [
    "list(DF.event_type.unique())"
   ]
  },
  {
   "cell_type": "code",
   "execution_count": null,
   "id": "1ca4a25c-f8d7-4a55-87d5-b30b2aa4fccd",
   "metadata": {
    "tags": []
   },
   "outputs": [],
   "source": [
    "(\n",
    "    DF\n",
    "    .groupby(\"event_type\")\n",
    "    .agg({\"event_type\": [\"count\"]})\n",
    "    .sort_values(by=[(\"event_type\", \"count\")], ascending=False)\n",
    ")"
   ]
  },
  {
   "cell_type": "markdown",
   "id": "f7affaf1-6425-481f-ac3b-b6f63e682d50",
   "metadata": {},
   "source": [
    "### Investigating the first event type"
   ]
  },
  {
   "cell_type": "markdown",
   "id": "2ed4bdda-d73a-4a29-a055-1d5dbb8c91d6",
   "metadata": {},
   "source": [
    "* Notice - more HTTP events than alerts\n",
    "* Even more flows!\n",
    "* Many connections with no corresponding alerts\n",
    "* Not a comprehensive list of fields!\n",
    "* Some fields more relevant to hunting than others"
   ]
  },
  {
   "cell_type": "code",
   "execution_count": null,
   "id": "7d8988ae-4700-4e21-b459-e42076bec837",
   "metadata": {
    "tags": []
   },
   "outputs": [],
   "source": [
    "(\n",
    "    DF\n",
    "    .loc[DF.event_type==\"http\"][\n",
    "    [c for c in list(DF.columns.values) if c.startswith(\"http.\")]]\n",
    "    .dropna(how=\"all\", axis=1)\n",
    ")"
   ]
  },
  {
   "cell_type": "markdown",
   "id": "e0f35ff4-5033-4283-a8d5-702238f0ac39",
   "metadata": {},
   "source": [
    "## Let's pick some fields to investigate"
   ]
  },
  {
   "cell_type": "markdown",
   "id": "73a77e2e-ff18-4277-b867-196c93bcc3a2",
   "metadata": {},
   "source": [
    "### HTTP Hostname"
   ]
  },
  {
   "cell_type": "markdown",
   "id": "d1b5be23-265a-4dab-8241-6d98bacde45f",
   "metadata": {},
   "source": [
    "* Start with HTTP - main event type for scanning traffic;\n",
    "* Pick a medium cardinality field which should always be there;\n",
    "* Know the field - should be a FQDN;\n",
    "* Therefore, IP address as http hostname usually indicates scripted tooling;\n",
    "* Notice anomalies!\n",
    "* Hackers and their tools often do not behave like regular users;\n",
    "* Sometimes they also mess it up!"
   ]
  },
  {
   "cell_type": "code",
   "execution_count": null,
   "id": "ce025d43-ff81-40d9-a264-12da08924050",
   "metadata": {
    "tags": []
   },
   "outputs": [],
   "source": [
    "(\n",
    "    DF\n",
    "    .loc[DF.event_type==\"http\"][\n",
    "    [c for c in list(DF.columns.values) if c.startswith(\"http.\")]]\n",
    "    .dropna(how=\"all\")\n",
    "    [\"http.hostname\"]\n",
    "    .unique()\n",
    ")"
   ]
  },
  {
   "cell_type": "markdown",
   "id": "0c0b5c3a-a7fe-4c2f-88be-c373d7545124",
   "metadata": {},
   "source": [
    "### Hostname - takeaways"
   ]
  },
  {
   "cell_type": "markdown",
   "id": "4eb790a0-efb4-4e4d-a182-86b32820d5f8",
   "metadata": {},
   "source": [
    "* Hunans use domain names, IP addresses are for scripts and malware;\n",
    "    * Only legit use-case is internal services;\n",
    "    * Anything inbound / outbound is usually suspicious;\n",
    "* Missing hostname is is low-hanging fruit\n",
    "    * HTTP server needs a hostname in order to serve anything;\n",
    "    * Could be mistake, could be hail mary against wrong service;\n",
    "* `%!s(missing)` is a format string error pattern;\n",
    "    * Meaning attacker messed up their script;"
   ]
  },
  {
   "cell_type": "markdown",
   "id": "c088e5fd-43db-4531-8cf9-c783d5deb5b3",
   "metadata": {},
   "source": [
    "### HTTP User-Agent"
   ]
  },
  {
   "cell_type": "markdown",
   "id": "2d545c7e-7517-4d45-92d0-d4850d42e6f7",
   "metadata": {},
   "source": [
    "* Very high cardinality field;\n",
    "* Inspecting all values unrealistic;\n",
    "* But clear patterns emerge;\n",
    "* Simply unique values reveals a lot;"
   ]
  },
  {
   "cell_type": "code",
   "execution_count": null,
   "id": "7ed3e25e-3064-4b8e-933e-301b06654882",
   "metadata": {
    "tags": []
   },
   "outputs": [],
   "source": [
    "DATA_UA = (\n",
    "    DF\n",
    "    .loc[DF.event_type==\"http\"][\n",
    "    [c for c in list(DF.columns.values) if c.startswith(\"http.\")]]\n",
    "    .dropna(how=\"all\")\n",
    "    [\"http.http_user_agent\"]\n",
    "    .dropna()\n",
    "    .unique()\n",
    ")\n",
    "DATA_UA = list(DATA_UA)\n",
    "DATA_UA = sorted(DATA_UA)\n",
    "DATA_UA"
   ]
  },
  {
   "cell_type": "markdown",
   "id": "75b0f18c-6b4f-4423-96d1-7dd40e9d43a1",
   "metadata": {},
   "source": [
    "### UA takeaways"
   ]
  },
  {
   "cell_type": "markdown",
   "id": "4de62a37-652c-45fd-929e-81c49be746a4",
   "metadata": {},
   "source": [
    "* UA field is under full control of the client;\n",
    "* Real ones are created by browser;\n",
    "* Specifies browser versions - thus high cardinality;\n",
    "* Scanners have default user-agents that attackers do not bother changing;\n",
    "* Dropping frequent patterns reveals a lot;"
   ]
  },
  {
   "cell_type": "code",
   "execution_count": null,
   "id": "a3d7f2ba-badc-476c-9ffb-41856b1d636f",
   "metadata": {
    "tags": []
   },
   "outputs": [],
   "source": [
    "[d for d in DATA_UA if not d.startswith(\"Mozilla/5.0\")]"
   ]
  },
  {
   "cell_type": "markdown",
   "id": "0075e190-d1ac-4813-82dd-3dacbc8cbe7a",
   "metadata": {},
   "source": [
    "### URL"
   ]
  },
  {
   "cell_type": "markdown",
   "id": "28e37c86-035a-4d2a-99f8-08c32eee827b",
   "metadata": {},
   "source": [
    "* Again, patterns emerge;\n",
    "* So do anomalies;\n",
    "    * Path traversal attempts;\n",
    "    * Command injections;\n",
    "    * Typically, `http.url` from Suricata is normalized without hostname;"
   ]
  },
  {
   "cell_type": "code",
   "execution_count": null,
   "id": "0e3d8a44-436c-4ecd-9bb8-7899d0e587f3",
   "metadata": {
    "tags": []
   },
   "outputs": [],
   "source": [
    "sorted(list((\n",
    "    DF\n",
    "    .loc[DF.event_type==\"http\"][\n",
    "    [c for c in list(DF.columns.values) if c.startswith(\"http.\")]]\n",
    "    .dropna(how=\"all\")\n",
    "    [\"http.url\"]\n",
    "    .dropna()\n",
    "    .unique()\n",
    ")))"
   ]
  },
  {
   "cell_type": "markdown",
   "id": "27b1db7c-6297-4984-a718-dfc673af4849",
   "metadata": {},
   "source": [
    "## Anomaly example - HTTP Method"
   ]
  },
  {
   "cell_type": "markdown",
   "id": "b1be3c04-ad9b-43be-8b64-750301e3229d",
   "metadata": {},
   "source": [
    "* Know your data!\n",
    "* HTTP Methods are well defined;\n",
    "* Anything outside of those is an indicator;\n",
    "* Now investigate distinct values;"
   ]
  },
  {
   "cell_type": "code",
   "execution_count": null,
   "id": "213beac1-6166-4316-8656-6ab98ede6567",
   "metadata": {
    "tags": []
   },
   "outputs": [],
   "source": [
    "sorted(list((\n",
    "    DF\n",
    "    .loc[DF.event_type==\"http\"][\n",
    "    [c for c in list(DF.columns.values) if c.startswith(\"http.\")]]\n",
    "    .dropna(how=\"all\")\n",
    "    [\"http.http_method\"]\n",
    "    .dropna()\n",
    "    .unique()\n",
    ")))"
   ]
  },
  {
   "cell_type": "markdown",
   "id": "1960c345-22cf-4989-9dfd-249c01710394",
   "metadata": {},
   "source": [
    "### What is happening?"
   ]
  },
  {
   "cell_type": "markdown",
   "id": "59fc5062-0041-4be5-a3ac-b0fb625387b5",
   "metadata": {},
   "source": [
    "* We have to *guestimate*, many things are possible;\n",
    "* Could be exploit attempt by fuzzing HTTP header fields;\n",
    "* Could be malformed request where other fields are fuzzed and overflow into method;\n",
    "* We can perform forensics from those values;"
   ]
  },
  {
   "cell_type": "code",
   "execution_count": null,
   "id": "85844cdc-f187-4612-a1f5-043939803085",
   "metadata": {
    "tags": []
   },
   "outputs": [],
   "source": [
    "import binascii\n",
    "V = binascii.hexlify(\"\\x00\\x00\\x00\\x00\\x00\\x00\\x00\\x00\\x00\\x00\\x00\\x00\\x00\\x00\\x00\\x00\\x00\\x00\\x00\\x00\".encode())\n",
    "V"
   ]
  },
  {
   "cell_type": "markdown",
   "id": "0d21cd10-c8aa-47ca-a8ed-bfef14b666c4",
   "metadata": {},
   "source": [
    "## Fileinfo"
   ]
  },
  {
   "cell_type": "markdown",
   "id": "5d381364-86e1-4478-8f61-aa03af88b538",
   "metadata": {},
   "source": [
    "* `http` event triggers off HTTP *request*;\n",
    "* Maybe no data was exchanged;\n",
    "* If the server returned a file, then Suricata presents the response in `fileinfo` event;\n",
    "* Argubly more significant since client could request anything with no impact;"
   ]
  },
  {
   "cell_type": "code",
   "execution_count": null,
   "id": "a6f09223-f01b-4dcb-ab3b-c6078fa42e58",
   "metadata": {
    "tags": []
   },
   "outputs": [],
   "source": [
    "sorted(list((\n",
    "    DF\n",
    "    .loc[DF.event_type == \"fileinfo\"]\n",
    "    .dropna(how=\"all\", axis=1)\n",
    "    [\"fileinfo.filename\"]\n",
    "    .unique()\n",
    ")))"
   ]
  },
  {
   "cell_type": "markdown",
   "id": "d792b1d2-4570-4dad-b8e4-080525be02b1",
   "metadata": {},
   "source": [
    "### Fileinfo - takeaways"
   ]
  },
  {
   "cell_type": "markdown",
   "id": "7318b4db-d368-4b8a-aa3b-2273526dd8f8",
   "metadata": {},
   "source": [
    "* Emitted if client downloads a file;\n",
    "* HTML document returned to a browser *is a file*;\n",
    "* Could be a 404 page as well...;\n",
    "* Has additional metadata;\n",
    "    * file hash;\n",
    "    * Magic and mime type;\n",
    "    * Size metadata"
   ]
  },
  {
   "cell_type": "code",
   "execution_count": null,
   "id": "d3a8943f-d449-4e5a-aac4-eff7425a6e55",
   "metadata": {
    "tags": []
   },
   "outputs": [],
   "source": [
    "pd.set_option('display.max_columns', None)"
   ]
  },
  {
   "cell_type": "code",
   "execution_count": null,
   "id": "d9d3c4f1-b9e8-4e50-8ff0-20f317009d3e",
   "metadata": {
    "tags": []
   },
   "outputs": [],
   "source": [
    "(\n",
    "    DF\n",
    "    .loc[DF.event_type == \"fileinfo\"]\n",
    "    [[c for c in list(DF.columns.values) if c.startswith(\"fileinfo.\") or c.startswith(\"http.\")]]\n",
    "    .dropna(how=\"all\", axis=1)\n",
    ")"
   ]
  },
  {
   "cell_type": "markdown",
   "id": "92148478-7089-414b-854b-345463cbc68f",
   "metadata": {
    "tags": []
   },
   "source": [
    "## How to tie events together - Flow ID"
   ]
  },
  {
   "cell_type": "markdown",
   "id": "bddf6068-b7c4-44e8-8134-9a84320362e3",
   "metadata": {},
   "source": [
    "* Multiple events emitter per flow;\n",
    "* Each flow has unique `flow_id`;\n",
    "* Some protocols emit more than one event;\n",
    "* Unknown protocols will still emit `flow`;\n",
    "* Single flow with a lot of events can be an indicator;"
   ]
  },
  {
   "cell_type": "code",
   "execution_count": null,
   "id": "00de936e-8188-4e92-af66-f11e4c160616",
   "metadata": {
    "tags": []
   },
   "outputs": [],
   "source": [
    "DF_FLOW_ID = (\n",
    "    DF\n",
    "    .groupby(\"flow_id\")\n",
    "    .agg({\"flow_id\": [\"count\"]})\n",
    "    .sort_values(by=[(\"flow_id\", \"count\")], ascending=False)\n",
    ")\n",
    "DF_FLOW_ID"
   ]
  },
  {
   "cell_type": "markdown",
   "id": "008be9ae-432f-45fc-a0b1-b99d6a5ad1e8",
   "metadata": {
    "tags": []
   },
   "source": [
    "## Flow correlation"
   ]
  },
  {
   "cell_type": "markdown",
   "id": "a66e439b-dbbf-48c3-8dd8-68403ffcd2c9",
   "metadata": {},
   "source": [
    "* Flow correlation is the technique of tying together multiple events with same flow ID;\n",
    "* Pivot hunting:\n",
    "    * find interesting value;\n",
    "    * extract `flow_id`;\n",
    "    * query all events with that `flow_id`;\n",
    "    * then rinse and repeat;\n",
    "* Sometimes we can *kinda* get away without doing that;"
   ]
  },
  {
   "cell_type": "code",
   "execution_count": null,
   "id": "141721bf-f582-4545-904c-b0d113195b92",
   "metadata": {
    "tags": []
   },
   "outputs": [],
   "source": [
    "(\n",
    "    DF\n",
    "    .loc[DF[\"http.url\"] == \"mstshash=Administr\"]\n",
    "    .dropna(how=\"all\", axis=1)\n",
    ")"
   ]
  },
  {
   "cell_type": "markdown",
   "id": "27c3ad93-a30f-41bc-8120-e917bd86dc50",
   "metadata": {},
   "source": [
    "* Mostly we need to do it ourselves;\n",
    "* We might miss context without pivoting on `flow_id`;"
   ]
  },
  {
   "cell_type": "code",
   "execution_count": null,
   "id": "67b09ceb-4dd3-4714-b322-3d85690f199a",
   "metadata": {
    "tags": []
   },
   "outputs": [],
   "source": [
    "FLOW_ID = (\n",
    "    DF\n",
    "    .loc[DF[\"http.url\"] == \"mstshash=Administr\"]\n",
    "    .flow_id\n",
    "    .unique()\n",
    "    [0]\n",
    ")\n",
    "(\n",
    "    DF\n",
    "    .loc[DF.flow_id == FLOW_ID]\n",
    "    .dropna(how=\"all\", axis=1)\n",
    ")"
   ]
  },
  {
   "cell_type": "markdown",
   "id": "3133864a-4e02-43c3-9f94-84f7320cb033",
   "metadata": {},
   "source": [
    "## Investigating flows by event count"
   ]
  },
  {
   "cell_type": "markdown",
   "id": "a68ebacd-d383-4a19-97a3-e775df26d5ae",
   "metadata": {},
   "source": [
    "* Likewise, the sheer event count can be an indicator;\n",
    "* Consider the background context;"
   ]
  },
  {
   "cell_type": "code",
   "execution_count": null,
   "id": "af9f30d9-a87e-49df-a216-38e53688603f",
   "metadata": {
    "tags": []
   },
   "outputs": [],
   "source": [
    "import ipywidgets as widgets\n",
    "SELECTIONS = []\n",
    "for row, values in DF_FLOW_ID.iterrows():\n",
    "    events = values[(\"flow_id\", \"count\")]\n",
    "    if events > 2:\n",
    "        SELECTIONS.append((f\"{row}: events: {events}\", row))\n",
    "    \n",
    "def show(limit: int, fid: int):\n",
    "    pd.set_option('display.max_rows', limit)\n",
    "    pd.set_option('display.min_rows', limit)\n",
    "    pd.set_option('display.max_columns', None)\n",
    "            \n",
    "    return (\n",
    "        DF\n",
    "        .loc[DF.flow_id == fid]\n",
    "        .sort_values(by=[\"tx_id\"])\n",
    "        .dropna(how=\"all\", axis=1)\n",
    "    )\n",
    "\n",
    "widgets.interact(show, \n",
    "                 limit=widgets.IntSlider(min=5, max=300),\n",
    "                 fid=widgets.Dropdown(options=SELECTIONS))"
   ]
  },
  {
   "cell_type": "markdown",
   "id": "aa2e3e70-b671-4d49-a94b-4561bffa095a",
   "metadata": {},
   "source": [
    "## Pivoting with flow_id"
   ]
  },
  {
   "cell_type": "markdown",
   "id": "ce7cbd2d-0208-4282-8ce0-69964e751b1f",
   "metadata": {},
   "source": [
    "### Select field to investigate"
   ]
  },
  {
   "cell_type": "code",
   "execution_count": null,
   "id": "f26d61ac-366f-418c-9f7e-ce99b447a277",
   "metadata": {
    "tags": []
   },
   "outputs": [],
   "source": [
    "COMBO_COL = widgets.Combobox(options=list(DF.columns.values))\n",
    "COMBO_COL"
   ]
  },
  {
   "cell_type": "markdown",
   "id": "34c009fe-719f-47c3-baa0-183b6693e7ca",
   "metadata": {},
   "source": [
    "### Select interesting values to pivot on"
   ]
  },
  {
   "cell_type": "code",
   "execution_count": null,
   "id": "b803d9df-663e-4488-ac0e-bc980b995a6a",
   "metadata": {
    "tags": []
   },
   "outputs": [],
   "source": [
    "VALUES = sorted(list(DF[COMBO_COL.value].fillna(\"\").unique()))\n",
    "SELECT_MULTIPLE_VALUE = widgets.SelectMultiple(options=VALUES, rows=10)\n",
    "SELECT_MULTIPLE_VALUE"
   ]
  },
  {
   "cell_type": "markdown",
   "id": "27e30b24-fa7f-4a9e-9376-5d5c7fdbb045",
   "metadata": {},
   "source": [
    "### Query flows that hold those values"
   ]
  },
  {
   "cell_type": "code",
   "execution_count": null,
   "id": "1dec4b76-d66f-4f5e-bd5d-2dc6bf223ff8",
   "metadata": {
    "tags": []
   },
   "outputs": [],
   "source": [
    "FLOW_ID = (\n",
    "    DF\n",
    "    .loc[DF[COMBO_COL.value]\n",
    "    .isin(list(SELECT_MULTIPLE_VALUE.value))]\n",
    "    .flow_id\n",
    "    .unique()\n",
    ")\n",
    "DROPDOWN_FLOW_ID = widgets.SelectMultiple(options=FLOW_ID)\n",
    "DROPDOWN_FLOW_ID"
   ]
  },
  {
   "cell_type": "markdown",
   "id": "6a887f59-f878-44d0-b30a-7d5c68c1e04a",
   "metadata": {},
   "source": [
    "### Generate the report"
   ]
  },
  {
   "cell_type": "markdown",
   "id": "d82a8106-5e50-459e-b492-54756b06dfd3",
   "metadata": {},
   "source": [
    "* Likely too many irrelevant fields;\n",
    "* Select ones you need;"
   ]
  },
  {
   "cell_type": "code",
   "execution_count": null,
   "id": "085f2f0e-283f-4f1f-9bff-fe6b8270e667",
   "metadata": {
    "tags": []
   },
   "outputs": [],
   "source": [
    "DF_INSPECT = (\n",
    "    DF\n",
    "    .loc[DF.flow_id.isin(list(DROPDOWN_FLOW_ID.value))]\n",
    "    .sort_values(by=[\"flow_id\", \"tx_id\"])\n",
    "    .dropna(how=\"all\", axis=1)\n",
    ")"
   ]
  },
  {
   "cell_type": "code",
   "execution_count": null,
   "id": "b8c6f3f2-0550-43fb-87e3-61157d8940e3",
   "metadata": {
    "tags": []
   },
   "outputs": [],
   "source": [
    "COLUMNS = [\"timestamp\", \"flow_id\", \"src_ip\", \"dest_ip\", \"alert.signature\"]\n",
    "COLUMNS = COLUMNS + [c for c in list(DF.columns.values) if c.startswith(\"http.\") or c.startswith(\"fileinfo.\")]"
   ]
  },
  {
   "cell_type": "code",
   "execution_count": null,
   "id": "91897a1e-fc27-4044-b78c-b6864201d974",
   "metadata": {
    "tags": []
   },
   "outputs": [],
   "source": [
    "SELECT_MULTIPLE_COLS = widgets.SelectMultiple(\n",
    "    options=list(DF_INSPECT.columns.values), \n",
    "    rows=10,\n",
    "    value=[c for c in COLUMNS if c in list(DF_INSPECT.columns.values)]\n",
    ")\n",
    "SELECT_MULTIPLE_COLS"
   ]
  },
  {
   "cell_type": "code",
   "execution_count": null,
   "id": "48294c78-0c2e-4acd-9278-34ac2886a95e",
   "metadata": {
    "tags": []
   },
   "outputs": [],
   "source": [
    "pd.set_option('display.max_rows', 300)\n",
    "pd.set_option('display.min_rows', 300)\n",
    "DF_INSPECT[list(SELECT_MULTIPLE_COLS.value)]"
   ]
  },
  {
   "cell_type": "markdown",
   "id": "0c90197a-2dc0-4fef-96dc-3f504e80db36",
   "metadata": {},
   "source": [
    "## Aggregating the data"
   ]
  },
  {
   "cell_type": "markdown",
   "id": "390acf37-8f6e-4a9b-84c9-01f7deee21bf",
   "metadata": {},
   "source": [
    "* Investigating every flow manually is a pain;\n",
    "* Aggregations help;\n",
    "* Select a *relatively low cardinality field*;\n",
    "* Look into unique values and counts of relevant fields;"
   ]
  },
  {
   "cell_type": "code",
   "execution_count": null,
   "id": "6ad36ce4-5798-40e5-ab8a-9b4353a09d0f",
   "metadata": {
    "tags": []
   },
   "outputs": [],
   "source": [
    "AGGS = {\n",
    "    \"timestamp\": [\"min\", \"max\", \"count\"],\n",
    "    \"http.hostname\": [\"unique\", \"nunique\"],\n",
    "    \"http.url\": [\"unique\", \"nunique\"],\n",
    "    \"http.http_user_agent\": [\"unique\", \"nunique\"],\n",
    "    \"alert.signature\": [\"unique\", \"nunique\"],\n",
    "    \"fileinfo.magic\": [\"unique\", \"nunique\"],\n",
    "    \"http.http_method\": [\"unique\", \"nunique\"],\n",
    "    \"src_ip\": [\"unique\", \"nunique\"],\n",
    "    \"dest_ip\": [\"unique\", \"nunique\"],\n",
    "}"
   ]
  },
  {
   "cell_type": "code",
   "execution_count": null,
   "id": "abdbab1b-39d5-4350-86ad-14001e70596f",
   "metadata": {
    "tags": []
   },
   "outputs": [],
   "source": [
    "pd.set_option('display.max_rows', 50)\n",
    "pd.set_option('display.min_rows', 50)"
   ]
  },
  {
   "cell_type": "code",
   "execution_count": null,
   "id": "f34c7e24-e87f-400c-9b19-1e4f8ae2f633",
   "metadata": {
    "tags": []
   },
   "outputs": [],
   "source": [
    "DF.groupby(\"http.hostname\").agg(AGGS)"
   ]
  },
  {
   "cell_type": "markdown",
   "id": "c72d029f-ebfe-431d-83d0-17026cbca867",
   "metadata": {},
   "source": [
    "### Use multiple aggregation points"
   ]
  },
  {
   "cell_type": "markdown",
   "id": "6ae0ce6b-178f-47fb-ab20-5d35dd7ccd93",
   "metadata": {},
   "source": [
    "* Look at the data from multiple angles!\n",
    "* Missing values can throw you off;\n",
    "* Notice how prior example did not show weird `http.http_method` values;\n",
    "* Bacause `http.hostname` was missing for those events;"
   ]
  },
  {
   "cell_type": "code",
   "execution_count": null,
   "id": "4a4e6a66-df5b-47c4-a8e7-4e7c48a2c083",
   "metadata": {
    "tags": []
   },
   "outputs": [],
   "source": [
    "DF.groupby(\"http.http_method\").agg(AGGS)"
   ]
  },
  {
   "cell_type": "code",
   "execution_count": null,
   "id": "2180662c-61e5-413a-b6b9-6af3914c9b60",
   "metadata": {},
   "outputs": [],
   "source": []
  }
 ],
 "metadata": {
  "kernelspec": {
   "display_name": "Python 3 (ipykernel)",
   "language": "python",
   "name": "python3"
  },
  "language_info": {
   "codemirror_mode": {
    "name": "ipython",
    "version": 3
   },
   "file_extension": ".py",
   "mimetype": "text/x-python",
   "name": "python",
   "nbconvert_exporter": "python",
   "pygments_lexer": "ipython3",
   "version": "3.13.1"
  }
 },
 "nbformat": 4,
 "nbformat_minor": 5
}
