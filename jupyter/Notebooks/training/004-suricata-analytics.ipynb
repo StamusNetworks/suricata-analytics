{
 "cells": [
  {
   "cell_type": "markdown",
   "id": "fb5bef2d-c393-4780-89b5-c09b6ee29fe1",
   "metadata": {},
   "source": [
    "# Suricata Analytics"
   ]
  },
  {
   "cell_type": "markdown",
   "id": "74a631fc-9343-4605-af5a-7f821ebc7bce",
   "metadata": {},
   "source": [
    "## Background"
   ]
  },
  {
   "cell_type": "markdown",
   "id": "3df44c38-4255-42a3-b3ce-8062c76a480a",
   "metadata": {},
   "source": [
    "* Prepared tools are great, *but*;\n",
    "    * Specific ones are often too restrictive;\n",
    "    * Generic ones solve all problems *well enough*;\n",
    "* Lessons learned while developing a product;\n",
    "    * Analytics moves fasters;\n",
    "    * Backend is easy to patch in;\n",
    "    * Figuring out a feature is *hard*;\n",
    "    * Building good UX is even harder;\n",
    "    * Frankensteins cannot be avoided;\n",
    "    * Figuring out analytics AND building UX at the same time - **bad idea**;\n",
    "* I love [Arkime](https://arkime.com/) for NSM hunting;\n",
    "    * Access and pivot from any indexed value;\n",
    "    * Focus on raw data, not alerts;\n",
    "    * Best hunting UI ever - white text file with unique value listings;"
   ]
  },
  {
   "cell_type": "markdown",
   "id": "0ed3a129-0f1b-48f1-b412-7376d77c63c8",
   "metadata": {},
   "source": [
    "## What if"
   ]
  },
  {
   "cell_type": "markdown",
   "id": "a7198fe0-a9d4-4c8b-bb2b-1173114d435d",
   "metadata": {},
   "source": [
    "* Analytics and backend could move faster than presentation;\n",
    "* We had a public test ground for ideas;\n",
    "* Feedback loop from real users was faster;\n",
    "* We could do unique value listings per query;"
   ]
  },
  {
   "cell_type": "markdown",
   "id": "735f1ab9-29e7-4596-919a-34c651f9d608",
   "metadata": {},
   "source": [
    "## REST API to the rescue"
   ]
  },
  {
   "cell_type": "markdown",
   "id": "7e25eb6a-1fcc-4d96-b811-f7e0b4f559af",
   "metadata": {},
   "source": [
    "* Scirius is built on REST model;\n",
    "    * every frontend component actually queries backend API;\n",
    "    * structured framework - `qfilter`, timestamp handling, etc;\n",
    "    * some endpoints already existed - `events_tail`;\n",
    "    * new ones pretty easy to add - unique, graph, etc;"
   ]
  },
  {
   "cell_type": "markdown",
   "id": "2a02a9c3-912b-4e6f-b3aa-3e38266ddd31",
   "metadata": {},
   "source": [
    "## How to query REST API "
   ]
  },
  {
   "cell_type": "markdown",
   "id": "d54b2ea6-0ded-49c2-8e6e-6c54929007c4",
   "metadata": {},
   "source": [
    "```bash\n",
    "curl -XGET \"https://$SCS/rest/rules/es/alerts_count/\" \\\n",
    "    -H \"Authorization: Token $TOKEN\" \\\n",
    "    -H 'Content-Type: application/json'\n",
    "```\n",
    "\n",
    "```json\n",
    "{\n",
    "  \"prev_doc_count\": 0,\n",
    "  \"doc_count\": 810605\n",
    "}\n",
    "```"
   ]
  },
  {
   "cell_type": "markdown",
   "id": "e06d616b-edf5-42f4-96cc-4292c0ef3956",
   "metadata": {},
   "source": [
    "## Using python"
   ]
  },
  {
   "cell_type": "code",
   "execution_count": null,
   "id": "81c3212c-b2d3-484f-a2e2-1bf857a11b73",
   "metadata": {},
   "outputs": [],
   "source": [
    "host = \"CHANGEME\"\n",
    "token = \"CHANGEME\""
   ]
  },
  {
   "cell_type": "code",
   "execution_count": null,
   "id": "96bdd5dd-cb13-4385-871d-571bb1cccdaa",
   "metadata": {},
   "outputs": [],
   "source": [
    "import requests\n",
    "URL = f\"https://{host}/rest/rules/es/events_tail\"\n",
    "HEADERS = {\n",
    "    \"Authorization\": f\"Token {token}\"\n",
    "}"
   ]
  },
  {
   "cell_type": "code",
   "execution_count": null,
   "id": "c9e658e7-bc4e-4945-a108-ad0b1099320d",
   "metadata": {},
   "outputs": [],
   "source": [
    "import urllib3\n",
    "urllib3.disable_warnings(urllib3.exceptions.InsecureRequestWarning)"
   ]
  },
  {
   "cell_type": "code",
   "execution_count": null,
   "id": "a23416e9-ccbe-40ad-8c94-69d7db2306a1",
   "metadata": {},
   "outputs": [],
   "source": [
    "GET_PARAMS = {\n",
    "    \"qfilter\": \"event_type: http AND http.url: *wget*\",\n",
    "    \"page_size\": 100\n",
    "}"
   ]
  },
  {
   "cell_type": "code",
   "execution_count": null,
   "id": "1ac28d48-f7d9-4604-9f98-f268555c210c",
   "metadata": {},
   "outputs": [],
   "source": [
    "resp = requests.get(URL,\n",
    "                    headers=HEADERS,\n",
    "                    verify=False,\n",
    "                    params=GET_PARAMS)"
   ]
  },
  {
   "cell_type": "markdown",
   "id": "132c864f-e039-4830-b44c-c4535b7d7357",
   "metadata": {},
   "source": [
    "## Problem?"
   ]
  },
  {
   "cell_type": "markdown",
   "id": "0e94a9f3-f0c0-49d8-adcb-2cd5ce64f875",
   "metadata": {},
   "source": [
    "* Lot of boilerplate;\n",
    "* We don't want to commit secrets;\n",
    "* Ongoing UX gets messy;\n",
    "* Deal with data cleaning / preparation;\n",
    "* Do it in *every* notebook;\n",
    "* What if something changes?\n",
    "* Jupyter is great...but using it as IDE is like coding in MS Word;\n",
    "    * Write-only-code;\n",
    "    * Developing a notebook - making a new one and copy-pasting code from old ones;"
   ]
  },
  {
   "cell_type": "markdown",
   "id": "badc372f-6cba-4998-a81c-03f731b26dfe",
   "metadata": {},
   "source": [
    "## Solution"
   ]
  },
  {
   "cell_type": "markdown",
   "id": "555b7fe3-7ebe-4c32-a9f8-437d217be161",
   "metadata": {},
   "source": [
    "* Why not hide the boilerplate behind importable python lib;\n",
    "* Easier to develop the python code;\n",
    "* No need to deal with authentication, data fetching, data cleaning, etc in every notebook;\n",
    "* *Just get to the data ASAP*;"
   ]
  },
  {
   "cell_type": "markdown",
   "id": "6286a66e-b756-4ffd-a8ad-93af9b410b95",
   "metadata": {},
   "source": [
    "## Original idea (TM)??"
   ]
  },
  {
   "cell_type": "markdown",
   "id": "ec61bc43-d16e-4766-ba77-9d703dfc56ab",
   "metadata": {},
   "source": [
    "* Nope;\n",
    "* [Infosec Jupyterthon](https://infosecjupyterthon.com/introduction.html)\n",
    "* [MSTICPy](https://github.com/microsoft/msticpy)"
   ]
  },
  {
   "cell_type": "markdown",
   "id": "a53eaeeb-ad52-4b83-8463-d65d577c5641",
   "metadata": {},
   "source": [
    "## Suricata Analytics"
   ]
  },
  {
   "cell_type": "markdown",
   "id": "0c5712d3-1ac3-4f33-9dcd-4c06b08ce1aa",
   "metadata": {},
   "source": [
    "* [Open Source Project](https://git.stamus-networks.com/devel/suricata-analytics);\n",
    "* Python library;\n",
    "    * API Connector;\n",
    "    * Data prep;\n",
    "    * Importable widgets;\n",
    "    * Misc helpers;\n",
    "* Notebook repository;\n",
    "* Kibana dashboards;"
   ]
  },
  {
   "cell_type": "markdown",
   "id": "a2bc33ff-19cf-46c9-9070-9addd2a64465",
   "metadata": {},
   "source": [
    "## Basic setup"
   ]
  },
  {
   "cell_type": "markdown",
   "id": "2398ddda-c53c-44be-9012-d34326ac5b15",
   "metadata": {},
   "source": [
    "### Clone the repository"
   ]
  },
  {
   "cell_type": "markdown",
   "id": "74a2c0a3-9ed5-45b5-a3ce-a6bb21ed4c9f",
   "metadata": {},
   "source": [
    "```bash\n",
    "git clone https://github.com/StamusNetworks/suricata-analytics.git\n",
    "cd suricata-analytics\n",
    "```"
   ]
  },
  {
   "cell_type": "markdown",
   "id": "c774d7a0-cb86-4c27-85ca-bfce8b24f743",
   "metadata": {},
   "source": [
    "### Install in virtual env"
   ]
  },
  {
   "cell_type": "markdown",
   "id": "e8f6fa8d-2461-4562-a5f7-1cd9308e34b8",
   "metadata": {},
   "source": [
    "```bash\n",
    "python -m .venv venv\n",
    "source .venv/bin/activate\n",
    "pip install .\n",
    "```"
   ]
  },
  {
   "cell_type": "markdown",
   "id": "69a685c6-8ea3-4a21-b822-7d4847a0b56d",
   "metadata": {},
   "source": [
    "### Install jupyterlab"
   ]
  },
  {
   "cell_type": "markdown",
   "id": "20db8057-b151-4b4a-b9f4-067760bf48b3",
   "metadata": {},
   "source": [
    "```bash\n",
    "pip install -r requirements.txt\n",
    "```"
   ]
  },
  {
   "cell_type": "markdown",
   "id": "0b6d21f2-b6bf-45af-b354-cf3e20e05622",
   "metadata": {},
   "source": [
    "### Set up authentication"
   ]
  },
  {
   "cell_type": "markdown",
   "id": "128f5aa2-79ce-496b-abc0-1d96d8ae53e3",
   "metadata": {},
   "source": [
    "```bash\n",
    "cp .env.example .env\n",
    "```\n",
    "\n",
    "```bash\n",
    "# This is the scirius API token you can generate under Account Settings -> Edit Token\n",
    "SCIRIUS_TOKEN=<TOKEN VALUE>\n",
    "# This points to SELKS / Scirius / SSP manager instance\n",
    "SCIRIUS_HOST=<IP or Hostname>\n",
    "# Set to \"no\" if your SELKS / Scirius / SSP manager uses self-signed HTTPS certificate\n",
    "SCIRIUS_TLS_VERIFY=yes\n",
    "```"
   ]
  },
  {
   "cell_type": "markdown",
   "id": "22ed355c-3a2d-414f-9242-f82c44fa2a22",
   "metadata": {},
   "source": [
    "### Start the jupyter server"
   ]
  },
  {
   "cell_type": "markdown",
   "id": "f04f4ea0-a3a8-4ede-9b43-1cdfe4b63bad",
   "metadata": {},
   "source": [
    "```bash\n",
    "jupyter lab\n",
    "```\n",
    "\n",
    "* http://localhost:8888\n",
    "* +1 port is in use;\n",
    "* Startup sequence will autodirect with auth token;\n",
    "* Link with token also visible on CLI;"
   ]
  },
  {
   "cell_type": "markdown",
   "id": "4c27dece-56a9-42e6-8d59-5ad045970e2a",
   "metadata": {},
   "source": [
    "## Basic usage"
   ]
  },
  {
   "cell_type": "code",
   "execution_count": null,
   "id": "501413c1-bd0d-4e0b-9575-d99fda84d531",
   "metadata": {
    "tags": []
   },
   "outputs": [],
   "source": [
    "from surianalytics.connectors import RESTSciriusConnector"
   ]
  },
  {
   "cell_type": "code",
   "execution_count": null,
   "id": "95f0afd5-cad9-4981-a5f4-84717924b563",
   "metadata": {
    "tags": []
   },
   "outputs": [],
   "source": [
    "CONNECTOR = RESTSciriusConnector()"
   ]
  },
  {
   "cell_type": "code",
   "execution_count": null,
   "id": "4cc30637-7bd0-45c7-870b-b344ab5fd121",
   "metadata": {},
   "outputs": [],
   "source": [
    "CONNECTOR.get_unique_fields()[:10]"
   ]
  },
  {
   "cell_type": "code",
   "execution_count": null,
   "id": "2d43fb7b-36e5-4c74-9d37-03c40ad7ff70",
   "metadata": {},
   "outputs": [],
   "source": [
    "CONNECTOR.last_request"
   ]
  },
  {
   "cell_type": "markdown",
   "id": "87a60519-012d-44bc-8076-8a1e5b7f1e3f",
   "metadata": {},
   "source": [
    "## Basic usage"
   ]
  },
  {
   "cell_type": "code",
   "execution_count": null,
   "id": "04fee94b-f0ba-42b2-8ac4-949a40d02ff3",
   "metadata": {},
   "outputs": [],
   "source": [
    "DF = CONNECTOR.get_events_df(qfilter=\"event_type: http\")"
   ]
  },
  {
   "cell_type": "code",
   "execution_count": null,
   "id": "b9549b21-b2a1-4d8c-ba51-1309978b3fca",
   "metadata": {},
   "outputs": [],
   "source": [
    "DF"
   ]
  },
  {
   "cell_type": "markdown",
   "id": "287c9bb3-085e-4966-8c44-c5f4d46759d3",
   "metadata": {},
   "source": [
    "## Typical usage"
   ]
  },
  {
   "cell_type": "markdown",
   "id": "707ae50f-b8cb-47c4-869c-85ec603c0ffe",
   "metadata": {},
   "source": [
    "### Setting core parameters"
   ]
  },
  {
   "cell_type": "markdown",
   "id": "139c0805-c058-484d-b19c-9d82893ef7fc",
   "metadata": {},
   "source": [
    "Page size hacks around pagination to increase the amount of data fetched. Maximum is 10k."
   ]
  },
  {
   "cell_type": "code",
   "execution_count": null,
   "id": "1bdf3a6f-ccbe-4dad-8aaf-2b6b54ebad0b",
   "metadata": {},
   "outputs": [],
   "source": [
    "CONNECTOR.page_size = 10000"
   ]
  },
  {
   "cell_type": "markdown",
   "id": "02ec7e72-992a-4393-a3f7-b144f9cd9eaa",
   "metadata": {},
   "source": [
    "Query timeframe can be changed in many ways. But query delta setter is the easiest."
   ]
  },
  {
   "cell_type": "code",
   "execution_count": null,
   "id": "cf423566-70ce-477e-ad9b-e17d17b3a49c",
   "metadata": {},
   "outputs": [],
   "source": [
    "CONNECTOR.set_query_delta(minutes=15)"
   ]
  },
  {
   "cell_type": "markdown",
   "id": "be60c93e-c521-4234-8d97-cc1f5ec9e5ab",
   "metadata": {},
   "source": [
    "Basefilter will be concatenated with query filter with logical AND."
   ]
  },
  {
   "cell_type": "code",
   "execution_count": null,
   "id": "7c7d3431-0e72-42f9-bb9a-e63b581f008b",
   "metadata": {},
   "outputs": [],
   "source": [
    "CONNECTOR.basefilter = \"event_type: http\""
   ]
  },
  {
   "cell_type": "markdown",
   "id": "40bca30c-eac9-4772-840b-492f25c150f6",
   "metadata": {},
   "source": [
    "### Event fetch"
   ]
  },
  {
   "cell_type": "markdown",
   "id": "7c04b1e5-5f81-4537-921f-2663070ba04f",
   "metadata": {},
   "source": [
    "* `qfilter`is a kibana query;\n",
    "* Can be omitted if you are happy with `basfilter`;\n",
    "* Data Frame is a two dimentional tabular data structure with labeled axes;\n",
    "* Method converts the response into [pandas](https://pandas.pydata.org/) dataframe;\n",
    "    * Go-to data manipulation tool for data scientists;\n",
    "    * Insipred by statistical languages like R;\n",
    "    * Everything is a vector;\n",
    "    * Ton of built-in methods to *wrangle* the data;"
   ]
  },
  {
   "cell_type": "code",
   "execution_count": null,
   "id": "6dad2601-6c92-4625-97a7-3f5216c29bfd",
   "metadata": {},
   "outputs": [],
   "source": [
    "DF = CONNECTOR.get_events_df(qfilter=\"dest_port: [* TO 1000] AND NOT dest_port: (80 OR 8080)\")\n",
    "DF"
   ]
  },
  {
   "cell_type": "markdown",
   "id": "fc0d17e6-f697-4684-a183-fe6f0b7fd281",
   "metadata": {},
   "source": [
    "### Where to even start?"
   ]
  },
  {
   "cell_type": "markdown",
   "id": "f9b6dd04-6021-4237-afa7-7a9cfd2b037c",
   "metadata": {},
   "source": [
    "* Unique value listings are your friend;\n",
    "* Some stuff is more interesting than other;"
   ]
  },
  {
   "cell_type": "code",
   "execution_count": null,
   "id": "717b2885-3a9f-48a8-9617-5d65308f65fa",
   "metadata": {},
   "outputs": [],
   "source": [
    "DF.dest_port.unique()"
   ]
  },
  {
   "cell_type": "markdown",
   "id": "ed1fe8b1-8a62-428b-be7b-3b447a86a516",
   "metadata": {},
   "source": [
    "We need to know what fields are actually available."
   ]
  },
  {
   "cell_type": "code",
   "execution_count": null,
   "id": "8c8b645a-2bd9-4771-8ada-5b4b9f86a795",
   "metadata": {},
   "outputs": [],
   "source": [
    "list(DF.columns.values)"
   ]
  },
  {
   "cell_type": "markdown",
   "id": "97e4f4ba-73ee-4310-8b29-d857608b7696",
   "metadata": {},
   "source": [
    "### Data wrangling"
   ]
  },
  {
   "cell_type": "markdown",
   "id": "70cddc36-7f1c-4b16-b7dd-26246e1dfcd3",
   "metadata": {},
   "source": [
    "Pandas truncates large frames to avoid exploding the browser."
   ]
  },
  {
   "cell_type": "code",
   "execution_count": null,
   "id": "57b4c6cc-8b3a-40f8-af02-3488e68d02a1",
   "metadata": {},
   "outputs": [],
   "source": [
    "import pandas as pd"
   ]
  },
  {
   "cell_type": "markdown",
   "id": "a8f5f561-eb57-4be1-9f4c-5d08a5e53bff",
   "metadata": {},
   "source": [
    "Show more rows."
   ]
  },
  {
   "cell_type": "code",
   "execution_count": null,
   "id": "aa715f1f-ebe5-4ef9-8390-6b5c813f81cc",
   "metadata": {},
   "outputs": [],
   "source": [
    "pd.set_option('display.max_rows', 50)\n",
    "pd.set_option('display.min_rows', 50)"
   ]
  },
  {
   "cell_type": "markdown",
   "id": "d62fc462-a0ec-4287-8081-a1d5542f40b3",
   "metadata": {},
   "source": [
    "Show *all* columns."
   ]
  },
  {
   "cell_type": "code",
   "execution_count": null,
   "id": "cc925549-da6f-40d1-a4c0-492995c2c88a",
   "metadata": {},
   "outputs": [],
   "source": [
    "pd.set_option('display.max_columns', None)"
   ]
  },
  {
   "cell_type": "markdown",
   "id": "6c6e660f-9025-40dd-89e4-d0ffc8db1fe9",
   "metadata": {},
   "source": [
    "Show more data per column."
   ]
  },
  {
   "cell_type": "code",
   "execution_count": null,
   "id": "238980bb-3312-48f1-a15f-26bb5075f6b7",
   "metadata": {},
   "outputs": [],
   "source": [
    "pd.set_option('display.max_colwidth', 150)"
   ]
  },
  {
   "cell_type": "markdown",
   "id": "4649d3b4-b32b-49cb-9e1a-616ab6697799",
   "metadata": {},
   "source": [
    "### Inspecting the raw events"
   ]
  },
  {
   "cell_type": "markdown",
   "id": "6f0645aa-523c-4554-a74b-bd9b9d29b0d7",
   "metadata": {},
   "source": [
    "* Filter interesting field;\n",
    "* Omit missing values;\n",
    "* Only inspect relevant fields;\n",
    "    * We can do it programmatically;\n",
    "* Drop empty columns;\n",
    "* Sort values;\n",
    "    * Can use multiple fields for hierarchical sorting;"
   ]
  },
  {
   "cell_type": "code",
   "execution_count": null,
   "id": "d23901a1-deb8-4183-b793-30dd92a936f6",
   "metadata": {},
   "outputs": [],
   "source": [
    "(\n",
    "    DF\n",
    "    .loc[DF.dest_port == 443]\n",
    "    .loc[pd.notna(DF[\"http.hostname\"])]\n",
    "    [\n",
    "        [\"timestamp\", \"src_ip\", \"src_port\", \"dest_ip\", \"dest_port\"] + \n",
    "        [c for c in list(DF.columns.values) if c.startswith(\"http\")]\n",
    "    ]\n",
    "    .dropna(how=\"all\", axis=1)\n",
    "    .sort_values(by=[\"timestamp\"])\n",
    ")"
   ]
  },
  {
   "cell_type": "markdown",
   "id": "4b5b4a17-f673-405f-8cc5-e18afc1b0966",
   "metadata": {},
   "source": [
    "### Aggregating the data"
   ]
  },
  {
   "cell_type": "markdown",
   "id": "b1a3c7b1-6908-4902-b761-159371b136af",
   "metadata": {},
   "source": [
    "* Too much to inspect;\n",
    "* Aggregations provide a really nice overview;\n",
    "* *Unique values* and *number of unique values* for text fields;\n",
    "* Statistical view of numerics;\n",
    "* Min, max agg for timestamp == first_seen / last_seen;"
   ]
  },
  {
   "cell_type": "code",
   "execution_count": null,
   "id": "b3feac2e-2ae3-4d6c-af99-f70816b49164",
   "metadata": {},
   "outputs": [],
   "source": [
    "(\n",
    "    DF\n",
    "    .loc[DF.dest_port == 443]\n",
    "    .groupby(\"dest_ip\")\n",
    "    .agg({\n",
    "        \"timestamp\": [\"min\", \"max\", \"count\"],\n",
    "        \"src_ip\": [\"unique\", \"nunique\"],\n",
    "        \"http.hostname\": [\"unique\", \"nunique\"],\n",
    "        \"http.http_user_agent\": [\"unique\", \"nunique\"],\n",
    "        \"http.url\": [\"unique\", \"nunique\"],\n",
    "        \"http.length\": [\"min\", \"max\", \"mean\", \"median\"]\n",
    "    })\n",
    ")"
   ]
  },
  {
   "cell_type": "markdown",
   "id": "982d715c-7169-4d0d-af33-78e56fb6aac4",
   "metadata": {},
   "source": [
    "## Unique values"
   ]
  },
  {
   "cell_type": "markdown",
   "id": "42dc3fdb-fea4-4a44-b470-325451baee45",
   "metadata": {},
   "source": [
    "* Wrangling raw events provides a lot of value;\n",
    "* But takes a lot of effort;\n",
    "    * Hard to be consistent;\n",
    "* Arkime has the best hunting interface in the world - `unique.txt`;\n",
    "* Extracting unique values with pandas does not scale!\n",
    "* Scirius did not have unique value listing API endpoint;\n",
    "    * So I made one;"
   ]
  },
  {
   "cell_type": "markdown",
   "id": "26541a44-e382-4a9f-bbc2-4b2ba80f587d",
   "metadata": {},
   "source": [
    "### Initial query"
   ]
  },
  {
   "cell_type": "markdown",
   "id": "c7a9a540-344e-470f-9a12-5bd7ddb41cee",
   "metadata": {},
   "source": [
    "* Proceed from prior investigation;\n",
    "* Investigate plaintext HTTP to port 443;\n",
    "* Get simple listing;"
   ]
  },
  {
   "cell_type": "code",
   "execution_count": null,
   "id": "2403a57e-830f-47e2-aed9-da22f2304f04",
   "metadata": {},
   "outputs": [],
   "source": [
    "CONNECTOR.basefilter = \"event_type: HTTP AND dest_port: 443\""
   ]
  },
  {
   "cell_type": "code",
   "execution_count": null,
   "id": "4234d6b0-6a80-4d72-8afb-8bc9024d3fe6",
   "metadata": {},
   "outputs": [],
   "source": [
    "CONNECTOR.get_eve_unique_values(field=\"http.http_user_agent\")"
   ]
  },
  {
   "cell_type": "markdown",
   "id": "e14b26bf-79bb-41df-b41e-28df34615e97",
   "metadata": {},
   "source": [
    "Or to get a *txt* version for simple copy-paste."
   ]
  },
  {
   "cell_type": "code",
   "execution_count": null,
   "id": "7c97c9c0-3c76-403f-b53c-a69a44c42edf",
   "metadata": {},
   "outputs": [],
   "source": [
    "print(\"\\n\".join(CONNECTOR.get_eve_unique_values(field=\"http.http_user_agent\")))"
   ]
  },
  {
   "cell_type": "markdown",
   "id": "6ed1ea20-8d69-4191-8ef8-abb2f1459597",
   "metadata": {},
   "source": [
    "### Unique listing with counts"
   ]
  },
  {
   "cell_type": "markdown",
   "id": "04ac70b4-cce9-4978-8fcc-d05131d82472",
   "metadata": {},
   "source": [
    "* `counts` set to `yes` will return structured data;"
   ]
  },
  {
   "cell_type": "code",
   "execution_count": null,
   "id": "e9c0e452-f6a8-4c98-9714-6d1191aa4e8d",
   "metadata": {},
   "outputs": [],
   "source": [
    "CONNECTOR.get_eve_unique_values(field=\"http.url\", counts=\"yes\")"
   ]
  },
  {
   "cell_type": "markdown",
   "id": "82598033-82c5-4242-ad72-bc3d5bd3f868",
   "metadata": {},
   "source": [
    "* Pivot from interesting value, list out affected IP-s;"
   ]
  },
  {
   "cell_type": "code",
   "execution_count": null,
   "id": "2519ee74-b71f-4f76-b001-72dc46dd8b94",
   "metadata": {},
   "outputs": [],
   "source": [
    "pd.DataFrame(CONNECTOR.get_eve_unique_values(qfilter=\"http.url: \\\\/\", field=\"dest_ip\", counts=\"yes\"))"
   ]
  },
  {
   "cell_type": "markdown",
   "id": "17e711ea-80bf-4c8f-bb3a-975ea1073c47",
   "metadata": {},
   "source": [
    "## Graph mining"
   ]
  },
  {
   "cell_type": "code",
   "execution_count": null,
   "id": "4fef7854-9439-4c04-ba6c-da5cc97ae784",
   "metadata": {},
   "outputs": [],
   "source": [
    "G = CONNECTOR.get_eve_fields_graph_nx(qfilter=\"http.url: \\\\/\", col_src=\"dest_ip\", col_dest=\"http.http_user_agent\", size_src=10, size_dest=10)"
   ]
  },
  {
   "cell_type": "code",
   "execution_count": null,
   "id": "c3d592d2-a1c5-4bf8-a819-5ea09150bf98",
   "metadata": {},
   "outputs": [],
   "source": [
    "G.edges"
   ]
  },
  {
   "cell_type": "code",
   "execution_count": null,
   "id": "58056bc5-f16e-48b0-96ed-57527e15b7a6",
   "metadata": {},
   "outputs": [],
   "source": [
    "from surianalytics.viz import draw_nx_graph"
   ]
  },
  {
   "cell_type": "code",
   "execution_count": null,
   "id": "86948831-9f3e-4b10-b5a5-b5356e9eabea",
   "metadata": {},
   "outputs": [],
   "source": [
    "draw_nx_graph(G)"
   ]
  },
  {
   "cell_type": "markdown",
   "id": "85bb5d8e-d1d5-474c-8f10-66e410852cdb",
   "metadata": {},
   "source": [
    "## Interactive widgets"
   ]
  },
  {
   "cell_type": "markdown",
   "id": "fd2e3d02-b48e-4d2e-9201-90b336ff2652",
   "metadata": {},
   "source": [
    "* Coding every query and filter becomes tedious fast;\n",
    "* Complex code is easy to break;\n",
    "* End up debugging instead of exploring data;\n",
    "* Only way is to write new exploration cells;\n",
    "    * End up with too many cells;\n",
    "* Enter widgets;"
   ]
  },
  {
   "cell_type": "code",
   "execution_count": null,
   "id": "7122033a-9884-488b-8a80-82679f1c4f18",
   "metadata": {},
   "outputs": [],
   "source": [
    "import ipywidgets as widgets"
   ]
  },
  {
   "cell_type": "code",
   "execution_count": null,
   "id": "74b60eb4-8bf5-4b36-b112-536e3a16a860",
   "metadata": {},
   "outputs": [],
   "source": [
    "def show(limit: int, columns: list):\n",
    "    pd.set_option('display.max_rows', limit)\n",
    "    pd.set_option('display.min_rows', limit)\n",
    "    df = (\n",
    "        DF\n",
    "        [list(columns)]\n",
    "        .dropna(how=\"all\", axis=1)\n",
    "    )\n",
    "    return df"
   ]
  },
  {
   "cell_type": "code",
   "execution_count": null,
   "id": "f10da208-f39d-48b5-8cb7-83a93397d133",
   "metadata": {},
   "outputs": [],
   "source": [
    "widgets.interact(show, \n",
    "                 limit=widgets.IntSlider(min=10, max=200), \n",
    "                 columns=widgets.SelectMultiple(options=[\"timestamp\", \"src_ip\", \"src_port\", \"dest_ip\", \"dest_port\"] + [c for c in list(DF.columns.values) if c.startswith(\"http\")], \n",
    "                                                value=[\"timestamp\", \"src_ip\", \"src_port\", \"dest_ip\", \"dest_port\"], \n",
    "                                                rows=20))"
   ]
  },
  {
   "cell_type": "markdown",
   "id": "f6d5a6f6-0899-46dd-b570-5f97538f0e6d",
   "metadata": {},
   "source": [
    "### More useful widget"
   ]
  },
  {
   "cell_type": "markdown",
   "id": "5081b8ea-e657-4d68-83d8-95e11614b819",
   "metadata": {},
   "source": [
    "* Combine data dump and unique listing to explore interesting values;\n",
    "* Remember unique listing of servers with counts we did before;"
   ]
  },
  {
   "cell_type": "code",
   "execution_count": null,
   "id": "d7d60ab9-b8d1-4af0-ac1c-3d1717ba7dfb",
   "metadata": {},
   "outputs": [],
   "source": [
    "INTERESTING_IP = CONNECTOR.get_eve_unique_values(qfilter=\"http.url: \\\\/\", field=\"dest_ip\", counts=\"yes\")"
   ]
  },
  {
   "cell_type": "code",
   "execution_count": null,
   "id": "a84aaa66-fdf8-4482-94ed-5ec0d92ad5fe",
   "metadata": {},
   "outputs": [],
   "source": [
    "INTERESTING_IP"
   ]
  },
  {
   "cell_type": "markdown",
   "id": "60cf31e8-c9f2-4ca5-ad65-8a51d0e803e9",
   "metadata": {},
   "source": [
    "* Convert the values;\n",
    "* Widget options can be tuples with contextual labels;\n",
    "* Maybe should implement this conversion as importable function..."
   ]
  },
  {
   "cell_type": "code",
   "execution_count": null,
   "id": "3e5d7e58-130c-4147-b113-01ab21ca4eea",
   "metadata": {},
   "outputs": [],
   "source": [
    "INTERESTING_IP_FMT = [(i[\"key\"] + \": \" + str(i[\"doc_count\"]), i[\"key\"]) for i in INTERESTING_IP]"
   ]
  },
  {
   "cell_type": "code",
   "execution_count": null,
   "id": "f8a380a1-24fa-45ba-9145-b7aa50323471",
   "metadata": {},
   "outputs": [],
   "source": [
    "INTERESTING_IP_FMT"
   ]
  },
  {
   "cell_type": "markdown",
   "id": "09c2778a-6764-4c78-9fb0-5c9bbcd27fd3",
   "metadata": {},
   "source": [
    "Then implement interactive widget hander."
   ]
  },
  {
   "cell_type": "code",
   "execution_count": null,
   "id": "a7f82078-198c-43dc-86c1-2b94aac349a5",
   "metadata": {},
   "outputs": [],
   "source": [
    "def show(limit: int, server: str):\n",
    "    pd.set_option('display.max_rows', limit)\n",
    "    pd.set_option('display.min_rows', limit)\n",
    "    return (\n",
    "        DF\n",
    "        .loc[DF.dest_ip == server]\n",
    "        [\n",
    "            [\"timestamp\", \"src_ip\", \"src_port\", \"dest_ip\", \"dest_port\"] + \n",
    "            [c for c in list(DF.columns.values) if c.startswith(\"http\")]\n",
    "        ]\n",
    "        .dropna(how=\"all\", axis=1)\n",
    "    )"
   ]
  },
  {
   "cell_type": "markdown",
   "id": "bf61c7a3-663e-49c7-99fe-bc6f382cc8af",
   "metadata": {},
   "source": [
    "Note how the options are processed selection of interesting fields."
   ]
  },
  {
   "cell_type": "code",
   "execution_count": null,
   "id": "a7d6e994-0c6d-4d04-8df6-601baaae4f2e",
   "metadata": {},
   "outputs": [],
   "source": [
    "widgets.interact(show,\n",
    "                limit=widgets.IntSlider(min=10, max=1000),\n",
    "                server=widgets.Dropdown(options=INTERESTING_IP_FMT)\n",
    "                )"
   ]
  },
  {
   "cell_type": "markdown",
   "id": "e06320cd-14dd-4978-a2bb-c6b34e883905",
   "metadata": {},
   "source": [
    "## Extreme widgeting"
   ]
  },
  {
   "cell_type": "markdown",
   "id": "eec6cc2c-17e3-4a41-894f-0bd5286a7f7c",
   "metadata": {},
   "source": [
    "* Adhoc widgets are cool;\n",
    "* Importable ones are even cooler;"
   ]
  },
  {
   "cell_type": "markdown",
   "id": "6095fccd-d93e-4e70-a74b-f9ae7bc3c84f",
   "metadata": {},
   "source": [
    "### Time picker"
   ]
  },
  {
   "cell_type": "markdown",
   "id": "2cdd8aaf-cda9-4ad6-b613-48b5eb366949",
   "metadata": {},
   "source": [
    "* Problem - too many notebooks;\n",
    "* Syncing query timerange between became a hassle;"
   ]
  },
  {
   "cell_type": "code",
   "execution_count": null,
   "id": "3adb7a6f-7d2e-45f7-9992-f16184ccf7ec",
   "metadata": {
    "tags": []
   },
   "outputs": [],
   "source": [
    "from surianalytics.widgets.config import Timepicker"
   ]
  },
  {
   "cell_type": "code",
   "execution_count": null,
   "id": "30bb1391-6e44-445b-8d33-d5043d208e2a",
   "metadata": {
    "tags": []
   },
   "outputs": [],
   "source": [
    "Timepicker().display()"
   ]
  },
  {
   "cell_type": "code",
   "execution_count": null,
   "id": "4cb1a9b0-a801-4075-8797-94bf5bfde386",
   "metadata": {},
   "outputs": [],
   "source": [
    "from surianalytics.widgets.config import update_connector_timeframe"
   ]
  },
  {
   "cell_type": "code",
   "execution_count": null,
   "id": "1b4157dc-33cb-41b1-84d2-97e168af7f46",
   "metadata": {},
   "outputs": [],
   "source": [
    "update_connector_timeframe(CONNECTOR, \"config.json\")"
   ]
  },
  {
   "cell_type": "code",
   "execution_count": null,
   "id": "c1e05efc-aa34-44dd-aa7e-ca9871141451",
   "metadata": {},
   "outputs": [],
   "source": [
    "CONNECTOR.hours"
   ]
  },
  {
   "cell_type": "markdown",
   "id": "a66422ae-f0d9-4cf4-91ce-2dc8a73effb8",
   "metadata": {},
   "source": [
    "### Unique value hunting"
   ]
  },
  {
   "cell_type": "markdown",
   "id": "190d283a-44f0-4b29-b441-7959e8979cf1",
   "metadata": {},
   "source": [
    "* Fully interactive widget;\n",
    "* Data wrangling streamlined;\n",
    "* Implements my typical hunting flow;\n",
    "* New connector will be created, existing one can be passed;"
   ]
  },
  {
   "cell_type": "code",
   "execution_count": null,
   "id": "30cb05f6-00b0-4c9f-acfb-670586daee9d",
   "metadata": {},
   "outputs": [],
   "source": [
    "import urllib3\n",
    "urllib3.disable_warnings(urllib3.exceptions.InsecureRequestWarning)"
   ]
  },
  {
   "cell_type": "code",
   "execution_count": null,
   "id": "b0f89eff-b47f-486a-9332-3219c9d20324",
   "metadata": {},
   "outputs": [],
   "source": [
    "from surianalytics.widgets.uniq import UniqPivot"
   ]
  },
  {
   "cell_type": "markdown",
   "id": "d7ff00c2-4402-4f4e-8710-24e0907fe1d3",
   "metadata": {},
   "source": [
    "Connector does not need to be passed. Calling `UniqPivot()` is enough. But we can reuse the object and ensure the timeframe is correct this way."
   ]
  },
  {
   "cell_type": "code",
   "execution_count": null,
   "id": "cc83d49b-ee06-4f68-b855-953fe9615d35",
   "metadata": {},
   "outputs": [],
   "source": [
    "UP = UniqPivot(c=CONNECTOR)"
   ]
  },
  {
   "cell_type": "code",
   "execution_count": null,
   "id": "b587dbad-38f2-4f90-896f-caf36e3d5d20",
   "metadata": {},
   "outputs": [],
   "source": [
    "UP.connector.last_request"
   ]
  },
  {
   "cell_type": "code",
   "execution_count": null,
   "id": "e0f4d4cd-d389-40f2-81d6-68101831f033",
   "metadata": {},
   "outputs": [],
   "source": [
    "UP.display()"
   ]
  },
  {
   "cell_type": "code",
   "execution_count": null,
   "id": "5e2e17e0-2f44-4e86-a851-59baccdcb1da",
   "metadata": {},
   "outputs": [],
   "source": []
  }
 ],
 "metadata": {
  "kernelspec": {
   "display_name": "Python 3 (ipykernel)",
   "language": "python",
   "name": "python3"
  },
  "language_info": {
   "codemirror_mode": {
    "name": "ipython",
    "version": 3
   },
   "file_extension": ".py",
   "mimetype": "text/x-python",
   "name": "python",
   "nbconvert_exporter": "python",
   "pygments_lexer": "ipython3",
   "version": "3.13.1"
  }
 },
 "nbformat": 4,
 "nbformat_minor": 5
}
