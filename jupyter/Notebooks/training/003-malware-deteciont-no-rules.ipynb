{
 "cells": [
  {
   "cell_type": "markdown",
   "id": "efc8b14b-63e4-4159-94a9-630663b43b4d",
   "metadata": {},
   "source": [
    "# Hunting without rules"
   ]
  },
  {
   "cell_type": "markdown",
   "id": "43e3a5c3-09ce-441d-9a61-967568a86312",
   "metadata": {},
   "source": [
    "* Let's try another [SSLoad infection example](https://www.malware-traffic-analysis.net/2024/04/18/index.html);\n",
    "* This time the rule engine is disabled;\n",
    "* We might not have a signature for the attack;\n",
    "* Alerts are only ~10% of data Suricata provides;"
   ]
  },
  {
   "cell_type": "code",
   "execution_count": null,
   "id": "613a4672-9756-4d9a-aacc-029fd3d448b7",
   "metadata": {},
   "outputs": [],
   "source": [
    "import pandas as pd\n",
    "import json"
   ]
  },
  {
   "cell_type": "code",
   "execution_count": null,
   "id": "f949a996-4bc2-4e3d-9fa7-143bb324aadf",
   "metadata": {
    "tags": []
   },
   "outputs": [],
   "source": [
    "with open(\"./data/03/eve.json\", \"r\") as handle:\n",
    "    DF = pd.json_normalize([json.loads(l) for l in handle])"
   ]
  },
  {
   "cell_type": "markdown",
   "id": "626d5706-9e38-49e0-ad77-d7daeb5ca174",
   "metadata": {
    "tags": []
   },
   "source": [
    "## Initial view"
   ]
  },
  {
   "cell_type": "code",
   "execution_count": null,
   "id": "e6963933-09fe-48a8-89b9-6be4b8e6b6b7",
   "metadata": {
    "tags": []
   },
   "outputs": [],
   "source": [
    "DF"
   ]
  },
  {
   "cell_type": "markdown",
   "id": "6dd59604-66be-47d9-b6b5-07ecaebec31e",
   "metadata": {},
   "source": [
    "## Aggregate overview"
   ]
  },
  {
   "cell_type": "code",
   "execution_count": null,
   "id": "b4d293d0-a1d2-4ba3-955d-907a53858142",
   "metadata": {
    "tags": []
   },
   "outputs": [],
   "source": [
    "(\n",
    "    DF\n",
    "    .groupby(\"event_type\")\n",
    "    .agg({\"timestamp\": [\"min\", \"max\", \"count\"]})\n",
    "    .sort_values(by=[(\"timestamp\", \"min\")])\n",
    ")"
   ]
  },
  {
   "cell_type": "markdown",
   "id": "8c6c44f9-0ecb-4c62-88cf-1711b4b4b299",
   "metadata": {},
   "source": [
    "## Investigate common indicators"
   ]
  },
  {
   "cell_type": "markdown",
   "id": "f3b288c6-83d4-4eb8-a04f-00c8e7f9de78",
   "metadata": {},
   "source": [
    "* DNS Resource Record;\n",
    "* TLS Server Name Indicator;\n",
    "* HTTP Hostname;\n",
    "* Transferred file names;\n",
    "* HTTP Request URL-s,"
   ]
  },
  {
   "cell_type": "code",
   "execution_count": null,
   "id": "6f380fd9-ff76-4fd3-be6c-80b261aa99c2",
   "metadata": {
    "tags": []
   },
   "outputs": [],
   "source": [
    "sorted(list(DF[\"dns.rrname\"].dropna().unique()))"
   ]
  },
  {
   "cell_type": "code",
   "execution_count": null,
   "id": "fb4183f2-a320-4702-aa90-219db50f6963",
   "metadata": {
    "tags": []
   },
   "outputs": [],
   "source": [
    "sorted(list(DF[\"tls.sni\"].dropna().unique()))"
   ]
  },
  {
   "cell_type": "code",
   "execution_count": null,
   "id": "94e4e367-cf3a-4238-bf33-f658be45a9ca",
   "metadata": {
    "tags": []
   },
   "outputs": [],
   "source": [
    "sorted(list(DF[\"http.hostname\"].dropna().unique()))"
   ]
  },
  {
   "cell_type": "code",
   "execution_count": null,
   "id": "46b21b6e-85e6-4dc0-bd02-c4b1a366ca0a",
   "metadata": {
    "tags": []
   },
   "outputs": [],
   "source": [
    "sorted(list(DF[\"fileinfo.filename\"].dropna().unique()))"
   ]
  },
  {
   "cell_type": "code",
   "execution_count": null,
   "id": "aa315adf-ea25-4909-b3f1-c473522117d6",
   "metadata": {
    "tags": []
   },
   "outputs": [],
   "source": [
    "sorted(list(DF[\"http.url\"].dropna().unique()))"
   ]
  },
  {
   "cell_type": "markdown",
   "id": "91754609-d8e3-4e25-90c9-aa9b38c1b9e3",
   "metadata": {},
   "source": [
    "## Filter flows that exhibit interesting values"
   ]
  },
  {
   "cell_type": "markdown",
   "id": "4f4d4035-a269-4d65-9007-97f92d381215",
   "metadata": {},
   "source": [
    "* Drill down on interesting values;\n",
    "* Goal is to extract relevant flow_id values for interesting flows;\n",
    "* Why - not enough to say *\"I saw bad stuff\"*;\n",
    "* What happened?\n",
    "* Who is impacted?"
   ]
  },
  {
   "cell_type": "code",
   "execution_count": null,
   "id": "38825cae-cd9b-467d-a4ce-eb939b445571",
   "metadata": {
    "tags": []
   },
   "outputs": [],
   "source": [
    "IDX_DNS = DF[\"dns.rrname\"].isin([\"6a1dec63ee4eff7cb2935f0df790f4df.azr.footprintdns.com\", \"t.me\", \"x1.c.lencr.org\", \"api.ipify.org\"])\n",
    "IDX_TLS = DF[\"tls.sni\"].isin([\"6a1dec63ee4eff7cb2935f0df790f4df.azr.footprintdns.com\", \"t.me\", \"x1.c.lencr.org\", \"api.ipify.org\"])\n",
    "IDX_HOSTNAME = DF[\"http.hostname\"].isin([\"212.18.104.28\", \"85.239.53.219\", \"x1.c.lencr.org\"])\n",
    "IDX_URL = DF[\"http.url\"].isin([\"/8080.dll\", \"/api/1f4b0ad7-0502-68bf-b0aa-fe57ec45c025/result\", \"/api/1f4b0ad7-0502-68bf-b0aa-fe57ec45c025/tasks\"])\n",
    "IDX_FILES = DF[\"fileinfo.filename\"].isin([\"/8080.dll\", \"crypted_dll.bin\"])"
   ]
  },
  {
   "cell_type": "code",
   "execution_count": null,
   "id": "4b4a6f3a-4722-42c9-a245-80ce505fd261",
   "metadata": {
    "tags": []
   },
   "outputs": [],
   "source": [
    "pd.set_option('display.max_columns', None)"
   ]
  },
  {
   "cell_type": "code",
   "execution_count": null,
   "id": "a0dc9b58-78a4-44dd-b79a-cdbbc8029ce9",
   "metadata": {
    "tags": []
   },
   "outputs": [],
   "source": [
    "DF_INTEREST = (\n",
    "    DF\n",
    "    .loc[IDX_DNS | IDX_TLS | IDX_HOSTNAME | IDX_URL | IDX_FILES]\n",
    "    .dropna(how=\"all\", axis=1)\n",
    ")"
   ]
  },
  {
   "cell_type": "markdown",
   "id": "c24cfec6-8deb-4c45-9d34-104c47c8afb9",
   "metadata": {},
   "source": [
    "## Investigate related flows"
   ]
  },
  {
   "cell_type": "code",
   "execution_count": null,
   "id": "eee97007-4264-4f3a-abdc-019a168e9869",
   "metadata": {
    "tags": []
   },
   "outputs": [],
   "source": [
    "import ipywidgets as widgets"
   ]
  },
  {
   "cell_type": "code",
   "execution_count": null,
   "id": "553f4f40-38dd-49be-8bf1-509bc2579fa0",
   "metadata": {
    "tags": []
   },
   "outputs": [],
   "source": [
    "def show(limit: int, event_type: list):\n",
    "    pd.set_option('display.max_rows', limit)\n",
    "    pd.set_option('display.min_rows', limit)\n",
    "    pd.set_option('display.max_columns', None)\n",
    "    \n",
    "    df = DF_INTEREST\n",
    "    if event_type is not None and len(event_type) > 0:\n",
    "        df = df.loc[df.event_type.isin(event_type)]\n",
    "    return df.sort_values(by=[\"timestamp\", \"flow_id\", \"tx_id\"], ascending=True)"
   ]
  },
  {
   "cell_type": "code",
   "execution_count": null,
   "id": "92aa5c3f-2f9c-4b4d-a3fe-1116e5f6772c",
   "metadata": {
    "tags": []
   },
   "outputs": [],
   "source": [
    "widgets.interact(show, \n",
    "                 limit=widgets.IntSlider(min=5, max=300, continuous_update=False),\n",
    "                 event_type=widgets.SelectMultiple(options=list(DF_INTEREST.event_type.unique())))"
   ]
  },
  {
   "cell_type": "markdown",
   "id": "33202944-64f9-454e-9933-83b99b4033b9",
   "metadata": {},
   "source": [
    "## Aggregations"
   ]
  },
  {
   "cell_type": "code",
   "execution_count": null,
   "id": "19d013e2-d02e-478a-8da6-8e459e0415db",
   "metadata": {
    "tags": []
   },
   "outputs": [],
   "source": [
    "def agg(limit: int, group: str, aggs_fields: list):\n",
    "    pd.set_option('display.max_rows', limit)\n",
    "    pd.set_option('display.min_rows', limit)\n",
    "    pd.set_option('display.max_columns', None)\n",
    "    \n",
    "    aggs = {\n",
    "        \"timestamp\": [\"min\", \"max\", \"count\"]\n",
    "    }\n",
    "    for a in aggs_fields:\n",
    "        if a == group or a in (\"timestamp\", \"tx_id\"):\n",
    "            continue\n",
    "        if a not in list(DF_INTEREST.columns.values):\n",
    "            continue\n",
    "        aggs[a] = [\"unique\", \"nunique\"]\n",
    "    \n",
    "    if group in ('', None):\n",
    "        return\n",
    "    \n",
    "    return (\n",
    "        DF_INTEREST\n",
    "        .groupby(group)\n",
    "        .agg(aggs)\n",
    "    )"
   ]
  },
  {
   "cell_type": "code",
   "execution_count": null,
   "id": "f0f1098d-97c6-41dd-ae2b-d6e1d339c4ff",
   "metadata": {
    "tags": []
   },
   "outputs": [],
   "source": [
    "widgets.interact(agg,\n",
    "                 limit=widgets.IntSlider(min=5, max=300, continuous_update=False),\n",
    "                 group=widgets.Combobox(options=list(DF_INTEREST.columns.values)),\n",
    "                 aggs_fields=widgets.SelectMultiple(options=list(DF_INTEREST.columns.values),\n",
    "                                                    value=[\"src_ip\", \"dest_ip\", \"event_type\"],\n",
    "                                                    rows=30))"
   ]
  },
  {
   "cell_type": "code",
   "execution_count": null,
   "id": "7b92178d-76d4-4a61-b0b7-d93bc8896fea",
   "metadata": {},
   "outputs": [],
   "source": []
  }
 ],
 "metadata": {
  "kernelspec": {
   "display_name": "Python 3 (ipykernel)",
   "language": "python",
   "name": "python3"
  },
  "language_info": {
   "codemirror_mode": {
    "name": "ipython",
    "version": 3
   },
   "file_extension": ".py",
   "mimetype": "text/x-python",
   "name": "python",
   "nbconvert_exporter": "python",
   "pygments_lexer": "ipython3",
   "version": "3.12.7"
  }
 },
 "nbformat": 4,
 "nbformat_minor": 5
}
