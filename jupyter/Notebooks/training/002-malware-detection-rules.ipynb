{
 "cells": [
  {
   "cell_type": "markdown",
   "id": "bd1aba01-2201-415f-8788-1138ef381e87",
   "metadata": {},
   "source": [
    "# Hunting with rules"
   ]
  },
  {
   "cell_type": "markdown",
   "id": "0f19898f-03bc-4034-b7e2-5232d40f57e6",
   "metadata": {
    "tags": []
   },
   "source": [
    "## Killchain"
   ]
  },
  {
   "cell_type": "markdown",
   "id": "eeeeb8d4-f216-4ab5-bf74-b6a8f132b29f",
   "metadata": {
    "tags": []
   },
   "source": [
    "* Reconnaissance\n",
    "* Weaponization\n",
    "* **Delivery**\n",
    "* Exploitation\n",
    "* Installation\n",
    "* **Command and Control**\n",
    "* **Actions on Objectives**"
   ]
  },
  {
   "cell_type": "markdown",
   "id": "ce78274a-b411-4b53-91c8-410edf4783ae",
   "metadata": {},
   "source": [
    "## Quick look\n",
    "\n",
    "* Let's investigate a [SSLoad infection example](https://www.malware-traffic-analysis.net/2024/04/17/index.html);\n",
    "* https://malpedia.caad.fkie.fraunhofer.de/details/win.ssload\n",
    "* Eventual goal is to build timeline of an attack;\n",
    "* First, let's see what we actually have;"
   ]
  },
  {
   "cell_type": "code",
   "execution_count": null,
   "id": "f3733751-5a23-4b0a-afd2-3ac84ebb60aa",
   "metadata": {},
   "outputs": [],
   "source": [
    "import pandas as pd\n",
    "import json"
   ]
  },
  {
   "cell_type": "code",
   "execution_count": null,
   "id": "304ea336-4233-449d-8557-87a229001469",
   "metadata": {
    "tags": []
   },
   "outputs": [],
   "source": [
    "with open(\"./data/02/eve.json\", \"r\") as handle:\n",
    "    DF = pd.json_normalize([json.loads(l) for l in handle])"
   ]
  },
  {
   "cell_type": "code",
   "execution_count": null,
   "id": "8536042f-6cb4-40de-880d-8c239de13155",
   "metadata": {
    "tags": []
   },
   "outputs": [],
   "source": [
    "DF"
   ]
  },
  {
   "cell_type": "markdown",
   "id": "98e18fa8-efda-42b0-a2ea-e84d3fd80c16",
   "metadata": {},
   "source": [
    "## Quick overview of events"
   ]
  },
  {
   "cell_type": "markdown",
   "id": "df48d39c-90d0-4d6b-87c0-2d5fa7b53494",
   "metadata": {},
   "source": [
    "* Many event types;\n",
    "* What protocols are even used?\n",
    "* What started when?"
   ]
  },
  {
   "cell_type": "code",
   "execution_count": null,
   "id": "10cfacdb-77bd-40d6-befb-2274860e9e64",
   "metadata": {
    "tags": []
   },
   "outputs": [],
   "source": [
    "(\n",
    "    DF\n",
    "    .groupby(\"event_type\")\n",
    "    .agg({\"timestamp\": [\"min\", \"max\", \"count\"]})\n",
    "    .sort_values(by=[(\"timestamp\", \"min\")])\n",
    ")"
   ]
  },
  {
   "cell_type": "markdown",
   "id": "62f3642d-b46f-4dee-8258-00f85a054aa5",
   "metadata": {},
   "source": [
    "## Quick look into alerts"
   ]
  },
  {
   "cell_type": "markdown",
   "id": "990e4d33-c3f5-4eb4-b0c2-a72acad20400",
   "metadata": {},
   "source": [
    "* Which signatures fired?"
   ]
  },
  {
   "cell_type": "code",
   "execution_count": null,
   "id": "b9dab127-378a-4b54-919b-09f0da253d25",
   "metadata": {
    "tags": []
   },
   "outputs": [],
   "source": [
    "DF[\"alert.signature\"].unique()"
   ]
  },
  {
   "cell_type": "markdown",
   "id": "cc2c8f14-a9ca-41f1-8d71-43b5c397cdfa",
   "metadata": {},
   "source": [
    "## Alert timeline"
   ]
  },
  {
   "cell_type": "markdown",
   "id": "be03f8fb-5291-4ee9-950a-efe5699e97ca",
   "metadata": {},
   "source": [
    "* Remember aggregations;\n",
    "* Group by signature;\n",
    "* Sort by starting timestamp;\n",
    "* List unique metadata fields;"
   ]
  },
  {
   "cell_type": "code",
   "execution_count": null,
   "id": "9dc8c640-2fcc-4643-b218-125753b87f02",
   "metadata": {
    "tags": []
   },
   "outputs": [],
   "source": [
    "(\n",
    "    DF\n",
    "    .groupby(\"alert.signature\")\n",
    "    .agg({\n",
    "        \"timestamp\": [\"min\", \"max\", \"count\"],\n",
    "        \"flow_id\": [\"nunique\"],\n",
    "        \"app_proto\": [\"unique\"],\n",
    "        \"http.hostname\": [\"unique\"],\n",
    "        \"http.url\": [\"unique\"],\n",
    "        \"src_ip\": [\"unique\"],\n",
    "        \"dest_ip\": [\"unique\"],\n",
    "        \"tls.sni\": [\"unique\"]\n",
    "    })\n",
    "    .sort_values(by=[(\"timestamp\", \"min\")])\n",
    ")"
   ]
  },
  {
   "cell_type": "code",
   "execution_count": null,
   "id": "5e8d6235-a870-42bb-b0d0-46479ae1add7",
   "metadata": {},
   "outputs": [],
   "source": []
  }
 ],
 "metadata": {
  "kernelspec": {
   "display_name": "Python 3 (ipykernel)",
   "language": "python",
   "name": "python3"
  },
  "language_info": {
   "codemirror_mode": {
    "name": "ipython",
    "version": 3
   },
   "file_extension": ".py",
   "mimetype": "text/x-python",
   "name": "python",
   "nbconvert_exporter": "python",
   "pygments_lexer": "ipython3",
   "version": "3.12.7"
  }
 },
 "nbformat": 4,
 "nbformat_minor": 5
}
