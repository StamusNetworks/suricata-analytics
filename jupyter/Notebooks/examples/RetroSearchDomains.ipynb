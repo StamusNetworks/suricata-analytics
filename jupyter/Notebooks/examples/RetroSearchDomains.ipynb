{
 "cells": [
  {
   "cell_type": "markdown",
   "id": "95d35303-785e-4a64-9212-7c8a515c696d",
   "metadata": {},
   "source": [
    "# MISP"
   ]
  },
  {
   "cell_type": "code",
   "execution_count": null,
   "id": "58f2ad68-106e-4e24-89f6-5851a058bba1",
   "metadata": {
    "tags": []
   },
   "outputs": [],
   "source": [
    "%pip install pymisp > /dev/null"
   ]
  },
  {
   "cell_type": "code",
   "execution_count": null,
   "id": "cf57f8be-38a1-4c30-b35b-44bcb0401678",
   "metadata": {
    "tags": []
   },
   "outputs": [],
   "source": [
    "import urllib3\n",
    "urllib3.disable_warnings(urllib3.exceptions.InsecureRequestWarning)"
   ]
  },
  {
   "cell_type": "code",
   "execution_count": null,
   "id": "be849250-d316-4f6b-9357-a1d925513b49",
   "metadata": {
    "tags": []
   },
   "outputs": [],
   "source": [
    "from dotenv import dotenv_values"
   ]
  },
  {
   "cell_type": "code",
   "execution_count": null,
   "id": "5038a723-4b2c-4293-bccb-9362e619f1f9",
   "metadata": {
    "tags": []
   },
   "outputs": [],
   "source": [
    "from surianalytics.connectors import getGitRoot, check_str_bool"
   ]
  },
  {
   "cell_type": "code",
   "execution_count": null,
   "id": "4eef8491-e523-411d-9f7c-0b0625218e60",
   "metadata": {
    "tags": []
   },
   "outputs": [],
   "source": [
    "import os\n",
    "import shutil"
   ]
  },
  {
   "cell_type": "code",
   "execution_count": null,
   "id": "7bdd3515-a7d9-437d-8101-0a2669a713cc",
   "metadata": {
    "tags": []
   },
   "outputs": [],
   "source": [
    "config = dotenv_values(os.path.join(getGitRoot(), \".env\") if shutil.which(\"git\") is not None else os.path.join(os.path.expanduser(\"~\"), \".env\"))"
   ]
  },
  {
   "cell_type": "code",
   "execution_count": null,
   "id": "8da1e0d9-3c44-4ea4-b04d-101ac31e2558",
   "metadata": {
    "tags": []
   },
   "outputs": [],
   "source": [
    "from pymisp import PyMISP"
   ]
  },
  {
   "cell_type": "code",
   "execution_count": null,
   "id": "ef3a9cb8-86d7-411e-9c8a-70f3525652db",
   "metadata": {
    "tags": []
   },
   "outputs": [],
   "source": [
    "misp = PyMISP(config[\"MISP_HOST\"],\n",
    "              config[\"MISP_TOKEN\"],\n",
    "              check_str_bool(config[\"MISP_TLS_VERIFY\"]),\n",
    "              debug=False)"
   ]
  },
  {
   "cell_type": "code",
   "execution_count": null,
   "id": "7dda5322-a514-4224-8a73-f575c0610721",
   "metadata": {},
   "outputs": [],
   "source": [
    "result = misp.search(controller='attributes', timestamp=\"1d\", type_attribute=\"domain\", category=\"Network activity\", pythonify=False)"
   ]
  },
  {
   "cell_type": "code",
   "execution_count": null,
   "id": "54b9138c-16cf-4df9-bcf3-d119d3992c86",
   "metadata": {
    "tags": []
   },
   "outputs": [],
   "source": [
    "import pandas as pd"
   ]
  },
  {
   "cell_type": "code",
   "execution_count": null,
   "id": "373c7bfa-50f5-4dd5-a1e9-0315402047d0",
   "metadata": {
    "tags": []
   },
   "outputs": [],
   "source": [
    "DF_ATTR = pd.json_normalize(result[\"Attribute\"])\n",
    "len(DF_ATTR)"
   ]
  },
  {
   "cell_type": "code",
   "execution_count": null,
   "id": "d0efadba-a76a-4cac-98bb-bff5193f8f88",
   "metadata": {
    "tags": []
   },
   "outputs": [],
   "source": [
    "DF_ATTR.groupby(\"type\").agg({\"value\": \"nunique\",\n",
    "                             \"event_id\": \"nunique\"})"
   ]
  },
  {
   "cell_type": "code",
   "execution_count": null,
   "id": "f715bd6b-a43c-4777-ad3c-7bcc2521a0dc",
   "metadata": {
    "tags": []
   },
   "outputs": [],
   "source": [
    "DF_ATTR.groupby([\"Event.info\", \"event_id\", \"type\"]).agg({\"value\": [\"unique\", \"nunique\"]})"
   ]
  },
  {
   "cell_type": "markdown",
   "id": "d395b7b3-a7fb-4e35-9853-ab5db7695432",
   "metadata": {},
   "source": [
    "# Scan for IoC values via scirius"
   ]
  },
  {
   "cell_type": "code",
   "execution_count": null,
   "id": "f089f30a-54d7-4f84-a5e5-7dbd0e2a5b23",
   "metadata": {},
   "outputs": [],
   "source": [
    "from surianalytics.connectors import RESTSciriusConnector"
   ]
  },
  {
   "cell_type": "code",
   "execution_count": null,
   "id": "8bb1b8ef-5cf6-41b9-8e49-912640179ddb",
   "metadata": {
    "tags": []
   },
   "outputs": [],
   "source": [
    "c = RESTSciriusConnector()"
   ]
  },
  {
   "cell_type": "code",
   "execution_count": null,
   "id": "79926619-0761-4b9c-98ac-5b6b0ab2d262",
   "metadata": {},
   "outputs": [],
   "source": [
    "DAYS = 7"
   ]
  },
  {
   "cell_type": "code",
   "execution_count": null,
   "id": "3675364f-1835-4a42-b805-33d3f5d7f4e9",
   "metadata": {
    "tags": []
   },
   "outputs": [],
   "source": [
    "c.set_query_delta(hours=24 * DAYS)"
   ]
  },
  {
   "cell_type": "code",
   "execution_count": null,
   "id": "2f07a062-d7cf-4a58-9363-379284eb71b8",
   "metadata": {
    "tags": []
   },
   "outputs": [],
   "source": [
    "c.set_page_size(10000)"
   ]
  },
  {
   "cell_type": "code",
   "execution_count": null,
   "id": "b2d467fd-0e32-4392-a976-06508e9e4091",
   "metadata": {
    "tags": []
   },
   "outputs": [],
   "source": [
    "DF_EVENTS = c.retrosearch(domains=list(DF_ATTR.value.unique()))\n",
    "len(DF_EVENTS)"
   ]
  },
  {
   "cell_type": "markdown",
   "id": "aadba968-9e60-4c32-9dae-a09459d24e95",
   "metadata": {},
   "source": [
    "# Report domain matches"
   ]
  },
  {
   "cell_type": "markdown",
   "id": "106a9b3a-f2de-4cba-b1bf-2f2b36dbb172",
   "metadata": {},
   "source": [
    "## Group by value"
   ]
  },
  {
   "cell_type": "code",
   "execution_count": null,
   "id": "a6be247c-3cd0-4b0a-94f6-96623a31619a",
   "metadata": {
    "tags": []
   },
   "outputs": [],
   "source": [
    "(\n",
    "    DF_EVENTS\n",
    "    .groupby([\"ioc.value.match\"])\n",
    "    .agg({\n",
    "        \"timestamp\": [\"min\", \"max\"],\n",
    "        \"src_ip\": [\"unique\", \"nunique\"],\n",
    "        \"dest_ip\": [\"unique\", \"nunique\"],\n",
    "        \"tls.ja3.hash\": [\"unique\"],\n",
    "        \"tls.ja3s.hash\": [\"unique\"],\n",
    "        \"http.status\": [\"unique\"],\n",
    "        \"http.url\": [\"unique\"]\n",
    "    })\n",
    ")"
   ]
  },
  {
   "cell_type": "markdown",
   "id": "1b184d58-7f70-42d4-ba69-055c6e0e2563",
   "metadata": {},
   "source": [
    "## Group by time"
   ]
  },
  {
   "cell_type": "code",
   "execution_count": null,
   "id": "ada90412-59d9-4410-b2cf-79c21d486d6b",
   "metadata": {
    "tags": []
   },
   "outputs": [],
   "source": [
    "BIN_SIZE = \"1h\""
   ]
  },
  {
   "cell_type": "code",
   "execution_count": null,
   "id": "696117aa-dfce-43d7-b76d-e62d0ef1c707",
   "metadata": {},
   "outputs": [],
   "source": [
    "(\n",
    "    DF_EVENTS\n",
    "    .groupby([pd.Grouper(key=\"timestamp\", freq=BIN_SIZE)])\n",
    "    .agg({\n",
    "        \"timestamp\": [\"min\", \"max\"],\n",
    "        \"ioc.value.match\": [\"unique\", \"nunique\", \"count\"],\n",
    "        \"src_ip\": [\"unique\", \"nunique\"],\n",
    "        \"dest_ip\": [\"unique\", \"nunique\"],\n",
    "        \"tls.ja3.hash\": [\"unique\"],\n",
    "        \"tls.ja3s.hash\": [\"unique\"],\n",
    "        \"http.status\": [\"unique\"],\n",
    "        \"http.url\": [\"unique\"],\n",
    "    })\n",
    ")"
   ]
  },
  {
   "cell_type": "markdown",
   "id": "c59bb729-13cb-4b12-b3ee-708984026661",
   "metadata": {},
   "source": [
    "# Plot results"
   ]
  },
  {
   "cell_type": "markdown",
   "id": "7194df34-1c06-4bba-aee5-e2d74247ad9c",
   "metadata": {},
   "source": [
    "## By event type"
   ]
  },
  {
   "cell_type": "code",
   "execution_count": null,
   "id": "a0a621e7-aa96-4249-95e3-f319943caee8",
   "metadata": {
    "tags": []
   },
   "outputs": [],
   "source": [
    "import hvplot.pandas"
   ]
  },
  {
   "cell_type": "code",
   "execution_count": null,
   "id": "5aecc3ae-ad4d-4379-972a-9707621893ed",
   "metadata": {
    "tags": []
   },
   "outputs": [],
   "source": [
    "DF_AGG_TIME_PLOT = (\n",
    "    DF_EVENTS\n",
    "    .groupby([pd.Grouper(key=\"timestamp\", freq=BIN_SIZE), \"event_type\"])\n",
    "    .agg({\n",
    "        \"ioc.value.match\": [\"count\"],\n",
    "    })\n",
    "    .reset_index()\n",
    ")"
   ]
  },
  {
   "cell_type": "code",
   "execution_count": null,
   "id": "688fba50-99b1-4b8d-bf84-fdb08314d717",
   "metadata": {
    "tags": []
   },
   "outputs": [],
   "source": [
    "DF_AGG_TIME_PLOT.columns = [\"timestamp\", \"event_type\", \"count\"]"
   ]
  },
  {
   "cell_type": "code",
   "execution_count": null,
   "id": "fec4ee47-298c-4f4f-9fe7-44e10ebc1a1e",
   "metadata": {
    "tags": []
   },
   "outputs": [],
   "source": [
    "(\n",
    "    DF_AGG_TIME_PLOT\n",
    "    .pivot(index=\"timestamp\", columns=[\"event_type\"], values=\"count\")\n",
    "    .hvplot\n",
    "    .line(width=900, height=400)\n",
    ")"
   ]
  },
  {
   "cell_type": "markdown",
   "id": "43ed70ea-5741-42d0-818f-2400e58308d5",
   "metadata": {},
   "source": [
    "## By Domain"
   ]
  },
  {
   "cell_type": "code",
   "execution_count": null,
   "id": "a9e14adb-b264-4953-9ef7-19014aa31330",
   "metadata": {
    "tags": []
   },
   "outputs": [],
   "source": [
    "DF_AGG_TIME_PLOT_CPX = (\n",
    "    DF_EVENTS\n",
    "    .groupby([pd.Grouper(key=\"timestamp\", freq=BIN_SIZE), \"ioc.value.match\"])\n",
    "    .agg({\n",
    "        \"ioc.value.match\": [\"count\"]\n",
    "    })\n",
    "    .reset_index()\n",
    ")"
   ]
  },
  {
   "cell_type": "code",
   "execution_count": null,
   "id": "f0de8a9e-7763-4dd7-b5cc-2a47755623fb",
   "metadata": {
    "tags": []
   },
   "outputs": [],
   "source": [
    "DF_AGG_TIME_PLOT_CPX"
   ]
  },
  {
   "cell_type": "code",
   "execution_count": null,
   "id": "b8c15a86-6178-4fd4-a748-2a25909a2b9f",
   "metadata": {
    "tags": []
   },
   "outputs": [],
   "source": [
    "DF_AGG_TIME_PLOT_CPX.columns = [\"timestamp\", \"domain\", \"count\"]"
   ]
  },
  {
   "cell_type": "code",
   "execution_count": null,
   "id": "6f90a52b-6767-493f-a2e3-4a5295c03c9b",
   "metadata": {
    "tags": []
   },
   "outputs": [],
   "source": [
    "(\n",
    "    DF_AGG_TIME_PLOT_CPX\n",
    "    .pivot(index=\"timestamp\", columns=\"domain\", values=\"count\")\n",
    "    .hvplot\n",
    "    .scatter(width=900, height=400)\n",
    ")"
   ]
  }
 ],
 "metadata": {
  "kernelspec": {
   "display_name": "Python 3 (ipykernel)",
   "language": "python",
   "name": "python3"
  },
  "language_info": {
   "codemirror_mode": {
    "name": "ipython",
    "version": 3
   },
   "file_extension": ".py",
   "mimetype": "text/x-python",
   "name": "python",
   "nbconvert_exporter": "python",
   "pygments_lexer": "ipython3",
   "version": "3.12.7"
  }
 },
 "nbformat": 4,
 "nbformat_minor": 5
}
