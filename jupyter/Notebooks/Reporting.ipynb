{
 "cells": [
  {
   "cell_type": "markdown",
   "id": "1413d23c-39bb-498e-8aed-03ead4d8d13b",
   "metadata": {
    "tags": []
   },
   "source": [
    "# Install python packages with version to avoid conflicts"
   ]
  },
  {
   "cell_type": "code",
   "execution_count": null,
   "id": "bf5a6d0e-dc3c-4b10-b3dd-dc8c9f73b024",
   "metadata": {},
   "outputs": [],
   "source": [
    "# Run it twice if you have a warning\n",
    "%pip install plotly==5.14.1 mercury==2.3.0 jupyter-dash==0.4.2 ipywidgets==8.0.3"
   ]
  },
  {
   "cell_type": "markdown",
   "id": "7eac846e-8502-4c4b-9906-63a4f2cd80f2",
   "metadata": {},
   "source": [
    "# Imports"
   ]
  },
  {
   "cell_type": "code",
   "execution_count": null,
   "id": "612714a1-35bf-4f84-8281-d2c790a06aed",
   "metadata": {},
   "outputs": [],
   "source": [
    "from surianalytics.connectors import ESQueryBuilder, escape as es_escape\n",
    "from IPython.display import JSON\n",
    "from pprint import pprint\n",
    "import pandas as pd\n",
    "import plotly.express as px\n",
    "import mercury as mr\n",
    "import ipywidgets as widgets\n",
    "import json\n",
    "from IPython.display import display\n",
    "from django.utils import timezone\n",
    "from datetime import timedelta, timezone as dt_tz\n",
    "from django.conf import settings"
   ]
  },
  {
   "cell_type": "markdown",
   "id": "48795517-6445-461a-99b5-c15f3ccddf40",
   "metadata": {},
   "source": [
    "# Some conf"
   ]
  },
  {
   "cell_type": "code",
   "execution_count": null,
   "id": "560ff0b5-cfcb-4bb7-a860-7239fd70219c",
   "metadata": {},
   "outputs": [],
   "source": [
    "try:\n",
    "    # allow to use timezone\n",
    "    settings.configure()\n",
    "    settings.USE_TZ = True\n",
    "except:\n",
    "    pass\n",
    "\n",
    "# disable insecure warning\n",
    "import urllib3\n",
    "urllib3.disable_warnings(urllib3.exceptions.InsecureRequestWarning)\n",
    "\n",
    "pd.set_option('display.max_colwidth', None)\n",
    "pd.set_option('display.max_columns', None)\n",
    "# Be careful with max_rows, too much rows leads to freeze browser/os\n",
    "pd.set_option('display.max_rows', 100)\n",
    "pd.set_option('display.width', None)"
   ]
  },
  {
   "cell_type": "markdown",
   "id": "685b8074-a4cc-4c48-8c61-a68d465c9ec3",
   "metadata": {},
   "source": [
    "# Build ES query example"
   ]
  },
  {
   "cell_type": "markdown",
   "id": "2c56d9b6-c966-4b18-a872-173a797da54b",
   "metadata": {},
   "source": [
    "## Builder"
   ]
  },
  {
   "cell_type": "code",
   "execution_count": null,
   "id": "bfb59ba5-8519-4617-9517-4b953c8c1d4b",
   "metadata": {},
   "outputs": [],
   "source": [
    "builder = ESQueryBuilder()\n",
    "builder.set_index('logstash-tls-*')\n",
    "builder.set_page_size(0)\n",
    "builder.set_tenant(1)"
   ]
  },
  {
   "cell_type": "markdown",
   "id": "88e56ce1-d1cc-4066-bed8-7496ff9ae78c",
   "metadata": {},
   "source": [
    "## Filters"
   ]
  },
  {
   "cell_type": "code",
   "execution_count": null,
   "id": "a662c70d-3b34-4a44-97e1-0b57f208be39",
   "metadata": {},
   "outputs": [],
   "source": [
    "filters = [f'proto: {es_escape(\"UDP\")}', f'proto: {es_escape(\"TCP\")}']\n",
    "filter2 = 'event_type: tls'\n",
    "qfilter = ESQueryBuilder.filter_join(filters, operator='OR')\n",
    "qfilter = ESQueryBuilder.filter_join([filter2, qfilter], operator='AND')\n",
    "builder.set_qfilter(qfilter)"
   ]
  },
  {
   "cell_type": "markdown",
   "id": "b3270611-fa44-4ae3-94d4-15351c1ff842",
   "metadata": {},
   "source": [
    "## Aggreagations"
   ]
  },
  {
   "cell_type": "code",
   "execution_count": null,
   "id": "0d4eecda-303f-4e0b-b3a2-83da75c66d84",
   "metadata": {},
   "outputs": [],
   "source": [
    "builder.add_aggs('tls.sni.keyword', order='_count', sort='asc', size=5)\n",
    "builder.add_aggs('tls.cipher_security.keyword', order='_count', sort='asc', size=5)\n",
    "builder.add_aggs('tls.toto', order='_count', sort='desc', size=5)"
   ]
  },
  {
   "cell_type": "markdown",
   "id": "12aac155-55ec-400e-87b2-4d8988e867d1",
   "metadata": {},
   "source": [
    "## What does look like query"
   ]
  },
  {
   "cell_type": "code",
   "execution_count": null,
   "id": "c106f2ee-baa3-45fa-916e-cc2d1d91ddbe",
   "metadata": {},
   "outputs": [],
   "source": [
    "JSON(builder.__dict__(), expanded=True)"
   ]
  },
  {
   "cell_type": "code",
   "execution_count": null,
   "id": "ea7df567-56b5-4945-9480-46745fccc148",
   "metadata": {},
   "outputs": [],
   "source": [
    "print(builder.tenant, builder.aggs, builder.qfilter, builder.index)"
   ]
  },
  {
   "cell_type": "markdown",
   "id": "e6488524-99d4-4913-bbda-e11cee758228",
   "metadata": {},
   "source": [
    "## Reset filters/aggs/index/tenants"
   ]
  },
  {
   "cell_type": "code",
   "execution_count": null,
   "id": "7ce354ab-8763-43ce-8451-d16ff1caece2",
   "metadata": {},
   "outputs": [],
   "source": [
    "builder.reset()\n",
    "JSON(builder.__dict__(), expanded=True)"
   ]
  },
  {
   "cell_type": "code",
   "execution_count": null,
   "id": "b2500d49-8050-4a92-b04f-74bc9460f802",
   "metadata": {},
   "outputs": [],
   "source": [
    "print(builder.tenant, builder.aggs, builder.qfilter, builder.index)"
   ]
  },
  {
   "cell_type": "markdown",
   "id": "9cec22dd-cf8e-4828-af33-bcab7d412f53",
   "metadata": {},
   "source": [
    "# Old TLS versions"
   ]
  },
  {
   "cell_type": "markdown",
   "id": "f7273a5a-dbd5-45b3-b419-d9962ee09731",
   "metadata": {},
   "source": [
    "## Cipher suite count on degraded / insecure"
   ]
  },
  {
   "cell_type": "code",
   "execution_count": null,
   "id": "145dc9f5-4064-4fce-987f-11392816d14a",
   "metadata": {},
   "outputs": [],
   "source": [
    "builder = ESQueryBuilder()\n",
    "builder.set_index('logstash-tls-*')\n",
    "builder.set_page_size(0)\n",
    "builder.set_tenant(0)"
   ]
  },
  {
   "cell_type": "code",
   "execution_count": null,
   "id": "748aee1c-f30b-4426-b4f8-7ebe4c60c7ad",
   "metadata": {},
   "outputs": [],
   "source": [
    "filters = [f'tls.cipher_security: {es_escape(\"insecure\")}', f'tls.cipher_security: {es_escape(\"degraded\")}']\n",
    "filter2 = 'event_type: tls'\n",
    "qfilter = ESQueryBuilder.filter_join(filters, operator='OR')\n",
    "qfilter = ESQueryBuilder.filter_join([filter2, qfilter], operator='AND')\n",
    "builder.set_qfilter(qfilter)\n",
    "\n",
    "builder.add_aggs('tls.cipher_suite.keyword', order='_count', sort='desc', size=5)\n",
    "\n",
    "builder.set_from_date('2023-06-19T15:15:49+00:00')\n",
    "builder.set_to_date('2023-06-19T20:42:49+00:00')\n",
    "\n",
    "r = builder.post()\n",
    "r"
   ]
  },
  {
   "cell_type": "code",
   "execution_count": null,
   "id": "76bfa1df-8e12-4bb0-b9cf-6da1d4bfd35a",
   "metadata": {},
   "outputs": [],
   "source": [
    "content = r.json()\n",
    "\n",
    "res = {'ciphers': [], 'count': []}\n",
    "for key, val in content.get('aggregations', {}).items():\n",
    "    for item in val.get('buckets', []):\n",
    "        res['ciphers'].append(item['key'])\n",
    "        res['count'].append(item['doc_count'])\n",
    "        \n",
    "df = pd.DataFrame({'Cipher Suite': res['ciphers'], 'Count': res['count']})\n",
    "plot = df.groupby(['Cipher Suite']).sum().plot(kind='pie', y='Count', autopct='%1.0f%%')\n",
    "df"
   ]
  },
  {
   "cell_type": "markdown",
   "id": "30838e74-25d4-4da3-b3a6-7f4ed37e3acd",
   "metadata": {},
   "source": [
    "## Global number of assets using insecure and degraded ciphers"
   ]
  },
  {
   "cell_type": "code",
   "execution_count": null,
   "id": "018b51eb-e99d-4bf8-852f-8e7348fde4fa",
   "metadata": {},
   "outputs": [],
   "source": [
    "builder = ESQueryBuilder()\n",
    "builder.set_index('logstash-tls-*')\n",
    "builder.set_page_size(0)\n",
    "builder.set_tenant(0)"
   ]
  },
  {
   "cell_type": "code",
   "execution_count": null,
   "id": "043515bc-af1f-46b4-af8a-3261f6ea2909",
   "metadata": {},
   "outputs": [],
   "source": [
    "filters = [f'tls.cipher_security: {es_escape(\"insecure\")}', f'tls.cipher_security: {es_escape(\"degraded\")}']\n",
    "filter2 = 'event_type: tls'\n",
    "qfilter = ESQueryBuilder.filter_join(filters, operator='OR')\n",
    "qfilter = ESQueryBuilder.filter_join([filter2, qfilter], operator='AND')\n",
    "builder.set_qfilter(qfilter)\n",
    "\n",
    "builder.add_aggs('tls.cipher_security.keyword', order='_count', sort='desc', size=5)\n",
    "\n",
    "builder.set_from_date('2023-06-19T15:15:49+00:00')\n",
    "builder.set_to_date('2023-06-19T20:42:49+00:00')\n",
    "\n",
    "r = builder.post()\n",
    "r"
   ]
  },
  {
   "cell_type": "code",
   "execution_count": null,
   "id": "cdd18898-b8da-45b4-b7a6-9d8a64cf3156",
   "metadata": {},
   "outputs": [],
   "source": [
    "content = r.json()\n",
    "\n",
    "res = {'ciphers': [], 'count': []}\n",
    "for key, val in content.get('aggregations', {}).items():\n",
    "    for item in val.get('buckets', []):\n",
    "        res['ciphers'].append(item['key'])\n",
    "        res['count'].append(item['doc_count'])\n",
    "        \n",
    "df = pd.DataFrame({'Cipher Suite': res['ciphers'], 'Count': res['count']})\n",
    "df"
   ]
  },
  {
   "cell_type": "code",
   "execution_count": null,
   "id": "4901626b-7df4-4a83-a5df-ea59f3de8351",
   "metadata": {},
   "outputs": [],
   "source": [
    "builder = ESQueryBuilder()\n",
    "builder.set_index('logstash-tls-*')\n",
    "builder.set_page_size(0)\n",
    "builder.set_tenant(0)\n",
    "\n",
    "filters = [f'tls.cipher_security: {es_escape(\"insecure\")}', f'tls.cipher_security: {es_escape(\"degraded\")}']\n",
    "filter2 = 'event_type: tls'\n",
    "qfilter = ESQueryBuilder.filter_join(filters, operator='OR')\n",
    "qfilter = ESQueryBuilder.filter_join([filter2, qfilter], operator='AND')\n",
    "builder.set_qfilter(qfilter)\n",
    "\n",
    "builder.add_aggs('tls.cipher_security.keyword', order='_count', sort='desc', size=5)\n",
    "builder.add_aggs('tls.cipher_suite.keyword', order='_count', sort='desc', size=5)\n",
    "\n",
    "builder.set_from_date('2023-06-14T09:42:49+00:00')\n",
    "builder.set_to_date('2023-06-14T14:42:49+00:00')\n",
    "\n",
    "r = builder.post()\n",
    "r"
   ]
  },
  {
   "cell_type": "code",
   "execution_count": null,
   "id": "ac3929fc-e335-4cc9-9abe-d1162dd14a60",
   "metadata": {},
   "outputs": [],
   "source": [
    "content = r.json()\n",
    "\n",
    "sunburst = []\n",
    "tree = []\n",
    "for key, val in content.get('aggregations', {}).items():\n",
    "    for item in val.get('buckets', []):\n",
    "        for idx, sub_item in enumerate(item['2'].get('buckets', [])):\n",
    "            sunburst.append((item['key'], item['doc_count'], sub_item['key'], sub_item['doc_count']))\n",
    "            if idx == 0:\n",
    "                tree.append((item['key'], item['doc_count'], sub_item['key'], sub_item['doc_count']))\n",
    "            else:\n",
    "                tree.append(('', '', sub_item['key'], sub_item['doc_count']))\n",
    "\n",
    "df = pd.DataFrame(tree, columns =['Cipher Security', 'Security Count', 'Cipher Suite', 'Suite Count'])\n",
    "df"
   ]
  },
  {
   "cell_type": "code",
   "execution_count": null,
   "id": "638cb1f1-e8c6-48fb-b4ef-92845c5a728e",
   "metadata": {},
   "outputs": [],
   "source": [
    "df = pd.DataFrame(sunburst, columns =['Cipher Security', 'Security Count', 'Cipher Suite', 'Suite Count'])\n",
    "px.sunburst(df, path=['Cipher Security', 'Security Count', 'Cipher Suite', 'Suite Count'], width=800, height=800)"
   ]
  },
  {
   "cell_type": "markdown",
   "id": "f17f1a07-cbb1-4546-86b5-8ca45d81f672",
   "metadata": {},
   "source": [
    "# Filter out host insight requests (scirius#6112)"
   ]
  },
  {
   "cell_type": "code",
   "execution_count": null,
   "id": "8b8567ba-bffb-46e0-b93c-b5bcd5c9f783",
   "metadata": {},
   "outputs": [],
   "source": [
    "builder = ESQueryBuilder()\n",
    "builder.set_index('logstash-host_id')\n",
    "builder.set_page_size(50)\n",
    "builder.set_tenant(1)\n",
    "builder.set_time_filter('host_id.services.values.first_seen')\n",
    "builder.set_from_date('2023-06-19T15:15:49+00:00')\n",
    "builder.set_to_date('2023-06-19T20:42:49+00:00')\n",
    "\n",
    "date_filter = '2023-06-14T13:53:27.941628+00:00'\n",
    "app_proto_filter = 'dhcp'\n",
    "\n",
    "filters = [f'host_id.services.values.first_seen: \"{date_filter}\"', f'host_id.services.values.app_proto.keyword: {app_proto_filter}']\n",
    "qfilter = ESQueryBuilder.filter_join(filters, operator='AND')\n",
    "qfilter = ESQueryBuilder.filter_join([qfilter, 'host_id.tenant: 1'], operator='AND')\n",
    "builder.set_qfilter(qfilter)\n",
    "\n",
    "JSON(builder.__dict__(), expanded=True)"
   ]
  },
  {
   "cell_type": "code",
   "execution_count": null,
   "id": "18aa41b4-007b-44c6-8627-b3f2b464df43",
   "metadata": {},
   "outputs": [],
   "source": [
    "r = builder.post()\n",
    "r"
   ]
  },
  {
   "cell_type": "code",
   "execution_count": null,
   "id": "e4636134-8180-4e1f-afac-93e1e6671988",
   "metadata": {},
   "outputs": [],
   "source": [
    "content = r.json()\n",
    "\n",
    "filters = {\n",
    "    'values.first_seen': date_filter,\n",
    "    'values.app_proto': app_proto_filter\n",
    "}\n",
    "\n",
    "dataframe = []\n",
    "for hit in content.get('hits', {}).get('hits', []):\n",
    "    services = hit.get('_source', {}).get('host_id', {}).get('services', [])\n",
    "    services = ESQueryBuilder.clean_host_id(services, **filters)\n",
    "    \n",
    "    # build data frame\n",
    "    for service in services:\n",
    "        for idx, val in enumerate(service['values']):\n",
    "            if idx == 0:\n",
    "                dataframe.append((service['proto'], service['port'], val['first_seen'], val['last_seen'], val['app_proto']))\n",
    "            else:\n",
    "                dataframe.append(('', '', val['first_seen'], val['last_seen'], val['app_proto']))\n",
    "\n",
    "df = pd.DataFrame(dataframe, columns =['Proto', 'Port', 'First Seen', 'Last Seen', 'App Proto'])\n",
    "df"
   ]
  },
  {
   "cell_type": "code",
   "execution_count": null,
   "id": "f953298f-94ef-456f-85ad-e98002c3743e",
   "metadata": {},
   "outputs": [],
   "source": [
    "builder = ESQueryBuilder()\n",
    "builder.set_index('logstash-host_id')\n",
    "builder.set_page_size(50)\n",
    "# builder.set_tenant(1)\n",
    "builder.set_time_filter('host_id.services.values.first_seen')\n",
    "\n",
    "builder.set_from_date('2023-06-19T09:42:49+00:00')\n",
    "builder.set_to_date('2023-06-19T14:42:49+00:00')\n",
    "\n",
    "qfilter = ESQueryBuilder.filter_join(['host_id.services.proto: udp', 'ip: 10.7.5.5'], operator='AND')\n",
    "builder.set_qfilter(qfilter)\n",
    "\n",
    "r = builder.post()\n",
    "r"
   ]
  },
  {
   "cell_type": "code",
   "execution_count": null,
   "id": "78b2a8f7-d00f-4efc-bad3-49972e38109d",
   "metadata": {},
   "outputs": [],
   "source": [
    "content = r.json()\n",
    "\n",
    "filters = {'proto': 'udp'}\n",
    "\n",
    "dataframe = []\n",
    "for hit in content.get('hits', {}).get('hits', []):\n",
    "    services = hit.get('_source', {}).get('host_id', {}).get('services', [])\n",
    "    \n",
    "    res = ESQueryBuilder.clean_host_id(services, **filters)\n",
    "    services = res\n",
    "    \n",
    "    # build data frame\n",
    "    for service in services:\n",
    "        for val in service['values']:\n",
    "            dataframe.append((hit['_source']['ip'], service['proto'], service['port'], val['first_seen'], val['last_seen'], val['app_proto']))\n",
    "\n",
    "df = pd.DataFrame(dataframe, columns =['IP', 'Proto', 'Port', 'First Seen', 'Last Seen', 'App Proto'])\n",
    "df.sort_values('IP')"
   ]
  },
  {
   "cell_type": "code",
   "execution_count": null,
   "id": "0bb288d6-cd78-42c1-8e00-3ad8001f2088",
   "metadata": {},
   "outputs": [],
   "source": [
    "builder = ESQueryBuilder()\n",
    "# builder.set_index('host_id-1')\n",
    "builder.set_index('logstash-host_id')\n",
    "builder.set_page_size(50)\n",
    "# builder.set_tenant(1)\n",
    "builder.set_time_filter('host_id.services.values.first_seen')\n",
    "builder.set_from_date('2023-06-19T09:42:49+00:00')\n",
    "builder.set_to_date('2023-06-19T14:42:49+00:00')\n",
    "\n",
    "filter_proto = 'host_id.services.proto: udp'\n",
    "filter_ja3 = 'host_id.tls.ja3.hash: 6734f37431670b3ab4292b8f60f29984'\n",
    "filter_first_seen = 'host_id.tls.ja3.first_seen: \"2023-06-19T17:42:12.018942+0200\"'\n",
    "\n",
    "#qfilter = ESQueryBuilder.filter_join([filter_proto, filter_ja3, filter_first_seen, 'host_id.tenant: 1'], operator='AND')\n",
    "qfilter = ESQueryBuilder.filter_join([filter_proto, filter_ja3, filter_first_seen], operator='AND')\n",
    "builder.set_qfilter(qfilter)\n",
    "\n",
    "r = builder.post()\n",
    "r.content"
   ]
  },
  {
   "cell_type": "code",
   "execution_count": null,
   "id": "36c950c8-816a-494a-8bf8-710e125ab82b",
   "metadata": {},
   "outputs": [],
   "source": [
    "content = r.json()\n",
    "\n",
    "filter_proto = {'proto': 'udp', 'port': 53}\n",
    "filter_ja3 = {'hash': '6734f37431670b3ab4292b8f60f29984', 'first_seen': '2023-06-19T17:42:12.018942+0200'}\n",
    "\n",
    "dataframe_proto = []\n",
    "dataframe_ja3 = []\n",
    "for hit in content.get('hits', {}).get('hits', []):\n",
    "\n",
    "    services = hit.get('_source', {}).get('host_id', {}).get('services', [])\n",
    "    tls_ja3 = hit.get('_source', {}).get('host_id', {}).get('tls.ja3', [])\n",
    "\n",
    "    services = ESQueryBuilder.clean_host_id(services, **filter_proto)\n",
    "    tls_ja3 = ESQueryBuilder.clean_host_id(tls_ja3, **filter_ja3)\n",
    "\n",
    "    # build data frame\n",
    "    for service in services:\n",
    "        for val in service['values']:\n",
    "            dataframe_proto.append((hit['_source']['ip'], service['proto'], service['port'], val['first_seen'], val['last_seen'], val['app_proto']))\n",
    "            \n",
    "    for ja3 in tls_ja3:\n",
    "        dataframe_ja3.append((hit['_source']['ip'], ja3['agent'], ja3['hash'], ja3['first_seen'], ja3['last_seen']))"
   ]
  },
  {
   "cell_type": "code",
   "execution_count": null,
   "id": "9e43f6ea-3b5e-463d-904c-1f57c5168ec5",
   "metadata": {},
   "outputs": [],
   "source": [
    "df = pd.DataFrame(dataframe_proto, columns =['IP', 'Proto', 'Port', 'First Seen', 'Last Seen', 'App Proto'])\n",
    "df.sort_values('IP')"
   ]
  },
  {
   "cell_type": "code",
   "execution_count": null,
   "id": "d0336ef8-8cca-484e-9735-b79fac937a80",
   "metadata": {},
   "outputs": [],
   "source": [
    "df = pd.DataFrame(dataframe_ja3, columns =['IP', 'Agent', 'Hash', 'First Seen', 'Last Seen'])\n",
    "df.sort_values('IP')"
   ]
  },
  {
   "cell_type": "markdown",
   "id": "069e1ffc-7fce-478b-94fb-9a82fb2dbce0",
   "metadata": {},
   "source": [
    "# widgets"
   ]
  },
  {
   "cell_type": "code",
   "execution_count": null,
   "id": "2fc557a9-e762-4e94-b562-6b57cbe819d5",
   "metadata": {},
   "outputs": [],
   "source": [
    "title = widgets.Label(value='Select time range')\n",
    "from_date = widgets.DatetimePicker(description='Start date')\n",
    "to_date = widgets.DatetimePicker(description='End date')\n",
    "\n",
    "text_from_date = widgets.Text()\n",
    "text_to_date = widgets.Text()\n",
    "\n",
    "display(title, from_date, text_from_date, to_date, text_to_date)\n",
    "\n",
    "# setting a and b avoid a useless output\n",
    "a = widgets.jslink((from_date, 'value'), (text_from_date, 'value'))\n",
    "b = widgets.jslink((to_date, 'value'), (text_to_date, 'value'))"
   ]
  },
  {
   "cell_type": "code",
   "execution_count": null,
   "id": "14766df0-9ff8-45d1-b0cc-3131220ff4d7",
   "metadata": {},
   "outputs": [],
   "source": [
    "print(from_date)\n",
    "\n",
    "builder = ESQueryBuilder()\n",
    "builder.set_index('logstash-host_id')\n",
    "builder.set_page_size(50)\n",
    "builder.set_tenant(1)\n",
    "builder.set_time_filter('host_id.services.values.first_seen')\n",
    "builder.set_from_date(from_date.value.isoformat())\n",
    "builder.set_to_date(to_date.value.isoformat())\n",
    "\n",
    "JSON(builder.__dict__(), expanded=True)\n",
    "\n",
    "builder2 = ESQueryBuilder()\n",
    "builder2.set_index('host_id-1')\n",
    "builder2.set_page_size(50)\n",
    "builder2.set_tenant(1)\n",
    "builder2.set_time_filter('host_id.services.values.first_seen')\n",
    "builder2.set_from_date('2023-06-19T15:00:00+00:00')\n",
    "builder2.set_to_date('2023-06-19T21:00:00+00:00')\n",
    "\n",
    "d = builder.__dict__()\n",
    "d\n",
    "\n",
    "d2 = builder2.__dict__()\n",
    "d2\n",
    "\n",
    "display(d == d2)"
   ]
  },
  {
   "cell_type": "code",
   "execution_count": null,
   "id": "59662a3a-c780-4125-96d8-ebe4841034c4",
   "metadata": {},
   "outputs": [],
   "source": [
    "from_date_ts = int((timezone.now() - timedelta(weeks=365)).timestamp())\n",
    "to_date_ts = int(timezone.now().timestamp())\n",
    "\n",
    "print(from_date_ts)\n",
    "\n",
    "title = widgets.Label(value='Select time range')\n",
    "from_date = widgets.IntSlider(description='Start date', min=from_date_ts, max=to_date_ts, continuous_update=True)\n",
    "to_date = widgets.IntSlider(description='End date', min=from_date_ts, max=to_date_ts, continuous_update=True)\n",
    "\n",
    "output = widgets.Label()\n",
    "def update(change):\n",
    "    with output:\n",
    "        print(f'{change[\"owner\"].description}: {datetime.utcfromtimestamp(change[\"new\"]).astimezone(tz=dt_tz.utc).isoformat()}')\n",
    "\n",
    "# a = widgets.jslink((from_date, 'value'), (output, 'value'))\n",
    "# a = widgets.jslink((to_date, 'value'), (output, 'value'))\n",
    "\n",
    "from_date.observe(update, names=\"value\")\n",
    "to_date.observe(update, names=\"value\")\n",
    "\n",
    "display(title, from_date, to_date, output)"
   ]
  },
  {
   "cell_type": "code",
   "execution_count": null,
   "id": "5b6d0634-ce42-4c90-b09f-f86a4ade0cee",
   "metadata": {},
   "outputs": [],
   "source": [
    "builder.get_data?"
   ]
  },
  {
   "cell_type": "code",
   "execution_count": null,
   "id": "19ffe292-a848-4d59-8879-b5bbe55c45ea",
   "metadata": {},
   "outputs": [],
   "source": []
  }
 ],
 "metadata": {
  "kernelspec": {
   "display_name": "Python 3 (ipykernel)",
   "language": "python",
   "name": "python3"
  },
  "language_info": {
   "codemirror_mode": {
    "name": "ipython",
    "version": 3
   },
   "file_extension": ".py",
   "mimetype": "text/x-python",
   "name": "python",
   "nbconvert_exporter": "python",
   "pygments_lexer": "ipython3",
   "version": "3.11.2"
  }
 },
 "nbformat": 4,
 "nbformat_minor": 5
}
