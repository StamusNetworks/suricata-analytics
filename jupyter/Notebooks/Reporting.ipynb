{
 "cells": [
  {
   "cell_type": "markdown",
   "id": "7eac846e-8502-4c4b-9906-63a4f2cd80f2",
   "metadata": {},
   "source": [
    "# Imports"
   ]
  },
  {
   "cell_type": "code",
   "execution_count": null,
   "id": "612714a1-35bf-4f84-8281-d2c790a06aed",
   "metadata": {},
   "outputs": [],
   "source": [
    "from surianalytics.connectors import ESQueryBuilder, escape as es_escape\n",
    "from IPython.display import JSON\n",
    "from pprint import pprint\n",
    "import pandas as pd\n",
    "import plotly.express as px\n",
    "import mercury as mr\n",
    "import ipywidgets as widgets\n",
    "import json\n",
    "from IPython.display import display\n",
    "from django.utils import timezone\n",
    "from datetime import timedelta, timezone as dt_tz\n",
    "from django.conf import settings\n",
    "\n",
    "try:\n",
    "    # allow to use timezone\n",
    "    settings.configure()\n",
    "    settings.USE_TZ = True\n",
    "except:\n",
    "    pass\n",
    "\n",
    "# disable insecure warning\n",
    "import urllib3\n",
    "urllib3.disable_warnings(urllib3.exceptions.InsecureRequestWarning)\n",
    "\n",
    "pd.set_option('display.max_colwidth', None)\n",
    "pd.set_option('display.max_columns', None)\n",
    "# Be careful with max_rows, too much rows leads to freeze browser/os\n",
    "pd.set_option('display.max_rows', 100)\n",
    "pd.set_option('display.width', None)"
   ]
  },
  {
   "cell_type": "markdown",
   "id": "685b8074-a4cc-4c48-8c61-a68d465c9ec3",
   "metadata": {},
   "source": [
    "# Build ES query example"
   ]
  },
  {
   "cell_type": "code",
   "execution_count": 8,
   "id": "bfb59ba5-8519-4617-9517-4b953c8c1d4b",
   "metadata": {},
   "outputs": [
    {
     "data": {
      "application/json": {
       "aggs": {
        "1": {
         "aggs": {
          "2": {
           "aggs": {
            "3": {
             "terms": {
              "field": "tls.toto",
              "order": {
               "_count": "desc"
              },
              "size": 5
             }
            }
           },
           "terms": {
            "field": "tls.cipher_security.keyword",
            "order": {
             "_count": "asc"
            },
            "size": 5
           }
          }
         },
         "terms": {
          "field": "tls.sni.keyword",
          "order": {
           "_count": "asc"
          },
          "size": 5
         }
        }
       },
       "query": {
        "bool": {
         "must": [
          {
           "query_string": {
            "analyze_wildcard": true,
            "query": "(event_type: tls AND (proto: UDP OR proto: TCP))"
           }
          },
          {
           "range": {
            "@timestamp": {
             "from": 1684137884000,
             "to": 1686729884000
            }
           }
          }
         ]
        }
       },
       "size": 0
      },
      "text/plain": [
       "<IPython.core.display.JSON object>"
      ]
     },
     "execution_count": 8,
     "metadata": {
      "application/json": {
       "expanded": true,
       "root": "root"
      }
     },
     "output_type": "execute_result"
    }
   ],
   "source": [
    "builder = ESQueryBuilder()\n",
    "builder.set_index('logstash-tls-*')\n",
    "builder.set_page_size(0)\n",
    "builder.set_tenant(0)\n",
    "\n",
    "filters = [f'proto: {es_escape(\"UDP\")}', f'proto: {es_escape(\"TCP\")}']\n",
    "filter2 = 'event_type: tls'\n",
    "qfilter = ESQueryBuilder.filter_join(filters, operator='OR')\n",
    "qfilter = ESQueryBuilder.filter_join([filter2, qfilter], operator='AND')\n",
    "builder.set_qfilter(qfilter)\n",
    "\n",
    "builder.add_aggs('tls.sni.keyword', order='_count', sort='asc', size=5)\n",
    "builder.add_aggs('tls.cipher_security.keyword', order='_count', sort='asc', size=5)\n",
    "builder.add_aggs('tls.toto', order='_count', sort='desc', size=5)\n",
    "\n",
    "JSON(builder.__dict__(), expanded=True)"
   ]
  },
  {
   "cell_type": "markdown",
   "id": "9cec22dd-cf8e-4828-af33-bcab7d412f53",
   "metadata": {},
   "source": [
    "# Old TLS versions"
   ]
  },
  {
   "cell_type": "code",
   "execution_count": 17,
   "id": "145dc9f5-4064-4fce-987f-11392816d14a",
   "metadata": {},
   "outputs": [
    {
     "name": "stdout",
     "output_type": "stream",
     "text": [
      "{'took': 0, 'timed_out': False, '_shards': {'total': 0, 'successful': 0, 'skipped': 0, 'failed': 0}, 'hits': {'total': {'value': 0, 'relation': 'eq'}, 'max_score': 0.0, 'hits': []}}\n"
     ]
    }
   ],
   "source": [
    "# Cipher suite count on degraded / insecure\n",
    "builder = ESQueryBuilder()\n",
    "builder.set_index('logstash-tls-*')\n",
    "builder.set_page_size(0)\n",
    "builder.set_tenant(0)\n",
    "\n",
    "filters = [f'tls.cipher_security: {es_escape(\"insecure\")}', f'tls.cipher_security: {es_escape(\"degraded\")}']\n",
    "filter2 = 'event_type: tls'\n",
    "qfilter = ESQueryBuilder.filter_join(filters, operator='OR')\n",
    "qfilter = ESQueryBuilder.filter_join([filter2, qfilter], operator='AND')\n",
    "builder.set_qfilter(qfilter)\n",
    "\n",
    "builder.add_aggs('tls.cipher_suite.keyword', order='_count', sort='desc', size=5)\n",
    "\n",
    "builder.set_from_date('2023-04-10T09:42:49Z')\n",
    "builder.set_to_date('2023-06-14T09:42:49Z')\n",
    "\n",
    "r = builder.post()\n",
    "content = r.json()\n",
    "\n",
    "res = {'ciphers': [], 'count': []}\n",
    "for key, val in content.get('aggregations', {}).items():\n",
    "    for item in val.get('buckets', []):\n",
    "        res['ciphers'].append(item['key'])\n",
    "        res['count'].append(item['doc_count'])\n",
    "        \n",
    "df = pd.DataFrame({'Cipher Suite': res['ciphers'], 'Count': res['count']})\n",
    "plot = df.groupby(['Cipher Suite']).sum().plot(kind='pie', y='Count', autopct='%1.0f%%')\n",
    "df"
   ]
  },
  {
   "cell_type": "code",
   "execution_count": null,
   "id": "018b51eb-e99d-4bf8-852f-8e7348fde4fa",
   "metadata": {},
   "outputs": [],
   "source": [
    "# Global number of assets using insecure and degraded ciphers\n",
    "builder = ESQueryBuilder()\n",
    "builder.set_index('logstash-tls-*')\n",
    "builder.set_page_size(0)\n",
    "builder.set_tenant(0)\n",
    "\n",
    "filters = [f'tls.cipher_security: {es_escape(\"insecure\")}', f'tls.cipher_security: {es_escape(\"degraded\")}']\n",
    "filter2 = 'event_type: tls'\n",
    "qfilter = ESQueryBuilder.filter_join(filters, operator='OR')\n",
    "qfilter = ESQueryBuilder.filter_join([filter2, qfilter], operator='AND')\n",
    "builder.set_qfilter(qfilter)\n",
    "\n",
    "builder.add_aggs('tls.cipher_security.keyword', order='_count', sort='desc', size=5)\n",
    "\n",
    "builder.set_from_date('2023-05-10T09:42:49Z')\n",
    "builder.set_to_date('2023-05-31T09:42:49Z')\n",
    "\n",
    "r = builder.post()\n",
    "content = r.json()\n",
    "\n",
    "res = {'ciphers': [], 'count': []}\n",
    "for key, val in content.get('aggregations', {}).items():\n",
    "    for item in val.get('buckets', []):\n",
    "        res['ciphers'].append(item['key'])\n",
    "        res['count'].append(item['doc_count'])\n",
    "        \n",
    "df = pd.DataFrame({'Cipher Suite': res['ciphers'], 'Count': res['count']})\n",
    "df"
   ]
  },
  {
   "cell_type": "code",
   "execution_count": 10,
   "id": "4901626b-7df4-4a83-a5df-ea59f3de8351",
   "metadata": {},
   "outputs": [
    {
     "data": {
      "text/html": [
       "<div>\n",
       "<style scoped>\n",
       "    .dataframe tbody tr th:only-of-type {\n",
       "        vertical-align: middle;\n",
       "    }\n",
       "\n",
       "    .dataframe tbody tr th {\n",
       "        vertical-align: top;\n",
       "    }\n",
       "\n",
       "    .dataframe thead th {\n",
       "        text-align: right;\n",
       "    }\n",
       "</style>\n",
       "<table border=\"1\" class=\"dataframe\">\n",
       "  <thead>\n",
       "    <tr style=\"text-align: right;\">\n",
       "      <th></th>\n",
       "      <th>Cipher Security</th>\n",
       "      <th>Security Count</th>\n",
       "      <th>Cipher Suite</th>\n",
       "      <th>Suite Count</th>\n",
       "    </tr>\n",
       "  </thead>\n",
       "  <tbody>\n",
       "  </tbody>\n",
       "</table>\n",
       "</div>"
      ],
      "text/plain": [
       "Empty DataFrame\n",
       "Columns: [Cipher Security, Security Count, Cipher Suite, Suite Count]\n",
       "Index: []"
      ]
     },
     "execution_count": 10,
     "metadata": {},
     "output_type": "execute_result"
    }
   ],
   "source": [
    "builder = ESQueryBuilder()\n",
    "builder.set_index('logstash-tls-*')\n",
    "builder.set_page_size(0)\n",
    "builder.set_tenant(0)\n",
    "\n",
    "filters = [f'tls.cipher_security: {es_escape(\"insecure\")}', f'tls.cipher_security: {es_escape(\"degraded\")}']\n",
    "filter2 = 'event_type: tls'\n",
    "qfilter = ESQueryBuilder.filter_join(filters, operator='OR')\n",
    "qfilter = ESQueryBuilder.filter_join([filter2, qfilter], operator='AND')\n",
    "builder.set_qfilter(qfilter)\n",
    "\n",
    "builder.add_aggs('tls.cipher_security.keyword', order='_count', sort='desc', size=5)\n",
    "builder.add_aggs('tls.cipher_suite.keyword', order='_count', sort='desc', size=5)\n",
    "\n",
    "builder.set_from_date('2023-05-14T09:42:49Z')\n",
    "builder.set_to_date('2023-05-31T09:42:49Z')\n",
    "\n",
    "r = builder.post()\n",
    "content = r.json()\n",
    "\n",
    "sunburst = []\n",
    "tree = []\n",
    "for key, val in content.get('aggregations', {}).items():\n",
    "    for item in val.get('buckets', []):\n",
    "        for idx, sub_item in enumerate(item['2'].get('buckets', [])):\n",
    "            sunburst.append((item['key'], item['doc_count'], sub_item['key'], sub_item['doc_count']))\n",
    "            if idx == 0:\n",
    "                tree.append((item['key'], item['doc_count'], sub_item['key'], sub_item['doc_count']))\n",
    "            else:\n",
    "                tree.append(('', '', sub_item['key'], sub_item['doc_count']))\n",
    "\n",
    "df = pd.DataFrame(tree, columns =['Cipher Security', 'Security Count', 'Cipher Suite', 'Suite Count'])\n",
    "df"
   ]
  },
  {
   "cell_type": "code",
   "execution_count": null,
   "id": "638cb1f1-e8c6-48fb-b4ef-92845c5a728e",
   "metadata": {},
   "outputs": [],
   "source": [
    "df = pd.DataFrame(sunburst, columns =['Cipher Security', 'Security Count', 'Cipher Suite', 'Suite Count'])\n",
    "px.sunburst(df, path=['Cipher Security', 'Security Count', 'Cipher Suite', 'Suite Count'], width=1000, height=1000)"
   ]
  },
  {
   "cell_type": "markdown",
   "id": "f17f1a07-cbb1-4546-86b5-8ca45d81f672",
   "metadata": {},
   "source": [
    "# Filter out host insight requests (scirius#6112)"
   ]
  },
  {
   "cell_type": "code",
   "execution_count": null,
   "id": "8b8567ba-bffb-46e0-b93c-b5bcd5c9f783",
   "metadata": {},
   "outputs": [],
   "source": [
    "builder = ESQueryBuilder()\n",
    "builder.set_index('host_id-1')\n",
    "builder.set_page_size(50)\n",
    "builder.set_tenant(1)\n",
    "builder.set_time_filter('host_id.services.values.first_seen')\n",
    "builder.set_from_date('2023-05-10T09:42:49Z')\n",
    "builder.set_to_date('2023-05-31T09:42:49Z')\n",
    "\n",
    "date_filter = '2023-05-10T15:06:11.857378+0200'\n",
    "app_proto_filter = 'dns'\n",
    "\n",
    "filters = [f'host_id.services.values.first_seen: \"{date_filter}\"', f'host_id.services.values.app_proto.keyword: {app_proto_filter}']\n",
    "qfilter = ESQueryBuilder.filter_join(filters, operator='AND')\n",
    "qfilter = ESQueryBuilder.filter_join([qfilter, 'host_id.tenant: 1'], operator='AND')\n",
    "builder.set_qfilter(qfilter)\n",
    "\n",
    "# JSON(builder.__dict__(), expanded=True)\n",
    "r = builder.post()\n",
    "content = r.json()\n",
    "\n",
    "# JSON(content, expanded=True)\n",
    "\n",
    "filters = {\n",
    "    'values.first_seen': date_filter,\n",
    "    'values.app_proto': app_proto_filter\n",
    "}\n",
    "\n",
    "dataframe = []\n",
    "for hit in content.get('hits', {}).get('hits', []):\n",
    "    services = hit.get('_source', {}).get('host_id', {}).get('services', [])\n",
    "    services = ESQueryBuilder.clean_host_id(services, **filters)\n",
    "    \n",
    "    # build data frame\n",
    "    for service in services:\n",
    "        for idx, val in enumerate(service['values']):\n",
    "            if idx == 0:\n",
    "                dataframe.append((service['proto'], service['port'], val['first_seen'], val['last_seen'], val['app_proto']))\n",
    "            else:\n",
    "                dataframe.append(('', '', val['first_seen'], val['last_seen'], val['app_proto']))\n",
    "\n",
    "        \n",
    "# JSON(content, expanded=True)\n",
    "df = pd.DataFrame(dataframe, columns =['Proto', 'Port', 'First Seen', 'Last Seen', 'App Proto'])\n",
    "df"
   ]
  },
  {
   "cell_type": "code",
   "execution_count": null,
   "id": "f953298f-94ef-456f-85ad-e98002c3743e",
   "metadata": {},
   "outputs": [],
   "source": [
    "builder = ESQueryBuilder()\n",
    "builder.set_index('host_id-1')\n",
    "builder.set_page_size(50)\n",
    "builder.set_tenant(1)\n",
    "builder.set_time_filter('host_id.services.values.first_seen')\n",
    "builder.set_from_date('2023-05-10T09:42:49Z')\n",
    "builder.set_to_date('2023-05-31T09:42:49Z')\n",
    "\n",
    "qfilter = ESQueryBuilder.filter_join(['host_id.services.proto: udp', 'ip: 10.10.21.1', 'host_id.tenant: 1'], operator='AND')\n",
    "builder.set_qfilter(qfilter)\n",
    "\n",
    "# JSON(builder.__dict__(), expanded=True)\n",
    "r = builder.post()\n",
    "content = r.json()\n",
    "\n",
    "# JSON(content, expanded=True)\n",
    "\n",
    "filters = {'proto': 'udp'}\n",
    "\n",
    "dataframe = []\n",
    "for hit in content.get('hits', {}).get('hits', []):\n",
    "    services = hit.get('_source', {}).get('host_id', {}).get('services', [])\n",
    "    \n",
    "    res = ESQueryBuilder.clean_host_id(services, **filters)\n",
    "    services = res\n",
    "    \n",
    "    # build data frame\n",
    "    for service in services:\n",
    "        for val in service['values']:\n",
    "            dataframe.append((hit['_source']['ip'], service['proto'], service['port'], val['first_seen'], val['last_seen'], val['app_proto']))\n",
    "        \n",
    "# JSON(dataframe, expanded=True)\n",
    "# pd.DataFrame?\n",
    "df = pd.DataFrame(dataframe, columns =['IP', 'Proto', 'Port', 'First Seen', 'Last Seen', 'App Proto'])\n",
    "df.sort_values('IP')\n",
    "\n"
   ]
  },
  {
   "cell_type": "code",
   "execution_count": null,
   "id": "0bb288d6-cd78-42c1-8e00-3ad8001f2088",
   "metadata": {},
   "outputs": [],
   "source": [
    "builder = ESQueryBuilder()\n",
    "builder.set_index('host_id-1')\n",
    "builder.set_page_size(50)\n",
    "builder.set_tenant(1)\n",
    "builder.set_time_filter('host_id.services.values.first_seen')\n",
    "builder.set_from_date('2023-05-10T09:42:49Z')\n",
    "builder.set_to_date('2023-05-31T09:42:49Z')\n",
    "\n",
    "filter_proto = 'host_id.services.proto: udp'\n",
    "filter_ja3 = 'host_id.tls.ja3.hash: 6734f37431670b3ab4292b8f60f29984'\n",
    "filter_first_seen = 'host_id.tls.ja3.first_seen: \"2023-05-10T15:34:15.577078+02:00\"'\n",
    "\n",
    "qfilter = ESQueryBuilder.filter_join([filter_proto, filter_ja3, filter_first_seen, 'host_id.tenant: 1'], operator='AND')\n",
    "builder.set_qfilter(qfilter)\n",
    "\n",
    "# JSON(builder.__dict__(), expanded=True)\n",
    "r = builder.post()\n",
    "content = r.json()\n",
    "\n",
    "# JSON(content, expanded=True)\n",
    "\n",
    "filter_proto = {'proto': 'udp', 'port': 53}\n",
    "filter_ja3 = {'hash': '6734f37431670b3ab4292b8f60f29984', 'first_seen': '2023-05-10T15:34:15.577078+02:00'}\n",
    "\n",
    "dataframe_proto = []\n",
    "dataframe_ja3 = []\n",
    "for hit in content.get('hits', {}).get('hits', []):\n",
    "\n",
    "    services = hit.get('_source', {}).get('host_id', {}).get('services', [])\n",
    "    tls_ja3 = hit.get('_source', {}).get('host_id', {}).get('tls.ja3', [])\n",
    "\n",
    "    services = ESQueryBuilder.clean_host_id(services, **filter_proto)\n",
    "    tls_ja3 = ESQueryBuilder.clean_host_id(tls_ja3, **filter_ja3)\n",
    "\n",
    "    # build data frame\n",
    "    for service in services:\n",
    "        for val in service['values']:\n",
    "            dataframe_proto.append((hit['_source']['ip'], service['proto'], service['port'], val['first_seen'], val['last_seen'], val['app_proto']))\n",
    "            \n",
    "    for ja3 in tls_ja3:\n",
    "        dataframe_ja3.append((hit['_source']['ip'], ja3['agent'], ja3['hash'], ja3['first_seen'], ja3['last_seen']))\n",
    "        \n",
    "# JSON(content, expanded=True)\n",
    "# pd.DataFrame?\n",
    "df = pd.DataFrame(dataframe_proto, columns =['IP', 'Proto', 'Port', 'First Seen', 'Last Seen', 'App Proto'])\n",
    "df.sort_values('IP')\n",
    "\n"
   ]
  },
  {
   "cell_type": "code",
   "execution_count": null,
   "id": "d0336ef8-8cca-484e-9735-b79fac937a80",
   "metadata": {},
   "outputs": [],
   "source": [
    "df = pd.DataFrame(dataframe_ja3, columns =['IP', 'Agent', 'Hash', 'First Seen', 'Last Seen'])\n",
    "df.sort_values('IP')"
   ]
  },
  {
   "cell_type": "markdown",
   "id": "069e1ffc-7fce-478b-94fb-9a82fb2dbce0",
   "metadata": {},
   "source": [
    "# widgets"
   ]
  },
  {
   "cell_type": "code",
   "execution_count": 3,
   "id": "2fc557a9-e762-4e94-b562-6b57cbe819d5",
   "metadata": {},
   "outputs": [
    {
     "data": {
      "application/vnd.jupyter.widget-view+json": {
       "model_id": "a720247c090946c9a19d2a9f47281b1e",
       "version_major": 2,
       "version_minor": 0
      },
      "text/plain": [
       "Label(value='Select time range')"
      ]
     },
     "metadata": {},
     "output_type": "display_data"
    },
    {
     "data": {
      "application/vnd.jupyter.widget-view+json": {
       "model_id": "b5ff1823ee924054911f863a674b4282",
       "version_major": 2,
       "version_minor": 0
      },
      "text/plain": [
       "DatetimePicker(value=None, description='Start date')"
      ]
     },
     "metadata": {},
     "output_type": "display_data"
    },
    {
     "data": {
      "application/vnd.jupyter.widget-view+json": {
       "model_id": "1aeeeb72d386492689aa0d31d3c29af8",
       "version_major": 2,
       "version_minor": 0
      },
      "text/plain": [
       "Text(value='')"
      ]
     },
     "metadata": {},
     "output_type": "display_data"
    },
    {
     "data": {
      "application/vnd.jupyter.widget-view+json": {
       "model_id": "5a8ad06cb86645dca6c74a16b05ed64f",
       "version_major": 2,
       "version_minor": 0
      },
      "text/plain": [
       "DatetimePicker(value=None, description='End date')"
      ]
     },
     "metadata": {},
     "output_type": "display_data"
    },
    {
     "data": {
      "application/vnd.jupyter.widget-view+json": {
       "model_id": "be627bc9fd0d4e6d95ffb7e277a1fa84",
       "version_major": 2,
       "version_minor": 0
      },
      "text/plain": [
       "Text(value='')"
      ]
     },
     "metadata": {},
     "output_type": "display_data"
    }
   ],
   "source": [
    "title = widgets.Label(value='Select time range')\n",
    "from_date = widgets.DatetimePicker(description='Start date')\n",
    "to_date = widgets.DatetimePicker(description='End date')\n",
    "\n",
    "text_from_date = widgets.Text()\n",
    "text_to_date = widgets.Text()\n",
    "\n",
    "display(title, from_date, text_from_date, to_date, text_to_date)\n",
    "\n",
    "# setting a and b avoid a useless output\n",
    "a = widgets.jslink((from_date, 'value'), (text_from_date, 'value'))\n",
    "b = widgets.jslink((to_date, 'value'), (text_to_date, 'value'))"
   ]
  },
  {
   "cell_type": "code",
   "execution_count": null,
   "id": "14766df0-9ff8-45d1-b0cc-3131220ff4d7",
   "metadata": {},
   "outputs": [],
   "source": [
    "builder = ESQueryBuilder()\n",
    "builder.set_index('host_id-1')\n",
    "builder.set_page_size(50)\n",
    "builder.set_tenant(1)\n",
    "builder.set_time_filter('host_id.services.values.first_seen')\n",
    "builder.set_from_date(from_date.value.isoformat())\n",
    "builder.set_to_date(to_date.value.isoformat())\n",
    "\n",
    "# JSON(builder.__dict__(), expanded=True)\n",
    "\n",
    "builder2 = ESQueryBuilder()\n",
    "builder2.set_index('host_id-1')\n",
    "builder2.set_page_size(50)\n",
    "builder2.set_tenant(1)\n",
    "builder2.set_time_filter('host_id.services.values.first_seen')\n",
    "builder2.set_from_date('2023-05-10T09:00:00Z')\n",
    "builder2.set_to_date('2023-05-30T22:00:00Z')\n",
    "\n",
    "d = builder.__dict__()\n",
    "d\n",
    "\n",
    "d2 = builder2.__dict__()\n",
    "d2\n",
    "\n",
    "display(d == d2)"
   ]
  },
  {
   "cell_type": "code",
   "execution_count": null,
   "id": "59662a3a-c780-4125-96d8-ebe4841034c4",
   "metadata": {},
   "outputs": [],
   "source": [
    "from_date_ts = int((timezone.now() - timedelta(weeks=365)).timestamp())\n",
    "to_date_ts = int(timezone.now().timestamp())\n",
    "\n",
    "print(from_date_ts)\n",
    "\n",
    "title = widgets.Label(value='Select time range')\n",
    "from_date = widgets.IntSlider(description='Start date', min=from_date_ts, max=to_date_ts, continuous_update=True)\n",
    "to_date = widgets.IntSlider(description='End date', min=from_date_ts, max=to_date_ts, continuous_update=True)\n",
    "\n",
    "output = widgets.Label()\n",
    "def update(change):\n",
    "    with output:\n",
    "        print(f'{change[\"owner\"].description}: {datetime.utcfromtimestamp(change[\"new\"]).astimezone(tz=dt_tz.utc).isoformat()}')\n",
    "\n",
    "# a = widgets.jslink((from_date, 'value'), (output, 'value'))\n",
    "# a = widgets.jslink((to_date, 'value'), (output, 'value'))\n",
    "\n",
    "from_date.observe(update, names=\"value\")\n",
    "to_date.observe(update, names=\"value\")\n",
    "\n",
    "display(title, from_date, to_date, output)"
   ]
  },
  {
   "cell_type": "code",
   "execution_count": 11,
   "id": "5b6d0634-ce42-4c90-b09f-f86a4ade0cee",
   "metadata": {},
   "outputs": [
    {
     "data": {
      "text/plain": [
       "\u001b[0;31mSignature:\u001b[0m \u001b[0mbuilder\u001b[0m\u001b[0;34m.\u001b[0m\u001b[0mget_data\u001b[0m\u001b[0;34m(\u001b[0m\u001b[0mapi\u001b[0m\u001b[0;34m:\u001b[0m \u001b[0mstr\u001b[0m\u001b[0;34m,\u001b[0m \u001b[0mqParams\u001b[0m\u001b[0;34m=\u001b[0m\u001b[0;32mNone\u001b[0m\u001b[0;34m,\u001b[0m \u001b[0mignore_time\u001b[0m\u001b[0;34m=\u001b[0m\u001b[0;32mFalse\u001b[0m\u001b[0;34m)\u001b[0m\u001b[0;34m\u001b[0m\u001b[0;34m\u001b[0m\u001b[0m\n",
       "\u001b[0;31mDocstring:\u001b[0m <no docstring>\n",
       "\u001b[0;31mFile:\u001b[0m      ~/.pyenv/versions/suricata-analytics/lib/python3.11/site-packages/surianalytics/connectors.py\n",
       "\u001b[0;31mType:\u001b[0m      method"
      ]
     },
     "metadata": {},
     "output_type": "display_data"
    }
   ],
   "source": [
    "builder.get_data?"
   ]
  },
  {
   "cell_type": "code",
   "execution_count": null,
   "id": "97b4c851-ea28-4027-b3ba-8ce608433bd5",
   "metadata": {},
   "outputs": [],
   "source": []
  }
 ],
 "metadata": {
  "kernelspec": {
   "display_name": "Python 3 (ipykernel)",
   "language": "python",
   "name": "python3"
  },
  "language_info": {
   "codemirror_mode": {
    "name": "ipython",
    "version": 3
   },
   "file_extension": ".py",
   "mimetype": "text/x-python",
   "name": "python",
   "nbconvert_exporter": "python",
   "pygments_lexer": "ipython3",
   "version": "3.11.2"
  }
 },
 "nbformat": 4,
 "nbformat_minor": 5
}
