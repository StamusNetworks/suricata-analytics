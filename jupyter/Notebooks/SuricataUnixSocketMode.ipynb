{
 "cells": [
  {
   "cell_type": "markdown",
   "id": "41352c7a-5ebe-4ffb-af0f-400713b380ab",
   "metadata": {},
   "source": [
    "## Define PCAP input and eve log output folders\n",
    "\n",
    "Please change these varibles. If you use project docker container, then please create these on host ."
   ]
  },
  {
   "cell_type": "code",
   "execution_count": null,
   "id": "63e7c5d6-7873-4307-b4fc-b1ff92142cd3",
   "metadata": {},
   "outputs": [],
   "source": [
    "# search for pcap files here\n",
    "PCAP_SRC = \"/home/jovyan/work/data/pcap\"\n",
    "# per-pcap log output will be stored here\n",
    "LOGS_DST = \"/home/jovyan/work/data/logs\""
   ]
  },
  {
   "cell_type": "markdown",
   "id": "dadd7331-bc48-4b90-aee9-a2d2b73f482b",
   "metadata": {},
   "source": [
    "Modify these if you wish. Should not be needed, unless you have custom compiled suricata or are reading PCAP files with different suffix."
   ]
  },
  {
   "cell_type": "code",
   "execution_count": null,
   "id": "89e8b07c-0a0a-423c-8bb9-77f2f46ab8c6",
   "metadata": {},
   "outputs": [],
   "source": [
    "PATTERN = \"*.pcap\"\n",
    "# Set global path to suricata install here\n",
    "SURICATA = \"suricata\"\n",
    "# Set global path to suricatasc unix socket connector utility here\n",
    "SURICATASC = \"suricatasc\"\n",
    "# Store suricata PID file here\n",
    "PIDFILE = \"/tmp/suricata-uxsock.pid\""
   ]
  },
  {
   "cell_type": "markdown",
   "id": "31857645-ae8b-42f5-a7fa-454520032282",
   "metadata": {},
   "source": [
    "## Python imports"
   ]
  },
  {
   "cell_type": "code",
   "execution_count": null,
   "id": "40735885-f941-48bb-aec8-45b269f39387",
   "metadata": {},
   "outputs": [],
   "source": [
    "import os, signal\n",
    "from glob import glob\n",
    "import shutil\n",
    "from subprocess import Popen, PIPE\n",
    "import json"
   ]
  },
  {
   "cell_type": "markdown",
   "id": "05d341a5-6285-444c-a215-f4ba6fc6830c",
   "metadata": {},
   "source": [
    "## Locate PCAP files"
   ]
  },
  {
   "cell_type": "code",
   "execution_count": null,
   "id": "c7767744-4b37-4872-b890-91f01a1173df",
   "metadata": {},
   "outputs": [],
   "source": [
    "FILES = glob(os.path.join(PCAP_SRC, PATTERN))\n",
    "len(FILES)"
   ]
  },
  {
   "cell_type": "markdown",
   "id": "0c48a176-d577-402f-98c0-d2aeb59eefcc",
   "metadata": {},
   "source": [
    "## Set up Suricata daemon\n",
    "\n",
    "Existing Suricata instance matching PID number in pidfile will be killed just to ensure that next command does not fail."
   ]
  },
  {
   "cell_type": "code",
   "execution_count": null,
   "id": "2ce0b61a-b8bc-4cbf-8d62-c07782ed95e5",
   "metadata": {},
   "outputs": [],
   "source": [
    "if os.path.exists(PIDFILE):\n",
    "    print(\"PID found, killing\")\n",
    "    with open(PIDFILE, \"r\") as handle:\n",
    "        try:\n",
    "            os.kill(int(handle.read()), signal.SIGKILL)\n",
    "        except ProcessLookupError as err:\n",
    "            print(\"pidfile found but no proc, just removing file\")\n",
    "    os.remove(PIDFILE)"
   ]
  },
  {
   "cell_type": "markdown",
   "id": "7beead52-11e8-49e5-bc68-3969f6b602c1",
   "metadata": {},
   "source": [
    "Start suricata in unix-socket mode."
   ]
  },
  {
   "cell_type": "code",
   "execution_count": null,
   "id": "4f33c7f4-3c66-42d4-bfc1-00ad88004868",
   "metadata": {},
   "outputs": [],
   "source": [
    "p = Popen([SURICATA, \n",
    "           \"--unix-socket\",\n",
    "           \"--disable-detection\",\n",
    "           \"--pidfile\",\n",
    "           PIDFILE,\n",
    "           \"-vvv\",\n",
    "           \"-D\"], stderr=PIPE, stdout=PIPE).communicate()"
   ]
  },
  {
   "cell_type": "code",
   "execution_count": null,
   "id": "9ae5c27b-9336-4c97-b443-3f07be458f55",
   "metadata": {},
   "outputs": [],
   "source": [
    "print(p[0].decode(\"utf-8\"))"
   ]
  },
  {
   "cell_type": "code",
   "execution_count": null,
   "id": "8fe101a0-f66f-4b9e-ab04-25317abdf816",
   "metadata": {},
   "outputs": [],
   "source": [
    "print(p[1].decode(\"utf-8\"))"
   ]
  },
  {
   "cell_type": "markdown",
   "id": "8fd179c7-ee4d-433b-ad51-907d0d2e47b4",
   "metadata": {},
   "source": [
    "## Load PCAP files via unix socket"
   ]
  },
  {
   "cell_type": "code",
   "execution_count": null,
   "id": "0124f057-0651-4df8-a6b6-ca4fdc8e9ee9",
   "metadata": {},
   "outputs": [],
   "source": [
    "if len(FILES) > 0:\n",
    "    for fn in FILES:\n",
    "        file = os.path.basename(fn)\n",
    "        subdir = os.path.join(LOGS_DST, file)\n",
    "        if os.path.exists(subdir):\n",
    "            shutil.rmtree(subdir)\n",
    "        os.mkdir(subdir)\n",
    "        p = Popen([SURICATASC, \n",
    "                   \"-c\", \n",
    "                   \"pcap-file {} {}\".format(fn, subdir)], stderr=PIPE, stdout=PIPE).communicate()"
   ]
  },
  {
   "cell_type": "markdown",
   "id": "a9351981-2d08-4589-ae4d-4a8655b140c9",
   "metadata": {},
   "source": [
    "## Check how many output files have been created\n",
    "\n",
    "This should match the number of input files."
   ]
  },
  {
   "cell_type": "code",
   "execution_count": null,
   "id": "87cf6036-1f5a-4f38-9407-e491f8761cfc",
   "metadata": {},
   "outputs": [],
   "source": [
    "FILES_EVE = glob(os.path.join(LOGS_DST + \"/**/eve.json\"))\n",
    "len(FILES)"
   ]
  },
  {
   "cell_type": "markdown",
   "id": "24c726eb-9d0f-4372-9e3b-d68d64c45814",
   "metadata": {},
   "source": [
    "## Check status of PCAP parsing\n",
    "\n",
    "Unix socket load only queues up PCAP files. Suricata will process them sequentially depending on resources available. Check this cell periodically to see how many are still queued."
   ]
  },
  {
   "cell_type": "code",
   "execution_count": null,
   "id": "8539a20b-26ee-45e7-a7bc-5a5ec2801a00",
   "metadata": {},
   "outputs": [],
   "source": [
    "p = Popen([SURICATASC, \"-c\", \"pcap-file-list\"], stderr=PIPE, stdout=PIPE).communicate()"
   ]
  },
  {
   "cell_type": "code",
   "execution_count": null,
   "id": "6e7f8394-4b56-4bc3-b731-eef267538d53",
   "metadata": {},
   "outputs": [],
   "source": [
    "status = json.loads(p[0].decode(\"utf-8\"))\n",
    "status[\"message\"][\"count\"]"
   ]
  },
  {
   "cell_type": "code",
   "execution_count": null,
   "id": "2be89770-52f6-4462-8bbf-c1a7e29034c7",
   "metadata": {},
   "outputs": [],
   "source": []
  }
 ],
 "metadata": {
  "kernelspec": {
   "display_name": "Python 3 (ipykernel)",
   "language": "python",
   "name": "python3"
  },
  "language_info": {
   "codemirror_mode": {
    "name": "ipython",
    "version": 3
   },
   "file_extension": ".py",
   "mimetype": "text/x-python",
   "name": "python",
   "nbconvert_exporter": "python",
   "pygments_lexer": "ipython3",
   "version": "3.10.8"
  }
 },
 "nbformat": 4,
 "nbformat_minor": 5
}
