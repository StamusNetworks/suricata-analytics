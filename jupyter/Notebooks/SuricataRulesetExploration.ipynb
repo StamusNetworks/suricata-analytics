{
 "cells": [
  {
   "cell_type": "code",
   "execution_count": null,
   "id": "1be171a6-7a62-4351-b41e-e9ea4600468e",
   "metadata": {},
   "outputs": [],
   "source": [
    "!pip install wheel idstools pandas numpy"
   ]
  },
  {
   "cell_type": "code",
   "execution_count": null,
   "id": "radical-enclosure",
   "metadata": {},
   "outputs": [],
   "source": [
    "import pandas as pd\n",
    "import numpy as np\n",
    "\n",
    "from idstools import rule\n",
    "\n",
    "import glob\n",
    "import json\n",
    "import os\n",
    "import re"
   ]
  },
  {
   "cell_type": "markdown",
   "id": "ranking-highlight",
   "metadata": {},
   "source": [
    "# ET Open\n",
    "\n",
    "Download ET Open ruleset. \n",
    "```\n",
    "wget https://rules.emergingthreats.net/open/suricata-6.0.1/emerging.rules.tar.gz\n",
    "```\n",
    "\n",
    "And unpack.\n",
    "\n",
    "```\n",
    "mkdir /tmp/etopen\n",
    "tar -xzf emerging.rules.tar.gz -C /tmp/etopen\n",
    "```"
   ]
  },
  {
   "cell_type": "code",
   "execution_count": null,
   "id": "minor-williams",
   "metadata": {},
   "outputs": [],
   "source": [
    "!wget -q -O /tmp/etopen.tgz https://rules.emergingthreats.net/open/suricata-6.0.1/emerging.rules.tar.gz"
   ]
  },
  {
   "cell_type": "code",
   "execution_count": null,
   "id": "middle-entity",
   "metadata": {},
   "outputs": [],
   "source": [
    "!mkdir -p /tmp/etopen\n",
    "!tar -xzf /tmp/etopen.tgz -C /tmp/etopen"
   ]
  },
  {
   "cell_type": "markdown",
   "id": "durable-rates",
   "metadata": {},
   "source": [
    "Note that this folder in `tmp` must be synced with following `glob` code which constructs a python list of all rule files."
   ]
  },
  {
   "cell_type": "code",
   "execution_count": null,
   "id": "oriented-joseph",
   "metadata": {},
   "outputs": [],
   "source": [
    "RULES_LIST_ET_OPEN = glob.glob(\"/tmp/etopen/rules/*.rules\")"
   ]
  },
  {
   "cell_type": "markdown",
   "id": "african-tactics",
   "metadata": {},
   "source": [
    "Then use python code to get a organized list of rule files."
   ]
  },
  {
   "cell_type": "code",
   "execution_count": null,
   "id": "greatest-brunswick",
   "metadata": {},
   "outputs": [],
   "source": [
    "sorted(RULES_LIST_ET_OPEN)"
   ]
  },
  {
   "cell_type": "markdown",
   "id": "played-workshop",
   "metadata": {},
   "source": [
    "And parse each rule file with `idstools`, and construct a python dictionary where keys are rule files and values are list of parsed rules."
   ]
  },
  {
   "cell_type": "code",
   "execution_count": null,
   "id": "canadian-stage",
   "metadata": {},
   "outputs": [],
   "source": [
    "%time PARSED_ET_OPEN = {k: rule.parse_file(k) for k in RULES_LIST_ET_OPEN}"
   ]
  },
  {
   "cell_type": "markdown",
   "id": "alone-turner",
   "metadata": {},
   "source": [
    "Consider the following parsed rule. Notice how much information can be extracted from it. And reader should already be familiar with sequential option list."
   ]
  },
  {
   "cell_type": "code",
   "execution_count": null,
   "id": "southwest-tampa",
   "metadata": {},
   "outputs": [],
   "source": [
    "print(\n",
    "    json.dumps(\n",
    "        PARSED_ET_OPEN[\"/tmp/etopen/rules/emerging-malware.rules\"][0], \n",
    "        indent=2\n",
    "    )\n",
    ")"
   ]
  },
  {
   "cell_type": "markdown",
   "id": "successful-potter",
   "metadata": {},
   "source": [
    "## High level view"
   ]
  },
  {
   "cell_type": "markdown",
   "id": "unknown-swedish",
   "metadata": {},
   "source": [
    "Traditional data structures can be difficult for human eyes to grasp. On small scale they are fine, but things become complex if you consider that ET Open contains over 31 **thousand** rules. However, aggregations presented in row-column format can help us out here.\n",
    "\n",
    "For that, we can use `pandas` scientific package which implements **data frames** in python. Great for data wrangling and exploration. Following block creates a new pandas data frame, and initializes columns of counters per rule file. For now, we're just interested in `total number of rules`, `number of enabled rules` and `number of disabled rules`."
   ]
  },
  {
   "cell_type": "code",
   "execution_count": null,
   "id": "afraid-motel",
   "metadata": {},
   "outputs": [],
   "source": [
    "DF_HIGH_LEVEL = pd.DataFrame()\n",
    "DF_HIGH_LEVEL[\"file\"] = list(PARSED_ET_OPEN.keys())\n",
    "DF_HIGH_LEVEL[\"rules_total_count\"] = list([len(v) for v in PARSED_ET_OPEN.values()])\n",
    "DF_HIGH_LEVEL[\"rules_disabled_count\"] = list([len([item for item in v if not item.enabled]) for v in PARSED_ET_OPEN.values()])\n",
    "DF_HIGH_LEVEL[\"rules_enabled_count\"] = list([len([item for item in v if item.enabled]) for v in PARSED_ET_OPEN.values()])"
   ]
  },
  {
   "cell_type": "markdown",
   "id": "optional-conducting",
   "metadata": {},
   "source": [
    "Then present the dataframe sorted by the number of active rules per file."
   ]
  },
  {
   "cell_type": "code",
   "execution_count": null,
   "id": "reverse-highway",
   "metadata": {},
   "outputs": [],
   "source": [
    "DF_HIGH_LEVEL.sort_values(by=[\"rules_enabled_count\"], ascending=False)"
   ]
  },
  {
   "cell_type": "markdown",
   "id": "smaller-crossing",
   "metadata": {},
   "source": [
    "Each column of counters is a vector that can be summed up for total counts."
   ]
  },
  {
   "cell_type": "code",
   "execution_count": null,
   "id": "russian-thong",
   "metadata": {},
   "outputs": [],
   "source": [
    "print(\"Enabled: {} Disabled: {} Total: {}\".format(\n",
    "    DF_HIGH_LEVEL.rules_enabled_count.sum(),\n",
    "    DF_HIGH_LEVEL.rules_disabled_count.sum(),\n",
    "    DF_HIGH_LEVEL.rules_total_count.sum(),\n",
    "))"
   ]
  },
  {
   "cell_type": "markdown",
   "id": "facial-bible",
   "metadata": {},
   "source": [
    "## Dig into specific rule files and threats"
   ]
  },
  {
   "cell_type": "markdown",
   "id": "polyphonic-booking",
   "metadata": {},
   "source": [
    "Okay, now let's try to get information about some rules themselves.\n",
    "\n",
    "Before getting started, `idstools` parses some information that is not terribly useful (like `action`, `direction`) while leaving other more useful data pieces unparsed. Looking specifically the `header` field for `protocol`, `src_net` and `dest_net`. Following helper function can parse that information."
   ]
  },
  {
   "cell_type": "code",
   "execution_count": null,
   "id": "unavailable-robinson",
   "metadata": {},
   "outputs": [],
   "source": [
    "def extract_header(header: str) -> dict:\n",
    "    split = header.split()\n",
    "    return {\n",
    "        \"proto\": split[1],\n",
    "        \"src_net\": split[2],\n",
    "        \"src_port\": split[3],\n",
    "        \"dest_net\": split[5],\n",
    "        \"dest_port\": split[6]\n",
    "    }"
   ]
  },
  {
   "cell_type": "markdown",
   "id": "bound-meeting",
   "metadata": {},
   "source": [
    "Then build a list of all rules while adding cleaned up filename and that `header` information to dictionary."
   ]
  },
  {
   "cell_type": "code",
   "execution_count": null,
   "id": "liked-monte",
   "metadata": {},
   "outputs": [],
   "source": [
    "ALL_ET_OPEN_RULES = []\n",
    "\n",
    "for filename, rules in PARSED_ET_OPEN.items():\n",
    "    for r in rules:\n",
    "        r[\"file\"] = os.path.basename(filename)\n",
    "        r = {**r, **extract_header(r.get(\"header\"))}\n",
    "        ALL_ET_OPEN_RULES.append(r)"
   ]
  },
  {
   "cell_type": "markdown",
   "id": "interesting-glory",
   "metadata": {},
   "source": [
    "And rather than attempting to inspect 31k element list, we'll turn the whole thing into a dataframe."
   ]
  },
  {
   "cell_type": "code",
   "execution_count": null,
   "id": "naval-march",
   "metadata": {},
   "outputs": [],
   "source": [
    "DF_ET_OPEN_ALL = pd.DataFrame(ALL_ET_OPEN_RULES)"
   ]
  },
  {
   "cell_type": "markdown",
   "id": "tribal-meeting",
   "metadata": {},
   "source": [
    "Filter for only enabled rules. Rules are always commented for a reason!\n",
    "* false positives;\n",
    "* bad performance;\n",
    "* just out of date and irrelevant;"
   ]
  },
  {
   "cell_type": "code",
   "execution_count": null,
   "id": "sophisticated-consensus",
   "metadata": {},
   "outputs": [],
   "source": [
    "DF_ET_OPEN_ALL = DF_ET_OPEN_ALL.loc[DF_ET_OPEN_ALL.enabled == True]"
   ]
  },
  {
   "cell_type": "markdown",
   "id": "faced-connecticut",
   "metadata": {},
   "source": [
    "And get a quick peek of ruleset. Just to see what we can work on. Clearly we need to do more filtering and a proper selection of columns. All those *sticky buffer* and *content modifier* columns are totally useless. That's because they always apply to `content` keyword and have no values themselves. Thus, all those vectors are empty."
   ]
  },
  {
   "cell_type": "code",
   "execution_count": null,
   "id": "lesser-scope",
   "metadata": {},
   "outputs": [],
   "source": [
    "DF_ET_OPEN_ALL.head(5)"
   ]
  },
  {
   "cell_type": "markdown",
   "id": "cathedral-supervisor",
   "metadata": {},
   "source": [
    "So, we'll build a more consise dataframe. with only those columns we are about. List is not exhaustive and just my selection. **Decide what is relevant to you!**"
   ]
  },
  {
   "cell_type": "code",
   "execution_count": null,
   "id": "42222c60-d106-4398-b026-4fb7e2163af3",
   "metadata": {},
   "outputs": [],
   "source": [
    "CORE_COLS = [\"proto\", \"src_net\", \"dest_net\", \"sid\", \"rev\", \"msg\", \"file\", \"flowbits\", \"metadata\", \"references\", \"flow\", \"raw\"]"
   ]
  },
  {
   "cell_type": "code",
   "execution_count": null,
   "id": "isolated-collar",
   "metadata": {},
   "outputs": [],
   "source": [
    "DF_ET_OPEN_CONSISE = DF_ET_OPEN_ALL.loc[:,  CORE_COLS]"
   ]
  },
  {
   "cell_type": "markdown",
   "id": "finished-poultry",
   "metadata": {},
   "source": [
    "Notice that our dataframe peek was truncated. This is to avoid exploding your browser, as dataframes can be very big. Following optins can disable that to reveal more information. **But use them with care, make sure you don't call 31k row printout into your browser!**"
   ]
  },
  {
   "cell_type": "code",
   "execution_count": null,
   "id": "medical-august",
   "metadata": {},
   "outputs": [],
   "source": [
    "pd.set_option('display.max_colwidth', None)\n",
    "#pd.set_option('display.max_columns', None)\n",
    "#pd.set_option('display.max_rows', None)\n",
    "#pd.set_option('display.min_rows', None)\n",
    "pd.set_option('display.width', None)"
   ]
  },
  {
   "cell_type": "markdown",
   "id": "worst-immune",
   "metadata": {},
   "source": [
    "Some rule categories are small and can be shown as-is. Rather than creating separate data structures, we'll go data science way and keep everything in one dataframe. Remember, we are exploring, so we never know where that exploration will lead. Better to keep everything at arms reach and just filter if needed. Rely on intermediete data before reaching your goal.\n",
    "\n",
    "So, to see into `emerging-worm` category, we can simply filter for that file name. Furthermore, we can sort values to make the information easier to grasp. Sorting by rule directionality is already a good trick to visually group rules."
   ]
  },
  {
   "cell_type": "code",
   "execution_count": null,
   "id": "handmade-mattress",
   "metadata": {},
   "outputs": [],
   "source": [
    "DF_ET_OPEN_CONSISE \\\n",
    "    .loc[DF_ET_OPEN_CONSISE.file.str.contains(\"emerging-worm.rules\")] \\\n",
    "    .sort_values(by=[\"src_net\", \"dest_net\"])"
   ]
  },
  {
   "cell_type": "markdown",
   "id": "sexual-mathematics",
   "metadata": {},
   "source": [
    "**PS! Jupyter is a data science tool, and thus caters to that audience. This can lead to silly things like formating rule header like mathematical formula**.\n",
    "\n",
    "However, really good stuff is in `malware` and `mobile_malware` categories. And those are big. Too big to explore with full dumps. So, let's limit the scope only to a *recent hotness*."
   ]
  },
  {
   "cell_type": "code",
   "execution_count": null,
   "id": "promotional-quantum",
   "metadata": {},
   "outputs": [],
   "source": [
    "RULES_SUNBURST = DF_ET_OPEN_CONSISE \\\n",
    "    .loc[DF_ET_OPEN_CONSISE.msg.str.contains(\"SUNBURST\", re.IGNORECASE)] \\\n",
    "    .sort_values(by=[\"proto\", \"src_net\", \"dest_net\", \"msg\"]) \\\n",
    "    .drop(columns=[\"flowbits\", \"raw\", \"metadata\", \"flow\"]) \\\n",
    "    .explode(\"references\")"
   ]
  },
  {
   "cell_type": "markdown",
   "id": "active-transaction",
   "metadata": {},
   "source": [
    "This is a bit more involved, but in many ways is similar to a database query.\n",
    "* First, we locate all rules containing `SUNBURST` keyword. Sometimes this information is in `tag` or `metadata`, but dont count on it. And it's not very consistent.\n",
    "* Then we sort values to make the frame visually easier to explore. Pandas even let's us sort by multiple values. That's why I wanted to parse `proto`, `src_net` and `dest_net` from the rule header! With those fields, we get a much better organized view.\n",
    "* Then drop some columns (from view) that are just noise:\n",
    "  * `flowbits` are not really that relevant for current explorations, rule content should be listed separately anyway\n",
    "  * likewise `raw` rule just makes dataframe as a whole more difficult to assess, but it can always be added back if we need to check the content!\n",
    "  * `metadata` does not hold much useful information and is a list, which again makes frame messy\n",
    "  * `flow` is a bit redundant with sorted `src_net` and `dest_net` view. Good info, but we only have limited screen real-estate\n",
    " * Finally, `references` holds lists, but we can use `explode()` method to unpack each reference to separate row. **This duplicates other rule row elements!** But not a big deal for this case."
   ]
  },
  {
   "cell_type": "code",
   "execution_count": null,
   "id": "accompanied-correction",
   "metadata": {},
   "outputs": [],
   "source": [
    "RULES_SUNBURST"
   ]
  },
  {
   "cell_type": "markdown",
   "id": "hazardous-livestock",
   "metadata": {},
   "source": [
    "Same exploration can be repeated for other relevant threats. For example, I bet many students are interested in `Cobalt Strike` rules."
   ]
  },
  {
   "cell_type": "code",
   "execution_count": null,
   "id": "educational-driving",
   "metadata": {},
   "outputs": [],
   "source": [
    "RULES_COBALT_STRIKE = DF_ET_OPEN_CONSISE \\\n",
    "    .loc[DF_ET_OPEN_CONSISE \\\n",
    "    .msg.str.contains(\"Cobalt Strike|CobaltStrike\", re.IGNORECASE)] \\\n",
    "    .drop(columns=[\"metadata\", \"flowbits\"]) \\\n",
    "    .explode(\"references\") \\\n",
    "    .sort_values(by=[\"msg\"]) \\\n",
    "    .drop(columns=[\"raw\"])"
   ]
  },
  {
   "cell_type": "code",
   "execution_count": null,
   "id": "talented-gravity",
   "metadata": {},
   "outputs": [],
   "source": [
    "RULES_COBALT_STRIKE.head()"
   ]
  },
  {
   "cell_type": "markdown",
   "id": "lovely-inclusion",
   "metadata": {},
   "source": [
    "Here we can see that many rules have multiple references. And, on that note, rules can hold a lot of interesting reading materials! How about we build a reading list."
   ]
  },
  {
   "cell_type": "code",
   "execution_count": null,
   "id": "ranking-invasion",
   "metadata": {},
   "outputs": [],
   "source": [
    "TEXT = \"\\n\".join(sorted(\n",
    "    list(\n",
    "        RULES_COBALT_STRIKE \\\n",
    "            .loc[RULES_COBALT_STRIKE.fillna(\"NA\") \\\n",
    "                                    .references.str.contains(\"^url\")] \\\n",
    "            .references.unique()\n",
    "    )\n",
    "))"
   ]
  },
  {
   "cell_type": "code",
   "execution_count": null,
   "id": "b2fd4b13-c674-4646-a51f-b062a689df43",
   "metadata": {},
   "outputs": [],
   "source": [
    "print(TEXT)"
   ]
  },
  {
   "cell_type": "markdown",
   "id": "accredited-christian",
   "metadata": {},
   "source": [
    "But note that many links might be dead."
   ]
  },
  {
   "cell_type": "code",
   "execution_count": null,
   "id": "suffering-barcelona",
   "metadata": {},
   "outputs": [],
   "source": [
    "RULES_PURPLE_FOX = DF_ET_OPEN_CONSISE \\\n",
    "    .loc[DF_ET_OPEN_CONSISE \\\n",
    "    .msg.str.contains(\"PurpleFox\", re.IGNORECASE)] \\\n",
    "    .drop(columns=[\"metadata\", \"flowbits\"]) \\\n",
    "    .explode(\"references\") \\\n",
    "    .sort_values(by=[\"msg\"]) \\\n",
    "    .drop(columns=[\"raw\"])"
   ]
  },
  {
   "cell_type": "code",
   "execution_count": null,
   "id": "subject-bunny",
   "metadata": {},
   "outputs": [],
   "source": [
    "RULES_PURPLE_FOX"
   ]
  },
  {
   "cell_type": "code",
   "execution_count": null,
   "id": "organic-triple",
   "metadata": {},
   "outputs": [],
   "source": [
    "RULES_EMOTET = DF_ET_OPEN_CONSISE \\\n",
    "    .loc[DF_ET_OPEN_CONSISE \\\n",
    "    .msg.str.contains(\"Emotet\", re.IGNORECASE)] \\\n",
    "    .drop(columns=[\"metadata\", \"flowbits\"]) \\\n",
    "    .explode(\"references\") \\\n",
    "    .sort_values(by=[\"msg\"]) \\\n",
    "    .drop(columns=[\"raw\"])"
   ]
  },
  {
   "cell_type": "code",
   "execution_count": null,
   "id": "heated-taiwan",
   "metadata": {},
   "outputs": [],
   "source": [
    "RULES_EMOTET"
   ]
  },
  {
   "cell_type": "markdown",
   "id": "bcc08f2c-1cd4-4f19-a5d4-23162d6f49df",
   "metadata": {},
   "source": [
    "## Interactive widgets\n",
    "\n",
    "* https://ipywidgets.readthedocs.io/en/latest/\n",
    "\n",
    "Not all data exploration must be done with pure code any more. Widgets are a great way to expose any data user is interested in."
   ]
  },
  {
   "cell_type": "code",
   "execution_count": null,
   "id": "ad6e5967-421c-46ae-9125-b45bc668e430",
   "metadata": {},
   "outputs": [],
   "source": [
    "! pip install ipywidgets"
   ]
  },
  {
   "cell_type": "code",
   "execution_count": null,
   "id": "b6c3a87f-652c-4eca-af0b-ac1bc0339f13",
   "metadata": {},
   "outputs": [],
   "source": [
    "import re"
   ]
  },
  {
   "cell_type": "code",
   "execution_count": null,
   "id": "41fa5b8e-4217-4569-9543-056b142f0ee4",
   "metadata": {},
   "outputs": [],
   "source": [
    "def show_rules(limit: int, msg: str, columns: tuple, sort: tuple):\n",
    "    pd.set_option('display.max_rows', limit)\n",
    "    pd.set_option('display.min_rows', limit)\n",
    "    return (\n",
    "        DF_ET_OPEN_ALL[list(columns)]\n",
    "        .loc[DF_ET_OPEN_ALL.msg.str.contains(msg, flags=re.IGNORECASE)]\n",
    "        .sort_values(by=[c for c in list(sort) if c in list(columns)])\n",
    "    )"
   ]
  },
  {
   "cell_type": "code",
   "execution_count": null,
   "id": "a5cd667c-0b78-42f4-9acf-b22d452c361e",
   "metadata": {},
   "outputs": [],
   "source": [
    "import ipywidgets as widgets"
   ]
  },
  {
   "cell_type": "code",
   "execution_count": null,
   "id": "60acd771-2744-4aa2-a622-b70fc8635965",
   "metadata": {},
   "outputs": [],
   "source": [
    "widgets.interact(\n",
    "    show_rules, \n",
    "    msg=\"\", \n",
    "    limit=widgets.IntSlider(min=10, max=100),\n",
    "    columns=widgets.SelectMultiple(\n",
    "        options=list(DF_ET_OPEN_ALL.columns.values),\n",
    "        value=CORE_COLS\n",
    "    ),\n",
    "    sort=widgets.SelectMultiple(\n",
    "        options=list(DF_ET_OPEN_ALL.columns.values),\n",
    "    )\n",
    ")"
   ]
  },
  {
   "cell_type": "code",
   "execution_count": null,
   "id": "9ac7b32d-3838-4d7b-9391-11184e027fd4",
   "metadata": {},
   "outputs": [],
   "source": []
  }
 ],
 "metadata": {
  "kernelspec": {
   "display_name": "Python 3 (ipykernel)",
   "language": "python",
   "name": "python3"
  },
  "language_info": {
   "codemirror_mode": {
    "name": "ipython",
    "version": 3
   },
   "file_extension": ".py",
   "mimetype": "text/x-python",
   "name": "python",
   "nbconvert_exporter": "python",
   "pygments_lexer": "ipython3",
   "version": "3.8.10"
  }
 },
 "nbformat": 4,
 "nbformat_minor": 5
}
